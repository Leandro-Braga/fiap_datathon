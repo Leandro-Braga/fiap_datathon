{
 "cells": [
  {
   "cell_type": "markdown",
   "metadata": {},
   "source": [
    "#### <font color='orange'>Imports das Bibliotecas</font>"
   ]
  },
  {
   "cell_type": "code",
   "execution_count": 1,
   "metadata": {},
   "outputs": [],
   "source": [
    "from datetime import datetime\n",
    "from random import randint, uniform\n",
    "\n",
    "from sklearn.ensemble import RandomForestClassifier\n",
    "from sklearn.metrics import classification_report\n",
    "from sklearn.model_selection import RandomizedSearchCV\n",
    "import pandas as pd\n",
    "import pickle\n",
    "\n",
    "from imblearn.under_sampling import RandomUnderSampler\n",
    "# pip install imbalanced-learn\n",
    "\n",
    "import warnings\n",
    "import spacy\n",
    "from spacy.util import is_package\n",
    "\n",
    "import plotly.express as px\n",
    "\n",
    "warnings.filterwarnings('ignore')\n",
    "pd.set_option('display.max_columns', None)\n",
    "\n"
   ]
  },
  {
   "cell_type": "markdown",
   "metadata": {},
   "source": [
    "### <font color='orange'>Introdução</font>\n",
    "\n",
    "Este projeto tem como objetivo desenvolver uma análise da presença de alunos em aulas e gerar insight para ação da ONG Passos Mágicos. A análise é baseada no histórico de frequência registrado no diário de classe, além de outras informações relevantes sobre as aulas e os estudantes.\n",
    "\n",
    "Para garantir uma visão abrangente e robusta, foram utilizados dados de bases distintas, incluindo informações sobre o cadastro de alunos, professores, turmas e disciplinas. \n"
   ]
  },
  {
   "cell_type": "code",
   "execution_count": 12,
   "metadata": {},
   "outputs": [],
   "source": [
    "local_arquivos_analise = '../documents/base dados/'\n"
   ]
  },
  {
   "cell_type": "markdown",
   "metadata": {},
   "source": [
    "#### <font color='orange'>Carregando as bases</font>\n",
    "\n",
    "Neste trecho de código, utilizamos a biblioteca `pandas` para realizar a leitura e manipulação dos dados da tabela de frequência diária. O objetivo é transformar a coluna que indica a presença dos alunos (`StPresencaFalta`) em um formato binário, onde **1** representa \"presente\" e **0** representa \"ausente\". \n",
    "\n",
    "**Passos:**\n",
    "\n",
    "1. **Leitura do arquivo CSV**: Usamos `pd.read_csv()` para carregar o arquivo de frequência.\n",
    "2. **Seleção e renomeação das colunas**: Escolhemos as colunas de interesse e renomeamos para facilitar o entendimento.\n",
    "3. **Transformação dos dados**: Aplicamos uma função condicional (`lambda`) para converter as presenças em valores binários.\n",
    "4. **Visualização dos dados**: Exibimos uma amostra de 5 linhas para ver como os dados estão formatados.\n"
   ]
  },
  {
   "cell_type": "code",
   "execution_count": 13,
   "metadata": {},
   "outputs": [
    {
     "data": {
      "text/html": [
       "<div>\n",
       "<style scoped>\n",
       "    .dataframe tbody tr th:only-of-type {\n",
       "        vertical-align: middle;\n",
       "    }\n",
       "\n",
       "    .dataframe tbody tr th {\n",
       "        vertical-align: top;\n",
       "    }\n",
       "\n",
       "    .dataframe thead th {\n",
       "        text-align: right;\n",
       "    }\n",
       "</style>\n",
       "<table border=\"1\" class=\"dataframe\">\n",
       "  <thead>\n",
       "    <tr style=\"text-align: right;\">\n",
       "      <th></th>\n",
       "      <th>id_diario_aula</th>\n",
       "      <th>id_aluno</th>\n",
       "      <th>StPresencaFalta</th>\n",
       "      <th>presente</th>\n",
       "    </tr>\n",
       "  </thead>\n",
       "  <tbody>\n",
       "    <tr>\n",
       "      <th>280629</th>\n",
       "      <td>22856</td>\n",
       "      <td>199</td>\n",
       "      <td>P</td>\n",
       "      <td>1</td>\n",
       "    </tr>\n",
       "    <tr>\n",
       "      <th>224295</th>\n",
       "      <td>18149</td>\n",
       "      <td>296</td>\n",
       "      <td>J</td>\n",
       "      <td>0</td>\n",
       "    </tr>\n",
       "    <tr>\n",
       "      <th>213993</th>\n",
       "      <td>17271</td>\n",
       "      <td>737</td>\n",
       "      <td>P</td>\n",
       "      <td>1</td>\n",
       "    </tr>\n",
       "    <tr>\n",
       "      <th>157376</th>\n",
       "      <td>12650</td>\n",
       "      <td>859</td>\n",
       "      <td>P</td>\n",
       "      <td>1</td>\n",
       "    </tr>\n",
       "    <tr>\n",
       "      <th>24900</th>\n",
       "      <td>2355</td>\n",
       "      <td>566</td>\n",
       "      <td>P</td>\n",
       "      <td>1</td>\n",
       "    </tr>\n",
       "  </tbody>\n",
       "</table>\n",
       "</div>"
      ],
      "text/plain": [
       "        id_diario_aula  id_aluno StPresencaFalta  presente\n",
       "280629           22856       199               P         1\n",
       "224295           18149       296               J         0\n",
       "213993           17271       737               P         1\n",
       "157376           12650       859               P         1\n",
       "24900             2355       566               P         1"
      ]
     },
     "execution_count": 13,
     "metadata": {},
     "output_type": "execute_result"
    }
   ],
   "source": [
    "# Lendo os arquivos CSV usando pandas\n",
    "df_diarioFreq = pd.read_csv(local_arquivos_analise + \"TbDiario/Originais anonimizados/TbDiarioFrequencia.csv\")\n",
    "\n",
    "# Selecionando as colunas e aplicando a lógica condicional\n",
    "df_diarioFreq = df_diarioFreq[['IdDiarioAula', 'IdAluno', 'StPresencaFalta']].rename(\n",
    "    columns={\n",
    "        'IdDiarioAula': 'id_diario_aula',\n",
    "        'IdAluno': 'id_aluno'\n",
    "    }\n",
    ")\n",
    "\n",
    "# Aplicando a lógica para a coluna de presença\n",
    "df_diarioFreq['presente'] = df_diarioFreq['StPresencaFalta'].apply(lambda x: 1 if x == 'P' else 0)\n",
    "\n",
    "# Exibindo uma amostra de 5 linhas\n",
    "df_diarioFreq.sample(5)"
   ]
  },
  {
   "cell_type": "markdown",
   "metadata": {},
   "source": [
    "<font color='orange'>**Análise de Presença**</font>\n",
    "\n",
    "No gráfico abaixo, podemos observar que a porcentagem de alunos presentes é de **78,7%**, enquanto as faltas correspondem a **21,3%**. Esse gráfico de pizza nos dá uma visão clara da distribuição de presenças e faltas em todas as aulas registradas."
   ]
  },
  {
   "cell_type": "code",
   "execution_count": 14,
   "metadata": {},
   "outputs": [
    {
     "data": {
      "application/vnd.plotly.v1+json": {
       "config": {
        "plotlyServerURL": "https://plot.ly"
       },
       "data": [
        {
         "domain": {
          "x": [
           0,
           1
          ],
          "y": [
           0,
           1
          ]
         },
         "hovertemplate": "Status=%{label}<br>Porcentagem=%{value}<extra></extra>",
         "labels": [
          "Presente",
          "Faltou"
         ],
         "legendgroup": "",
         "name": "",
         "showlegend": true,
         "type": "pie",
         "values": [
          78.67352152254439,
          21.32647847745561
         ]
        }
       ],
       "layout": {
        "font": {
         "color": "white"
        },
        "legend": {
         "tracegroupgap": 0
        },
        "paper_bgcolor": "rgba(0, 0, 0, 0)",
        "plot_bgcolor": "rgba(0, 0, 0, 0)",
        "template": {
         "data": {
          "bar": [
           {
            "error_x": {
             "color": "#2a3f5f"
            },
            "error_y": {
             "color": "#2a3f5f"
            },
            "marker": {
             "line": {
              "color": "#E5ECF6",
              "width": 0.5
             },
             "pattern": {
              "fillmode": "overlay",
              "size": 10,
              "solidity": 0.2
             }
            },
            "type": "bar"
           }
          ],
          "barpolar": [
           {
            "marker": {
             "line": {
              "color": "#E5ECF6",
              "width": 0.5
             },
             "pattern": {
              "fillmode": "overlay",
              "size": 10,
              "solidity": 0.2
             }
            },
            "type": "barpolar"
           }
          ],
          "carpet": [
           {
            "aaxis": {
             "endlinecolor": "#2a3f5f",
             "gridcolor": "white",
             "linecolor": "white",
             "minorgridcolor": "white",
             "startlinecolor": "#2a3f5f"
            },
            "baxis": {
             "endlinecolor": "#2a3f5f",
             "gridcolor": "white",
             "linecolor": "white",
             "minorgridcolor": "white",
             "startlinecolor": "#2a3f5f"
            },
            "type": "carpet"
           }
          ],
          "choropleth": [
           {
            "colorbar": {
             "outlinewidth": 0,
             "ticks": ""
            },
            "type": "choropleth"
           }
          ],
          "contour": [
           {
            "colorbar": {
             "outlinewidth": 0,
             "ticks": ""
            },
            "colorscale": [
             [
              0,
              "#0d0887"
             ],
             [
              0.1111111111111111,
              "#46039f"
             ],
             [
              0.2222222222222222,
              "#7201a8"
             ],
             [
              0.3333333333333333,
              "#9c179e"
             ],
             [
              0.4444444444444444,
              "#bd3786"
             ],
             [
              0.5555555555555556,
              "#d8576b"
             ],
             [
              0.6666666666666666,
              "#ed7953"
             ],
             [
              0.7777777777777778,
              "#fb9f3a"
             ],
             [
              0.8888888888888888,
              "#fdca26"
             ],
             [
              1,
              "#f0f921"
             ]
            ],
            "type": "contour"
           }
          ],
          "contourcarpet": [
           {
            "colorbar": {
             "outlinewidth": 0,
             "ticks": ""
            },
            "type": "contourcarpet"
           }
          ],
          "heatmap": [
           {
            "colorbar": {
             "outlinewidth": 0,
             "ticks": ""
            },
            "colorscale": [
             [
              0,
              "#0d0887"
             ],
             [
              0.1111111111111111,
              "#46039f"
             ],
             [
              0.2222222222222222,
              "#7201a8"
             ],
             [
              0.3333333333333333,
              "#9c179e"
             ],
             [
              0.4444444444444444,
              "#bd3786"
             ],
             [
              0.5555555555555556,
              "#d8576b"
             ],
             [
              0.6666666666666666,
              "#ed7953"
             ],
             [
              0.7777777777777778,
              "#fb9f3a"
             ],
             [
              0.8888888888888888,
              "#fdca26"
             ],
             [
              1,
              "#f0f921"
             ]
            ],
            "type": "heatmap"
           }
          ],
          "heatmapgl": [
           {
            "colorbar": {
             "outlinewidth": 0,
             "ticks": ""
            },
            "colorscale": [
             [
              0,
              "#0d0887"
             ],
             [
              0.1111111111111111,
              "#46039f"
             ],
             [
              0.2222222222222222,
              "#7201a8"
             ],
             [
              0.3333333333333333,
              "#9c179e"
             ],
             [
              0.4444444444444444,
              "#bd3786"
             ],
             [
              0.5555555555555556,
              "#d8576b"
             ],
             [
              0.6666666666666666,
              "#ed7953"
             ],
             [
              0.7777777777777778,
              "#fb9f3a"
             ],
             [
              0.8888888888888888,
              "#fdca26"
             ],
             [
              1,
              "#f0f921"
             ]
            ],
            "type": "heatmapgl"
           }
          ],
          "histogram": [
           {
            "marker": {
             "pattern": {
              "fillmode": "overlay",
              "size": 10,
              "solidity": 0.2
             }
            },
            "type": "histogram"
           }
          ],
          "histogram2d": [
           {
            "colorbar": {
             "outlinewidth": 0,
             "ticks": ""
            },
            "colorscale": [
             [
              0,
              "#0d0887"
             ],
             [
              0.1111111111111111,
              "#46039f"
             ],
             [
              0.2222222222222222,
              "#7201a8"
             ],
             [
              0.3333333333333333,
              "#9c179e"
             ],
             [
              0.4444444444444444,
              "#bd3786"
             ],
             [
              0.5555555555555556,
              "#d8576b"
             ],
             [
              0.6666666666666666,
              "#ed7953"
             ],
             [
              0.7777777777777778,
              "#fb9f3a"
             ],
             [
              0.8888888888888888,
              "#fdca26"
             ],
             [
              1,
              "#f0f921"
             ]
            ],
            "type": "histogram2d"
           }
          ],
          "histogram2dcontour": [
           {
            "colorbar": {
             "outlinewidth": 0,
             "ticks": ""
            },
            "colorscale": [
             [
              0,
              "#0d0887"
             ],
             [
              0.1111111111111111,
              "#46039f"
             ],
             [
              0.2222222222222222,
              "#7201a8"
             ],
             [
              0.3333333333333333,
              "#9c179e"
             ],
             [
              0.4444444444444444,
              "#bd3786"
             ],
             [
              0.5555555555555556,
              "#d8576b"
             ],
             [
              0.6666666666666666,
              "#ed7953"
             ],
             [
              0.7777777777777778,
              "#fb9f3a"
             ],
             [
              0.8888888888888888,
              "#fdca26"
             ],
             [
              1,
              "#f0f921"
             ]
            ],
            "type": "histogram2dcontour"
           }
          ],
          "mesh3d": [
           {
            "colorbar": {
             "outlinewidth": 0,
             "ticks": ""
            },
            "type": "mesh3d"
           }
          ],
          "parcoords": [
           {
            "line": {
             "colorbar": {
              "outlinewidth": 0,
              "ticks": ""
             }
            },
            "type": "parcoords"
           }
          ],
          "pie": [
           {
            "automargin": true,
            "type": "pie"
           }
          ],
          "scatter": [
           {
            "fillpattern": {
             "fillmode": "overlay",
             "size": 10,
             "solidity": 0.2
            },
            "type": "scatter"
           }
          ],
          "scatter3d": [
           {
            "line": {
             "colorbar": {
              "outlinewidth": 0,
              "ticks": ""
             }
            },
            "marker": {
             "colorbar": {
              "outlinewidth": 0,
              "ticks": ""
             }
            },
            "type": "scatter3d"
           }
          ],
          "scattercarpet": [
           {
            "marker": {
             "colorbar": {
              "outlinewidth": 0,
              "ticks": ""
             }
            },
            "type": "scattercarpet"
           }
          ],
          "scattergeo": [
           {
            "marker": {
             "colorbar": {
              "outlinewidth": 0,
              "ticks": ""
             }
            },
            "type": "scattergeo"
           }
          ],
          "scattergl": [
           {
            "marker": {
             "colorbar": {
              "outlinewidth": 0,
              "ticks": ""
             }
            },
            "type": "scattergl"
           }
          ],
          "scattermapbox": [
           {
            "marker": {
             "colorbar": {
              "outlinewidth": 0,
              "ticks": ""
             }
            },
            "type": "scattermapbox"
           }
          ],
          "scatterpolar": [
           {
            "marker": {
             "colorbar": {
              "outlinewidth": 0,
              "ticks": ""
             }
            },
            "type": "scatterpolar"
           }
          ],
          "scatterpolargl": [
           {
            "marker": {
             "colorbar": {
              "outlinewidth": 0,
              "ticks": ""
             }
            },
            "type": "scatterpolargl"
           }
          ],
          "scatterternary": [
           {
            "marker": {
             "colorbar": {
              "outlinewidth": 0,
              "ticks": ""
             }
            },
            "type": "scatterternary"
           }
          ],
          "surface": [
           {
            "colorbar": {
             "outlinewidth": 0,
             "ticks": ""
            },
            "colorscale": [
             [
              0,
              "#0d0887"
             ],
             [
              0.1111111111111111,
              "#46039f"
             ],
             [
              0.2222222222222222,
              "#7201a8"
             ],
             [
              0.3333333333333333,
              "#9c179e"
             ],
             [
              0.4444444444444444,
              "#bd3786"
             ],
             [
              0.5555555555555556,
              "#d8576b"
             ],
             [
              0.6666666666666666,
              "#ed7953"
             ],
             [
              0.7777777777777778,
              "#fb9f3a"
             ],
             [
              0.8888888888888888,
              "#fdca26"
             ],
             [
              1,
              "#f0f921"
             ]
            ],
            "type": "surface"
           }
          ],
          "table": [
           {
            "cells": {
             "fill": {
              "color": "#EBF0F8"
             },
             "line": {
              "color": "white"
             }
            },
            "header": {
             "fill": {
              "color": "#C8D4E3"
             },
             "line": {
              "color": "white"
             }
            },
            "type": "table"
           }
          ]
         },
         "layout": {
          "annotationdefaults": {
           "arrowcolor": "#2a3f5f",
           "arrowhead": 0,
           "arrowwidth": 1
          },
          "autotypenumbers": "strict",
          "coloraxis": {
           "colorbar": {
            "outlinewidth": 0,
            "ticks": ""
           }
          },
          "colorscale": {
           "diverging": [
            [
             0,
             "#8e0152"
            ],
            [
             0.1,
             "#c51b7d"
            ],
            [
             0.2,
             "#de77ae"
            ],
            [
             0.3,
             "#f1b6da"
            ],
            [
             0.4,
             "#fde0ef"
            ],
            [
             0.5,
             "#f7f7f7"
            ],
            [
             0.6,
             "#e6f5d0"
            ],
            [
             0.7,
             "#b8e186"
            ],
            [
             0.8,
             "#7fbc41"
            ],
            [
             0.9,
             "#4d9221"
            ],
            [
             1,
             "#276419"
            ]
           ],
           "sequential": [
            [
             0,
             "#0d0887"
            ],
            [
             0.1111111111111111,
             "#46039f"
            ],
            [
             0.2222222222222222,
             "#7201a8"
            ],
            [
             0.3333333333333333,
             "#9c179e"
            ],
            [
             0.4444444444444444,
             "#bd3786"
            ],
            [
             0.5555555555555556,
             "#d8576b"
            ],
            [
             0.6666666666666666,
             "#ed7953"
            ],
            [
             0.7777777777777778,
             "#fb9f3a"
            ],
            [
             0.8888888888888888,
             "#fdca26"
            ],
            [
             1,
             "#f0f921"
            ]
           ],
           "sequentialminus": [
            [
             0,
             "#0d0887"
            ],
            [
             0.1111111111111111,
             "#46039f"
            ],
            [
             0.2222222222222222,
             "#7201a8"
            ],
            [
             0.3333333333333333,
             "#9c179e"
            ],
            [
             0.4444444444444444,
             "#bd3786"
            ],
            [
             0.5555555555555556,
             "#d8576b"
            ],
            [
             0.6666666666666666,
             "#ed7953"
            ],
            [
             0.7777777777777778,
             "#fb9f3a"
            ],
            [
             0.8888888888888888,
             "#fdca26"
            ],
            [
             1,
             "#f0f921"
            ]
           ]
          },
          "colorway": [
           "#636efa",
           "#EF553B",
           "#00cc96",
           "#ab63fa",
           "#FFA15A",
           "#19d3f3",
           "#FF6692",
           "#B6E880",
           "#FF97FF",
           "#FECB52"
          ],
          "font": {
           "color": "#2a3f5f"
          },
          "geo": {
           "bgcolor": "white",
           "lakecolor": "white",
           "landcolor": "#E5ECF6",
           "showlakes": true,
           "showland": true,
           "subunitcolor": "white"
          },
          "hoverlabel": {
           "align": "left"
          },
          "hovermode": "closest",
          "mapbox": {
           "style": "light"
          },
          "paper_bgcolor": "white",
          "plot_bgcolor": "#E5ECF6",
          "polar": {
           "angularaxis": {
            "gridcolor": "white",
            "linecolor": "white",
            "ticks": ""
           },
           "bgcolor": "#E5ECF6",
           "radialaxis": {
            "gridcolor": "white",
            "linecolor": "white",
            "ticks": ""
           }
          },
          "scene": {
           "xaxis": {
            "backgroundcolor": "#E5ECF6",
            "gridcolor": "white",
            "gridwidth": 2,
            "linecolor": "white",
            "showbackground": true,
            "ticks": "",
            "zerolinecolor": "white"
           },
           "yaxis": {
            "backgroundcolor": "#E5ECF6",
            "gridcolor": "white",
            "gridwidth": 2,
            "linecolor": "white",
            "showbackground": true,
            "ticks": "",
            "zerolinecolor": "white"
           },
           "zaxis": {
            "backgroundcolor": "#E5ECF6",
            "gridcolor": "white",
            "gridwidth": 2,
            "linecolor": "white",
            "showbackground": true,
            "ticks": "",
            "zerolinecolor": "white"
           }
          },
          "shapedefaults": {
           "line": {
            "color": "#2a3f5f"
           }
          },
          "ternary": {
           "aaxis": {
            "gridcolor": "white",
            "linecolor": "white",
            "ticks": ""
           },
           "baxis": {
            "gridcolor": "white",
            "linecolor": "white",
            "ticks": ""
           },
           "bgcolor": "#E5ECF6",
           "caxis": {
            "gridcolor": "white",
            "linecolor": "white",
            "ticks": ""
           }
          },
          "title": {
           "x": 0.05
          },
          "xaxis": {
           "automargin": true,
           "gridcolor": "white",
           "linecolor": "white",
           "ticks": "",
           "title": {
            "standoff": 15
           },
           "zerolinecolor": "white",
           "zerolinewidth": 2
          },
          "yaxis": {
           "automargin": true,
           "gridcolor": "white",
           "linecolor": "white",
           "ticks": "",
           "title": {
            "standoff": 15
           },
           "zerolinecolor": "white",
           "zerolinewidth": 2
          }
         }
        },
        "title": {
         "font": {
          "size": 20
         },
         "text": "Porcentagem de Presença"
        }
       }
      }
     },
     "metadata": {},
     "output_type": "display_data"
    }
   ],
   "source": [
    "# Calculando a porcentagem de presença\n",
    "total_presencas = df_diarioFreq['presente'].sum()\n",
    "total_registros = df_diarioFreq['presente'].count()\n",
    "porcentagem_presenca = (total_presencas / total_registros) * 100\n",
    "porcentagem_falta = 100 - porcentagem_presenca\n",
    "\n",
    "# Criando um DataFrame para o gráfico\n",
    "df_porcentagem = pd.DataFrame({\n",
    "    'Status': ['Presente', 'Faltou'],\n",
    "    'Porcentagem': [porcentagem_presenca, porcentagem_falta]\n",
    "})\n",
    "\n",
    "# Criando o gráfico de pizza com plotly\n",
    "fig = px.pie(df_porcentagem, values='Porcentagem', names='Status', title='Porcentagem de Presença')\n",
    "\n",
    "fig.update_layout(\n",
    "    title_font=dict(size=20),\n",
    "    plot_bgcolor='rgba(0, 0, 0, 0)', \n",
    "    paper_bgcolor='rgba(0, 0, 0, 0)', \n",
    "    font_color='white')\n",
    "\n",
    "# Exibindo o gráfico\n",
    "fig.show()\n"
   ]
  },
  {
   "cell_type": "markdown",
   "metadata": {},
   "source": [
    "Neste trecho de código, utilizamos a biblioteca `pandas` para carregar e manipular os dados do diário de aula. O objetivo é organizar as informações e criar variáveis que representem o dia da semana em formato de \"dummy variables\" (variáveis binárias), facilitando análises futuras.\n",
    "\n",
    "**Passos:**\n",
    "\n",
    "1. **Leitura do arquivo CSV**: O arquivo de dados é carregado utilizando `pd.read_csv()`, ignorando possíveis erros de linhas.\n",
    "2. **Seleção e renomeação de colunas**: Foram escolhidas as colunas necessárias e renomeadas para facilitar a manipulação.\n",
    "3. **Conversão de data**: A coluna `DataAula` é convertida para o formato `datetime`, e extraímos o dia da semana como um número, onde **0 = Segunda-feira** e **6 = Domingo**.\n",
    "4. **Criação de variáveis dummy**: Utilizamos `pd.get_dummies()` para criar variáveis binárias que indicam o dia da semana.\n",
    "5. **Ordenação dos dados**: O DataFrame é ordenado pela data da aula e número da aula, organizando cronologicamente as informações.\n",
    "\n",
    "Esse processamento prepara os dados para análises mais avançadas baseadas no histórico de aulas.\n"
   ]
  },
  {
   "cell_type": "code",
   "execution_count": 15,
   "metadata": {},
   "outputs": [
    {
     "data": {
      "text/html": [
       "<div>\n",
       "<style scoped>\n",
       "    .dataframe tbody tr th:only-of-type {\n",
       "        vertical-align: middle;\n",
       "    }\n",
       "\n",
       "    .dataframe tbody tr th {\n",
       "        vertical-align: top;\n",
       "    }\n",
       "\n",
       "    .dataframe thead th {\n",
       "        text-align: right;\n",
       "    }\n",
       "</style>\n",
       "<table border=\"1\" class=\"dataframe\">\n",
       "  <thead>\n",
       "    <tr style=\"text-align: right;\">\n",
       "      <th></th>\n",
       "      <th>id_diario_aula</th>\n",
       "      <th>id_diario</th>\n",
       "      <th>data_aula</th>\n",
       "      <th>num_aula</th>\n",
       "      <th>conteudo_ministrado</th>\n",
       "      <th>id_professor</th>\n",
       "      <th>dia_semana_0</th>\n",
       "      <th>dia_semana_1</th>\n",
       "      <th>dia_semana_2</th>\n",
       "      <th>dia_semana_3</th>\n",
       "      <th>dia_semana_4</th>\n",
       "      <th>dia_semana_5</th>\n",
       "      <th>dia_semana_6</th>\n",
       "    </tr>\n",
       "  </thead>\n",
       "  <tbody>\n",
       "    <tr>\n",
       "      <th>359</th>\n",
       "      <td>376</td>\n",
       "      <td>8</td>\n",
       "      <td>2021-07-01</td>\n",
       "      <td>1</td>\n",
       "      <td>Árvore da bondade.</td>\n",
       "      <td>14</td>\n",
       "      <td>False</td>\n",
       "      <td>False</td>\n",
       "      <td>False</td>\n",
       "      <td>True</td>\n",
       "      <td>False</td>\n",
       "      <td>False</td>\n",
       "      <td>False</td>\n",
       "    </tr>\n",
       "    <tr>\n",
       "      <th>363</th>\n",
       "      <td>380</td>\n",
       "      <td>149</td>\n",
       "      <td>2021-07-01</td>\n",
       "      <td>1</td>\n",
       "      <td>Árvore da bondade.</td>\n",
       "      <td>14</td>\n",
       "      <td>False</td>\n",
       "      <td>False</td>\n",
       "      <td>False</td>\n",
       "      <td>True</td>\n",
       "      <td>False</td>\n",
       "      <td>False</td>\n",
       "      <td>False</td>\n",
       "    </tr>\n",
       "    <tr>\n",
       "      <th>370</th>\n",
       "      <td>387</td>\n",
       "      <td>161</td>\n",
       "      <td>2021-07-01</td>\n",
       "      <td>1</td>\n",
       "      <td>Árvore da bondade.</td>\n",
       "      <td>14</td>\n",
       "      <td>False</td>\n",
       "      <td>False</td>\n",
       "      <td>False</td>\n",
       "      <td>True</td>\n",
       "      <td>False</td>\n",
       "      <td>False</td>\n",
       "      <td>False</td>\n",
       "    </tr>\n",
       "    <tr>\n",
       "      <th>380</th>\n",
       "      <td>397</td>\n",
       "      <td>86</td>\n",
       "      <td>2021-07-01</td>\n",
       "      <td>1</td>\n",
       "      <td>Árvore da bondade.</td>\n",
       "      <td>14</td>\n",
       "      <td>False</td>\n",
       "      <td>False</td>\n",
       "      <td>False</td>\n",
       "      <td>True</td>\n",
       "      <td>False</td>\n",
       "      <td>False</td>\n",
       "      <td>False</td>\n",
       "    </tr>\n",
       "    <tr>\n",
       "      <th>388</th>\n",
       "      <td>406</td>\n",
       "      <td>83</td>\n",
       "      <td>2021-07-01</td>\n",
       "      <td>1</td>\n",
       "      <td>Árvore da bondade.</td>\n",
       "      <td>14</td>\n",
       "      <td>False</td>\n",
       "      <td>False</td>\n",
       "      <td>False</td>\n",
       "      <td>True</td>\n",
       "      <td>False</td>\n",
       "      <td>False</td>\n",
       "      <td>False</td>\n",
       "    </tr>\n",
       "    <tr>\n",
       "      <th>...</th>\n",
       "      <td>...</td>\n",
       "      <td>...</td>\n",
       "      <td>...</td>\n",
       "      <td>...</td>\n",
       "      <td>...</td>\n",
       "      <td>...</td>\n",
       "      <td>...</td>\n",
       "      <td>...</td>\n",
       "      <td>...</td>\n",
       "      <td>...</td>\n",
       "      <td>...</td>\n",
       "      <td>...</td>\n",
       "      <td>...</td>\n",
       "    </tr>\n",
       "    <tr>\n",
       "      <th>24419</th>\n",
       "      <td>25321</td>\n",
       "      <td>2391</td>\n",
       "      <td>2024-06-28</td>\n",
       "      <td>9</td>\n",
       "      <td>Aplicação da prova substitutiva para alunos co...</td>\n",
       "      <td>2</td>\n",
       "      <td>False</td>\n",
       "      <td>False</td>\n",
       "      <td>False</td>\n",
       "      <td>False</td>\n",
       "      <td>True</td>\n",
       "      <td>False</td>\n",
       "      <td>False</td>\n",
       "    </tr>\n",
       "    <tr>\n",
       "      <th>24420</th>\n",
       "      <td>25322</td>\n",
       "      <td>2355</td>\n",
       "      <td>2024-06-28</td>\n",
       "      <td>9</td>\n",
       "      <td>Aplicação da prova substitutiva para alunos co...</td>\n",
       "      <td>2</td>\n",
       "      <td>False</td>\n",
       "      <td>False</td>\n",
       "      <td>False</td>\n",
       "      <td>False</td>\n",
       "      <td>True</td>\n",
       "      <td>False</td>\n",
       "      <td>False</td>\n",
       "    </tr>\n",
       "    <tr>\n",
       "      <th>24421</th>\n",
       "      <td>25323</td>\n",
       "      <td>2626</td>\n",
       "      <td>2024-06-28</td>\n",
       "      <td>9</td>\n",
       "      <td>Correção da P2</td>\n",
       "      <td>47</td>\n",
       "      <td>False</td>\n",
       "      <td>False</td>\n",
       "      <td>False</td>\n",
       "      <td>False</td>\n",
       "      <td>True</td>\n",
       "      <td>False</td>\n",
       "      <td>False</td>\n",
       "    </tr>\n",
       "    <tr>\n",
       "      <th>24370</th>\n",
       "      <td>25272</td>\n",
       "      <td>2581</td>\n",
       "      <td>2024-06-29</td>\n",
       "      <td>9</td>\n",
       "      <td>Jogos cognitivos</td>\n",
       "      <td>9</td>\n",
       "      <td>False</td>\n",
       "      <td>False</td>\n",
       "      <td>False</td>\n",
       "      <td>False</td>\n",
       "      <td>False</td>\n",
       "      <td>True</td>\n",
       "      <td>False</td>\n",
       "    </tr>\n",
       "    <tr>\n",
       "      <th>21332</th>\n",
       "      <td>22168</td>\n",
       "      <td>2303</td>\n",
       "      <td>2024-08-09</td>\n",
       "      <td>9</td>\n",
       "      <td>GÊNERO TEXTUAL- CARTA PESSOAL- CONCEITO- APOST...</td>\n",
       "      <td>5</td>\n",
       "      <td>False</td>\n",
       "      <td>False</td>\n",
       "      <td>False</td>\n",
       "      <td>False</td>\n",
       "      <td>True</td>\n",
       "      <td>False</td>\n",
       "      <td>False</td>\n",
       "    </tr>\n",
       "  </tbody>\n",
       "</table>\n",
       "<p>24436 rows × 13 columns</p>\n",
       "</div>"
      ],
      "text/plain": [
       "       id_diario_aula  id_diario  data_aula  num_aula  \\\n",
       "359               376          8 2021-07-01         1   \n",
       "363               380        149 2021-07-01         1   \n",
       "370               387        161 2021-07-01         1   \n",
       "380               397         86 2021-07-01         1   \n",
       "388               406         83 2021-07-01         1   \n",
       "...               ...        ...        ...       ...   \n",
       "24419           25321       2391 2024-06-28         9   \n",
       "24420           25322       2355 2024-06-28         9   \n",
       "24421           25323       2626 2024-06-28         9   \n",
       "24370           25272       2581 2024-06-29         9   \n",
       "21332           22168       2303 2024-08-09         9   \n",
       "\n",
       "                                     conteudo_ministrado id_professor  \\\n",
       "359                                   Árvore da bondade.           14   \n",
       "363                                   Árvore da bondade.           14   \n",
       "370                                   Árvore da bondade.           14   \n",
       "380                                   Árvore da bondade.           14   \n",
       "388                                   Árvore da bondade.           14   \n",
       "...                                                  ...          ...   \n",
       "24419  Aplicação da prova substitutiva para alunos co...            2   \n",
       "24420  Aplicação da prova substitutiva para alunos co...            2   \n",
       "24421                                     Correção da P2           47   \n",
       "24370                                   Jogos cognitivos            9   \n",
       "21332  GÊNERO TEXTUAL- CARTA PESSOAL- CONCEITO- APOST...            5   \n",
       "\n",
       "       dia_semana_0  dia_semana_1  dia_semana_2  dia_semana_3  dia_semana_4  \\\n",
       "359           False         False         False          True         False   \n",
       "363           False         False         False          True         False   \n",
       "370           False         False         False          True         False   \n",
       "380           False         False         False          True         False   \n",
       "388           False         False         False          True         False   \n",
       "...             ...           ...           ...           ...           ...   \n",
       "24419         False         False         False         False          True   \n",
       "24420         False         False         False         False          True   \n",
       "24421         False         False         False         False          True   \n",
       "24370         False         False         False         False         False   \n",
       "21332         False         False         False         False          True   \n",
       "\n",
       "       dia_semana_5  dia_semana_6  \n",
       "359           False         False  \n",
       "363           False         False  \n",
       "370           False         False  \n",
       "380           False         False  \n",
       "388           False         False  \n",
       "...             ...           ...  \n",
       "24419         False         False  \n",
       "24420         False         False  \n",
       "24421         False         False  \n",
       "24370          True         False  \n",
       "21332         False         False  \n",
       "\n",
       "[24436 rows x 13 columns]"
      ]
     },
     "execution_count": 15,
     "metadata": {},
     "output_type": "execute_result"
    }
   ],
   "source": [
    "# Lendo o CSV\n",
    "df_diarioAula = pd.read_csv(local_arquivos_analise + \"TbDiario/Originais anonimizados/TbDiarioAula.csv\")\n",
    "\n",
    "# Selecionando e renomeando colunas\n",
    "df_diarioAula = df_diarioAula[['IdDiarioAula', 'IdDiario', 'DataAula', 'NumeroAula', 'ConteudoMinistrado', 'IdProfessor']].rename(\n",
    "    columns={\n",
    "        'IdDiarioAula': 'id_diario_aula',\n",
    "        'IdDiario': 'id_diario',\n",
    "        'DataAula': 'data_aula',\n",
    "        'NumeroAula': 'num_aula',\n",
    "        'ConteudoMinistrado': 'conteudo_ministrado',\n",
    "        'IdProfessor': 'id_professor'\n",
    "    }\n",
    ")\n",
    "\n",
    "# Convertendo a coluna de data para datetime e extraindo o dia da semana\n",
    "df_diarioAula['data_aula'] = pd.to_datetime(df_diarioAula['data_aula'], format=\"%Y-%m-%d %H:%M:%S\")\n",
    "df_diarioAula['dia_semana'] = df_diarioAula['data_aula'].dt.weekday\n",
    "\n",
    "# Criando variáveis dummy para o dia da semana\n",
    "df_diarioAula = pd.get_dummies(df_diarioAula, columns=['dia_semana'])\n",
    "\n",
    "# Ordenando pelo campo 'data_aula' e 'num_aula'\n",
    "df_diarioAula = df_diarioAula.sort_values(by=['data_aula', 'num_aula'])\n",
    "\n",
    "# Exibindo o DataFrame\n",
    "df_diarioAula\n"
   ]
  },
  {
   "cell_type": "markdown",
   "metadata": {},
   "source": [
    "<font color='orange'>**Análise Presença:**</font>\n",
    "\n",
    "Podemos verificar outras métricas, como a taxa de presença por dia da semana ou a correlação entre o número de aulas e a taxa de presença. Essas análises podem fornecer insights mais profundos sobre os padrões de frequência e ajudar na identificação de dias com maior ou menor comparecimento.\n",
    "\n",
    "Por exemplo, poderíamos verificar se há uma diferença significativa na presença dos alunos em determinados dias da semana, o que poderia ajudar a otimizar a distribuição de aulas ou focar em intervenções específicas para reduzir as faltas.\n"
   ]
  },
  {
   "cell_type": "code",
   "execution_count": 16,
   "metadata": {},
   "outputs": [
    {
     "data": {
      "application/vnd.plotly.v1+json": {
       "config": {
        "plotlyServerURL": "https://plot.ly"
       },
       "data": [
        {
         "alignmentgroup": "True",
         "hovertemplate": "variable=presente<br>dia_semana=%{x}<br>Porcentagem de Presença=%{y}<extra></extra>",
         "legendgroup": "presente",
         "marker": {
          "color": "rgb(8,48,107)",
          "pattern": {
           "shape": ""
          }
         },
         "name": "presente",
         "offsetgroup": "presente",
         "orientation": "v",
         "showlegend": true,
         "textposition": "auto",
         "type": "bar",
         "x": [
          "Segunda",
          "Terça",
          "Quarta",
          "Quinta",
          "Sexta",
          "Sábado",
          "Domingo"
         ],
         "xaxis": "x",
         "y": [
          78.87719186986713,
          81.50514363641754,
          79.50865831338871,
          76.98067099088793,
          75.33703878902554,
          50.607287449392715,
          85.71428571428571
         ],
         "yaxis": "y"
        }
       ],
       "layout": {
        "barmode": "relative",
        "font": {
         "color": "white"
        },
        "legend": {
         "title": {
          "text": "variable"
         },
         "tracegroupgap": 0
        },
        "paper_bgcolor": "rgba(0, 0, 0, 0)",
        "plot_bgcolor": "rgba(0, 0, 0, 0)",
        "template": {
         "data": {
          "bar": [
           {
            "error_x": {
             "color": "#2a3f5f"
            },
            "error_y": {
             "color": "#2a3f5f"
            },
            "marker": {
             "line": {
              "color": "#E5ECF6",
              "width": 0.5
             },
             "pattern": {
              "fillmode": "overlay",
              "size": 10,
              "solidity": 0.2
             }
            },
            "type": "bar"
           }
          ],
          "barpolar": [
           {
            "marker": {
             "line": {
              "color": "#E5ECF6",
              "width": 0.5
             },
             "pattern": {
              "fillmode": "overlay",
              "size": 10,
              "solidity": 0.2
             }
            },
            "type": "barpolar"
           }
          ],
          "carpet": [
           {
            "aaxis": {
             "endlinecolor": "#2a3f5f",
             "gridcolor": "white",
             "linecolor": "white",
             "minorgridcolor": "white",
             "startlinecolor": "#2a3f5f"
            },
            "baxis": {
             "endlinecolor": "#2a3f5f",
             "gridcolor": "white",
             "linecolor": "white",
             "minorgridcolor": "white",
             "startlinecolor": "#2a3f5f"
            },
            "type": "carpet"
           }
          ],
          "choropleth": [
           {
            "colorbar": {
             "outlinewidth": 0,
             "ticks": ""
            },
            "type": "choropleth"
           }
          ],
          "contour": [
           {
            "colorbar": {
             "outlinewidth": 0,
             "ticks": ""
            },
            "colorscale": [
             [
              0,
              "#0d0887"
             ],
             [
              0.1111111111111111,
              "#46039f"
             ],
             [
              0.2222222222222222,
              "#7201a8"
             ],
             [
              0.3333333333333333,
              "#9c179e"
             ],
             [
              0.4444444444444444,
              "#bd3786"
             ],
             [
              0.5555555555555556,
              "#d8576b"
             ],
             [
              0.6666666666666666,
              "#ed7953"
             ],
             [
              0.7777777777777778,
              "#fb9f3a"
             ],
             [
              0.8888888888888888,
              "#fdca26"
             ],
             [
              1,
              "#f0f921"
             ]
            ],
            "type": "contour"
           }
          ],
          "contourcarpet": [
           {
            "colorbar": {
             "outlinewidth": 0,
             "ticks": ""
            },
            "type": "contourcarpet"
           }
          ],
          "heatmap": [
           {
            "colorbar": {
             "outlinewidth": 0,
             "ticks": ""
            },
            "colorscale": [
             [
              0,
              "#0d0887"
             ],
             [
              0.1111111111111111,
              "#46039f"
             ],
             [
              0.2222222222222222,
              "#7201a8"
             ],
             [
              0.3333333333333333,
              "#9c179e"
             ],
             [
              0.4444444444444444,
              "#bd3786"
             ],
             [
              0.5555555555555556,
              "#d8576b"
             ],
             [
              0.6666666666666666,
              "#ed7953"
             ],
             [
              0.7777777777777778,
              "#fb9f3a"
             ],
             [
              0.8888888888888888,
              "#fdca26"
             ],
             [
              1,
              "#f0f921"
             ]
            ],
            "type": "heatmap"
           }
          ],
          "heatmapgl": [
           {
            "colorbar": {
             "outlinewidth": 0,
             "ticks": ""
            },
            "colorscale": [
             [
              0,
              "#0d0887"
             ],
             [
              0.1111111111111111,
              "#46039f"
             ],
             [
              0.2222222222222222,
              "#7201a8"
             ],
             [
              0.3333333333333333,
              "#9c179e"
             ],
             [
              0.4444444444444444,
              "#bd3786"
             ],
             [
              0.5555555555555556,
              "#d8576b"
             ],
             [
              0.6666666666666666,
              "#ed7953"
             ],
             [
              0.7777777777777778,
              "#fb9f3a"
             ],
             [
              0.8888888888888888,
              "#fdca26"
             ],
             [
              1,
              "#f0f921"
             ]
            ],
            "type": "heatmapgl"
           }
          ],
          "histogram": [
           {
            "marker": {
             "pattern": {
              "fillmode": "overlay",
              "size": 10,
              "solidity": 0.2
             }
            },
            "type": "histogram"
           }
          ],
          "histogram2d": [
           {
            "colorbar": {
             "outlinewidth": 0,
             "ticks": ""
            },
            "colorscale": [
             [
              0,
              "#0d0887"
             ],
             [
              0.1111111111111111,
              "#46039f"
             ],
             [
              0.2222222222222222,
              "#7201a8"
             ],
             [
              0.3333333333333333,
              "#9c179e"
             ],
             [
              0.4444444444444444,
              "#bd3786"
             ],
             [
              0.5555555555555556,
              "#d8576b"
             ],
             [
              0.6666666666666666,
              "#ed7953"
             ],
             [
              0.7777777777777778,
              "#fb9f3a"
             ],
             [
              0.8888888888888888,
              "#fdca26"
             ],
             [
              1,
              "#f0f921"
             ]
            ],
            "type": "histogram2d"
           }
          ],
          "histogram2dcontour": [
           {
            "colorbar": {
             "outlinewidth": 0,
             "ticks": ""
            },
            "colorscale": [
             [
              0,
              "#0d0887"
             ],
             [
              0.1111111111111111,
              "#46039f"
             ],
             [
              0.2222222222222222,
              "#7201a8"
             ],
             [
              0.3333333333333333,
              "#9c179e"
             ],
             [
              0.4444444444444444,
              "#bd3786"
             ],
             [
              0.5555555555555556,
              "#d8576b"
             ],
             [
              0.6666666666666666,
              "#ed7953"
             ],
             [
              0.7777777777777778,
              "#fb9f3a"
             ],
             [
              0.8888888888888888,
              "#fdca26"
             ],
             [
              1,
              "#f0f921"
             ]
            ],
            "type": "histogram2dcontour"
           }
          ],
          "mesh3d": [
           {
            "colorbar": {
             "outlinewidth": 0,
             "ticks": ""
            },
            "type": "mesh3d"
           }
          ],
          "parcoords": [
           {
            "line": {
             "colorbar": {
              "outlinewidth": 0,
              "ticks": ""
             }
            },
            "type": "parcoords"
           }
          ],
          "pie": [
           {
            "automargin": true,
            "type": "pie"
           }
          ],
          "scatter": [
           {
            "fillpattern": {
             "fillmode": "overlay",
             "size": 10,
             "solidity": 0.2
            },
            "type": "scatter"
           }
          ],
          "scatter3d": [
           {
            "line": {
             "colorbar": {
              "outlinewidth": 0,
              "ticks": ""
             }
            },
            "marker": {
             "colorbar": {
              "outlinewidth": 0,
              "ticks": ""
             }
            },
            "type": "scatter3d"
           }
          ],
          "scattercarpet": [
           {
            "marker": {
             "colorbar": {
              "outlinewidth": 0,
              "ticks": ""
             }
            },
            "type": "scattercarpet"
           }
          ],
          "scattergeo": [
           {
            "marker": {
             "colorbar": {
              "outlinewidth": 0,
              "ticks": ""
             }
            },
            "type": "scattergeo"
           }
          ],
          "scattergl": [
           {
            "marker": {
             "colorbar": {
              "outlinewidth": 0,
              "ticks": ""
             }
            },
            "type": "scattergl"
           }
          ],
          "scattermapbox": [
           {
            "marker": {
             "colorbar": {
              "outlinewidth": 0,
              "ticks": ""
             }
            },
            "type": "scattermapbox"
           }
          ],
          "scatterpolar": [
           {
            "marker": {
             "colorbar": {
              "outlinewidth": 0,
              "ticks": ""
             }
            },
            "type": "scatterpolar"
           }
          ],
          "scatterpolargl": [
           {
            "marker": {
             "colorbar": {
              "outlinewidth": 0,
              "ticks": ""
             }
            },
            "type": "scatterpolargl"
           }
          ],
          "scatterternary": [
           {
            "marker": {
             "colorbar": {
              "outlinewidth": 0,
              "ticks": ""
             }
            },
            "type": "scatterternary"
           }
          ],
          "surface": [
           {
            "colorbar": {
             "outlinewidth": 0,
             "ticks": ""
            },
            "colorscale": [
             [
              0,
              "#0d0887"
             ],
             [
              0.1111111111111111,
              "#46039f"
             ],
             [
              0.2222222222222222,
              "#7201a8"
             ],
             [
              0.3333333333333333,
              "#9c179e"
             ],
             [
              0.4444444444444444,
              "#bd3786"
             ],
             [
              0.5555555555555556,
              "#d8576b"
             ],
             [
              0.6666666666666666,
              "#ed7953"
             ],
             [
              0.7777777777777778,
              "#fb9f3a"
             ],
             [
              0.8888888888888888,
              "#fdca26"
             ],
             [
              1,
              "#f0f921"
             ]
            ],
            "type": "surface"
           }
          ],
          "table": [
           {
            "cells": {
             "fill": {
              "color": "#EBF0F8"
             },
             "line": {
              "color": "white"
             }
            },
            "header": {
             "fill": {
              "color": "#C8D4E3"
             },
             "line": {
              "color": "white"
             }
            },
            "type": "table"
           }
          ]
         },
         "layout": {
          "annotationdefaults": {
           "arrowcolor": "#2a3f5f",
           "arrowhead": 0,
           "arrowwidth": 1
          },
          "autotypenumbers": "strict",
          "coloraxis": {
           "colorbar": {
            "outlinewidth": 0,
            "ticks": ""
           }
          },
          "colorscale": {
           "diverging": [
            [
             0,
             "#8e0152"
            ],
            [
             0.1,
             "#c51b7d"
            ],
            [
             0.2,
             "#de77ae"
            ],
            [
             0.3,
             "#f1b6da"
            ],
            [
             0.4,
             "#fde0ef"
            ],
            [
             0.5,
             "#f7f7f7"
            ],
            [
             0.6,
             "#e6f5d0"
            ],
            [
             0.7,
             "#b8e186"
            ],
            [
             0.8,
             "#7fbc41"
            ],
            [
             0.9,
             "#4d9221"
            ],
            [
             1,
             "#276419"
            ]
           ],
           "sequential": [
            [
             0,
             "#0d0887"
            ],
            [
             0.1111111111111111,
             "#46039f"
            ],
            [
             0.2222222222222222,
             "#7201a8"
            ],
            [
             0.3333333333333333,
             "#9c179e"
            ],
            [
             0.4444444444444444,
             "#bd3786"
            ],
            [
             0.5555555555555556,
             "#d8576b"
            ],
            [
             0.6666666666666666,
             "#ed7953"
            ],
            [
             0.7777777777777778,
             "#fb9f3a"
            ],
            [
             0.8888888888888888,
             "#fdca26"
            ],
            [
             1,
             "#f0f921"
            ]
           ],
           "sequentialminus": [
            [
             0,
             "#0d0887"
            ],
            [
             0.1111111111111111,
             "#46039f"
            ],
            [
             0.2222222222222222,
             "#7201a8"
            ],
            [
             0.3333333333333333,
             "#9c179e"
            ],
            [
             0.4444444444444444,
             "#bd3786"
            ],
            [
             0.5555555555555556,
             "#d8576b"
            ],
            [
             0.6666666666666666,
             "#ed7953"
            ],
            [
             0.7777777777777778,
             "#fb9f3a"
            ],
            [
             0.8888888888888888,
             "#fdca26"
            ],
            [
             1,
             "#f0f921"
            ]
           ]
          },
          "colorway": [
           "#636efa",
           "#EF553B",
           "#00cc96",
           "#ab63fa",
           "#FFA15A",
           "#19d3f3",
           "#FF6692",
           "#B6E880",
           "#FF97FF",
           "#FECB52"
          ],
          "font": {
           "color": "#2a3f5f"
          },
          "geo": {
           "bgcolor": "white",
           "lakecolor": "white",
           "landcolor": "#E5ECF6",
           "showlakes": true,
           "showland": true,
           "subunitcolor": "white"
          },
          "hoverlabel": {
           "align": "left"
          },
          "hovermode": "closest",
          "mapbox": {
           "style": "light"
          },
          "paper_bgcolor": "white",
          "plot_bgcolor": "#E5ECF6",
          "polar": {
           "angularaxis": {
            "gridcolor": "white",
            "linecolor": "white",
            "ticks": ""
           },
           "bgcolor": "#E5ECF6",
           "radialaxis": {
            "gridcolor": "white",
            "linecolor": "white",
            "ticks": ""
           }
          },
          "scene": {
           "xaxis": {
            "backgroundcolor": "#E5ECF6",
            "gridcolor": "white",
            "gridwidth": 2,
            "linecolor": "white",
            "showbackground": true,
            "ticks": "",
            "zerolinecolor": "white"
           },
           "yaxis": {
            "backgroundcolor": "#E5ECF6",
            "gridcolor": "white",
            "gridwidth": 2,
            "linecolor": "white",
            "showbackground": true,
            "ticks": "",
            "zerolinecolor": "white"
           },
           "zaxis": {
            "backgroundcolor": "#E5ECF6",
            "gridcolor": "white",
            "gridwidth": 2,
            "linecolor": "white",
            "showbackground": true,
            "ticks": "",
            "zerolinecolor": "white"
           }
          },
          "shapedefaults": {
           "line": {
            "color": "#2a3f5f"
           }
          },
          "ternary": {
           "aaxis": {
            "gridcolor": "white",
            "linecolor": "white",
            "ticks": ""
           },
           "baxis": {
            "gridcolor": "white",
            "linecolor": "white",
            "ticks": ""
           },
           "bgcolor": "#E5ECF6",
           "caxis": {
            "gridcolor": "white",
            "linecolor": "white",
            "ticks": ""
           }
          },
          "title": {
           "x": 0.05
          },
          "xaxis": {
           "automargin": true,
           "gridcolor": "white",
           "linecolor": "white",
           "ticks": "",
           "title": {
            "standoff": 15
           },
           "zerolinecolor": "white",
           "zerolinewidth": 2
          },
          "yaxis": {
           "automargin": true,
           "gridcolor": "white",
           "linecolor": "white",
           "ticks": "",
           "title": {
            "standoff": 15
           },
           "zerolinecolor": "white",
           "zerolinewidth": 2
          }
         }
        },
        "title": {
         "font": {
          "size": 20
         },
         "text": "Taxa de Presença por Dia da Semana"
        },
        "xaxis": {
         "anchor": "y",
         "domain": [
          0,
          1
         ],
         "title": {
          "text": "dia_semana"
         }
        },
        "yaxis": {
         "anchor": "x",
         "domain": [
          0,
          1
         ],
         "title": {
          "text": "Porcentagem de Presença"
         }
        }
       }
      }
     },
     "metadata": {},
     "output_type": "display_data"
    }
   ],
   "source": [
    "# Juntando as tabelas para adicionar o dia da semana à tabela de frequência\n",
    "df_completo = pd.merge(df_diarioFreq, df_diarioAula[['id_diario_aula', 'data_aula']], on='id_diario_aula')\n",
    "\n",
    "# Extraindo o dia da semana e convertendo para nomes dos dias\n",
    "df_completo['dia_semana'] = df_completo['data_aula'].dt.weekday\n",
    "dias_semana = {0: 'Segunda', 1: 'Terça', 2: 'Quarta', 3: 'Quinta', 4: 'Sexta', 5: 'Sábado', 6: 'Domingo'}\n",
    "df_completo['dia_semana'] = df_completo['dia_semana'].map(dias_semana)\n",
    "\n",
    "# Calculando a taxa de presença por dia da semana\n",
    "presenca_por_dia = df_completo.groupby('dia_semana')['presente'].mean() * 100\n",
    "\n",
    "# Ordenando os dias da semana para exibição\n",
    "presenca_por_dia = presenca_por_dia.reindex(['Segunda', 'Terça', 'Quarta', 'Quinta', 'Sexta', 'Sábado', 'Domingo'])\n",
    "\n",
    "# Gráfico da taxa de presença por dia da semana\n",
    "fig_dia_semana = px.bar(presenca_por_dia, \n",
    "                        title='Taxa de Presença por Dia da Semana', \n",
    "                        labels={'value': 'Porcentagem de Presença', 'index': 'Dia da Semana'},\n",
    "                        color_discrete_sequence=px.colors.sequential.Blues_r)\n",
    "\n",
    "fig_dia_semana.update_layout(\n",
    "    title_font=dict(size=20),\n",
    "    plot_bgcolor='rgba(0, 0, 0, 0)', \n",
    "    paper_bgcolor='rgba(0, 0, 0, 0)', \n",
    "    font_color='white'                \n",
    ")\n",
    "\n",
    "# Exibindo o gráfico\n",
    "fig_dia_semana.show()\n"
   ]
  },
  {
   "cell_type": "markdown",
   "metadata": {},
   "source": [
    "A análise de presença por dia da semana mostra uma variação interessante. A maior taxa de presença ocorre no **domingo**, com **85,7%**, enquanto o **sábado** tem a menor taxa de presença, com apenas **50,6%**. Durante os dias úteis, as taxas de presença variam de **75,3%** (sexta-feira) a **81,5%** (terça-feira). Isso sugere que, durante o final de semana, os alunos são menos assíduos, especialmente no sábado, o que pode indicar uma oportunidade de ajustar o planejamento de aulas ou atividades nesse dia para tentar aumentar o engajamento."
   ]
  },
  {
   "cell_type": "code",
   "execution_count": 17,
   "metadata": {},
   "outputs": [
    {
     "name": "stdout",
     "output_type": "stream",
     "text": [
      "dia_semana\n",
      "Segunda    78.877192\n",
      "Terça      81.505144\n",
      "Quarta     79.508658\n",
      "Quinta     76.980671\n",
      "Sexta      75.337039\n",
      "Sábado     50.607287\n",
      "Domingo    85.714286\n",
      "Name: presente, dtype: float64\n"
     ]
    }
   ],
   "source": [
    "# Exibindo o resultado da análise por dia\n",
    "print(presenca_por_dia)"
   ]
  },
  {
   "cell_type": "markdown",
   "metadata": {},
   "source": [
    "<font color='orange'>**Análise de Faltas:**</font>\n",
    "\n",
    "Criamos a mesma análise para faltas, que será simplesmente o complemento da presença (100% menos a porcentagem de presença para cada dia).\n"
   ]
  },
  {
   "cell_type": "code",
   "execution_count": 18,
   "metadata": {},
   "outputs": [
    {
     "data": {
      "application/vnd.plotly.v1+json": {
       "config": {
        "plotlyServerURL": "https://plot.ly"
       },
       "data": [
        {
         "alignmentgroup": "True",
         "hovertemplate": "variable=presente<br>dia_semana=%{x}<br>Porcentagem de Faltas=%{y}<extra></extra>",
         "legendgroup": "presente",
         "marker": {
          "color": "rgb(8,48,107)",
          "pattern": {
           "shape": ""
          }
         },
         "name": "presente",
         "offsetgroup": "presente",
         "orientation": "v",
         "showlegend": true,
         "textposition": "auto",
         "type": "bar",
         "x": [
          "Segunda",
          "Terça",
          "Quarta",
          "Quinta",
          "Sexta",
          "Sábado",
          "Domingo"
         ],
         "xaxis": "x",
         "y": [
          21.122808130132867,
          18.494856363582457,
          20.491341686611293,
          23.01932900911207,
          24.66296121097446,
          49.392712550607285,
          14.285714285714292
         ],
         "yaxis": "y"
        }
       ],
       "layout": {
        "barmode": "relative",
        "font": {
         "color": "white"
        },
        "legend": {
         "title": {
          "text": "variable"
         },
         "tracegroupgap": 0
        },
        "paper_bgcolor": "rgba(0, 0, 0, 0)",
        "plot_bgcolor": "rgba(0, 0, 0, 0)",
        "template": {
         "data": {
          "bar": [
           {
            "error_x": {
             "color": "#2a3f5f"
            },
            "error_y": {
             "color": "#2a3f5f"
            },
            "marker": {
             "line": {
              "color": "#E5ECF6",
              "width": 0.5
             },
             "pattern": {
              "fillmode": "overlay",
              "size": 10,
              "solidity": 0.2
             }
            },
            "type": "bar"
           }
          ],
          "barpolar": [
           {
            "marker": {
             "line": {
              "color": "#E5ECF6",
              "width": 0.5
             },
             "pattern": {
              "fillmode": "overlay",
              "size": 10,
              "solidity": 0.2
             }
            },
            "type": "barpolar"
           }
          ],
          "carpet": [
           {
            "aaxis": {
             "endlinecolor": "#2a3f5f",
             "gridcolor": "white",
             "linecolor": "white",
             "minorgridcolor": "white",
             "startlinecolor": "#2a3f5f"
            },
            "baxis": {
             "endlinecolor": "#2a3f5f",
             "gridcolor": "white",
             "linecolor": "white",
             "minorgridcolor": "white",
             "startlinecolor": "#2a3f5f"
            },
            "type": "carpet"
           }
          ],
          "choropleth": [
           {
            "colorbar": {
             "outlinewidth": 0,
             "ticks": ""
            },
            "type": "choropleth"
           }
          ],
          "contour": [
           {
            "colorbar": {
             "outlinewidth": 0,
             "ticks": ""
            },
            "colorscale": [
             [
              0,
              "#0d0887"
             ],
             [
              0.1111111111111111,
              "#46039f"
             ],
             [
              0.2222222222222222,
              "#7201a8"
             ],
             [
              0.3333333333333333,
              "#9c179e"
             ],
             [
              0.4444444444444444,
              "#bd3786"
             ],
             [
              0.5555555555555556,
              "#d8576b"
             ],
             [
              0.6666666666666666,
              "#ed7953"
             ],
             [
              0.7777777777777778,
              "#fb9f3a"
             ],
             [
              0.8888888888888888,
              "#fdca26"
             ],
             [
              1,
              "#f0f921"
             ]
            ],
            "type": "contour"
           }
          ],
          "contourcarpet": [
           {
            "colorbar": {
             "outlinewidth": 0,
             "ticks": ""
            },
            "type": "contourcarpet"
           }
          ],
          "heatmap": [
           {
            "colorbar": {
             "outlinewidth": 0,
             "ticks": ""
            },
            "colorscale": [
             [
              0,
              "#0d0887"
             ],
             [
              0.1111111111111111,
              "#46039f"
             ],
             [
              0.2222222222222222,
              "#7201a8"
             ],
             [
              0.3333333333333333,
              "#9c179e"
             ],
             [
              0.4444444444444444,
              "#bd3786"
             ],
             [
              0.5555555555555556,
              "#d8576b"
             ],
             [
              0.6666666666666666,
              "#ed7953"
             ],
             [
              0.7777777777777778,
              "#fb9f3a"
             ],
             [
              0.8888888888888888,
              "#fdca26"
             ],
             [
              1,
              "#f0f921"
             ]
            ],
            "type": "heatmap"
           }
          ],
          "heatmapgl": [
           {
            "colorbar": {
             "outlinewidth": 0,
             "ticks": ""
            },
            "colorscale": [
             [
              0,
              "#0d0887"
             ],
             [
              0.1111111111111111,
              "#46039f"
             ],
             [
              0.2222222222222222,
              "#7201a8"
             ],
             [
              0.3333333333333333,
              "#9c179e"
             ],
             [
              0.4444444444444444,
              "#bd3786"
             ],
             [
              0.5555555555555556,
              "#d8576b"
             ],
             [
              0.6666666666666666,
              "#ed7953"
             ],
             [
              0.7777777777777778,
              "#fb9f3a"
             ],
             [
              0.8888888888888888,
              "#fdca26"
             ],
             [
              1,
              "#f0f921"
             ]
            ],
            "type": "heatmapgl"
           }
          ],
          "histogram": [
           {
            "marker": {
             "pattern": {
              "fillmode": "overlay",
              "size": 10,
              "solidity": 0.2
             }
            },
            "type": "histogram"
           }
          ],
          "histogram2d": [
           {
            "colorbar": {
             "outlinewidth": 0,
             "ticks": ""
            },
            "colorscale": [
             [
              0,
              "#0d0887"
             ],
             [
              0.1111111111111111,
              "#46039f"
             ],
             [
              0.2222222222222222,
              "#7201a8"
             ],
             [
              0.3333333333333333,
              "#9c179e"
             ],
             [
              0.4444444444444444,
              "#bd3786"
             ],
             [
              0.5555555555555556,
              "#d8576b"
             ],
             [
              0.6666666666666666,
              "#ed7953"
             ],
             [
              0.7777777777777778,
              "#fb9f3a"
             ],
             [
              0.8888888888888888,
              "#fdca26"
             ],
             [
              1,
              "#f0f921"
             ]
            ],
            "type": "histogram2d"
           }
          ],
          "histogram2dcontour": [
           {
            "colorbar": {
             "outlinewidth": 0,
             "ticks": ""
            },
            "colorscale": [
             [
              0,
              "#0d0887"
             ],
             [
              0.1111111111111111,
              "#46039f"
             ],
             [
              0.2222222222222222,
              "#7201a8"
             ],
             [
              0.3333333333333333,
              "#9c179e"
             ],
             [
              0.4444444444444444,
              "#bd3786"
             ],
             [
              0.5555555555555556,
              "#d8576b"
             ],
             [
              0.6666666666666666,
              "#ed7953"
             ],
             [
              0.7777777777777778,
              "#fb9f3a"
             ],
             [
              0.8888888888888888,
              "#fdca26"
             ],
             [
              1,
              "#f0f921"
             ]
            ],
            "type": "histogram2dcontour"
           }
          ],
          "mesh3d": [
           {
            "colorbar": {
             "outlinewidth": 0,
             "ticks": ""
            },
            "type": "mesh3d"
           }
          ],
          "parcoords": [
           {
            "line": {
             "colorbar": {
              "outlinewidth": 0,
              "ticks": ""
             }
            },
            "type": "parcoords"
           }
          ],
          "pie": [
           {
            "automargin": true,
            "type": "pie"
           }
          ],
          "scatter": [
           {
            "fillpattern": {
             "fillmode": "overlay",
             "size": 10,
             "solidity": 0.2
            },
            "type": "scatter"
           }
          ],
          "scatter3d": [
           {
            "line": {
             "colorbar": {
              "outlinewidth": 0,
              "ticks": ""
             }
            },
            "marker": {
             "colorbar": {
              "outlinewidth": 0,
              "ticks": ""
             }
            },
            "type": "scatter3d"
           }
          ],
          "scattercarpet": [
           {
            "marker": {
             "colorbar": {
              "outlinewidth": 0,
              "ticks": ""
             }
            },
            "type": "scattercarpet"
           }
          ],
          "scattergeo": [
           {
            "marker": {
             "colorbar": {
              "outlinewidth": 0,
              "ticks": ""
             }
            },
            "type": "scattergeo"
           }
          ],
          "scattergl": [
           {
            "marker": {
             "colorbar": {
              "outlinewidth": 0,
              "ticks": ""
             }
            },
            "type": "scattergl"
           }
          ],
          "scattermapbox": [
           {
            "marker": {
             "colorbar": {
              "outlinewidth": 0,
              "ticks": ""
             }
            },
            "type": "scattermapbox"
           }
          ],
          "scatterpolar": [
           {
            "marker": {
             "colorbar": {
              "outlinewidth": 0,
              "ticks": ""
             }
            },
            "type": "scatterpolar"
           }
          ],
          "scatterpolargl": [
           {
            "marker": {
             "colorbar": {
              "outlinewidth": 0,
              "ticks": ""
             }
            },
            "type": "scatterpolargl"
           }
          ],
          "scatterternary": [
           {
            "marker": {
             "colorbar": {
              "outlinewidth": 0,
              "ticks": ""
             }
            },
            "type": "scatterternary"
           }
          ],
          "surface": [
           {
            "colorbar": {
             "outlinewidth": 0,
             "ticks": ""
            },
            "colorscale": [
             [
              0,
              "#0d0887"
             ],
             [
              0.1111111111111111,
              "#46039f"
             ],
             [
              0.2222222222222222,
              "#7201a8"
             ],
             [
              0.3333333333333333,
              "#9c179e"
             ],
             [
              0.4444444444444444,
              "#bd3786"
             ],
             [
              0.5555555555555556,
              "#d8576b"
             ],
             [
              0.6666666666666666,
              "#ed7953"
             ],
             [
              0.7777777777777778,
              "#fb9f3a"
             ],
             [
              0.8888888888888888,
              "#fdca26"
             ],
             [
              1,
              "#f0f921"
             ]
            ],
            "type": "surface"
           }
          ],
          "table": [
           {
            "cells": {
             "fill": {
              "color": "#EBF0F8"
             },
             "line": {
              "color": "white"
             }
            },
            "header": {
             "fill": {
              "color": "#C8D4E3"
             },
             "line": {
              "color": "white"
             }
            },
            "type": "table"
           }
          ]
         },
         "layout": {
          "annotationdefaults": {
           "arrowcolor": "#2a3f5f",
           "arrowhead": 0,
           "arrowwidth": 1
          },
          "autotypenumbers": "strict",
          "coloraxis": {
           "colorbar": {
            "outlinewidth": 0,
            "ticks": ""
           }
          },
          "colorscale": {
           "diverging": [
            [
             0,
             "#8e0152"
            ],
            [
             0.1,
             "#c51b7d"
            ],
            [
             0.2,
             "#de77ae"
            ],
            [
             0.3,
             "#f1b6da"
            ],
            [
             0.4,
             "#fde0ef"
            ],
            [
             0.5,
             "#f7f7f7"
            ],
            [
             0.6,
             "#e6f5d0"
            ],
            [
             0.7,
             "#b8e186"
            ],
            [
             0.8,
             "#7fbc41"
            ],
            [
             0.9,
             "#4d9221"
            ],
            [
             1,
             "#276419"
            ]
           ],
           "sequential": [
            [
             0,
             "#0d0887"
            ],
            [
             0.1111111111111111,
             "#46039f"
            ],
            [
             0.2222222222222222,
             "#7201a8"
            ],
            [
             0.3333333333333333,
             "#9c179e"
            ],
            [
             0.4444444444444444,
             "#bd3786"
            ],
            [
             0.5555555555555556,
             "#d8576b"
            ],
            [
             0.6666666666666666,
             "#ed7953"
            ],
            [
             0.7777777777777778,
             "#fb9f3a"
            ],
            [
             0.8888888888888888,
             "#fdca26"
            ],
            [
             1,
             "#f0f921"
            ]
           ],
           "sequentialminus": [
            [
             0,
             "#0d0887"
            ],
            [
             0.1111111111111111,
             "#46039f"
            ],
            [
             0.2222222222222222,
             "#7201a8"
            ],
            [
             0.3333333333333333,
             "#9c179e"
            ],
            [
             0.4444444444444444,
             "#bd3786"
            ],
            [
             0.5555555555555556,
             "#d8576b"
            ],
            [
             0.6666666666666666,
             "#ed7953"
            ],
            [
             0.7777777777777778,
             "#fb9f3a"
            ],
            [
             0.8888888888888888,
             "#fdca26"
            ],
            [
             1,
             "#f0f921"
            ]
           ]
          },
          "colorway": [
           "#636efa",
           "#EF553B",
           "#00cc96",
           "#ab63fa",
           "#FFA15A",
           "#19d3f3",
           "#FF6692",
           "#B6E880",
           "#FF97FF",
           "#FECB52"
          ],
          "font": {
           "color": "#2a3f5f"
          },
          "geo": {
           "bgcolor": "white",
           "lakecolor": "white",
           "landcolor": "#E5ECF6",
           "showlakes": true,
           "showland": true,
           "subunitcolor": "white"
          },
          "hoverlabel": {
           "align": "left"
          },
          "hovermode": "closest",
          "mapbox": {
           "style": "light"
          },
          "paper_bgcolor": "white",
          "plot_bgcolor": "#E5ECF6",
          "polar": {
           "angularaxis": {
            "gridcolor": "white",
            "linecolor": "white",
            "ticks": ""
           },
           "bgcolor": "#E5ECF6",
           "radialaxis": {
            "gridcolor": "white",
            "linecolor": "white",
            "ticks": ""
           }
          },
          "scene": {
           "xaxis": {
            "backgroundcolor": "#E5ECF6",
            "gridcolor": "white",
            "gridwidth": 2,
            "linecolor": "white",
            "showbackground": true,
            "ticks": "",
            "zerolinecolor": "white"
           },
           "yaxis": {
            "backgroundcolor": "#E5ECF6",
            "gridcolor": "white",
            "gridwidth": 2,
            "linecolor": "white",
            "showbackground": true,
            "ticks": "",
            "zerolinecolor": "white"
           },
           "zaxis": {
            "backgroundcolor": "#E5ECF6",
            "gridcolor": "white",
            "gridwidth": 2,
            "linecolor": "white",
            "showbackground": true,
            "ticks": "",
            "zerolinecolor": "white"
           }
          },
          "shapedefaults": {
           "line": {
            "color": "#2a3f5f"
           }
          },
          "ternary": {
           "aaxis": {
            "gridcolor": "white",
            "linecolor": "white",
            "ticks": ""
           },
           "baxis": {
            "gridcolor": "white",
            "linecolor": "white",
            "ticks": ""
           },
           "bgcolor": "#E5ECF6",
           "caxis": {
            "gridcolor": "white",
            "linecolor": "white",
            "ticks": ""
           }
          },
          "title": {
           "x": 0.05
          },
          "xaxis": {
           "automargin": true,
           "gridcolor": "white",
           "linecolor": "white",
           "ticks": "",
           "title": {
            "standoff": 15
           },
           "zerolinecolor": "white",
           "zerolinewidth": 2
          },
          "yaxis": {
           "automargin": true,
           "gridcolor": "white",
           "linecolor": "white",
           "ticks": "",
           "title": {
            "standoff": 15
           },
           "zerolinecolor": "white",
           "zerolinewidth": 2
          }
         }
        },
        "title": {
         "font": {
          "size": 20
         },
         "text": "Taxa de Faltas por Dia da Semana"
        },
        "xaxis": {
         "anchor": "y",
         "domain": [
          0,
          1
         ],
         "title": {
          "text": "dia_semana"
         }
        },
        "yaxis": {
         "anchor": "x",
         "domain": [
          0,
          1
         ],
         "title": {
          "text": "Porcentagem de Faltas"
         }
        }
       }
      }
     },
     "metadata": {},
     "output_type": "display_data"
    }
   ],
   "source": [
    "# Calculando a taxa de faltas por dia da semana\n",
    "faltas_por_dia = 100 - presenca_por_dia\n",
    "\n",
    "# Gráfico da taxa de faltas por dia da semana \n",
    "fig_faltas = px.bar(faltas_por_dia, \n",
    "                    title='Taxa de Faltas por Dia da Semana', \n",
    "                    labels={'value': 'Porcentagem de Faltas', 'index': 'Dia da Semana'},\n",
    "                    color_discrete_sequence=px.colors.sequential.Blues_r)\n",
    "\n",
    "# Ajustando o layout para fundo escuro\n",
    "fig_faltas.update_layout(\n",
    "    title_font=dict(size=20),\n",
    "    plot_bgcolor='rgba(0, 0, 0, 0)', \n",
    "    paper_bgcolor='rgba(0, 0, 0, 0)', \n",
    "    font_color='white'                \n",
    ")\n",
    "\n",
    "# Exibindo o gráfico\n",
    "fig_faltas.show()\n"
   ]
  },
  {
   "cell_type": "markdown",
   "metadata": {},
   "source": [
    "\n",
    "Assim como na presença, podemos observar que o **sábado** tem a maior taxa de faltas, com **49,4%** de alunos ausentes. Isso contrasta fortemente com o **domingo**, que tem a menor taxa de faltas, com **14,3%**. Durante a semana, as faltas variam entre **18,5%** na terça-feira e **24,7%** na sexta-feira, o que pode sugerir que, no final da semana, a presença diminui consistentemente.\n"
   ]
  },
  {
   "cell_type": "markdown",
   "metadata": {},
   "source": [
    "<font color='orange'>**Lendo as tabelas:**</font>\n",
    "\n",
    "Lendo as tabelas para gerar as principais informações para analises futuras:\n",
    "\n",
    "- TbDiario;\n",
    "- TbTurma;\n",
    "- TbAluno;"
   ]
  },
  {
   "cell_type": "code",
   "execution_count": 19,
   "metadata": {},
   "outputs": [
    {
     "data": {
      "text/html": [
       "<div>\n",
       "<style scoped>\n",
       "    .dataframe tbody tr th:only-of-type {\n",
       "        vertical-align: middle;\n",
       "    }\n",
       "\n",
       "    .dataframe tbody tr th {\n",
       "        vertical-align: top;\n",
       "    }\n",
       "\n",
       "    .dataframe thead th {\n",
       "        text-align: right;\n",
       "    }\n",
       "</style>\n",
       "<table border=\"1\" class=\"dataframe\">\n",
       "  <thead>\n",
       "    <tr style=\"text-align: right;\">\n",
       "      <th></th>\n",
       "      <th>id_diario</th>\n",
       "      <th>id_turma</th>\n",
       "      <th>id_disciplina</th>\n",
       "    </tr>\n",
       "  </thead>\n",
       "  <tbody>\n",
       "    <tr>\n",
       "      <th>244</th>\n",
       "      <td>252</td>\n",
       "      <td>149</td>\n",
       "      <td>16</td>\n",
       "    </tr>\n",
       "    <tr>\n",
       "      <th>324</th>\n",
       "      <td>332</td>\n",
       "      <td>181</td>\n",
       "      <td>1</td>\n",
       "    </tr>\n",
       "    <tr>\n",
       "      <th>520</th>\n",
       "      <td>572</td>\n",
       "      <td>236</td>\n",
       "      <td>4</td>\n",
       "    </tr>\n",
       "    <tr>\n",
       "      <th>326</th>\n",
       "      <td>334</td>\n",
       "      <td>183</td>\n",
       "      <td>4</td>\n",
       "    </tr>\n",
       "    <tr>\n",
       "      <th>911</th>\n",
       "      <td>975</td>\n",
       "      <td>585</td>\n",
       "      <td>1</td>\n",
       "    </tr>\n",
       "  </tbody>\n",
       "</table>\n",
       "</div>"
      ],
      "text/plain": [
       "     id_diario  id_turma  id_disciplina\n",
       "244        252       149             16\n",
       "324        332       181              1\n",
       "520        572       236              4\n",
       "326        334       183              4\n",
       "911        975       585              1"
      ]
     },
     "execution_count": 19,
     "metadata": {},
     "output_type": "execute_result"
    }
   ],
   "source": [
    "# Lendo o arquivo CSV usando pandas\n",
    "df_diario = pd.read_csv(local_arquivos_analise + \"TbDiario/Originais anonimizados/TbDiario.csv\")\n",
    "\n",
    "# Selecionando e renomeando as colunas\n",
    "df_diario = df_diario[['IdDiario', 'IdTurma', 'IdDisciplina']].rename(\n",
    "    columns={\n",
    "        'IdDiario': 'id_diario',\n",
    "        'IdTurma': 'id_turma',\n",
    "        'IdDisciplina': 'id_disciplina'\n",
    "    }\n",
    ")\n",
    "\n",
    "# Exibindo uma amostra de 5 linhas\n",
    "df_diario.sample(5)\n"
   ]
  },
  {
   "cell_type": "code",
   "execution_count": 20,
   "metadata": {},
   "outputs": [
    {
     "data": {
      "text/html": [
       "<div>\n",
       "<style scoped>\n",
       "    .dataframe tbody tr th:only-of-type {\n",
       "        vertical-align: middle;\n",
       "    }\n",
       "\n",
       "    .dataframe tbody tr th {\n",
       "        vertical-align: top;\n",
       "    }\n",
       "\n",
       "    .dataframe thead th {\n",
       "        text-align: right;\n",
       "    }\n",
       "</style>\n",
       "<table border=\"1\" class=\"dataframe\">\n",
       "  <thead>\n",
       "    <tr style=\"text-align: right;\">\n",
       "      <th></th>\n",
       "      <th>id_turma</th>\n",
       "      <th>id_serie</th>\n",
       "      <th>id_periodo</th>\n",
       "      <th>TurnoPrincipal</th>\n",
       "      <th>turno_turma</th>\n",
       "    </tr>\n",
       "  </thead>\n",
       "  <tbody>\n",
       "    <tr>\n",
       "      <th>220</th>\n",
       "      <td>418</td>\n",
       "      <td>2</td>\n",
       "      <td>5</td>\n",
       "      <td>M</td>\n",
       "      <td>0</td>\n",
       "    </tr>\n",
       "    <tr>\n",
       "      <th>33</th>\n",
       "      <td>75</td>\n",
       "      <td>8</td>\n",
       "      <td>4</td>\n",
       "      <td>M</td>\n",
       "      <td>0</td>\n",
       "    </tr>\n",
       "    <tr>\n",
       "      <th>507</th>\n",
       "      <td>734</td>\n",
       "      <td>15</td>\n",
       "      <td>7</td>\n",
       "      <td>T</td>\n",
       "      <td>1</td>\n",
       "    </tr>\n",
       "    <tr>\n",
       "      <th>1</th>\n",
       "      <td>2</td>\n",
       "      <td>2</td>\n",
       "      <td>1</td>\n",
       "      <td>M</td>\n",
       "      <td>0</td>\n",
       "    </tr>\n",
       "    <tr>\n",
       "      <th>133</th>\n",
       "      <td>186</td>\n",
       "      <td>15</td>\n",
       "      <td>5</td>\n",
       "      <td>T</td>\n",
       "      <td>1</td>\n",
       "    </tr>\n",
       "  </tbody>\n",
       "</table>\n",
       "</div>"
      ],
      "text/plain": [
       "     id_turma  id_serie  id_periodo TurnoPrincipal  turno_turma\n",
       "220       418         2           5              M            0\n",
       "33         75         8           4              M            0\n",
       "507       734        15           7              T            1\n",
       "1           2         2           1              M            0\n",
       "133       186        15           5              T            1"
      ]
     },
     "execution_count": 20,
     "metadata": {},
     "output_type": "execute_result"
    }
   ],
   "source": [
    "\n",
    "# Lendo o arquivo CSV usando pandas\n",
    "df_turma = pd.read_csv(local_arquivos_analise + \"TbTurma/Originais anonimizados/TbTurma.csv\")\n",
    "\n",
    "# Selecionando e renomeando as colunas\n",
    "df_turma = df_turma[['IdTurma', 'IdSerie', 'IdPeriodo', 'TurnoPrincipal']].rename(\n",
    "    columns={\n",
    "        'IdTurma': 'id_turma',\n",
    "        'IdSerie': 'id_serie',\n",
    "        'IdPeriodo': 'id_periodo'\n",
    "    }\n",
    ")\n",
    "\n",
    "# Aplicando a lógica condicional para a coluna 'TurnoPrincipal'\n",
    "df_turma['turno_turma'] = df_turma['TurnoPrincipal'].apply(lambda x: \n",
    "    0 if x == \"M\" else \n",
    "    1 if x == \"T\" else \n",
    "    2 if x == \"N\" else \n",
    "    3 if x == \"Z\" else 4\n",
    ")\n",
    "\n",
    "# Exibindo uma amostra de 5 linhas\n",
    "df_turma.sample(5)\n"
   ]
  },
  {
   "cell_type": "markdown",
   "metadata": {},
   "source": [
    "**Explicação:**\n",
    "\n",
    "1. **Leitura dos Dados**: O arquivo CSV é carregado com `pd.read_csv()`, ignorando erros de linha.\n",
    "2. **Seleção e Renomeação de Colunas**: Selecionamos as colunas relevantes e renomeamos para facilitar a manipulação.\n",
    "3. **Lógica Condicional**: Utilizamos `apply()` com uma função `lambda` para transformar a coluna `TurnoPrincipal` em valores numéricos, conforme especificado:\n",
    "   - **M** = 0\n",
    "   - **T** = 1\n",
    "   - **N** = 2\n",
    "   - **Z** = 3\n",
    "   - Qualquer outro valor = 4\n",
    "4. **Exibição de Amostra**: Mostramos uma amostra de 5 linhas para verificar o resultado."
   ]
  },
  {
   "cell_type": "code",
   "execution_count": 21,
   "metadata": {},
   "outputs": [
    {
     "data": {
      "text/html": [
       "<div>\n",
       "<style scoped>\n",
       "    .dataframe tbody tr th:only-of-type {\n",
       "        vertical-align: middle;\n",
       "    }\n",
       "\n",
       "    .dataframe tbody tr th {\n",
       "        vertical-align: top;\n",
       "    }\n",
       "\n",
       "    .dataframe thead th {\n",
       "        text-align: right;\n",
       "    }\n",
       "</style>\n",
       "<table border=\"1\" class=\"dataframe\">\n",
       "  <thead>\n",
       "    <tr style=\"text-align: right;\">\n",
       "      <th></th>\n",
       "      <th>id_aluno</th>\n",
       "      <th>data_nascimento_aluno</th>\n",
       "      <th>Sexo</th>\n",
       "      <th>IdPai</th>\n",
       "      <th>IdMae</th>\n",
       "      <th>CorRaca</th>\n",
       "      <th>idade_aluno</th>\n",
       "      <th>sexo_aluno</th>\n",
       "      <th>tem_pai</th>\n",
       "      <th>tem_mae</th>\n",
       "      <th>raca_aluno_A</th>\n",
       "      <th>raca_aluno_B</th>\n",
       "      <th>raca_aluno_I</th>\n",
       "      <th>raca_aluno_N</th>\n",
       "      <th>raca_aluno_None</th>\n",
       "      <th>raca_aluno_P</th>\n",
       "      <th>raca_aluno_R</th>\n",
       "    </tr>\n",
       "  </thead>\n",
       "  <tbody>\n",
       "    <tr>\n",
       "      <th>1226</th>\n",
       "      <td>1236</td>\n",
       "      <td>2013-04-22 00:00:00</td>\n",
       "      <td>M</td>\n",
       "      <td>NaN</td>\n",
       "      <td>1013</td>\n",
       "      <td>B</td>\n",
       "      <td>11.0</td>\n",
       "      <td>0</td>\n",
       "      <td>0</td>\n",
       "      <td>1</td>\n",
       "      <td>False</td>\n",
       "      <td>True</td>\n",
       "      <td>False</td>\n",
       "      <td>False</td>\n",
       "      <td>False</td>\n",
       "      <td>False</td>\n",
       "      <td>False</td>\n",
       "    </tr>\n",
       "    <tr>\n",
       "      <th>261</th>\n",
       "      <td>264</td>\n",
       "      <td>2009-10-04 03:00:00</td>\n",
       "      <td>M</td>\n",
       "      <td>NaN</td>\n",
       "      <td>253</td>\n",
       "      <td>R</td>\n",
       "      <td>15.0</td>\n",
       "      <td>0</td>\n",
       "      <td>0</td>\n",
       "      <td>1</td>\n",
       "      <td>False</td>\n",
       "      <td>False</td>\n",
       "      <td>False</td>\n",
       "      <td>False</td>\n",
       "      <td>False</td>\n",
       "      <td>False</td>\n",
       "      <td>True</td>\n",
       "    </tr>\n",
       "    <tr>\n",
       "      <th>37</th>\n",
       "      <td>40</td>\n",
       "      <td>2004-02-02 00:00:00</td>\n",
       "      <td>F</td>\n",
       "      <td>NaN</td>\n",
       "      <td>40</td>\n",
       "      <td>B</td>\n",
       "      <td>20.0</td>\n",
       "      <td>1</td>\n",
       "      <td>0</td>\n",
       "      <td>1</td>\n",
       "      <td>False</td>\n",
       "      <td>True</td>\n",
       "      <td>False</td>\n",
       "      <td>False</td>\n",
       "      <td>False</td>\n",
       "      <td>False</td>\n",
       "      <td>False</td>\n",
       "    </tr>\n",
       "    <tr>\n",
       "      <th>258</th>\n",
       "      <td>261</td>\n",
       "      <td>2009-10-12 00:00:00</td>\n",
       "      <td>M</td>\n",
       "      <td>NaN</td>\n",
       "      <td>250</td>\n",
       "      <td>R</td>\n",
       "      <td>15.0</td>\n",
       "      <td>0</td>\n",
       "      <td>0</td>\n",
       "      <td>1</td>\n",
       "      <td>False</td>\n",
       "      <td>False</td>\n",
       "      <td>False</td>\n",
       "      <td>False</td>\n",
       "      <td>False</td>\n",
       "      <td>False</td>\n",
       "      <td>True</td>\n",
       "    </tr>\n",
       "    <tr>\n",
       "      <th>301</th>\n",
       "      <td>304</td>\n",
       "      <td>2009-02-28 00:00:00</td>\n",
       "      <td>F</td>\n",
       "      <td>NaN</td>\n",
       "      <td>290</td>\n",
       "      <td>B</td>\n",
       "      <td>15.0</td>\n",
       "      <td>1</td>\n",
       "      <td>0</td>\n",
       "      <td>1</td>\n",
       "      <td>False</td>\n",
       "      <td>True</td>\n",
       "      <td>False</td>\n",
       "      <td>False</td>\n",
       "      <td>False</td>\n",
       "      <td>False</td>\n",
       "      <td>False</td>\n",
       "    </tr>\n",
       "  </tbody>\n",
       "</table>\n",
       "</div>"
      ],
      "text/plain": [
       "      id_aluno data_nascimento_aluno Sexo  IdPai IdMae CorRaca  idade_aluno  \\\n",
       "1226      1236   2013-04-22 00:00:00    M    NaN  1013       B         11.0   \n",
       "261        264   2009-10-04 03:00:00    M    NaN   253       R         15.0   \n",
       "37          40   2004-02-02 00:00:00    F    NaN    40       B         20.0   \n",
       "258        261   2009-10-12 00:00:00    M    NaN   250       R         15.0   \n",
       "301        304   2009-02-28 00:00:00    F    NaN   290       B         15.0   \n",
       "\n",
       "      sexo_aluno  tem_pai  tem_mae  raca_aluno_A  raca_aluno_B  raca_aluno_I  \\\n",
       "1226           0        0        1         False          True         False   \n",
       "261            0        0        1         False         False         False   \n",
       "37             1        0        1         False          True         False   \n",
       "258            0        0        1         False         False         False   \n",
       "301            1        0        1         False          True         False   \n",
       "\n",
       "      raca_aluno_N  raca_aluno_None  raca_aluno_P  raca_aluno_R  \n",
       "1226         False            False         False         False  \n",
       "261          False            False         False          True  \n",
       "37           False            False         False         False  \n",
       "258          False            False         False          True  \n",
       "301          False            False         False         False  "
      ]
     },
     "execution_count": 21,
     "metadata": {},
     "output_type": "execute_result"
    }
   ],
   "source": [
    "# Lendo o arquivo CSV usando pandas\n",
    "df_aluno = pd.read_csv(local_arquivos_analise + \"TbAluno/Originais anonimizados/TbAluno.csv\")\n",
    "\n",
    "# Selecionando e renomeando as colunas\n",
    "df_aluno = df_aluno[['IdAluno', 'DataNascimento', 'Sexo', 'IdPai', 'IdMae', 'CorRaca']].rename(\n",
    "    columns={\n",
    "        'IdAluno': 'id_aluno',\n",
    "        'DataNascimento': 'data_nascimento_aluno'\n",
    "    }\n",
    ")\n",
    "\n",
    "# Convertendo a coluna de data de nascimento para datetime\n",
    "df_aluno['data_nascimento_aluno'] = pd.to_datetime(df_aluno['data_nascimento_aluno'], format=\"%Y-%m-%d %H:%M:%S\", errors='coerce')\n",
    "\n",
    "# Calculando a idade do aluno\n",
    "df_aluno['idade_aluno'] = datetime.now().year - df_aluno['data_nascimento_aluno'].dt.year\n",
    "\n",
    "# Aplicando a lógica condicional para a coluna 'Sexo'\n",
    "df_aluno['sexo_aluno'] = df_aluno['Sexo'].apply(lambda x: 0 if x == \"M\" else 1)\n",
    "\n",
    "# Verificando se o campo 'IdPai' e 'IdMae' são nulos\n",
    "df_aluno['tem_pai'] = df_aluno['IdPai'].apply(lambda x: 0 if pd.isnull(x) else 1)\n",
    "df_aluno['tem_mae'] = df_aluno['IdMae'].apply(lambda x: 0 if pd.isnull(x) else 1)\n",
    "\n",
    "# Substituindo valores nulos na coluna 'CorRaca' por \"None\"\n",
    "df_aluno['raca_aluno'] = df_aluno['CorRaca'].fillna(\"None\")\n",
    "\n",
    "# Criando variáveis dummy para a coluna 'raca_aluno'\n",
    "df_aluno = pd.get_dummies(df_aluno, columns=['raca_aluno'])\n",
    "\n",
    "# Exibindo uma amostra de 5 linhas\n",
    "df_aluno.sample(5)\n"
   ]
  },
  {
   "cell_type": "markdown",
   "metadata": {},
   "source": [
    "**Explicação:**\n",
    "\n",
    "1. **Leitura dos Dados**: O arquivo CSV é carregado usando `pd.read_csv()`, ignorando erros de linha.\n",
    "2. **Seleção e Renomeação de Colunas**: Selecionamos as colunas necessárias e as renomeamos.\n",
    "3. **Conversão de Datas**: A coluna `DataNascimento` é convertida para o formato `datetime` e usamos o ano de nascimento para calcular a idade.\n",
    "4. **Lógica Condicional**:\n",
    "   - **Sexo**: `0` para masculino e `1` para feminino.\n",
    "   - **IdPai e IdMae**: Verificamos se esses campos são nulos (sem pai ou mãe) e atribuímos `0` (não tem) ou `1` (tem).\n",
    "5. **Preenchimento de Nulos**: Substituímos valores nulos na coluna `CorRaca` por \"None\".\n",
    "6. **Variáveis Dummy**: Transformamos a coluna `raca_aluno` em variáveis dummy para análise categórica.\n",
    "7. **Exibição de Amostra**: Exibimos 5 amostras dos dados para verificação."
   ]
  },
  {
   "cell_type": "code",
   "execution_count": 22,
   "metadata": {},
   "outputs": [
    {
     "data": {
      "text/html": [
       "<div>\n",
       "<style scoped>\n",
       "    .dataframe tbody tr th:only-of-type {\n",
       "        vertical-align: middle;\n",
       "    }\n",
       "\n",
       "    .dataframe tbody tr th {\n",
       "        vertical-align: top;\n",
       "    }\n",
       "\n",
       "    .dataframe thead th {\n",
       "        text-align: right;\n",
       "    }\n",
       "</style>\n",
       "<table border=\"1\" class=\"dataframe\">\n",
       "  <thead>\n",
       "    <tr style=\"text-align: right;\">\n",
       "      <th></th>\n",
       "      <th>count</th>\n",
       "      <th>mean</th>\n",
       "      <th>std</th>\n",
       "      <th>min</th>\n",
       "      <th>25%</th>\n",
       "      <th>50%</th>\n",
       "      <th>75%</th>\n",
       "      <th>max</th>\n",
       "    </tr>\n",
       "  </thead>\n",
       "  <tbody>\n",
       "    <tr>\n",
       "      <th>idade_aluno</th>\n",
       "      <td>2237.0</td>\n",
       "      <td>13.70228</td>\n",
       "      <td>3.656036</td>\n",
       "      <td>1.0</td>\n",
       "      <td>11.0</td>\n",
       "      <td>13.0</td>\n",
       "      <td>16.0</td>\n",
       "      <td>36.0</td>\n",
       "    </tr>\n",
       "  </tbody>\n",
       "</table>\n",
       "</div>"
      ],
      "text/plain": [
       "              count      mean       std  min   25%   50%   75%   max\n",
       "idade_aluno  2237.0  13.70228  3.656036  1.0  11.0  13.0  16.0  36.0"
      ]
     },
     "execution_count": 22,
     "metadata": {},
     "output_type": "execute_result"
    }
   ],
   "source": [
    "df_aluno[['idade_aluno']].describe().T"
   ]
  },
  {
   "cell_type": "markdown",
   "metadata": {},
   "source": [
    "#### <font color='orange'>Análise Demográfica dos Alunos</font>\n",
    "\n",
    "**Distribuição de Idade dos Alunos**\n",
    "\n",
    "Qual a faixa etária predominante dos alunos? Existe uma correlação entre idade e presença nas aulas?\n"
   ]
  },
  {
   "cell_type": "code",
   "execution_count": 12,
   "metadata": {},
   "outputs": [
    {
     "data": {
      "application/vnd.plotly.v1+json": {
       "config": {
        "plotlyServerURL": "https://plot.ly"
       },
       "data": [
        {
         "alignmentgroup": "True",
         "bingroup": "x",
         "hovertemplate": "Idade dos Alunos=%{x}<br>count=%{y}<extra></extra>",
         "legendgroup": "",
         "marker": {
          "color": "#1f77b4",
          "pattern": {
           "shape": ""
          }
         },
         "name": "",
         "nbinsx": 10,
         "offsetgroup": "",
         "orientation": "v",
         "showlegend": false,
         "type": "histogram",
         "x": [
          19,
          20,
          22,
          22,
          22,
          22,
          23,
          22,
          22,
          20,
          22,
          23,
          20,
          22,
          19,
          22,
          23,
          22,
          20,
          22,
          20,
          20,
          21,
          19,
          19,
          19,
          20,
          20,
          19,
          19,
          21,
          22,
          22,
          20,
          20,
          20,
          20,
          20,
          20,
          26,
          20,
          22,
          23,
          22,
          23,
          22,
          22,
          24,
          22,
          21,
          21,
          21,
          21,
          21,
          21,
          21,
          21,
          21,
          22,
          22,
          21,
          21,
          21,
          21,
          21,
          20,
          21,
          21,
          21,
          25,
          20,
          20,
          20,
          20,
          19,
          18,
          18,
          21,
          21,
          21,
          22,
          21,
          21,
          23,
          20,
          20,
          20,
          19,
          19,
          20,
          17,
          19,
          19,
          19,
          18,
          19,
          19,
          18,
          18,
          19,
          18,
          17,
          17,
          19,
          19,
          19,
          19,
          20,
          19,
          20,
          19,
          20,
          19,
          18,
          19,
          19,
          20,
          18,
          18,
          19,
          18,
          20,
          18,
          19,
          18,
          19,
          19,
          20,
          20,
          17,
          17,
          17,
          20,
          16,
          18,
          18,
          17,
          22,
          17,
          16,
          17,
          21,
          19,
          19,
          19,
          17,
          18,
          19,
          15,
          18,
          18,
          18,
          17,
          17,
          19,
          18,
          18,
          16,
          17,
          18,
          19,
          18,
          15,
          18,
          18,
          18,
          17,
          17,
          19,
          17,
          17,
          19,
          17,
          17,
          17,
          17,
          16,
          18,
          18,
          18,
          15,
          13,
          15,
          14,
          14,
          13,
          12,
          13,
          15,
          15,
          15,
          15,
          15,
          14,
          15,
          19,
          14,
          14,
          15,
          14,
          16,
          16,
          14,
          14,
          16,
          16,
          15,
          15,
          14,
          18,
          17,
          14,
          13,
          18,
          15,
          17,
          15,
          15,
          17,
          14,
          14,
          14,
          13,
          14,
          15,
          14,
          14,
          13,
          14,
          15,
          15,
          14,
          14,
          14,
          15,
          15,
          16,
          16,
          15,
          18,
          18,
          18,
          16,
          14,
          16,
          14,
          17,
          15,
          18,
          18,
          15,
          20,
          18,
          20,
          17,
          15,
          14,
          17,
          15,
          15,
          15,
          15,
          16,
          16,
          13,
          15,
          17,
          16,
          17,
          15,
          15,
          16,
          15,
          15,
          15,
          15,
          18,
          15,
          14,
          15,
          14,
          17,
          16,
          17,
          16,
          14,
          15,
          17,
          15,
          15,
          13,
          16,
          18,
          15,
          16,
          17,
          13,
          16,
          15,
          16,
          15,
          15,
          17,
          13,
          17,
          13,
          14,
          15,
          17,
          14,
          14,
          15,
          15,
          15,
          15,
          16,
          14,
          14,
          17,
          16,
          13,
          17,
          15,
          15,
          16,
          16,
          17,
          16,
          15,
          16,
          15,
          16,
          14,
          14,
          17,
          14,
          14,
          16,
          15,
          14,
          13,
          14,
          15,
          15,
          17,
          15,
          15,
          18,
          16,
          17,
          17,
          16,
          17,
          16,
          16,
          12,
          12,
          13,
          13,
          13,
          13,
          13,
          14,
          16,
          12,
          14,
          14,
          14,
          13,
          14,
          12,
          14,
          13,
          11,
          13,
          12,
          12,
          13,
          12,
          13,
          13,
          14,
          12,
          11,
          14,
          13,
          14,
          13,
          13,
          17,
          16,
          16,
          16,
          13,
          16,
          14,
          15,
          14,
          15,
          15,
          15,
          13,
          13,
          16,
          12,
          14,
          13,
          12,
          13,
          18,
          13,
          14,
          13,
          15,
          14,
          17,
          15,
          16,
          16,
          15,
          16,
          16,
          20,
          13,
          19,
          16,
          17,
          12,
          18,
          12,
          16,
          13,
          18,
          12,
          18,
          12,
          15,
          14,
          16,
          13,
          16,
          17,
          13,
          17,
          12,
          15,
          17,
          14,
          16,
          17,
          13,
          14,
          18,
          15,
          17,
          15,
          18,
          13,
          13,
          15,
          13,
          17,
          13,
          16,
          14,
          17,
          14,
          13,
          13,
          13,
          12,
          14,
          14,
          15,
          14,
          13,
          13,
          14,
          13,
          12,
          13,
          12,
          14,
          15,
          15,
          13,
          12,
          17,
          16,
          17,
          14,
          14,
          16,
          13,
          17,
          17,
          14,
          17,
          14,
          16,
          13,
          13,
          19,
          13,
          16,
          14,
          16,
          13,
          18,
          16,
          14,
          15,
          17,
          15,
          18,
          17,
          16,
          15,
          16,
          16,
          17,
          17,
          18,
          15,
          16,
          18,
          17,
          16,
          16,
          18,
          18,
          18,
          16,
          18,
          16,
          18,
          18,
          16,
          18,
          14,
          12,
          14,
          12,
          13,
          16,
          16,
          14,
          17,
          17,
          16,
          14,
          18,
          16,
          14,
          16,
          16,
          14,
          12,
          15,
          14,
          15,
          17,
          15,
          17,
          15,
          16,
          15,
          16,
          17,
          15,
          15,
          16,
          14,
          17,
          14,
          15,
          12,
          20,
          20,
          19,
          16,
          19,
          14,
          16,
          14,
          15,
          17,
          13,
          16,
          16,
          13,
          12,
          12,
          12,
          13,
          12,
          13,
          12,
          13,
          15,
          13,
          14,
          11,
          14,
          12,
          13,
          14,
          14,
          12,
          13,
          12,
          13,
          10,
          10,
          14,
          12,
          13,
          14,
          13,
          11,
          11,
          12,
          12,
          14,
          13,
          16,
          12,
          10,
          12,
          11,
          12,
          10,
          13,
          10,
          11,
          12,
          11,
          11,
          10,
          11,
          10,
          11,
          11,
          10,
          10,
          12,
          11,
          11,
          12,
          11,
          11,
          12,
          11,
          13,
          12,
          13,
          13,
          11,
          12,
          12,
          12,
          12,
          12,
          13,
          11,
          11,
          12,
          11,
          10,
          11,
          11,
          12,
          12,
          13,
          11,
          10,
          11,
          11,
          13,
          12,
          12,
          10,
          12,
          13,
          13,
          12,
          13,
          11,
          13,
          14,
          21,
          11,
          11,
          11,
          11,
          11,
          12,
          14,
          12,
          11,
          12,
          14,
          12,
          11,
          10,
          12,
          11,
          12,
          12,
          13,
          11,
          12,
          12,
          11,
          10,
          14,
          13,
          11,
          10,
          12,
          22,
          17,
          12,
          23,
          17,
          12,
          17,
          11,
          17,
          16,
          25,
          36,
          23,
          15,
          22,
          23,
          29,
          14,
          14,
          14,
          22,
          16,
          24,
          27,
          22,
          23,
          22,
          20,
          20,
          20,
          20,
          18,
          18,
          17,
          18,
          15,
          14,
          12,
          12,
          21,
          28,
          21,
          21,
          24,
          25,
          21,
          21,
          22,
          26,
          23,
          24,
          22,
          15,
          15,
          15,
          24,
          14,
          16,
          15,
          17,
          18,
          17,
          13,
          16,
          15,
          17,
          13,
          13,
          12,
          18,
          21,
          18,
          13,
          null,
          13,
          20,
          20,
          22,
          10,
          9,
          11,
          10,
          10,
          11,
          11,
          13,
          12,
          12,
          19,
          10,
          16,
          12,
          10,
          10,
          10,
          16,
          19,
          12,
          10,
          17,
          12,
          11,
          9,
          10,
          10,
          11,
          16,
          9,
          12,
          12,
          16,
          10,
          13,
          13,
          13,
          16,
          11,
          11,
          14,
          17,
          10,
          12,
          15,
          12,
          16,
          13,
          12,
          20,
          12,
          10,
          15,
          20,
          14,
          14,
          15,
          9,
          10,
          11,
          13,
          15,
          11,
          10,
          9,
          13,
          10,
          13,
          19,
          9,
          17,
          12,
          11,
          16,
          12,
          19,
          17,
          13,
          10,
          13,
          10,
          14,
          10,
          15,
          10,
          11,
          15,
          14,
          12,
          10,
          12,
          11,
          10,
          12,
          12,
          12,
          11,
          10,
          10,
          10,
          11,
          11,
          10,
          16,
          11,
          10,
          11,
          14,
          13,
          15,
          11,
          11,
          12,
          19,
          14,
          19,
          16,
          14,
          12,
          11,
          11,
          10,
          10,
          17,
          11,
          15,
          18,
          14,
          11,
          18,
          11,
          11,
          10,
          11,
          12,
          12,
          13,
          12,
          13,
          10,
          9,
          17,
          13,
          9,
          11,
          10,
          15,
          11,
          14,
          15,
          11,
          17,
          15,
          13,
          16,
          13,
          13,
          12,
          13,
          15,
          17,
          12,
          9,
          18,
          13,
          14,
          10,
          12,
          12,
          15,
          11,
          10,
          14,
          11,
          10,
          12,
          10,
          11,
          14,
          14,
          12,
          13,
          12,
          16,
          19,
          10,
          10,
          10,
          11,
          11,
          10,
          15,
          17,
          13,
          11,
          13,
          12,
          10,
          9,
          16,
          14,
          13,
          11,
          11,
          14,
          15,
          18,
          18,
          10,
          12,
          10,
          12,
          11,
          9,
          9,
          12,
          12,
          9,
          16,
          10,
          14,
          16,
          10,
          13,
          12,
          14,
          13,
          10,
          16,
          15,
          19,
          13,
          11,
          17,
          10,
          12,
          15,
          15,
          9,
          10,
          13,
          9,
          9,
          10,
          13,
          11,
          11,
          11,
          10,
          10,
          16,
          17,
          21,
          14,
          12,
          11,
          12,
          11,
          11,
          19,
          11,
          10,
          12,
          11,
          11,
          14,
          12,
          13,
          20,
          12,
          13,
          19,
          18,
          15,
          10,
          10,
          12,
          10,
          17,
          11,
          15,
          17,
          12,
          11,
          17,
          14,
          17,
          16,
          16,
          12,
          13,
          14,
          11,
          19,
          17,
          12,
          20,
          12,
          13,
          14,
          11,
          20,
          19,
          15,
          14,
          14,
          14,
          11,
          11,
          13,
          15,
          19,
          11,
          19,
          20,
          16,
          12,
          15,
          19,
          16,
          10,
          12,
          21,
          16,
          21,
          22,
          21,
          12,
          11,
          13,
          14,
          13,
          11,
          11,
          19,
          20,
          14,
          11,
          11,
          14,
          21,
          15,
          11,
          18,
          11,
          15,
          12,
          23,
          16,
          12,
          22,
          12,
          17,
          18,
          20,
          14,
          12,
          19,
          18,
          15,
          16,
          15,
          11,
          11,
          17,
          12,
          13,
          21,
          17,
          11,
          12,
          11,
          13,
          16,
          15,
          14,
          10,
          16,
          14,
          15,
          13,
          12,
          13,
          12,
          14,
          16,
          15,
          19,
          15,
          11,
          11,
          11,
          13,
          12,
          11,
          18,
          13,
          15,
          14,
          16,
          13,
          10,
          15,
          12,
          16,
          14,
          13,
          13,
          12,
          15,
          11,
          18,
          15,
          14,
          14,
          13,
          15,
          15,
          15,
          12,
          13,
          19,
          12,
          12,
          19,
          13,
          14,
          15,
          11,
          15,
          14,
          12,
          13,
          12,
          11,
          12,
          16,
          18,
          16,
          16,
          11,
          14,
          13,
          13,
          16,
          15,
          12,
          12,
          13,
          14,
          13,
          12,
          15,
          14,
          14,
          14,
          12,
          12,
          15,
          23,
          13,
          12,
          17,
          11,
          11,
          15,
          16,
          12,
          12,
          13,
          19,
          11,
          19,
          14,
          14,
          13,
          11,
          17,
          21,
          16,
          14,
          18,
          12,
          14,
          12,
          14,
          14,
          13,
          15,
          19,
          12,
          15,
          14,
          16,
          15,
          18,
          16,
          16,
          14,
          14,
          14,
          14,
          23,
          13,
          14,
          15,
          12,
          12,
          16,
          14,
          16,
          17,
          12,
          12,
          19,
          11,
          11,
          12,
          12,
          11,
          13,
          11,
          11,
          11,
          12,
          12,
          10,
          10,
          9,
          11,
          12,
          11,
          9,
          12,
          12,
          9,
          11,
          12,
          9,
          9,
          8,
          10,
          10,
          12,
          10,
          10,
          12,
          20,
          11,
          12,
          10,
          11,
          10,
          10,
          10,
          15,
          9,
          12,
          11,
          12,
          9,
          18,
          10,
          13,
          10,
          9,
          12,
          9,
          9,
          12,
          10,
          17,
          11,
          11,
          12,
          15,
          12,
          10,
          13,
          10,
          13,
          13,
          11,
          13,
          12,
          17,
          16,
          17,
          18,
          10,
          16,
          19,
          13,
          12,
          10,
          9,
          12,
          13,
          12,
          11,
          18,
          11,
          10,
          10,
          10,
          10,
          10,
          12,
          11,
          14,
          16,
          17,
          8,
          12,
          8,
          9,
          19,
          13,
          17,
          16,
          16,
          18,
          16,
          19,
          13,
          12,
          9,
          13,
          15,
          15,
          13,
          9,
          11,
          14,
          17,
          16,
          15,
          19,
          14,
          15,
          17,
          18,
          10,
          16,
          17,
          9,
          10,
          15,
          13,
          14,
          17,
          14,
          12,
          16,
          11,
          15,
          9,
          12,
          12,
          9,
          9,
          9,
          10,
          11,
          15,
          14,
          11,
          15,
          14,
          12,
          10,
          10,
          9,
          12,
          9,
          9,
          13,
          9,
          8,
          8,
          15,
          13,
          9,
          13,
          13,
          9,
          12,
          14,
          10,
          9,
          10,
          9,
          9,
          10,
          10,
          9,
          9,
          21,
          13,
          18,
          15,
          8,
          10,
          10,
          10,
          17,
          9,
          17,
          15,
          13,
          1,
          1,
          11,
          9,
          10,
          16,
          14,
          12,
          17,
          12,
          11,
          16,
          17,
          8,
          10,
          9,
          13,
          10,
          10,
          11,
          19,
          15,
          17,
          18,
          10,
          9,
          15,
          9,
          10,
          9,
          11,
          12,
          11,
          14,
          9,
          17,
          15,
          14,
          16,
          18,
          12,
          15,
          9,
          11,
          12,
          11,
          11,
          14,
          14,
          18,
          17,
          17,
          15,
          17,
          17,
          16,
          16,
          17,
          18,
          9,
          12,
          10,
          10,
          10,
          9,
          9,
          9,
          9,
          10,
          13,
          12,
          13,
          9,
          8,
          9,
          10,
          9,
          10,
          9,
          10,
          9,
          9,
          9,
          10,
          12,
          11,
          17,
          13,
          11,
          12,
          15,
          10,
          18,
          9,
          19,
          13,
          16,
          18,
          17,
          9,
          9,
          10,
          15,
          10,
          14,
          8,
          10,
          15,
          9,
          9,
          10,
          9,
          9,
          9,
          9,
          15,
          13,
          13,
          13,
          10,
          15,
          15,
          15,
          13,
          15,
          16,
          15,
          11,
          11,
          11,
          12,
          11,
          11,
          14,
          13,
          15,
          9,
          11,
          9,
          10,
          10,
          12,
          12,
          11,
          15,
          13,
          14,
          12,
          12,
          16,
          12,
          15,
          13,
          16,
          14,
          16,
          16,
          17,
          15,
          10,
          11,
          10,
          9,
          9,
          14,
          14,
          11,
          10,
          8,
          9,
          10,
          10,
          9,
          9,
          11,
          17,
          13,
          16,
          17,
          17,
          15,
          17,
          13,
          15,
          17,
          11,
          12,
          14,
          10,
          10,
          14,
          12,
          12,
          14,
          11,
          10,
          12,
          13,
          14,
          13,
          13,
          12,
          13,
          15,
          10,
          10,
          10,
          8,
          9,
          9,
          8,
          10,
          11,
          9,
          9,
          8,
          9,
          10,
          9,
          11,
          9,
          10,
          10,
          9,
          9,
          9,
          9,
          9,
          9,
          9,
          9,
          8,
          13,
          14,
          8,
          10,
          10,
          9,
          9,
          10,
          11,
          12,
          11,
          14,
          13,
          15,
          9,
          15,
          16,
          14,
          16,
          9,
          9,
          10,
          11,
          10,
          17,
          9,
          10,
          9,
          16,
          15,
          15,
          9,
          14,
          14,
          12,
          12,
          16,
          15,
          11,
          9,
          11,
          12,
          9,
          13,
          10,
          9,
          9,
          9,
          9,
          9,
          11,
          11,
          11,
          15,
          9,
          9,
          12,
          10,
          13,
          10,
          17,
          11,
          11,
          13,
          9,
          17,
          9,
          9,
          8,
          12,
          12,
          12,
          10,
          12,
          12,
          12,
          14,
          11,
          12,
          8,
          9,
          11,
          14,
          12,
          8,
          8,
          12,
          13,
          14,
          12,
          11,
          9,
          12,
          8,
          12,
          9,
          9,
          8,
          9,
          8,
          7,
          8,
          8,
          8,
          11,
          9,
          8,
          7,
          14,
          9,
          9,
          8,
          10,
          8,
          9,
          11,
          9,
          10,
          10,
          10,
          10,
          10,
          9,
          7,
          10,
          9,
          8,
          7,
          8,
          10,
          8,
          10,
          8,
          9,
          8,
          8,
          7,
          10,
          8,
          9,
          8,
          11,
          8,
          9,
          11,
          7,
          9,
          9,
          10,
          11,
          10,
          12,
          12,
          11,
          12,
          11,
          12,
          10,
          11,
          11,
          10,
          11,
          12,
          11,
          12,
          13,
          13,
          13,
          12,
          13,
          13,
          14,
          12,
          14,
          15,
          14,
          15,
          15,
          15,
          9,
          7,
          8,
          10,
          9,
          9,
          10,
          9,
          8,
          8,
          10,
          11,
          9,
          9,
          8,
          8,
          9,
          8,
          8,
          8,
          8,
          7,
          7,
          8,
          7,
          11,
          11,
          12,
          13,
          11,
          13,
          12,
          11,
          11,
          11,
          14,
          12,
          12,
          13,
          11,
          12,
          13,
          15,
          13,
          16,
          15,
          15,
          16,
          15,
          16,
          17,
          17,
          17,
          16,
          17,
          7,
          9,
          9,
          7,
          8,
          7,
          8,
          8,
          8,
          10,
          8,
          9,
          8,
          9,
          8,
          9,
          8,
          8,
          8,
          10,
          8,
          8,
          8,
          10,
          10,
          9,
          16,
          15,
          16,
          16,
          15,
          16,
          16,
          16,
          15,
          17,
          17,
          16,
          15,
          17,
          16,
          16,
          15,
          12,
          14,
          17,
          11,
          11,
          14,
          9,
          11,
          10,
          11,
          10,
          10,
          12,
          12,
          12,
          9,
          9,
          9,
          9,
          9,
          15,
          16,
          17,
          11,
          10,
          9,
          13,
          11,
          11,
          12,
          11,
          11,
          12,
          11,
          8,
          7,
          7,
          8,
          8,
          9,
          9,
          8,
          7,
          7,
          8,
          9,
          10,
          10,
          10,
          14,
          13,
          17,
          15,
          15,
          16,
          13,
          13,
          9,
          10,
          15,
          10,
          7,
          14,
          18,
          12,
          8,
          12,
          7,
          8,
          13,
          16,
          17,
          17,
          15,
          18,
          17,
          14,
          13,
          16,
          16,
          12,
          10,
          10,
          15,
          8,
          12,
          13,
          12,
          9,
          9,
          8,
          8,
          10,
          12,
          13,
          8,
          8,
          10,
          10,
          9,
          10,
          12,
          8,
          7,
          10,
          10,
          9,
          9,
          9,
          8,
          9,
          9,
          8,
          11,
          11,
          12,
          11,
          11,
          11,
          9,
          16,
          15,
          17,
          18,
          17,
          18,
          17,
          16,
          15,
          16,
          17,
          17,
          16,
          16,
          17,
          16,
          18,
          17,
          17,
          15,
          15,
          17,
          15,
          15,
          16,
          17,
          16,
          15,
          17,
          17,
          16,
          16,
          17,
          16,
          16,
          15,
          18,
          17,
          16,
          17,
          12,
          12,
          13,
          11,
          11,
          11,
          12,
          13,
          13,
          15,
          13,
          15,
          14,
          13,
          10,
          12,
          12,
          17,
          16,
          9,
          9,
          13,
          7,
          14,
          12,
          9,
          10,
          9,
          8,
          9,
          9,
          8,
          14,
          14,
          15,
          9,
          9,
          9,
          15,
          8,
          24,
          24,
          17,
          17,
          17,
          17,
          18,
          17,
          14,
          17,
          17,
          15,
          16,
          14,
          15,
          15,
          15,
          15,
          16,
          10,
          9
         ],
         "xaxis": "x",
         "yaxis": "y"
        }
       ],
       "layout": {
        "barmode": "relative",
        "font": {
         "color": "white"
        },
        "legend": {
         "tracegroupgap": 0
        },
        "paper_bgcolor": "rgba(0, 0, 0, 0)",
        "plot_bgcolor": "rgba(0, 0, 0, 0)",
        "template": {
         "data": {
          "bar": [
           {
            "error_x": {
             "color": "#2a3f5f"
            },
            "error_y": {
             "color": "#2a3f5f"
            },
            "marker": {
             "line": {
              "color": "#E5ECF6",
              "width": 0.5
             },
             "pattern": {
              "fillmode": "overlay",
              "size": 10,
              "solidity": 0.2
             }
            },
            "type": "bar"
           }
          ],
          "barpolar": [
           {
            "marker": {
             "line": {
              "color": "#E5ECF6",
              "width": 0.5
             },
             "pattern": {
              "fillmode": "overlay",
              "size": 10,
              "solidity": 0.2
             }
            },
            "type": "barpolar"
           }
          ],
          "carpet": [
           {
            "aaxis": {
             "endlinecolor": "#2a3f5f",
             "gridcolor": "white",
             "linecolor": "white",
             "minorgridcolor": "white",
             "startlinecolor": "#2a3f5f"
            },
            "baxis": {
             "endlinecolor": "#2a3f5f",
             "gridcolor": "white",
             "linecolor": "white",
             "minorgridcolor": "white",
             "startlinecolor": "#2a3f5f"
            },
            "type": "carpet"
           }
          ],
          "choropleth": [
           {
            "colorbar": {
             "outlinewidth": 0,
             "ticks": ""
            },
            "type": "choropleth"
           }
          ],
          "contour": [
           {
            "colorbar": {
             "outlinewidth": 0,
             "ticks": ""
            },
            "colorscale": [
             [
              0,
              "#0d0887"
             ],
             [
              0.1111111111111111,
              "#46039f"
             ],
             [
              0.2222222222222222,
              "#7201a8"
             ],
             [
              0.3333333333333333,
              "#9c179e"
             ],
             [
              0.4444444444444444,
              "#bd3786"
             ],
             [
              0.5555555555555556,
              "#d8576b"
             ],
             [
              0.6666666666666666,
              "#ed7953"
             ],
             [
              0.7777777777777778,
              "#fb9f3a"
             ],
             [
              0.8888888888888888,
              "#fdca26"
             ],
             [
              1,
              "#f0f921"
             ]
            ],
            "type": "contour"
           }
          ],
          "contourcarpet": [
           {
            "colorbar": {
             "outlinewidth": 0,
             "ticks": ""
            },
            "type": "contourcarpet"
           }
          ],
          "heatmap": [
           {
            "colorbar": {
             "outlinewidth": 0,
             "ticks": ""
            },
            "colorscale": [
             [
              0,
              "#0d0887"
             ],
             [
              0.1111111111111111,
              "#46039f"
             ],
             [
              0.2222222222222222,
              "#7201a8"
             ],
             [
              0.3333333333333333,
              "#9c179e"
             ],
             [
              0.4444444444444444,
              "#bd3786"
             ],
             [
              0.5555555555555556,
              "#d8576b"
             ],
             [
              0.6666666666666666,
              "#ed7953"
             ],
             [
              0.7777777777777778,
              "#fb9f3a"
             ],
             [
              0.8888888888888888,
              "#fdca26"
             ],
             [
              1,
              "#f0f921"
             ]
            ],
            "type": "heatmap"
           }
          ],
          "heatmapgl": [
           {
            "colorbar": {
             "outlinewidth": 0,
             "ticks": ""
            },
            "colorscale": [
             [
              0,
              "#0d0887"
             ],
             [
              0.1111111111111111,
              "#46039f"
             ],
             [
              0.2222222222222222,
              "#7201a8"
             ],
             [
              0.3333333333333333,
              "#9c179e"
             ],
             [
              0.4444444444444444,
              "#bd3786"
             ],
             [
              0.5555555555555556,
              "#d8576b"
             ],
             [
              0.6666666666666666,
              "#ed7953"
             ],
             [
              0.7777777777777778,
              "#fb9f3a"
             ],
             [
              0.8888888888888888,
              "#fdca26"
             ],
             [
              1,
              "#f0f921"
             ]
            ],
            "type": "heatmapgl"
           }
          ],
          "histogram": [
           {
            "marker": {
             "pattern": {
              "fillmode": "overlay",
              "size": 10,
              "solidity": 0.2
             }
            },
            "type": "histogram"
           }
          ],
          "histogram2d": [
           {
            "colorbar": {
             "outlinewidth": 0,
             "ticks": ""
            },
            "colorscale": [
             [
              0,
              "#0d0887"
             ],
             [
              0.1111111111111111,
              "#46039f"
             ],
             [
              0.2222222222222222,
              "#7201a8"
             ],
             [
              0.3333333333333333,
              "#9c179e"
             ],
             [
              0.4444444444444444,
              "#bd3786"
             ],
             [
              0.5555555555555556,
              "#d8576b"
             ],
             [
              0.6666666666666666,
              "#ed7953"
             ],
             [
              0.7777777777777778,
              "#fb9f3a"
             ],
             [
              0.8888888888888888,
              "#fdca26"
             ],
             [
              1,
              "#f0f921"
             ]
            ],
            "type": "histogram2d"
           }
          ],
          "histogram2dcontour": [
           {
            "colorbar": {
             "outlinewidth": 0,
             "ticks": ""
            },
            "colorscale": [
             [
              0,
              "#0d0887"
             ],
             [
              0.1111111111111111,
              "#46039f"
             ],
             [
              0.2222222222222222,
              "#7201a8"
             ],
             [
              0.3333333333333333,
              "#9c179e"
             ],
             [
              0.4444444444444444,
              "#bd3786"
             ],
             [
              0.5555555555555556,
              "#d8576b"
             ],
             [
              0.6666666666666666,
              "#ed7953"
             ],
             [
              0.7777777777777778,
              "#fb9f3a"
             ],
             [
              0.8888888888888888,
              "#fdca26"
             ],
             [
              1,
              "#f0f921"
             ]
            ],
            "type": "histogram2dcontour"
           }
          ],
          "mesh3d": [
           {
            "colorbar": {
             "outlinewidth": 0,
             "ticks": ""
            },
            "type": "mesh3d"
           }
          ],
          "parcoords": [
           {
            "line": {
             "colorbar": {
              "outlinewidth": 0,
              "ticks": ""
             }
            },
            "type": "parcoords"
           }
          ],
          "pie": [
           {
            "automargin": true,
            "type": "pie"
           }
          ],
          "scatter": [
           {
            "fillpattern": {
             "fillmode": "overlay",
             "size": 10,
             "solidity": 0.2
            },
            "type": "scatter"
           }
          ],
          "scatter3d": [
           {
            "line": {
             "colorbar": {
              "outlinewidth": 0,
              "ticks": ""
             }
            },
            "marker": {
             "colorbar": {
              "outlinewidth": 0,
              "ticks": ""
             }
            },
            "type": "scatter3d"
           }
          ],
          "scattercarpet": [
           {
            "marker": {
             "colorbar": {
              "outlinewidth": 0,
              "ticks": ""
             }
            },
            "type": "scattercarpet"
           }
          ],
          "scattergeo": [
           {
            "marker": {
             "colorbar": {
              "outlinewidth": 0,
              "ticks": ""
             }
            },
            "type": "scattergeo"
           }
          ],
          "scattergl": [
           {
            "marker": {
             "colorbar": {
              "outlinewidth": 0,
              "ticks": ""
             }
            },
            "type": "scattergl"
           }
          ],
          "scattermapbox": [
           {
            "marker": {
             "colorbar": {
              "outlinewidth": 0,
              "ticks": ""
             }
            },
            "type": "scattermapbox"
           }
          ],
          "scatterpolar": [
           {
            "marker": {
             "colorbar": {
              "outlinewidth": 0,
              "ticks": ""
             }
            },
            "type": "scatterpolar"
           }
          ],
          "scatterpolargl": [
           {
            "marker": {
             "colorbar": {
              "outlinewidth": 0,
              "ticks": ""
             }
            },
            "type": "scatterpolargl"
           }
          ],
          "scatterternary": [
           {
            "marker": {
             "colorbar": {
              "outlinewidth": 0,
              "ticks": ""
             }
            },
            "type": "scatterternary"
           }
          ],
          "surface": [
           {
            "colorbar": {
             "outlinewidth": 0,
             "ticks": ""
            },
            "colorscale": [
             [
              0,
              "#0d0887"
             ],
             [
              0.1111111111111111,
              "#46039f"
             ],
             [
              0.2222222222222222,
              "#7201a8"
             ],
             [
              0.3333333333333333,
              "#9c179e"
             ],
             [
              0.4444444444444444,
              "#bd3786"
             ],
             [
              0.5555555555555556,
              "#d8576b"
             ],
             [
              0.6666666666666666,
              "#ed7953"
             ],
             [
              0.7777777777777778,
              "#fb9f3a"
             ],
             [
              0.8888888888888888,
              "#fdca26"
             ],
             [
              1,
              "#f0f921"
             ]
            ],
            "type": "surface"
           }
          ],
          "table": [
           {
            "cells": {
             "fill": {
              "color": "#EBF0F8"
             },
             "line": {
              "color": "white"
             }
            },
            "header": {
             "fill": {
              "color": "#C8D4E3"
             },
             "line": {
              "color": "white"
             }
            },
            "type": "table"
           }
          ]
         },
         "layout": {
          "annotationdefaults": {
           "arrowcolor": "#2a3f5f",
           "arrowhead": 0,
           "arrowwidth": 1
          },
          "autotypenumbers": "strict",
          "coloraxis": {
           "colorbar": {
            "outlinewidth": 0,
            "ticks": ""
           }
          },
          "colorscale": {
           "diverging": [
            [
             0,
             "#8e0152"
            ],
            [
             0.1,
             "#c51b7d"
            ],
            [
             0.2,
             "#de77ae"
            ],
            [
             0.3,
             "#f1b6da"
            ],
            [
             0.4,
             "#fde0ef"
            ],
            [
             0.5,
             "#f7f7f7"
            ],
            [
             0.6,
             "#e6f5d0"
            ],
            [
             0.7,
             "#b8e186"
            ],
            [
             0.8,
             "#7fbc41"
            ],
            [
             0.9,
             "#4d9221"
            ],
            [
             1,
             "#276419"
            ]
           ],
           "sequential": [
            [
             0,
             "#0d0887"
            ],
            [
             0.1111111111111111,
             "#46039f"
            ],
            [
             0.2222222222222222,
             "#7201a8"
            ],
            [
             0.3333333333333333,
             "#9c179e"
            ],
            [
             0.4444444444444444,
             "#bd3786"
            ],
            [
             0.5555555555555556,
             "#d8576b"
            ],
            [
             0.6666666666666666,
             "#ed7953"
            ],
            [
             0.7777777777777778,
             "#fb9f3a"
            ],
            [
             0.8888888888888888,
             "#fdca26"
            ],
            [
             1,
             "#f0f921"
            ]
           ],
           "sequentialminus": [
            [
             0,
             "#0d0887"
            ],
            [
             0.1111111111111111,
             "#46039f"
            ],
            [
             0.2222222222222222,
             "#7201a8"
            ],
            [
             0.3333333333333333,
             "#9c179e"
            ],
            [
             0.4444444444444444,
             "#bd3786"
            ],
            [
             0.5555555555555556,
             "#d8576b"
            ],
            [
             0.6666666666666666,
             "#ed7953"
            ],
            [
             0.7777777777777778,
             "#fb9f3a"
            ],
            [
             0.8888888888888888,
             "#fdca26"
            ],
            [
             1,
             "#f0f921"
            ]
           ]
          },
          "colorway": [
           "#636efa",
           "#EF553B",
           "#00cc96",
           "#ab63fa",
           "#FFA15A",
           "#19d3f3",
           "#FF6692",
           "#B6E880",
           "#FF97FF",
           "#FECB52"
          ],
          "font": {
           "color": "#2a3f5f"
          },
          "geo": {
           "bgcolor": "white",
           "lakecolor": "white",
           "landcolor": "#E5ECF6",
           "showlakes": true,
           "showland": true,
           "subunitcolor": "white"
          },
          "hoverlabel": {
           "align": "left"
          },
          "hovermode": "closest",
          "mapbox": {
           "style": "light"
          },
          "paper_bgcolor": "white",
          "plot_bgcolor": "#E5ECF6",
          "polar": {
           "angularaxis": {
            "gridcolor": "white",
            "linecolor": "white",
            "ticks": ""
           },
           "bgcolor": "#E5ECF6",
           "radialaxis": {
            "gridcolor": "white",
            "linecolor": "white",
            "ticks": ""
           }
          },
          "scene": {
           "xaxis": {
            "backgroundcolor": "#E5ECF6",
            "gridcolor": "white",
            "gridwidth": 2,
            "linecolor": "white",
            "showbackground": true,
            "ticks": "",
            "zerolinecolor": "white"
           },
           "yaxis": {
            "backgroundcolor": "#E5ECF6",
            "gridcolor": "white",
            "gridwidth": 2,
            "linecolor": "white",
            "showbackground": true,
            "ticks": "",
            "zerolinecolor": "white"
           },
           "zaxis": {
            "backgroundcolor": "#E5ECF6",
            "gridcolor": "white",
            "gridwidth": 2,
            "linecolor": "white",
            "showbackground": true,
            "ticks": "",
            "zerolinecolor": "white"
           }
          },
          "shapedefaults": {
           "line": {
            "color": "#2a3f5f"
           }
          },
          "ternary": {
           "aaxis": {
            "gridcolor": "white",
            "linecolor": "white",
            "ticks": ""
           },
           "baxis": {
            "gridcolor": "white",
            "linecolor": "white",
            "ticks": ""
           },
           "bgcolor": "#E5ECF6",
           "caxis": {
            "gridcolor": "white",
            "linecolor": "white",
            "ticks": ""
           }
          },
          "title": {
           "x": 0.05
          },
          "xaxis": {
           "automargin": true,
           "gridcolor": "white",
           "linecolor": "white",
           "ticks": "",
           "title": {
            "standoff": 15
           },
           "zerolinecolor": "white",
           "zerolinewidth": 2
          },
          "yaxis": {
           "automargin": true,
           "gridcolor": "white",
           "linecolor": "white",
           "ticks": "",
           "title": {
            "standoff": 15
           },
           "zerolinecolor": "white",
           "zerolinewidth": 2
          }
         }
        },
        "title": {
         "text": "Distribuição de Idade dos Alunos"
        },
        "xaxis": {
         "anchor": "y",
         "domain": [
          0,
          1
         ],
         "title": {
          "text": "Idade dos Alunos"
         }
        },
        "yaxis": {
         "anchor": "x",
         "domain": [
          0,
          1
         ],
         "title": {
          "text": "count"
         }
        }
       }
      }
     },
     "metadata": {},
     "output_type": "display_data"
    }
   ],
   "source": [
    "# Criando o histograma da distribuição de idade dos alunos\n",
    "fig = px.histogram(df_aluno, \n",
    "                   x='idade_aluno', \n",
    "                   title='Distribuição de Idade dos Alunos', \n",
    "                   labels={'idade_aluno': 'Idade dos Alunos'}, \n",
    "                   nbins=10,  # Ajuste o número de bins \n",
    "                   color_discrete_sequence=['#1f77b4'])\n",
    "\n",
    "# Ajustando o layout para fundo escuro\n",
    "fig.update_layout(\n",
    "    plot_bgcolor='rgba(0, 0, 0, 0)',  \n",
    "    paper_bgcolor='rgba(0, 0, 0, 0)', \n",
    "    font_color='white'                \n",
    ")\n",
    "\n",
    "# Exibindo o gráfico\n",
    "fig.show()\n"
   ]
  },
  {
   "cell_type": "markdown",
   "metadata": {},
   "source": [
    "<font color='orange'>**Análise do Gráfico de Distribuição de Idade dos Alunos:**</font>\n",
    "\n",
    "O gráfico mostra a **distribuição etária** dos alunos, concentrando a maioria das idades entre **10 e 19 anos**:\n",
    "\n",
    "1. **Faixa Etária Predominante**: O pico mais alto ocorre entre **10 e 14 anos**, com aproximadamente **1000 alunos** nessa faixa. Essa é a faixa etária mais representada na amostra.\n",
    "\n",
    "2. **Queda na Frequência com a Idade**: A partir dos **15 anos**, a quantidade de alunos começa a diminuir, especialmente depois dos **20 anos**, sugerindo que a instituição ou programa pode ter um foco maior em adolescentes.\n",
    "\n",
    "3. **Alunos mais Velhos**: Embora haja poucos alunos acima dos **20 anos**, ainda existem alunos com até **24 anos**, com uma presença marginal até essa faixa etária.\n",
    "\n",
    "4. **Possível Foco da ONG**: Dado que a maior parte dos alunos está na faixa de 10 a 19 anos, isso indica que o público atendido pela ONG ou escola provavelmente está em estágios de educação básica e ensino médio.\n",
    "\n",
    "Esse gráfico sugere que a maior parte do impacto das atividades da ONG será sobre alunos adolescentes. Se há algum esforço para expandir o atendimento a grupos etários mais velhos, uma estratégia específica pode ser necessária para aumentar o engajamento de alunos acima dos 20 anos."
   ]
  },
  {
   "cell_type": "code",
   "execution_count": 29,
   "metadata": {},
   "outputs": [
    {
     "name": "stdout",
     "output_type": "stream",
     "text": [
      "Porcentagem de Presença por Faixa Etária:\n",
      "faixa_etaria\n",
      "0-10     85.242775\n",
      "11-15    81.819095\n",
      "16-20    74.887585\n",
      "21-25    60.425920\n",
      "26-30    73.333333\n",
      "30+      65.957447\n",
      "Name: presente, dtype: float64\n",
      "\n",
      "Porcentagem de Faltas por Faixa Etária:\n",
      "faixa_etaria\n",
      "0-10     14.757225\n",
      "11-15    18.180905\n",
      "16-20    25.112415\n",
      "21-25    39.574080\n",
      "26-30    26.666667\n",
      "30+      34.042553\n",
      "Name: presente, dtype: float64\n"
     ]
    },
    {
     "data": {
      "application/vnd.plotly.v1+json": {
       "config": {
        "plotlyServerURL": "https://plot.ly"
       },
       "data": [
        {
         "alignmentgroup": "True",
         "hovertemplate": "variable=presente<br>Faixa Etária=%{x}<br>Porcentagem de Presença=%{y}<extra></extra>",
         "legendgroup": "presente",
         "marker": {
          "color": "rgb(8,48,107)",
          "pattern": {
           "shape": ""
          }
         },
         "name": "presente",
         "offsetgroup": "presente",
         "orientation": "v",
         "showlegend": true,
         "textposition": "auto",
         "type": "bar",
         "x": [
          "0-10",
          "11-15",
          "16-20",
          "21-25",
          "26-30",
          "30+"
         ],
         "xaxis": "x",
         "y": [
          85.24277541440516,
          81.81909516184736,
          74.88758521765759,
          60.425919599134495,
          73.33333333333333,
          65.95744680851064
         ],
         "yaxis": "y"
        }
       ],
       "layout": {
        "barmode": "relative",
        "font": {
         "color": "white"
        },
        "legend": {
         "title": {
          "text": "variable"
         },
         "tracegroupgap": 0
        },
        "paper_bgcolor": "rgba(0, 0, 0, 0)",
        "plot_bgcolor": "rgba(0, 0, 0, 0)",
        "template": {
         "data": {
          "bar": [
           {
            "error_x": {
             "color": "#2a3f5f"
            },
            "error_y": {
             "color": "#2a3f5f"
            },
            "marker": {
             "line": {
              "color": "#E5ECF6",
              "width": 0.5
             },
             "pattern": {
              "fillmode": "overlay",
              "size": 10,
              "solidity": 0.2
             }
            },
            "type": "bar"
           }
          ],
          "barpolar": [
           {
            "marker": {
             "line": {
              "color": "#E5ECF6",
              "width": 0.5
             },
             "pattern": {
              "fillmode": "overlay",
              "size": 10,
              "solidity": 0.2
             }
            },
            "type": "barpolar"
           }
          ],
          "carpet": [
           {
            "aaxis": {
             "endlinecolor": "#2a3f5f",
             "gridcolor": "white",
             "linecolor": "white",
             "minorgridcolor": "white",
             "startlinecolor": "#2a3f5f"
            },
            "baxis": {
             "endlinecolor": "#2a3f5f",
             "gridcolor": "white",
             "linecolor": "white",
             "minorgridcolor": "white",
             "startlinecolor": "#2a3f5f"
            },
            "type": "carpet"
           }
          ],
          "choropleth": [
           {
            "colorbar": {
             "outlinewidth": 0,
             "ticks": ""
            },
            "type": "choropleth"
           }
          ],
          "contour": [
           {
            "colorbar": {
             "outlinewidth": 0,
             "ticks": ""
            },
            "colorscale": [
             [
              0,
              "#0d0887"
             ],
             [
              0.1111111111111111,
              "#46039f"
             ],
             [
              0.2222222222222222,
              "#7201a8"
             ],
             [
              0.3333333333333333,
              "#9c179e"
             ],
             [
              0.4444444444444444,
              "#bd3786"
             ],
             [
              0.5555555555555556,
              "#d8576b"
             ],
             [
              0.6666666666666666,
              "#ed7953"
             ],
             [
              0.7777777777777778,
              "#fb9f3a"
             ],
             [
              0.8888888888888888,
              "#fdca26"
             ],
             [
              1,
              "#f0f921"
             ]
            ],
            "type": "contour"
           }
          ],
          "contourcarpet": [
           {
            "colorbar": {
             "outlinewidth": 0,
             "ticks": ""
            },
            "type": "contourcarpet"
           }
          ],
          "heatmap": [
           {
            "colorbar": {
             "outlinewidth": 0,
             "ticks": ""
            },
            "colorscale": [
             [
              0,
              "#0d0887"
             ],
             [
              0.1111111111111111,
              "#46039f"
             ],
             [
              0.2222222222222222,
              "#7201a8"
             ],
             [
              0.3333333333333333,
              "#9c179e"
             ],
             [
              0.4444444444444444,
              "#bd3786"
             ],
             [
              0.5555555555555556,
              "#d8576b"
             ],
             [
              0.6666666666666666,
              "#ed7953"
             ],
             [
              0.7777777777777778,
              "#fb9f3a"
             ],
             [
              0.8888888888888888,
              "#fdca26"
             ],
             [
              1,
              "#f0f921"
             ]
            ],
            "type": "heatmap"
           }
          ],
          "heatmapgl": [
           {
            "colorbar": {
             "outlinewidth": 0,
             "ticks": ""
            },
            "colorscale": [
             [
              0,
              "#0d0887"
             ],
             [
              0.1111111111111111,
              "#46039f"
             ],
             [
              0.2222222222222222,
              "#7201a8"
             ],
             [
              0.3333333333333333,
              "#9c179e"
             ],
             [
              0.4444444444444444,
              "#bd3786"
             ],
             [
              0.5555555555555556,
              "#d8576b"
             ],
             [
              0.6666666666666666,
              "#ed7953"
             ],
             [
              0.7777777777777778,
              "#fb9f3a"
             ],
             [
              0.8888888888888888,
              "#fdca26"
             ],
             [
              1,
              "#f0f921"
             ]
            ],
            "type": "heatmapgl"
           }
          ],
          "histogram": [
           {
            "marker": {
             "pattern": {
              "fillmode": "overlay",
              "size": 10,
              "solidity": 0.2
             }
            },
            "type": "histogram"
           }
          ],
          "histogram2d": [
           {
            "colorbar": {
             "outlinewidth": 0,
             "ticks": ""
            },
            "colorscale": [
             [
              0,
              "#0d0887"
             ],
             [
              0.1111111111111111,
              "#46039f"
             ],
             [
              0.2222222222222222,
              "#7201a8"
             ],
             [
              0.3333333333333333,
              "#9c179e"
             ],
             [
              0.4444444444444444,
              "#bd3786"
             ],
             [
              0.5555555555555556,
              "#d8576b"
             ],
             [
              0.6666666666666666,
              "#ed7953"
             ],
             [
              0.7777777777777778,
              "#fb9f3a"
             ],
             [
              0.8888888888888888,
              "#fdca26"
             ],
             [
              1,
              "#f0f921"
             ]
            ],
            "type": "histogram2d"
           }
          ],
          "histogram2dcontour": [
           {
            "colorbar": {
             "outlinewidth": 0,
             "ticks": ""
            },
            "colorscale": [
             [
              0,
              "#0d0887"
             ],
             [
              0.1111111111111111,
              "#46039f"
             ],
             [
              0.2222222222222222,
              "#7201a8"
             ],
             [
              0.3333333333333333,
              "#9c179e"
             ],
             [
              0.4444444444444444,
              "#bd3786"
             ],
             [
              0.5555555555555556,
              "#d8576b"
             ],
             [
              0.6666666666666666,
              "#ed7953"
             ],
             [
              0.7777777777777778,
              "#fb9f3a"
             ],
             [
              0.8888888888888888,
              "#fdca26"
             ],
             [
              1,
              "#f0f921"
             ]
            ],
            "type": "histogram2dcontour"
           }
          ],
          "mesh3d": [
           {
            "colorbar": {
             "outlinewidth": 0,
             "ticks": ""
            },
            "type": "mesh3d"
           }
          ],
          "parcoords": [
           {
            "line": {
             "colorbar": {
              "outlinewidth": 0,
              "ticks": ""
             }
            },
            "type": "parcoords"
           }
          ],
          "pie": [
           {
            "automargin": true,
            "type": "pie"
           }
          ],
          "scatter": [
           {
            "fillpattern": {
             "fillmode": "overlay",
             "size": 10,
             "solidity": 0.2
            },
            "type": "scatter"
           }
          ],
          "scatter3d": [
           {
            "line": {
             "colorbar": {
              "outlinewidth": 0,
              "ticks": ""
             }
            },
            "marker": {
             "colorbar": {
              "outlinewidth": 0,
              "ticks": ""
             }
            },
            "type": "scatter3d"
           }
          ],
          "scattercarpet": [
           {
            "marker": {
             "colorbar": {
              "outlinewidth": 0,
              "ticks": ""
             }
            },
            "type": "scattercarpet"
           }
          ],
          "scattergeo": [
           {
            "marker": {
             "colorbar": {
              "outlinewidth": 0,
              "ticks": ""
             }
            },
            "type": "scattergeo"
           }
          ],
          "scattergl": [
           {
            "marker": {
             "colorbar": {
              "outlinewidth": 0,
              "ticks": ""
             }
            },
            "type": "scattergl"
           }
          ],
          "scattermapbox": [
           {
            "marker": {
             "colorbar": {
              "outlinewidth": 0,
              "ticks": ""
             }
            },
            "type": "scattermapbox"
           }
          ],
          "scatterpolar": [
           {
            "marker": {
             "colorbar": {
              "outlinewidth": 0,
              "ticks": ""
             }
            },
            "type": "scatterpolar"
           }
          ],
          "scatterpolargl": [
           {
            "marker": {
             "colorbar": {
              "outlinewidth": 0,
              "ticks": ""
             }
            },
            "type": "scatterpolargl"
           }
          ],
          "scatterternary": [
           {
            "marker": {
             "colorbar": {
              "outlinewidth": 0,
              "ticks": ""
             }
            },
            "type": "scatterternary"
           }
          ],
          "surface": [
           {
            "colorbar": {
             "outlinewidth": 0,
             "ticks": ""
            },
            "colorscale": [
             [
              0,
              "#0d0887"
             ],
             [
              0.1111111111111111,
              "#46039f"
             ],
             [
              0.2222222222222222,
              "#7201a8"
             ],
             [
              0.3333333333333333,
              "#9c179e"
             ],
             [
              0.4444444444444444,
              "#bd3786"
             ],
             [
              0.5555555555555556,
              "#d8576b"
             ],
             [
              0.6666666666666666,
              "#ed7953"
             ],
             [
              0.7777777777777778,
              "#fb9f3a"
             ],
             [
              0.8888888888888888,
              "#fdca26"
             ],
             [
              1,
              "#f0f921"
             ]
            ],
            "type": "surface"
           }
          ],
          "table": [
           {
            "cells": {
             "fill": {
              "color": "#EBF0F8"
             },
             "line": {
              "color": "white"
             }
            },
            "header": {
             "fill": {
              "color": "#C8D4E3"
             },
             "line": {
              "color": "white"
             }
            },
            "type": "table"
           }
          ]
         },
         "layout": {
          "annotationdefaults": {
           "arrowcolor": "#2a3f5f",
           "arrowhead": 0,
           "arrowwidth": 1
          },
          "autotypenumbers": "strict",
          "coloraxis": {
           "colorbar": {
            "outlinewidth": 0,
            "ticks": ""
           }
          },
          "colorscale": {
           "diverging": [
            [
             0,
             "#8e0152"
            ],
            [
             0.1,
             "#c51b7d"
            ],
            [
             0.2,
             "#de77ae"
            ],
            [
             0.3,
             "#f1b6da"
            ],
            [
             0.4,
             "#fde0ef"
            ],
            [
             0.5,
             "#f7f7f7"
            ],
            [
             0.6,
             "#e6f5d0"
            ],
            [
             0.7,
             "#b8e186"
            ],
            [
             0.8,
             "#7fbc41"
            ],
            [
             0.9,
             "#4d9221"
            ],
            [
             1,
             "#276419"
            ]
           ],
           "sequential": [
            [
             0,
             "#0d0887"
            ],
            [
             0.1111111111111111,
             "#46039f"
            ],
            [
             0.2222222222222222,
             "#7201a8"
            ],
            [
             0.3333333333333333,
             "#9c179e"
            ],
            [
             0.4444444444444444,
             "#bd3786"
            ],
            [
             0.5555555555555556,
             "#d8576b"
            ],
            [
             0.6666666666666666,
             "#ed7953"
            ],
            [
             0.7777777777777778,
             "#fb9f3a"
            ],
            [
             0.8888888888888888,
             "#fdca26"
            ],
            [
             1,
             "#f0f921"
            ]
           ],
           "sequentialminus": [
            [
             0,
             "#0d0887"
            ],
            [
             0.1111111111111111,
             "#46039f"
            ],
            [
             0.2222222222222222,
             "#7201a8"
            ],
            [
             0.3333333333333333,
             "#9c179e"
            ],
            [
             0.4444444444444444,
             "#bd3786"
            ],
            [
             0.5555555555555556,
             "#d8576b"
            ],
            [
             0.6666666666666666,
             "#ed7953"
            ],
            [
             0.7777777777777778,
             "#fb9f3a"
            ],
            [
             0.8888888888888888,
             "#fdca26"
            ],
            [
             1,
             "#f0f921"
            ]
           ]
          },
          "colorway": [
           "#636efa",
           "#EF553B",
           "#00cc96",
           "#ab63fa",
           "#FFA15A",
           "#19d3f3",
           "#FF6692",
           "#B6E880",
           "#FF97FF",
           "#FECB52"
          ],
          "font": {
           "color": "#2a3f5f"
          },
          "geo": {
           "bgcolor": "white",
           "lakecolor": "white",
           "landcolor": "#E5ECF6",
           "showlakes": true,
           "showland": true,
           "subunitcolor": "white"
          },
          "hoverlabel": {
           "align": "left"
          },
          "hovermode": "closest",
          "mapbox": {
           "style": "light"
          },
          "paper_bgcolor": "white",
          "plot_bgcolor": "#E5ECF6",
          "polar": {
           "angularaxis": {
            "gridcolor": "white",
            "linecolor": "white",
            "ticks": ""
           },
           "bgcolor": "#E5ECF6",
           "radialaxis": {
            "gridcolor": "white",
            "linecolor": "white",
            "ticks": ""
           }
          },
          "scene": {
           "xaxis": {
            "backgroundcolor": "#E5ECF6",
            "gridcolor": "white",
            "gridwidth": 2,
            "linecolor": "white",
            "showbackground": true,
            "ticks": "",
            "zerolinecolor": "white"
           },
           "yaxis": {
            "backgroundcolor": "#E5ECF6",
            "gridcolor": "white",
            "gridwidth": 2,
            "linecolor": "white",
            "showbackground": true,
            "ticks": "",
            "zerolinecolor": "white"
           },
           "zaxis": {
            "backgroundcolor": "#E5ECF6",
            "gridcolor": "white",
            "gridwidth": 2,
            "linecolor": "white",
            "showbackground": true,
            "ticks": "",
            "zerolinecolor": "white"
           }
          },
          "shapedefaults": {
           "line": {
            "color": "#2a3f5f"
           }
          },
          "ternary": {
           "aaxis": {
            "gridcolor": "white",
            "linecolor": "white",
            "ticks": ""
           },
           "baxis": {
            "gridcolor": "white",
            "linecolor": "white",
            "ticks": ""
           },
           "bgcolor": "#E5ECF6",
           "caxis": {
            "gridcolor": "white",
            "linecolor": "white",
            "ticks": ""
           }
          },
          "title": {
           "x": 0.05
          },
          "xaxis": {
           "automargin": true,
           "gridcolor": "white",
           "linecolor": "white",
           "ticks": "",
           "title": {
            "standoff": 15
           },
           "zerolinecolor": "white",
           "zerolinewidth": 2
          },
          "yaxis": {
           "automargin": true,
           "gridcolor": "white",
           "linecolor": "white",
           "ticks": "",
           "title": {
            "standoff": 15
           },
           "zerolinecolor": "white",
           "zerolinewidth": 2
          }
         }
        },
        "title": {
         "text": "Porcentagem de Presença por Faixa Etária"
        },
        "xaxis": {
         "anchor": "y",
         "domain": [
          0,
          1
         ],
         "title": {
          "text": "Faixa Etária"
         }
        },
        "yaxis": {
         "anchor": "x",
         "domain": [
          0,
          1
         ],
         "title": {
          "text": "Porcentagem de Presença"
         }
        }
       }
      }
     },
     "metadata": {},
     "output_type": "display_data"
    },
    {
     "data": {
      "application/vnd.plotly.v1+json": {
       "config": {
        "plotlyServerURL": "https://plot.ly"
       },
       "data": [
        {
         "alignmentgroup": "True",
         "hovertemplate": "variable=presente<br>Faixa Etária=%{x}<br>Porcentagem de Faltas=%{y}<extra></extra>",
         "legendgroup": "presente",
         "marker": {
          "color": "#FF7F7F",
          "pattern": {
           "shape": ""
          }
         },
         "name": "presente",
         "offsetgroup": "presente",
         "orientation": "v",
         "showlegend": true,
         "textposition": "auto",
         "type": "bar",
         "x": [
          "0-10",
          "11-15",
          "16-20",
          "21-25",
          "26-30",
          "30+"
         ],
         "xaxis": "x",
         "y": [
          14.757224585594841,
          18.180904838152642,
          25.112414782342412,
          39.574080400865505,
          26.66666666666667,
          34.04255319148936
         ],
         "yaxis": "y"
        }
       ],
       "layout": {
        "barmode": "relative",
        "font": {
         "color": "white"
        },
        "legend": {
         "title": {
          "text": "variable"
         },
         "tracegroupgap": 0
        },
        "paper_bgcolor": "rgba(0, 0, 0, 0)",
        "plot_bgcolor": "rgba(0, 0, 0, 0)",
        "template": {
         "data": {
          "bar": [
           {
            "error_x": {
             "color": "#2a3f5f"
            },
            "error_y": {
             "color": "#2a3f5f"
            },
            "marker": {
             "line": {
              "color": "#E5ECF6",
              "width": 0.5
             },
             "pattern": {
              "fillmode": "overlay",
              "size": 10,
              "solidity": 0.2
             }
            },
            "type": "bar"
           }
          ],
          "barpolar": [
           {
            "marker": {
             "line": {
              "color": "#E5ECF6",
              "width": 0.5
             },
             "pattern": {
              "fillmode": "overlay",
              "size": 10,
              "solidity": 0.2
             }
            },
            "type": "barpolar"
           }
          ],
          "carpet": [
           {
            "aaxis": {
             "endlinecolor": "#2a3f5f",
             "gridcolor": "white",
             "linecolor": "white",
             "minorgridcolor": "white",
             "startlinecolor": "#2a3f5f"
            },
            "baxis": {
             "endlinecolor": "#2a3f5f",
             "gridcolor": "white",
             "linecolor": "white",
             "minorgridcolor": "white",
             "startlinecolor": "#2a3f5f"
            },
            "type": "carpet"
           }
          ],
          "choropleth": [
           {
            "colorbar": {
             "outlinewidth": 0,
             "ticks": ""
            },
            "type": "choropleth"
           }
          ],
          "contour": [
           {
            "colorbar": {
             "outlinewidth": 0,
             "ticks": ""
            },
            "colorscale": [
             [
              0,
              "#0d0887"
             ],
             [
              0.1111111111111111,
              "#46039f"
             ],
             [
              0.2222222222222222,
              "#7201a8"
             ],
             [
              0.3333333333333333,
              "#9c179e"
             ],
             [
              0.4444444444444444,
              "#bd3786"
             ],
             [
              0.5555555555555556,
              "#d8576b"
             ],
             [
              0.6666666666666666,
              "#ed7953"
             ],
             [
              0.7777777777777778,
              "#fb9f3a"
             ],
             [
              0.8888888888888888,
              "#fdca26"
             ],
             [
              1,
              "#f0f921"
             ]
            ],
            "type": "contour"
           }
          ],
          "contourcarpet": [
           {
            "colorbar": {
             "outlinewidth": 0,
             "ticks": ""
            },
            "type": "contourcarpet"
           }
          ],
          "heatmap": [
           {
            "colorbar": {
             "outlinewidth": 0,
             "ticks": ""
            },
            "colorscale": [
             [
              0,
              "#0d0887"
             ],
             [
              0.1111111111111111,
              "#46039f"
             ],
             [
              0.2222222222222222,
              "#7201a8"
             ],
             [
              0.3333333333333333,
              "#9c179e"
             ],
             [
              0.4444444444444444,
              "#bd3786"
             ],
             [
              0.5555555555555556,
              "#d8576b"
             ],
             [
              0.6666666666666666,
              "#ed7953"
             ],
             [
              0.7777777777777778,
              "#fb9f3a"
             ],
             [
              0.8888888888888888,
              "#fdca26"
             ],
             [
              1,
              "#f0f921"
             ]
            ],
            "type": "heatmap"
           }
          ],
          "heatmapgl": [
           {
            "colorbar": {
             "outlinewidth": 0,
             "ticks": ""
            },
            "colorscale": [
             [
              0,
              "#0d0887"
             ],
             [
              0.1111111111111111,
              "#46039f"
             ],
             [
              0.2222222222222222,
              "#7201a8"
             ],
             [
              0.3333333333333333,
              "#9c179e"
             ],
             [
              0.4444444444444444,
              "#bd3786"
             ],
             [
              0.5555555555555556,
              "#d8576b"
             ],
             [
              0.6666666666666666,
              "#ed7953"
             ],
             [
              0.7777777777777778,
              "#fb9f3a"
             ],
             [
              0.8888888888888888,
              "#fdca26"
             ],
             [
              1,
              "#f0f921"
             ]
            ],
            "type": "heatmapgl"
           }
          ],
          "histogram": [
           {
            "marker": {
             "pattern": {
              "fillmode": "overlay",
              "size": 10,
              "solidity": 0.2
             }
            },
            "type": "histogram"
           }
          ],
          "histogram2d": [
           {
            "colorbar": {
             "outlinewidth": 0,
             "ticks": ""
            },
            "colorscale": [
             [
              0,
              "#0d0887"
             ],
             [
              0.1111111111111111,
              "#46039f"
             ],
             [
              0.2222222222222222,
              "#7201a8"
             ],
             [
              0.3333333333333333,
              "#9c179e"
             ],
             [
              0.4444444444444444,
              "#bd3786"
             ],
             [
              0.5555555555555556,
              "#d8576b"
             ],
             [
              0.6666666666666666,
              "#ed7953"
             ],
             [
              0.7777777777777778,
              "#fb9f3a"
             ],
             [
              0.8888888888888888,
              "#fdca26"
             ],
             [
              1,
              "#f0f921"
             ]
            ],
            "type": "histogram2d"
           }
          ],
          "histogram2dcontour": [
           {
            "colorbar": {
             "outlinewidth": 0,
             "ticks": ""
            },
            "colorscale": [
             [
              0,
              "#0d0887"
             ],
             [
              0.1111111111111111,
              "#46039f"
             ],
             [
              0.2222222222222222,
              "#7201a8"
             ],
             [
              0.3333333333333333,
              "#9c179e"
             ],
             [
              0.4444444444444444,
              "#bd3786"
             ],
             [
              0.5555555555555556,
              "#d8576b"
             ],
             [
              0.6666666666666666,
              "#ed7953"
             ],
             [
              0.7777777777777778,
              "#fb9f3a"
             ],
             [
              0.8888888888888888,
              "#fdca26"
             ],
             [
              1,
              "#f0f921"
             ]
            ],
            "type": "histogram2dcontour"
           }
          ],
          "mesh3d": [
           {
            "colorbar": {
             "outlinewidth": 0,
             "ticks": ""
            },
            "type": "mesh3d"
           }
          ],
          "parcoords": [
           {
            "line": {
             "colorbar": {
              "outlinewidth": 0,
              "ticks": ""
             }
            },
            "type": "parcoords"
           }
          ],
          "pie": [
           {
            "automargin": true,
            "type": "pie"
           }
          ],
          "scatter": [
           {
            "fillpattern": {
             "fillmode": "overlay",
             "size": 10,
             "solidity": 0.2
            },
            "type": "scatter"
           }
          ],
          "scatter3d": [
           {
            "line": {
             "colorbar": {
              "outlinewidth": 0,
              "ticks": ""
             }
            },
            "marker": {
             "colorbar": {
              "outlinewidth": 0,
              "ticks": ""
             }
            },
            "type": "scatter3d"
           }
          ],
          "scattercarpet": [
           {
            "marker": {
             "colorbar": {
              "outlinewidth": 0,
              "ticks": ""
             }
            },
            "type": "scattercarpet"
           }
          ],
          "scattergeo": [
           {
            "marker": {
             "colorbar": {
              "outlinewidth": 0,
              "ticks": ""
             }
            },
            "type": "scattergeo"
           }
          ],
          "scattergl": [
           {
            "marker": {
             "colorbar": {
              "outlinewidth": 0,
              "ticks": ""
             }
            },
            "type": "scattergl"
           }
          ],
          "scattermapbox": [
           {
            "marker": {
             "colorbar": {
              "outlinewidth": 0,
              "ticks": ""
             }
            },
            "type": "scattermapbox"
           }
          ],
          "scatterpolar": [
           {
            "marker": {
             "colorbar": {
              "outlinewidth": 0,
              "ticks": ""
             }
            },
            "type": "scatterpolar"
           }
          ],
          "scatterpolargl": [
           {
            "marker": {
             "colorbar": {
              "outlinewidth": 0,
              "ticks": ""
             }
            },
            "type": "scatterpolargl"
           }
          ],
          "scatterternary": [
           {
            "marker": {
             "colorbar": {
              "outlinewidth": 0,
              "ticks": ""
             }
            },
            "type": "scatterternary"
           }
          ],
          "surface": [
           {
            "colorbar": {
             "outlinewidth": 0,
             "ticks": ""
            },
            "colorscale": [
             [
              0,
              "#0d0887"
             ],
             [
              0.1111111111111111,
              "#46039f"
             ],
             [
              0.2222222222222222,
              "#7201a8"
             ],
             [
              0.3333333333333333,
              "#9c179e"
             ],
             [
              0.4444444444444444,
              "#bd3786"
             ],
             [
              0.5555555555555556,
              "#d8576b"
             ],
             [
              0.6666666666666666,
              "#ed7953"
             ],
             [
              0.7777777777777778,
              "#fb9f3a"
             ],
             [
              0.8888888888888888,
              "#fdca26"
             ],
             [
              1,
              "#f0f921"
             ]
            ],
            "type": "surface"
           }
          ],
          "table": [
           {
            "cells": {
             "fill": {
              "color": "#EBF0F8"
             },
             "line": {
              "color": "white"
             }
            },
            "header": {
             "fill": {
              "color": "#C8D4E3"
             },
             "line": {
              "color": "white"
             }
            },
            "type": "table"
           }
          ]
         },
         "layout": {
          "annotationdefaults": {
           "arrowcolor": "#2a3f5f",
           "arrowhead": 0,
           "arrowwidth": 1
          },
          "autotypenumbers": "strict",
          "coloraxis": {
           "colorbar": {
            "outlinewidth": 0,
            "ticks": ""
           }
          },
          "colorscale": {
           "diverging": [
            [
             0,
             "#8e0152"
            ],
            [
             0.1,
             "#c51b7d"
            ],
            [
             0.2,
             "#de77ae"
            ],
            [
             0.3,
             "#f1b6da"
            ],
            [
             0.4,
             "#fde0ef"
            ],
            [
             0.5,
             "#f7f7f7"
            ],
            [
             0.6,
             "#e6f5d0"
            ],
            [
             0.7,
             "#b8e186"
            ],
            [
             0.8,
             "#7fbc41"
            ],
            [
             0.9,
             "#4d9221"
            ],
            [
             1,
             "#276419"
            ]
           ],
           "sequential": [
            [
             0,
             "#0d0887"
            ],
            [
             0.1111111111111111,
             "#46039f"
            ],
            [
             0.2222222222222222,
             "#7201a8"
            ],
            [
             0.3333333333333333,
             "#9c179e"
            ],
            [
             0.4444444444444444,
             "#bd3786"
            ],
            [
             0.5555555555555556,
             "#d8576b"
            ],
            [
             0.6666666666666666,
             "#ed7953"
            ],
            [
             0.7777777777777778,
             "#fb9f3a"
            ],
            [
             0.8888888888888888,
             "#fdca26"
            ],
            [
             1,
             "#f0f921"
            ]
           ],
           "sequentialminus": [
            [
             0,
             "#0d0887"
            ],
            [
             0.1111111111111111,
             "#46039f"
            ],
            [
             0.2222222222222222,
             "#7201a8"
            ],
            [
             0.3333333333333333,
             "#9c179e"
            ],
            [
             0.4444444444444444,
             "#bd3786"
            ],
            [
             0.5555555555555556,
             "#d8576b"
            ],
            [
             0.6666666666666666,
             "#ed7953"
            ],
            [
             0.7777777777777778,
             "#fb9f3a"
            ],
            [
             0.8888888888888888,
             "#fdca26"
            ],
            [
             1,
             "#f0f921"
            ]
           ]
          },
          "colorway": [
           "#636efa",
           "#EF553B",
           "#00cc96",
           "#ab63fa",
           "#FFA15A",
           "#19d3f3",
           "#FF6692",
           "#B6E880",
           "#FF97FF",
           "#FECB52"
          ],
          "font": {
           "color": "#2a3f5f"
          },
          "geo": {
           "bgcolor": "white",
           "lakecolor": "white",
           "landcolor": "#E5ECF6",
           "showlakes": true,
           "showland": true,
           "subunitcolor": "white"
          },
          "hoverlabel": {
           "align": "left"
          },
          "hovermode": "closest",
          "mapbox": {
           "style": "light"
          },
          "paper_bgcolor": "white",
          "plot_bgcolor": "#E5ECF6",
          "polar": {
           "angularaxis": {
            "gridcolor": "white",
            "linecolor": "white",
            "ticks": ""
           },
           "bgcolor": "#E5ECF6",
           "radialaxis": {
            "gridcolor": "white",
            "linecolor": "white",
            "ticks": ""
           }
          },
          "scene": {
           "xaxis": {
            "backgroundcolor": "#E5ECF6",
            "gridcolor": "white",
            "gridwidth": 2,
            "linecolor": "white",
            "showbackground": true,
            "ticks": "",
            "zerolinecolor": "white"
           },
           "yaxis": {
            "backgroundcolor": "#E5ECF6",
            "gridcolor": "white",
            "gridwidth": 2,
            "linecolor": "white",
            "showbackground": true,
            "ticks": "",
            "zerolinecolor": "white"
           },
           "zaxis": {
            "backgroundcolor": "#E5ECF6",
            "gridcolor": "white",
            "gridwidth": 2,
            "linecolor": "white",
            "showbackground": true,
            "ticks": "",
            "zerolinecolor": "white"
           }
          },
          "shapedefaults": {
           "line": {
            "color": "#2a3f5f"
           }
          },
          "ternary": {
           "aaxis": {
            "gridcolor": "white",
            "linecolor": "white",
            "ticks": ""
           },
           "baxis": {
            "gridcolor": "white",
            "linecolor": "white",
            "ticks": ""
           },
           "bgcolor": "#E5ECF6",
           "caxis": {
            "gridcolor": "white",
            "linecolor": "white",
            "ticks": ""
           }
          },
          "title": {
           "x": 0.05
          },
          "xaxis": {
           "automargin": true,
           "gridcolor": "white",
           "linecolor": "white",
           "ticks": "",
           "title": {
            "standoff": 15
           },
           "zerolinecolor": "white",
           "zerolinewidth": 2
          },
          "yaxis": {
           "automargin": true,
           "gridcolor": "white",
           "linecolor": "white",
           "ticks": "",
           "title": {
            "standoff": 15
           },
           "zerolinecolor": "white",
           "zerolinewidth": 2
          }
         }
        },
        "title": {
         "text": "Porcentagem de Faltas por Faixa Etária"
        },
        "xaxis": {
         "anchor": "y",
         "domain": [
          0,
          1
         ],
         "title": {
          "text": "Faixa Etária"
         }
        },
        "yaxis": {
         "anchor": "x",
         "domain": [
          0,
          1
         ],
         "title": {
          "text": "Porcentagem de Faltas"
         }
        }
       }
      }
     },
     "metadata": {},
     "output_type": "display_data"
    }
   ],
   "source": [
    "\n",
    "# Juntando as tabelas para trazer as idades dos alunos para a tabela de frequência\n",
    "df_merged = pd.merge(df_diarioFreq, df_aluno[['id_aluno', 'idade_aluno']], on='id_aluno')\n",
    "\n",
    "# df_merged = df_merged.drop_duplicates(subset='id_aluno')\n",
    "\n",
    "# Definindo as faixas etárias\n",
    "bins = [0, 10, 15, 20, 25, 30, 100]\n",
    "labels = ['0-10', '11-15', '16-20', '21-25', '26-30', '30+']\n",
    "df_merged['faixa_etaria'] = pd.cut(df_merged['idade_aluno'], bins=bins, labels=labels, right=False)\n",
    "\n",
    "# Calculando a porcentagem de presença e faltas por faixa etária\n",
    "presenca_por_faixa = df_merged.groupby('faixa_etaria')['presente'].mean() * 100\n",
    "faltas_por_faixa = 100 - presenca_por_faixa\n",
    "\n",
    "# Exibindo os resultados para análise\n",
    "print(\"Porcentagem de Presença por Faixa Etária:\")\n",
    "print(presenca_por_faixa)\n",
    "print(\"\\nPorcentagem de Faltas por Faixa Etária:\")\n",
    "print(faltas_por_faixa)\n",
    "\n",
    "# Gráfico de presença por faixa etária (mantido como estava)\n",
    "fig_presenca = px.bar(presenca_por_faixa, \n",
    "                      title='Porcentagem de Presença por Faixa Etária', \n",
    "                      labels={'value': 'Porcentagem de Presença', 'faixa_etaria': 'Faixa Etária'},\n",
    "                      color_discrete_sequence=px.colors.sequential.Blues_r)\n",
    "\n",
    "fig_presenca.update_layout(\n",
    "    plot_bgcolor='rgba(0, 0, 0, 0)',  \n",
    "    paper_bgcolor='rgba(0, 0, 0, 0)', \n",
    "    font_color='white'                \n",
    ")\n",
    "\n",
    "fig_presenca.show()\n",
    "\n",
    "# Gráfico de faltas por faixa etária com cor vermelha clara e rótulo correto\n",
    "fig_faltas = px.bar(faltas_por_faixa, \n",
    "                    title='Porcentagem de Faltas por Faixa Etária', \n",
    "                    labels={'value': 'Porcentagem de Faltas', 'faixa_etaria': 'Faixa Etária'},  # Corrigindo o rótulo 'value'\n",
    "                    color_discrete_sequence=['#FF7F7F'])  # Vermelho claro\n",
    "\n",
    "fig_faltas.update_layout(\n",
    "    plot_bgcolor='rgba(0, 0, 0, 0)',  \n",
    "    paper_bgcolor='rgba(0, 0, 0, 0)', \n",
    "    font_color='white'                \n",
    ")\n",
    "\n",
    "fig_faltas.show()\n"
   ]
  },
  {
   "cell_type": "markdown",
   "metadata": {},
   "source": [
    "### <font color='orange'>Análise de Correlação entre Idade e Presença/Faltas:</font>\n",
    "\n",
    "A análise das porcentagens de presença e faltas por faixa etária revela padrões importantes no comportamento dos alunos em relação à frequência nas aulas:\n",
    "\n",
    "1. **Faixa Etária 0-10 anos**:\n",
    "- **Presença**: **85,2%**\n",
    "- **Faltas**: **14,8%**\n",
    "- **Interpretação**: Os alunos mais novos (0-10 anos) têm a maior taxa de presença. Isso pode indicar que, nessa faixa etária, há um maior controle dos responsáveis e uma maior adesão à rotina escolar.\n",
    "\n",
    "2. **Faixa Etária 11-15 anos**:\n",
    "- **Presença**: **81,8%**\n",
    "- **Faltas**: **18,2%**\n",
    "- **Interpretação**: A presença ainda é alta, embora um pouco menor do que a faixa anterior. Nessa idade, os alunos podem estar começando a ter mais autonomia, o que pode explicar o leve aumento nas faltas. O engajamento permanece elevado, mas já há sinais de diminuição.\n",
    "\n",
    "3. **Faixa Etária 16-20 anos**:\n",
    "- **Presença**: **74,9%**\n",
    "- **Faltas**: **25,1%**\n",
    "- **Interpretação**: A partir dessa faixa etária, a taxa de presença começa a cair de forma mais significativa. Esse grupo, geralmente no final do ensino médio, pode ter mais responsabilidades externas, como estágios ou preparação para vestibulares, o que pode impactar a frequência escolar. O aumento nas faltas pode também ser atribuído ao início de um comportamento mais independente.\n",
    "\n",
    "4. **Faixa Etária 21-25 anos**:\n",
    "- **Presença**: **60,4%**\n",
    "- **Faltas**: **39,6%**\n",
    "- **Interpretação**: A queda mais drástica na presença é observada nessa faixa etária. Alunos entre 21 e 25 anos costumam estar na transição para o mercado de trabalho ou cursando estudos superiores. Muitas vezes, conciliam estudos e trabalho, o que pode explicar o aumento significativo nas faltas. \n",
    "\n",
    "5. **Faixa Etária 26-30 anos**:\n",
    "- **Presença**: **73,3%**\n",
    "- **Faltas**: **26,7%**\n",
    "- **Interpretação**: A taxa de presença volta a subir para 73,3%, o que pode indicar que os alunos dessa faixa etária que permanecem no sistema de ensino têm mais motivação e comprometimento, talvez buscando aperfeiçoamento profissional ou concluindo etapas educacionais que foram adiadas.\n",
    "\n",
    "6. **Faixa Etária 30+ anos**:\n",
    "- **Presença**: **66,0%**\n",
    "- **Faltas**: **34,0%**\n",
    "- **Interpretação**: A taxa de presença volta a cair nessa faixa etária, mas ainda se mantém relativamente alta. Alunos com mais de 30 anos provavelmente estão buscando educação continuada ou completando estudos interrompidos anteriormente. A taxa de faltas pode ser influenciada por obrigações pessoais e profissionais mais estabelecidas, como trabalho e família.\n",
    "\n",
    "**Considerações Gerais:**\n",
    "\n",
    "- **Tendência Geral**: A taxa de presença tende a diminuir à medida que a idade dos alunos aumenta, com a maior queda ocorrendo entre os alunos de **21 a 25 anos**. Isso pode refletir mudanças nas prioridades à medida que os alunos entram na vida adulta, com responsabilidades profissionais e pessoais competindo com a educação formal.\n",
    "\n",
    "- **Exceção dos 26-30 anos**: A presença na faixa de **26-30 anos** se recupera em comparação com a faixa de 21-25 anos. Essa recuperação pode indicar que alunos nessa faixa estão mais focados em completar sua formação ou em busca de desenvolvimento profissional.\n",
    "\n",
    "- **Implicações para Intervenção**: Programas que incentivem a retenção e o engajamento de alunos entre **16 e 25 anos** podem ser úteis para melhorar as taxas de presença. O apoio extra pode ser necessário para essa faixa, especialmente para alunos que estão entrando no mercado de trabalho ou lidando com múltiplas responsabilidades.\n",
    "\n",
    "Esta análise demonstra uma clara correlação entre o aumento da idade e a diminuição da presença nas aulas, com algumas nuances importantes em faixas específicas que podem ser alvos de intervenção para melhorar o engajamento."
   ]
  },
  {
   "cell_type": "markdown",
   "metadata": {},
   "source": [
    "<font color='orange'>**Distribuição por Sexo:**</font>\n",
    "\n",
    "Existem diferenças na frequência de meninos e meninas nas aulas?"
   ]
  },
  {
   "cell_type": "code",
   "execution_count": 14,
   "metadata": {},
   "outputs": [
    {
     "data": {
      "application/vnd.plotly.v1+json": {
       "config": {
        "plotlyServerURL": "https://plot.ly"
       },
       "data": [
        {
         "domain": {
          "x": [
           0,
           1
          ],
          "y": [
           0,
           1
          ]
         },
         "hovertemplate": "label=%{label}<br>value=%{value}<extra></extra>",
         "labels": [
          "Feminino",
          "Masculino"
         ],
         "legendgroup": "",
         "name": "",
         "showlegend": true,
         "type": "pie",
         "values": [
          1201,
          1037
         ]
        }
       ],
       "layout": {
        "font": {
         "color": "white"
        },
        "legend": {
         "tracegroupgap": 0
        },
        "paper_bgcolor": "rgba(0, 0, 0, 0)",
        "piecolorway": [
         "rgb(8,48,107)",
         "rgb(8,81,156)",
         "rgb(33,113,181)",
         "rgb(66,146,198)",
         "rgb(107,174,214)",
         "rgb(158,202,225)",
         "rgb(198,219,239)",
         "rgb(222,235,247)",
         "rgb(247,251,255)"
        ],
        "plot_bgcolor": "rgba(0, 0, 0, 0)",
        "template": {
         "data": {
          "bar": [
           {
            "error_x": {
             "color": "#2a3f5f"
            },
            "error_y": {
             "color": "#2a3f5f"
            },
            "marker": {
             "line": {
              "color": "#E5ECF6",
              "width": 0.5
             },
             "pattern": {
              "fillmode": "overlay",
              "size": 10,
              "solidity": 0.2
             }
            },
            "type": "bar"
           }
          ],
          "barpolar": [
           {
            "marker": {
             "line": {
              "color": "#E5ECF6",
              "width": 0.5
             },
             "pattern": {
              "fillmode": "overlay",
              "size": 10,
              "solidity": 0.2
             }
            },
            "type": "barpolar"
           }
          ],
          "carpet": [
           {
            "aaxis": {
             "endlinecolor": "#2a3f5f",
             "gridcolor": "white",
             "linecolor": "white",
             "minorgridcolor": "white",
             "startlinecolor": "#2a3f5f"
            },
            "baxis": {
             "endlinecolor": "#2a3f5f",
             "gridcolor": "white",
             "linecolor": "white",
             "minorgridcolor": "white",
             "startlinecolor": "#2a3f5f"
            },
            "type": "carpet"
           }
          ],
          "choropleth": [
           {
            "colorbar": {
             "outlinewidth": 0,
             "ticks": ""
            },
            "type": "choropleth"
           }
          ],
          "contour": [
           {
            "colorbar": {
             "outlinewidth": 0,
             "ticks": ""
            },
            "colorscale": [
             [
              0,
              "#0d0887"
             ],
             [
              0.1111111111111111,
              "#46039f"
             ],
             [
              0.2222222222222222,
              "#7201a8"
             ],
             [
              0.3333333333333333,
              "#9c179e"
             ],
             [
              0.4444444444444444,
              "#bd3786"
             ],
             [
              0.5555555555555556,
              "#d8576b"
             ],
             [
              0.6666666666666666,
              "#ed7953"
             ],
             [
              0.7777777777777778,
              "#fb9f3a"
             ],
             [
              0.8888888888888888,
              "#fdca26"
             ],
             [
              1,
              "#f0f921"
             ]
            ],
            "type": "contour"
           }
          ],
          "contourcarpet": [
           {
            "colorbar": {
             "outlinewidth": 0,
             "ticks": ""
            },
            "type": "contourcarpet"
           }
          ],
          "heatmap": [
           {
            "colorbar": {
             "outlinewidth": 0,
             "ticks": ""
            },
            "colorscale": [
             [
              0,
              "#0d0887"
             ],
             [
              0.1111111111111111,
              "#46039f"
             ],
             [
              0.2222222222222222,
              "#7201a8"
             ],
             [
              0.3333333333333333,
              "#9c179e"
             ],
             [
              0.4444444444444444,
              "#bd3786"
             ],
             [
              0.5555555555555556,
              "#d8576b"
             ],
             [
              0.6666666666666666,
              "#ed7953"
             ],
             [
              0.7777777777777778,
              "#fb9f3a"
             ],
             [
              0.8888888888888888,
              "#fdca26"
             ],
             [
              1,
              "#f0f921"
             ]
            ],
            "type": "heatmap"
           }
          ],
          "heatmapgl": [
           {
            "colorbar": {
             "outlinewidth": 0,
             "ticks": ""
            },
            "colorscale": [
             [
              0,
              "#0d0887"
             ],
             [
              0.1111111111111111,
              "#46039f"
             ],
             [
              0.2222222222222222,
              "#7201a8"
             ],
             [
              0.3333333333333333,
              "#9c179e"
             ],
             [
              0.4444444444444444,
              "#bd3786"
             ],
             [
              0.5555555555555556,
              "#d8576b"
             ],
             [
              0.6666666666666666,
              "#ed7953"
             ],
             [
              0.7777777777777778,
              "#fb9f3a"
             ],
             [
              0.8888888888888888,
              "#fdca26"
             ],
             [
              1,
              "#f0f921"
             ]
            ],
            "type": "heatmapgl"
           }
          ],
          "histogram": [
           {
            "marker": {
             "pattern": {
              "fillmode": "overlay",
              "size": 10,
              "solidity": 0.2
             }
            },
            "type": "histogram"
           }
          ],
          "histogram2d": [
           {
            "colorbar": {
             "outlinewidth": 0,
             "ticks": ""
            },
            "colorscale": [
             [
              0,
              "#0d0887"
             ],
             [
              0.1111111111111111,
              "#46039f"
             ],
             [
              0.2222222222222222,
              "#7201a8"
             ],
             [
              0.3333333333333333,
              "#9c179e"
             ],
             [
              0.4444444444444444,
              "#bd3786"
             ],
             [
              0.5555555555555556,
              "#d8576b"
             ],
             [
              0.6666666666666666,
              "#ed7953"
             ],
             [
              0.7777777777777778,
              "#fb9f3a"
             ],
             [
              0.8888888888888888,
              "#fdca26"
             ],
             [
              1,
              "#f0f921"
             ]
            ],
            "type": "histogram2d"
           }
          ],
          "histogram2dcontour": [
           {
            "colorbar": {
             "outlinewidth": 0,
             "ticks": ""
            },
            "colorscale": [
             [
              0,
              "#0d0887"
             ],
             [
              0.1111111111111111,
              "#46039f"
             ],
             [
              0.2222222222222222,
              "#7201a8"
             ],
             [
              0.3333333333333333,
              "#9c179e"
             ],
             [
              0.4444444444444444,
              "#bd3786"
             ],
             [
              0.5555555555555556,
              "#d8576b"
             ],
             [
              0.6666666666666666,
              "#ed7953"
             ],
             [
              0.7777777777777778,
              "#fb9f3a"
             ],
             [
              0.8888888888888888,
              "#fdca26"
             ],
             [
              1,
              "#f0f921"
             ]
            ],
            "type": "histogram2dcontour"
           }
          ],
          "mesh3d": [
           {
            "colorbar": {
             "outlinewidth": 0,
             "ticks": ""
            },
            "type": "mesh3d"
           }
          ],
          "parcoords": [
           {
            "line": {
             "colorbar": {
              "outlinewidth": 0,
              "ticks": ""
             }
            },
            "type": "parcoords"
           }
          ],
          "pie": [
           {
            "automargin": true,
            "type": "pie"
           }
          ],
          "scatter": [
           {
            "fillpattern": {
             "fillmode": "overlay",
             "size": 10,
             "solidity": 0.2
            },
            "type": "scatter"
           }
          ],
          "scatter3d": [
           {
            "line": {
             "colorbar": {
              "outlinewidth": 0,
              "ticks": ""
             }
            },
            "marker": {
             "colorbar": {
              "outlinewidth": 0,
              "ticks": ""
             }
            },
            "type": "scatter3d"
           }
          ],
          "scattercarpet": [
           {
            "marker": {
             "colorbar": {
              "outlinewidth": 0,
              "ticks": ""
             }
            },
            "type": "scattercarpet"
           }
          ],
          "scattergeo": [
           {
            "marker": {
             "colorbar": {
              "outlinewidth": 0,
              "ticks": ""
             }
            },
            "type": "scattergeo"
           }
          ],
          "scattergl": [
           {
            "marker": {
             "colorbar": {
              "outlinewidth": 0,
              "ticks": ""
             }
            },
            "type": "scattergl"
           }
          ],
          "scattermapbox": [
           {
            "marker": {
             "colorbar": {
              "outlinewidth": 0,
              "ticks": ""
             }
            },
            "type": "scattermapbox"
           }
          ],
          "scatterpolar": [
           {
            "marker": {
             "colorbar": {
              "outlinewidth": 0,
              "ticks": ""
             }
            },
            "type": "scatterpolar"
           }
          ],
          "scatterpolargl": [
           {
            "marker": {
             "colorbar": {
              "outlinewidth": 0,
              "ticks": ""
             }
            },
            "type": "scatterpolargl"
           }
          ],
          "scatterternary": [
           {
            "marker": {
             "colorbar": {
              "outlinewidth": 0,
              "ticks": ""
             }
            },
            "type": "scatterternary"
           }
          ],
          "surface": [
           {
            "colorbar": {
             "outlinewidth": 0,
             "ticks": ""
            },
            "colorscale": [
             [
              0,
              "#0d0887"
             ],
             [
              0.1111111111111111,
              "#46039f"
             ],
             [
              0.2222222222222222,
              "#7201a8"
             ],
             [
              0.3333333333333333,
              "#9c179e"
             ],
             [
              0.4444444444444444,
              "#bd3786"
             ],
             [
              0.5555555555555556,
              "#d8576b"
             ],
             [
              0.6666666666666666,
              "#ed7953"
             ],
             [
              0.7777777777777778,
              "#fb9f3a"
             ],
             [
              0.8888888888888888,
              "#fdca26"
             ],
             [
              1,
              "#f0f921"
             ]
            ],
            "type": "surface"
           }
          ],
          "table": [
           {
            "cells": {
             "fill": {
              "color": "#EBF0F8"
             },
             "line": {
              "color": "white"
             }
            },
            "header": {
             "fill": {
              "color": "#C8D4E3"
             },
             "line": {
              "color": "white"
             }
            },
            "type": "table"
           }
          ]
         },
         "layout": {
          "annotationdefaults": {
           "arrowcolor": "#2a3f5f",
           "arrowhead": 0,
           "arrowwidth": 1
          },
          "autotypenumbers": "strict",
          "coloraxis": {
           "colorbar": {
            "outlinewidth": 0,
            "ticks": ""
           }
          },
          "colorscale": {
           "diverging": [
            [
             0,
             "#8e0152"
            ],
            [
             0.1,
             "#c51b7d"
            ],
            [
             0.2,
             "#de77ae"
            ],
            [
             0.3,
             "#f1b6da"
            ],
            [
             0.4,
             "#fde0ef"
            ],
            [
             0.5,
             "#f7f7f7"
            ],
            [
             0.6,
             "#e6f5d0"
            ],
            [
             0.7,
             "#b8e186"
            ],
            [
             0.8,
             "#7fbc41"
            ],
            [
             0.9,
             "#4d9221"
            ],
            [
             1,
             "#276419"
            ]
           ],
           "sequential": [
            [
             0,
             "#0d0887"
            ],
            [
             0.1111111111111111,
             "#46039f"
            ],
            [
             0.2222222222222222,
             "#7201a8"
            ],
            [
             0.3333333333333333,
             "#9c179e"
            ],
            [
             0.4444444444444444,
             "#bd3786"
            ],
            [
             0.5555555555555556,
             "#d8576b"
            ],
            [
             0.6666666666666666,
             "#ed7953"
            ],
            [
             0.7777777777777778,
             "#fb9f3a"
            ],
            [
             0.8888888888888888,
             "#fdca26"
            ],
            [
             1,
             "#f0f921"
            ]
           ],
           "sequentialminus": [
            [
             0,
             "#0d0887"
            ],
            [
             0.1111111111111111,
             "#46039f"
            ],
            [
             0.2222222222222222,
             "#7201a8"
            ],
            [
             0.3333333333333333,
             "#9c179e"
            ],
            [
             0.4444444444444444,
             "#bd3786"
            ],
            [
             0.5555555555555556,
             "#d8576b"
            ],
            [
             0.6666666666666666,
             "#ed7953"
            ],
            [
             0.7777777777777778,
             "#fb9f3a"
            ],
            [
             0.8888888888888888,
             "#fdca26"
            ],
            [
             1,
             "#f0f921"
            ]
           ]
          },
          "colorway": [
           "#636efa",
           "#EF553B",
           "#00cc96",
           "#ab63fa",
           "#FFA15A",
           "#19d3f3",
           "#FF6692",
           "#B6E880",
           "#FF97FF",
           "#FECB52"
          ],
          "font": {
           "color": "#2a3f5f"
          },
          "geo": {
           "bgcolor": "white",
           "lakecolor": "white",
           "landcolor": "#E5ECF6",
           "showlakes": true,
           "showland": true,
           "subunitcolor": "white"
          },
          "hoverlabel": {
           "align": "left"
          },
          "hovermode": "closest",
          "mapbox": {
           "style": "light"
          },
          "paper_bgcolor": "white",
          "plot_bgcolor": "#E5ECF6",
          "polar": {
           "angularaxis": {
            "gridcolor": "white",
            "linecolor": "white",
            "ticks": ""
           },
           "bgcolor": "#E5ECF6",
           "radialaxis": {
            "gridcolor": "white",
            "linecolor": "white",
            "ticks": ""
           }
          },
          "scene": {
           "xaxis": {
            "backgroundcolor": "#E5ECF6",
            "gridcolor": "white",
            "gridwidth": 2,
            "linecolor": "white",
            "showbackground": true,
            "ticks": "",
            "zerolinecolor": "white"
           },
           "yaxis": {
            "backgroundcolor": "#E5ECF6",
            "gridcolor": "white",
            "gridwidth": 2,
            "linecolor": "white",
            "showbackground": true,
            "ticks": "",
            "zerolinecolor": "white"
           },
           "zaxis": {
            "backgroundcolor": "#E5ECF6",
            "gridcolor": "white",
            "gridwidth": 2,
            "linecolor": "white",
            "showbackground": true,
            "ticks": "",
            "zerolinecolor": "white"
           }
          },
          "shapedefaults": {
           "line": {
            "color": "#2a3f5f"
           }
          },
          "ternary": {
           "aaxis": {
            "gridcolor": "white",
            "linecolor": "white",
            "ticks": ""
           },
           "baxis": {
            "gridcolor": "white",
            "linecolor": "white",
            "ticks": ""
           },
           "bgcolor": "#E5ECF6",
           "caxis": {
            "gridcolor": "white",
            "linecolor": "white",
            "ticks": ""
           }
          },
          "title": {
           "x": 0.05
          },
          "xaxis": {
           "automargin": true,
           "gridcolor": "white",
           "linecolor": "white",
           "ticks": "",
           "title": {
            "standoff": 15
           },
           "zerolinecolor": "white",
           "zerolinewidth": 2
          },
          "yaxis": {
           "automargin": true,
           "gridcolor": "white",
           "linecolor": "white",
           "ticks": "",
           "title": {
            "standoff": 15
           },
           "zerolinecolor": "white",
           "zerolinewidth": 2
          }
         }
        },
        "title": {
         "text": "Distribuição de Alunos por Sexo"
        }
       }
      }
     },
     "metadata": {},
     "output_type": "display_data"
    }
   ],
   "source": [
    "# Contando o número de alunos por sexo\n",
    "sexo_contagem = df_aluno['sexo_aluno'].value_counts()\n",
    "\n",
    "# Dicionário para os rótulos de sexo\n",
    "sexo_labels = {0: 'Masculino', 1: 'Feminino'}\n",
    "\n",
    "# Gráfico de pizza para mostrar a distribuição de sexo\n",
    "fig_sexo_pizza = px.pie(values=sexo_contagem.values, \n",
    "                        names=sexo_contagem.index.map(sexo_labels),\n",
    "                        title='Distribuição de Alunos por Sexo',\n",
    "                        color_discrete_sequence=px.colors.sequential.Blues_r)\n",
    "\n",
    "# Ajustando o layout com fundo escuro\n",
    "fig_sexo_pizza.update_layout(\n",
    "    plot_bgcolor='rgba(0, 0, 0, 0)',  \n",
    "    paper_bgcolor='rgba(0, 0, 0, 0)', \n",
    "    font_color='white'                \n",
    ")\n",
    "\n",
    "# Exibindo o gráfico\n",
    "fig_sexo_pizza.show()\n"
   ]
  },
  {
   "cell_type": "code",
   "execution_count": 15,
   "metadata": {},
   "outputs": [
    {
     "data": {
      "text/plain": [
       "Sexo\n",
       "F    1200\n",
       "M    1037\n",
       "Name: count, dtype: int64"
      ]
     },
     "execution_count": 15,
     "metadata": {},
     "output_type": "execute_result"
    }
   ],
   "source": [
    "df_aluno['Sexo'].value_counts()"
   ]
  },
  {
   "cell_type": "code",
   "execution_count": 16,
   "metadata": {},
   "outputs": [
    {
     "name": "stdout",
     "output_type": "stream",
     "text": [
      "Porcentagem de Presença por Sexo:\n",
      "sexo_aluno\n",
      "0    78.920051\n",
      "1    78.475944\n",
      "Name: presente, dtype: float64\n",
      "\n",
      "Porcentagem de Faltas por Sexo:\n",
      "sexo_aluno\n",
      "0    21.079949\n",
      "1    21.524056\n",
      "Name: presente, dtype: float64\n"
     ]
    },
    {
     "data": {
      "application/vnd.plotly.v1+json": {
       "config": {
        "plotlyServerURL": "https://plot.ly"
       },
       "data": [
        {
         "alignmentgroup": "True",
         "hovertemplate": "Status=Presença (%)<br>Sexo=%{x}<br>Porcentagem=%{y}<extra></extra>",
         "legendgroup": "Presença (%)",
         "marker": {
          "color": "#1f77b4",
          "pattern": {
           "shape": ""
          }
         },
         "name": "Presença (%)",
         "offsetgroup": "Presença (%)",
         "orientation": "v",
         "showlegend": true,
         "textposition": "auto",
         "type": "bar",
         "x": [
          "Masculino",
          "Feminino"
         ],
         "xaxis": "x",
         "y": [
          78.92005105674774,
          78.47594363303095
         ],
         "yaxis": "y"
        },
        {
         "alignmentgroup": "True",
         "hovertemplate": "Status=Faltas (%)<br>Sexo=%{x}<br>Porcentagem=%{y}<extra></extra>",
         "legendgroup": "Faltas (%)",
         "marker": {
          "color": "#FF7F7F",
          "pattern": {
           "shape": ""
          }
         },
         "name": "Faltas (%)",
         "offsetgroup": "Faltas (%)",
         "orientation": "v",
         "showlegend": true,
         "textposition": "auto",
         "type": "bar",
         "x": [
          "Masculino",
          "Feminino"
         ],
         "xaxis": "x",
         "y": [
          21.079948943252262,
          21.52405636696905
         ],
         "yaxis": "y"
        }
       ],
       "layout": {
        "barmode": "stack",
        "font": {
         "color": "white"
        },
        "legend": {
         "title": {
          "text": "Status"
         },
         "tracegroupgap": 0
        },
        "paper_bgcolor": "rgba(0, 0, 0, 0)",
        "plot_bgcolor": "rgba(0, 0, 0, 0)",
        "template": {
         "data": {
          "bar": [
           {
            "error_x": {
             "color": "#2a3f5f"
            },
            "error_y": {
             "color": "#2a3f5f"
            },
            "marker": {
             "line": {
              "color": "#E5ECF6",
              "width": 0.5
             },
             "pattern": {
              "fillmode": "overlay",
              "size": 10,
              "solidity": 0.2
             }
            },
            "type": "bar"
           }
          ],
          "barpolar": [
           {
            "marker": {
             "line": {
              "color": "#E5ECF6",
              "width": 0.5
             },
             "pattern": {
              "fillmode": "overlay",
              "size": 10,
              "solidity": 0.2
             }
            },
            "type": "barpolar"
           }
          ],
          "carpet": [
           {
            "aaxis": {
             "endlinecolor": "#2a3f5f",
             "gridcolor": "white",
             "linecolor": "white",
             "minorgridcolor": "white",
             "startlinecolor": "#2a3f5f"
            },
            "baxis": {
             "endlinecolor": "#2a3f5f",
             "gridcolor": "white",
             "linecolor": "white",
             "minorgridcolor": "white",
             "startlinecolor": "#2a3f5f"
            },
            "type": "carpet"
           }
          ],
          "choropleth": [
           {
            "colorbar": {
             "outlinewidth": 0,
             "ticks": ""
            },
            "type": "choropleth"
           }
          ],
          "contour": [
           {
            "colorbar": {
             "outlinewidth": 0,
             "ticks": ""
            },
            "colorscale": [
             [
              0,
              "#0d0887"
             ],
             [
              0.1111111111111111,
              "#46039f"
             ],
             [
              0.2222222222222222,
              "#7201a8"
             ],
             [
              0.3333333333333333,
              "#9c179e"
             ],
             [
              0.4444444444444444,
              "#bd3786"
             ],
             [
              0.5555555555555556,
              "#d8576b"
             ],
             [
              0.6666666666666666,
              "#ed7953"
             ],
             [
              0.7777777777777778,
              "#fb9f3a"
             ],
             [
              0.8888888888888888,
              "#fdca26"
             ],
             [
              1,
              "#f0f921"
             ]
            ],
            "type": "contour"
           }
          ],
          "contourcarpet": [
           {
            "colorbar": {
             "outlinewidth": 0,
             "ticks": ""
            },
            "type": "contourcarpet"
           }
          ],
          "heatmap": [
           {
            "colorbar": {
             "outlinewidth": 0,
             "ticks": ""
            },
            "colorscale": [
             [
              0,
              "#0d0887"
             ],
             [
              0.1111111111111111,
              "#46039f"
             ],
             [
              0.2222222222222222,
              "#7201a8"
             ],
             [
              0.3333333333333333,
              "#9c179e"
             ],
             [
              0.4444444444444444,
              "#bd3786"
             ],
             [
              0.5555555555555556,
              "#d8576b"
             ],
             [
              0.6666666666666666,
              "#ed7953"
             ],
             [
              0.7777777777777778,
              "#fb9f3a"
             ],
             [
              0.8888888888888888,
              "#fdca26"
             ],
             [
              1,
              "#f0f921"
             ]
            ],
            "type": "heatmap"
           }
          ],
          "heatmapgl": [
           {
            "colorbar": {
             "outlinewidth": 0,
             "ticks": ""
            },
            "colorscale": [
             [
              0,
              "#0d0887"
             ],
             [
              0.1111111111111111,
              "#46039f"
             ],
             [
              0.2222222222222222,
              "#7201a8"
             ],
             [
              0.3333333333333333,
              "#9c179e"
             ],
             [
              0.4444444444444444,
              "#bd3786"
             ],
             [
              0.5555555555555556,
              "#d8576b"
             ],
             [
              0.6666666666666666,
              "#ed7953"
             ],
             [
              0.7777777777777778,
              "#fb9f3a"
             ],
             [
              0.8888888888888888,
              "#fdca26"
             ],
             [
              1,
              "#f0f921"
             ]
            ],
            "type": "heatmapgl"
           }
          ],
          "histogram": [
           {
            "marker": {
             "pattern": {
              "fillmode": "overlay",
              "size": 10,
              "solidity": 0.2
             }
            },
            "type": "histogram"
           }
          ],
          "histogram2d": [
           {
            "colorbar": {
             "outlinewidth": 0,
             "ticks": ""
            },
            "colorscale": [
             [
              0,
              "#0d0887"
             ],
             [
              0.1111111111111111,
              "#46039f"
             ],
             [
              0.2222222222222222,
              "#7201a8"
             ],
             [
              0.3333333333333333,
              "#9c179e"
             ],
             [
              0.4444444444444444,
              "#bd3786"
             ],
             [
              0.5555555555555556,
              "#d8576b"
             ],
             [
              0.6666666666666666,
              "#ed7953"
             ],
             [
              0.7777777777777778,
              "#fb9f3a"
             ],
             [
              0.8888888888888888,
              "#fdca26"
             ],
             [
              1,
              "#f0f921"
             ]
            ],
            "type": "histogram2d"
           }
          ],
          "histogram2dcontour": [
           {
            "colorbar": {
             "outlinewidth": 0,
             "ticks": ""
            },
            "colorscale": [
             [
              0,
              "#0d0887"
             ],
             [
              0.1111111111111111,
              "#46039f"
             ],
             [
              0.2222222222222222,
              "#7201a8"
             ],
             [
              0.3333333333333333,
              "#9c179e"
             ],
             [
              0.4444444444444444,
              "#bd3786"
             ],
             [
              0.5555555555555556,
              "#d8576b"
             ],
             [
              0.6666666666666666,
              "#ed7953"
             ],
             [
              0.7777777777777778,
              "#fb9f3a"
             ],
             [
              0.8888888888888888,
              "#fdca26"
             ],
             [
              1,
              "#f0f921"
             ]
            ],
            "type": "histogram2dcontour"
           }
          ],
          "mesh3d": [
           {
            "colorbar": {
             "outlinewidth": 0,
             "ticks": ""
            },
            "type": "mesh3d"
           }
          ],
          "parcoords": [
           {
            "line": {
             "colorbar": {
              "outlinewidth": 0,
              "ticks": ""
             }
            },
            "type": "parcoords"
           }
          ],
          "pie": [
           {
            "automargin": true,
            "type": "pie"
           }
          ],
          "scatter": [
           {
            "fillpattern": {
             "fillmode": "overlay",
             "size": 10,
             "solidity": 0.2
            },
            "type": "scatter"
           }
          ],
          "scatter3d": [
           {
            "line": {
             "colorbar": {
              "outlinewidth": 0,
              "ticks": ""
             }
            },
            "marker": {
             "colorbar": {
              "outlinewidth": 0,
              "ticks": ""
             }
            },
            "type": "scatter3d"
           }
          ],
          "scattercarpet": [
           {
            "marker": {
             "colorbar": {
              "outlinewidth": 0,
              "ticks": ""
             }
            },
            "type": "scattercarpet"
           }
          ],
          "scattergeo": [
           {
            "marker": {
             "colorbar": {
              "outlinewidth": 0,
              "ticks": ""
             }
            },
            "type": "scattergeo"
           }
          ],
          "scattergl": [
           {
            "marker": {
             "colorbar": {
              "outlinewidth": 0,
              "ticks": ""
             }
            },
            "type": "scattergl"
           }
          ],
          "scattermapbox": [
           {
            "marker": {
             "colorbar": {
              "outlinewidth": 0,
              "ticks": ""
             }
            },
            "type": "scattermapbox"
           }
          ],
          "scatterpolar": [
           {
            "marker": {
             "colorbar": {
              "outlinewidth": 0,
              "ticks": ""
             }
            },
            "type": "scatterpolar"
           }
          ],
          "scatterpolargl": [
           {
            "marker": {
             "colorbar": {
              "outlinewidth": 0,
              "ticks": ""
             }
            },
            "type": "scatterpolargl"
           }
          ],
          "scatterternary": [
           {
            "marker": {
             "colorbar": {
              "outlinewidth": 0,
              "ticks": ""
             }
            },
            "type": "scatterternary"
           }
          ],
          "surface": [
           {
            "colorbar": {
             "outlinewidth": 0,
             "ticks": ""
            },
            "colorscale": [
             [
              0,
              "#0d0887"
             ],
             [
              0.1111111111111111,
              "#46039f"
             ],
             [
              0.2222222222222222,
              "#7201a8"
             ],
             [
              0.3333333333333333,
              "#9c179e"
             ],
             [
              0.4444444444444444,
              "#bd3786"
             ],
             [
              0.5555555555555556,
              "#d8576b"
             ],
             [
              0.6666666666666666,
              "#ed7953"
             ],
             [
              0.7777777777777778,
              "#fb9f3a"
             ],
             [
              0.8888888888888888,
              "#fdca26"
             ],
             [
              1,
              "#f0f921"
             ]
            ],
            "type": "surface"
           }
          ],
          "table": [
           {
            "cells": {
             "fill": {
              "color": "#EBF0F8"
             },
             "line": {
              "color": "white"
             }
            },
            "header": {
             "fill": {
              "color": "#C8D4E3"
             },
             "line": {
              "color": "white"
             }
            },
            "type": "table"
           }
          ]
         },
         "layout": {
          "annotationdefaults": {
           "arrowcolor": "#2a3f5f",
           "arrowhead": 0,
           "arrowwidth": 1
          },
          "autotypenumbers": "strict",
          "coloraxis": {
           "colorbar": {
            "outlinewidth": 0,
            "ticks": ""
           }
          },
          "colorscale": {
           "diverging": [
            [
             0,
             "#8e0152"
            ],
            [
             0.1,
             "#c51b7d"
            ],
            [
             0.2,
             "#de77ae"
            ],
            [
             0.3,
             "#f1b6da"
            ],
            [
             0.4,
             "#fde0ef"
            ],
            [
             0.5,
             "#f7f7f7"
            ],
            [
             0.6,
             "#e6f5d0"
            ],
            [
             0.7,
             "#b8e186"
            ],
            [
             0.8,
             "#7fbc41"
            ],
            [
             0.9,
             "#4d9221"
            ],
            [
             1,
             "#276419"
            ]
           ],
           "sequential": [
            [
             0,
             "#0d0887"
            ],
            [
             0.1111111111111111,
             "#46039f"
            ],
            [
             0.2222222222222222,
             "#7201a8"
            ],
            [
             0.3333333333333333,
             "#9c179e"
            ],
            [
             0.4444444444444444,
             "#bd3786"
            ],
            [
             0.5555555555555556,
             "#d8576b"
            ],
            [
             0.6666666666666666,
             "#ed7953"
            ],
            [
             0.7777777777777778,
             "#fb9f3a"
            ],
            [
             0.8888888888888888,
             "#fdca26"
            ],
            [
             1,
             "#f0f921"
            ]
           ],
           "sequentialminus": [
            [
             0,
             "#0d0887"
            ],
            [
             0.1111111111111111,
             "#46039f"
            ],
            [
             0.2222222222222222,
             "#7201a8"
            ],
            [
             0.3333333333333333,
             "#9c179e"
            ],
            [
             0.4444444444444444,
             "#bd3786"
            ],
            [
             0.5555555555555556,
             "#d8576b"
            ],
            [
             0.6666666666666666,
             "#ed7953"
            ],
            [
             0.7777777777777778,
             "#fb9f3a"
            ],
            [
             0.8888888888888888,
             "#fdca26"
            ],
            [
             1,
             "#f0f921"
            ]
           ]
          },
          "colorway": [
           "#636efa",
           "#EF553B",
           "#00cc96",
           "#ab63fa",
           "#FFA15A",
           "#19d3f3",
           "#FF6692",
           "#B6E880",
           "#FF97FF",
           "#FECB52"
          ],
          "font": {
           "color": "#2a3f5f"
          },
          "geo": {
           "bgcolor": "white",
           "lakecolor": "white",
           "landcolor": "#E5ECF6",
           "showlakes": true,
           "showland": true,
           "subunitcolor": "white"
          },
          "hoverlabel": {
           "align": "left"
          },
          "hovermode": "closest",
          "mapbox": {
           "style": "light"
          },
          "paper_bgcolor": "white",
          "plot_bgcolor": "#E5ECF6",
          "polar": {
           "angularaxis": {
            "gridcolor": "white",
            "linecolor": "white",
            "ticks": ""
           },
           "bgcolor": "#E5ECF6",
           "radialaxis": {
            "gridcolor": "white",
            "linecolor": "white",
            "ticks": ""
           }
          },
          "scene": {
           "xaxis": {
            "backgroundcolor": "#E5ECF6",
            "gridcolor": "white",
            "gridwidth": 2,
            "linecolor": "white",
            "showbackground": true,
            "ticks": "",
            "zerolinecolor": "white"
           },
           "yaxis": {
            "backgroundcolor": "#E5ECF6",
            "gridcolor": "white",
            "gridwidth": 2,
            "linecolor": "white",
            "showbackground": true,
            "ticks": "",
            "zerolinecolor": "white"
           },
           "zaxis": {
            "backgroundcolor": "#E5ECF6",
            "gridcolor": "white",
            "gridwidth": 2,
            "linecolor": "white",
            "showbackground": true,
            "ticks": "",
            "zerolinecolor": "white"
           }
          },
          "shapedefaults": {
           "line": {
            "color": "#2a3f5f"
           }
          },
          "ternary": {
           "aaxis": {
            "gridcolor": "white",
            "linecolor": "white",
            "ticks": ""
           },
           "baxis": {
            "gridcolor": "white",
            "linecolor": "white",
            "ticks": ""
           },
           "bgcolor": "#E5ECF6",
           "caxis": {
            "gridcolor": "white",
            "linecolor": "white",
            "ticks": ""
           }
          },
          "title": {
           "x": 0.05
          },
          "xaxis": {
           "automargin": true,
           "gridcolor": "white",
           "linecolor": "white",
           "ticks": "",
           "title": {
            "standoff": 15
           },
           "zerolinecolor": "white",
           "zerolinewidth": 2
          },
          "yaxis": {
           "automargin": true,
           "gridcolor": "white",
           "linecolor": "white",
           "ticks": "",
           "title": {
            "standoff": 15
           },
           "zerolinecolor": "white",
           "zerolinewidth": 2
          }
         }
        },
        "title": {
         "text": "Porcentagem de Presença e Faltas por Sexo"
        },
        "xaxis": {
         "anchor": "y",
         "domain": [
          0,
          1
         ],
         "title": {
          "text": "Sexo"
         }
        },
        "yaxis": {
         "anchor": "x",
         "domain": [
          0,
          1
         ],
         "title": {
          "text": "Porcentagem"
         }
        }
       }
      }
     },
     "metadata": {},
     "output_type": "display_data"
    }
   ],
   "source": [
    "# Juntando as tabelas de frequência e aluno para trazer o sexo dos alunos\n",
    "df_sexo_freq = pd.merge(df_diarioFreq, df_aluno[['id_aluno', 'sexo_aluno']], on='id_aluno', how='inner')\n",
    "\n",
    "# Removendo quaisquer valores nulos (se houver)\n",
    "df_sexo_freq.dropna(subset=['presente', 'sexo_aluno'], inplace=True)\n",
    "\n",
    "# Calculando a porcentagem de presença por sexo\n",
    "presenca_por_sexo = df_sexo_freq.groupby('sexo_aluno')['presente'].mean() * 100\n",
    "\n",
    "# Calculando a porcentagem de faltas por sexo\n",
    "faltas_por_sexo = 100 - presenca_por_sexo\n",
    "\n",
    "# Criando um DataFrame para presença e faltas\n",
    "df_presenca_faltas = pd.DataFrame({\n",
    "    'Sexo': ['Masculino', 'Feminino'],\n",
    "    'Presença (%)': [presenca_por_sexo[0], presenca_por_sexo[1]],\n",
    "    'Faltas (%)': [faltas_por_sexo[0], faltas_por_sexo[1]]\n",
    "})\n",
    "\n",
    "print(\"Porcentagem de Presença por Sexo:\")\n",
    "print(presenca_por_sexo)\n",
    "print(\"\\nPorcentagem de Faltas por Sexo:\")\n",
    "print(faltas_por_sexo)\n",
    "\n",
    "# Transformando o DataFrame para gráfico empilhado\n",
    "df_presenca_faltas_melt = df_presenca_faltas.melt(id_vars='Sexo', \n",
    "                                                  value_vars=['Presença (%)', 'Faltas (%)'], \n",
    "                                                  var_name='Status', \n",
    "                                                  value_name='Porcentagem')\n",
    "\n",
    "# Gráfico de barras empilhadas com plotly\n",
    "fig = px.bar(df_presenca_faltas_melt, \n",
    "             x='Sexo', \n",
    "             y='Porcentagem', \n",
    "             color='Status', \n",
    "             title='Porcentagem de Presença e Faltas por Sexo',\n",
    "             color_discrete_sequence=['#1f77b4', '#FF7F7F'])  # Azul para presença, vermelho claro para faltas\n",
    "\n",
    "# Ajustando o layout com fundo escuro\n",
    "fig.update_layout(\n",
    "    plot_bgcolor='rgba(0, 0, 0, 0)',  \n",
    "    paper_bgcolor='rgba(0, 0, 0, 0)', \n",
    "    font_color='white',                \n",
    "    barmode='stack'                    \n",
    ")\n",
    "\n",
    "# Exibindo o gráfico\n",
    "fig.show()\n"
   ]
  },
  {
   "cell_type": "markdown",
   "metadata": {},
   "source": [
    "<font color='orange'>**Análise de Presença e Faltas por Sexo:**</font>\n",
    "\n",
    "**Presença:**\n",
    "\n",
    "- **Masculino (0)**: **78,92%**\n",
    "- **Feminino (1)**: **78,48%**\n",
    "\n",
    "A taxa de presença entre alunos do sexo masculino e feminino é bastante próxima, com uma diferença mínima de aproximadamente **0,45 pontos percentuais**. Os alunos masculinos têm uma ligeiramente maior taxa de presença, porém, a diferença é pequena o suficiente para ser considerada insignificante em termos práticos.\n",
    "\n",
    "**Faltas:**\n",
    "\n",
    "- **Masculino (0)**: **21,08%**\n",
    "- **Feminino (1)**: **21,52%**\n",
    "\n",
    "Da mesma forma, as porcentagens de faltas são praticamente equivalentes. Os alunos do sexo feminino apresentam uma taxa de faltas ligeiramente maior (**21,52%** comparado a **21,08%** para os alunos masculinos), mas, assim como na presença, essa diferença é muito pequena para indicar um comportamento significativamente diferente entre os sexos.\n",
    "\n",
    "**Conclusão:**\n",
    "\n",
    "As taxas de presença e faltas são muito similares entre os sexos, indicando que **não há uma diferença relevante** no comportamento de presença e faltas entre alunos masculinos e femininos. Isso sugere que, no contexto dessa análise, o sexo dos alunos não é um fator determinante para variações na frequência escolar. Estratégias de engajamento ou intervenção não precisam ser diferenciadas com base no sexo, já que ambos apresentam padrões muito semelhantes."
   ]
  },
  {
   "cell_type": "markdown",
   "metadata": {},
   "source": [
    "<font color='orange'>**Distribuição por Raça/Cor:**</font>\n",
    "\n",
    "Existe uma predominância de uma raça/cor específica?\n"
   ]
  },
  {
   "cell_type": "code",
   "execution_count": 17,
   "metadata": {},
   "outputs": [
    {
     "data": {
      "application/vnd.plotly.v1+json": {
       "config": {
        "plotlyServerURL": "https://plot.ly"
       },
       "data": [
        {
         "alignmentgroup": "True",
         "hovertemplate": "index=%{x}<br>Número de Alunos=%{y}<extra></extra>",
         "legendgroup": "",
         "marker": {
          "color": "#1f77b4",
          "pattern": {
           "shape": ""
          }
         },
         "name": "",
         "offsetgroup": "",
         "orientation": "v",
         "showlegend": false,
         "textposition": "auto",
         "type": "bar",
         "x": [
          "Amarelo",
          "Branco",
          "Indígena",
          "Pardo",
          "Preto"
         ],
         "xaxis": "x",
         "y": [
          17,
          1027,
          1,
          865,
          327
         ],
         "yaxis": "y"
        }
       ],
       "layout": {
        "barmode": "relative",
        "font": {
         "color": "white"
        },
        "legend": {
         "tracegroupgap": 0
        },
        "paper_bgcolor": "rgba(0, 0, 0, 0)",
        "plot_bgcolor": "rgba(0, 0, 0, 0)",
        "template": {
         "data": {
          "bar": [
           {
            "error_x": {
             "color": "#2a3f5f"
            },
            "error_y": {
             "color": "#2a3f5f"
            },
            "marker": {
             "line": {
              "color": "#E5ECF6",
              "width": 0.5
             },
             "pattern": {
              "fillmode": "overlay",
              "size": 10,
              "solidity": 0.2
             }
            },
            "type": "bar"
           }
          ],
          "barpolar": [
           {
            "marker": {
             "line": {
              "color": "#E5ECF6",
              "width": 0.5
             },
             "pattern": {
              "fillmode": "overlay",
              "size": 10,
              "solidity": 0.2
             }
            },
            "type": "barpolar"
           }
          ],
          "carpet": [
           {
            "aaxis": {
             "endlinecolor": "#2a3f5f",
             "gridcolor": "white",
             "linecolor": "white",
             "minorgridcolor": "white",
             "startlinecolor": "#2a3f5f"
            },
            "baxis": {
             "endlinecolor": "#2a3f5f",
             "gridcolor": "white",
             "linecolor": "white",
             "minorgridcolor": "white",
             "startlinecolor": "#2a3f5f"
            },
            "type": "carpet"
           }
          ],
          "choropleth": [
           {
            "colorbar": {
             "outlinewidth": 0,
             "ticks": ""
            },
            "type": "choropleth"
           }
          ],
          "contour": [
           {
            "colorbar": {
             "outlinewidth": 0,
             "ticks": ""
            },
            "colorscale": [
             [
              0,
              "#0d0887"
             ],
             [
              0.1111111111111111,
              "#46039f"
             ],
             [
              0.2222222222222222,
              "#7201a8"
             ],
             [
              0.3333333333333333,
              "#9c179e"
             ],
             [
              0.4444444444444444,
              "#bd3786"
             ],
             [
              0.5555555555555556,
              "#d8576b"
             ],
             [
              0.6666666666666666,
              "#ed7953"
             ],
             [
              0.7777777777777778,
              "#fb9f3a"
             ],
             [
              0.8888888888888888,
              "#fdca26"
             ],
             [
              1,
              "#f0f921"
             ]
            ],
            "type": "contour"
           }
          ],
          "contourcarpet": [
           {
            "colorbar": {
             "outlinewidth": 0,
             "ticks": ""
            },
            "type": "contourcarpet"
           }
          ],
          "heatmap": [
           {
            "colorbar": {
             "outlinewidth": 0,
             "ticks": ""
            },
            "colorscale": [
             [
              0,
              "#0d0887"
             ],
             [
              0.1111111111111111,
              "#46039f"
             ],
             [
              0.2222222222222222,
              "#7201a8"
             ],
             [
              0.3333333333333333,
              "#9c179e"
             ],
             [
              0.4444444444444444,
              "#bd3786"
             ],
             [
              0.5555555555555556,
              "#d8576b"
             ],
             [
              0.6666666666666666,
              "#ed7953"
             ],
             [
              0.7777777777777778,
              "#fb9f3a"
             ],
             [
              0.8888888888888888,
              "#fdca26"
             ],
             [
              1,
              "#f0f921"
             ]
            ],
            "type": "heatmap"
           }
          ],
          "heatmapgl": [
           {
            "colorbar": {
             "outlinewidth": 0,
             "ticks": ""
            },
            "colorscale": [
             [
              0,
              "#0d0887"
             ],
             [
              0.1111111111111111,
              "#46039f"
             ],
             [
              0.2222222222222222,
              "#7201a8"
             ],
             [
              0.3333333333333333,
              "#9c179e"
             ],
             [
              0.4444444444444444,
              "#bd3786"
             ],
             [
              0.5555555555555556,
              "#d8576b"
             ],
             [
              0.6666666666666666,
              "#ed7953"
             ],
             [
              0.7777777777777778,
              "#fb9f3a"
             ],
             [
              0.8888888888888888,
              "#fdca26"
             ],
             [
              1,
              "#f0f921"
             ]
            ],
            "type": "heatmapgl"
           }
          ],
          "histogram": [
           {
            "marker": {
             "pattern": {
              "fillmode": "overlay",
              "size": 10,
              "solidity": 0.2
             }
            },
            "type": "histogram"
           }
          ],
          "histogram2d": [
           {
            "colorbar": {
             "outlinewidth": 0,
             "ticks": ""
            },
            "colorscale": [
             [
              0,
              "#0d0887"
             ],
             [
              0.1111111111111111,
              "#46039f"
             ],
             [
              0.2222222222222222,
              "#7201a8"
             ],
             [
              0.3333333333333333,
              "#9c179e"
             ],
             [
              0.4444444444444444,
              "#bd3786"
             ],
             [
              0.5555555555555556,
              "#d8576b"
             ],
             [
              0.6666666666666666,
              "#ed7953"
             ],
             [
              0.7777777777777778,
              "#fb9f3a"
             ],
             [
              0.8888888888888888,
              "#fdca26"
             ],
             [
              1,
              "#f0f921"
             ]
            ],
            "type": "histogram2d"
           }
          ],
          "histogram2dcontour": [
           {
            "colorbar": {
             "outlinewidth": 0,
             "ticks": ""
            },
            "colorscale": [
             [
              0,
              "#0d0887"
             ],
             [
              0.1111111111111111,
              "#46039f"
             ],
             [
              0.2222222222222222,
              "#7201a8"
             ],
             [
              0.3333333333333333,
              "#9c179e"
             ],
             [
              0.4444444444444444,
              "#bd3786"
             ],
             [
              0.5555555555555556,
              "#d8576b"
             ],
             [
              0.6666666666666666,
              "#ed7953"
             ],
             [
              0.7777777777777778,
              "#fb9f3a"
             ],
             [
              0.8888888888888888,
              "#fdca26"
             ],
             [
              1,
              "#f0f921"
             ]
            ],
            "type": "histogram2dcontour"
           }
          ],
          "mesh3d": [
           {
            "colorbar": {
             "outlinewidth": 0,
             "ticks": ""
            },
            "type": "mesh3d"
           }
          ],
          "parcoords": [
           {
            "line": {
             "colorbar": {
              "outlinewidth": 0,
              "ticks": ""
             }
            },
            "type": "parcoords"
           }
          ],
          "pie": [
           {
            "automargin": true,
            "type": "pie"
           }
          ],
          "scatter": [
           {
            "fillpattern": {
             "fillmode": "overlay",
             "size": 10,
             "solidity": 0.2
            },
            "type": "scatter"
           }
          ],
          "scatter3d": [
           {
            "line": {
             "colorbar": {
              "outlinewidth": 0,
              "ticks": ""
             }
            },
            "marker": {
             "colorbar": {
              "outlinewidth": 0,
              "ticks": ""
             }
            },
            "type": "scatter3d"
           }
          ],
          "scattercarpet": [
           {
            "marker": {
             "colorbar": {
              "outlinewidth": 0,
              "ticks": ""
             }
            },
            "type": "scattercarpet"
           }
          ],
          "scattergeo": [
           {
            "marker": {
             "colorbar": {
              "outlinewidth": 0,
              "ticks": ""
             }
            },
            "type": "scattergeo"
           }
          ],
          "scattergl": [
           {
            "marker": {
             "colorbar": {
              "outlinewidth": 0,
              "ticks": ""
             }
            },
            "type": "scattergl"
           }
          ],
          "scattermapbox": [
           {
            "marker": {
             "colorbar": {
              "outlinewidth": 0,
              "ticks": ""
             }
            },
            "type": "scattermapbox"
           }
          ],
          "scatterpolar": [
           {
            "marker": {
             "colorbar": {
              "outlinewidth": 0,
              "ticks": ""
             }
            },
            "type": "scatterpolar"
           }
          ],
          "scatterpolargl": [
           {
            "marker": {
             "colorbar": {
              "outlinewidth": 0,
              "ticks": ""
             }
            },
            "type": "scatterpolargl"
           }
          ],
          "scatterternary": [
           {
            "marker": {
             "colorbar": {
              "outlinewidth": 0,
              "ticks": ""
             }
            },
            "type": "scatterternary"
           }
          ],
          "surface": [
           {
            "colorbar": {
             "outlinewidth": 0,
             "ticks": ""
            },
            "colorscale": [
             [
              0,
              "#0d0887"
             ],
             [
              0.1111111111111111,
              "#46039f"
             ],
             [
              0.2222222222222222,
              "#7201a8"
             ],
             [
              0.3333333333333333,
              "#9c179e"
             ],
             [
              0.4444444444444444,
              "#bd3786"
             ],
             [
              0.5555555555555556,
              "#d8576b"
             ],
             [
              0.6666666666666666,
              "#ed7953"
             ],
             [
              0.7777777777777778,
              "#fb9f3a"
             ],
             [
              0.8888888888888888,
              "#fdca26"
             ],
             [
              1,
              "#f0f921"
             ]
            ],
            "type": "surface"
           }
          ],
          "table": [
           {
            "cells": {
             "fill": {
              "color": "#EBF0F8"
             },
             "line": {
              "color": "white"
             }
            },
            "header": {
             "fill": {
              "color": "#C8D4E3"
             },
             "line": {
              "color": "white"
             }
            },
            "type": "table"
           }
          ]
         },
         "layout": {
          "annotationdefaults": {
           "arrowcolor": "#2a3f5f",
           "arrowhead": 0,
           "arrowwidth": 1
          },
          "autotypenumbers": "strict",
          "coloraxis": {
           "colorbar": {
            "outlinewidth": 0,
            "ticks": ""
           }
          },
          "colorscale": {
           "diverging": [
            [
             0,
             "#8e0152"
            ],
            [
             0.1,
             "#c51b7d"
            ],
            [
             0.2,
             "#de77ae"
            ],
            [
             0.3,
             "#f1b6da"
            ],
            [
             0.4,
             "#fde0ef"
            ],
            [
             0.5,
             "#f7f7f7"
            ],
            [
             0.6,
             "#e6f5d0"
            ],
            [
             0.7,
             "#b8e186"
            ],
            [
             0.8,
             "#7fbc41"
            ],
            [
             0.9,
             "#4d9221"
            ],
            [
             1,
             "#276419"
            ]
           ],
           "sequential": [
            [
             0,
             "#0d0887"
            ],
            [
             0.1111111111111111,
             "#46039f"
            ],
            [
             0.2222222222222222,
             "#7201a8"
            ],
            [
             0.3333333333333333,
             "#9c179e"
            ],
            [
             0.4444444444444444,
             "#bd3786"
            ],
            [
             0.5555555555555556,
             "#d8576b"
            ],
            [
             0.6666666666666666,
             "#ed7953"
            ],
            [
             0.7777777777777778,
             "#fb9f3a"
            ],
            [
             0.8888888888888888,
             "#fdca26"
            ],
            [
             1,
             "#f0f921"
            ]
           ],
           "sequentialminus": [
            [
             0,
             "#0d0887"
            ],
            [
             0.1111111111111111,
             "#46039f"
            ],
            [
             0.2222222222222222,
             "#7201a8"
            ],
            [
             0.3333333333333333,
             "#9c179e"
            ],
            [
             0.4444444444444444,
             "#bd3786"
            ],
            [
             0.5555555555555556,
             "#d8576b"
            ],
            [
             0.6666666666666666,
             "#ed7953"
            ],
            [
             0.7777777777777778,
             "#fb9f3a"
            ],
            [
             0.8888888888888888,
             "#fdca26"
            ],
            [
             1,
             "#f0f921"
            ]
           ]
          },
          "colorway": [
           "#636efa",
           "#EF553B",
           "#00cc96",
           "#ab63fa",
           "#FFA15A",
           "#19d3f3",
           "#FF6692",
           "#B6E880",
           "#FF97FF",
           "#FECB52"
          ],
          "font": {
           "color": "#2a3f5f"
          },
          "geo": {
           "bgcolor": "white",
           "lakecolor": "white",
           "landcolor": "#E5ECF6",
           "showlakes": true,
           "showland": true,
           "subunitcolor": "white"
          },
          "hoverlabel": {
           "align": "left"
          },
          "hovermode": "closest",
          "mapbox": {
           "style": "light"
          },
          "paper_bgcolor": "white",
          "plot_bgcolor": "#E5ECF6",
          "polar": {
           "angularaxis": {
            "gridcolor": "white",
            "linecolor": "white",
            "ticks": ""
           },
           "bgcolor": "#E5ECF6",
           "radialaxis": {
            "gridcolor": "white",
            "linecolor": "white",
            "ticks": ""
           }
          },
          "scene": {
           "xaxis": {
            "backgroundcolor": "#E5ECF6",
            "gridcolor": "white",
            "gridwidth": 2,
            "linecolor": "white",
            "showbackground": true,
            "ticks": "",
            "zerolinecolor": "white"
           },
           "yaxis": {
            "backgroundcolor": "#E5ECF6",
            "gridcolor": "white",
            "gridwidth": 2,
            "linecolor": "white",
            "showbackground": true,
            "ticks": "",
            "zerolinecolor": "white"
           },
           "zaxis": {
            "backgroundcolor": "#E5ECF6",
            "gridcolor": "white",
            "gridwidth": 2,
            "linecolor": "white",
            "showbackground": true,
            "ticks": "",
            "zerolinecolor": "white"
           }
          },
          "shapedefaults": {
           "line": {
            "color": "#2a3f5f"
           }
          },
          "ternary": {
           "aaxis": {
            "gridcolor": "white",
            "linecolor": "white",
            "ticks": ""
           },
           "baxis": {
            "gridcolor": "white",
            "linecolor": "white",
            "ticks": ""
           },
           "bgcolor": "#E5ECF6",
           "caxis": {
            "gridcolor": "white",
            "linecolor": "white",
            "ticks": ""
           }
          },
          "title": {
           "x": 0.05
          },
          "xaxis": {
           "automargin": true,
           "gridcolor": "white",
           "linecolor": "white",
           "ticks": "",
           "title": {
            "standoff": 15
           },
           "zerolinecolor": "white",
           "zerolinewidth": 2
          },
          "yaxis": {
           "automargin": true,
           "gridcolor": "white",
           "linecolor": "white",
           "ticks": "",
           "title": {
            "standoff": 15
           },
           "zerolinecolor": "white",
           "zerolinewidth": 2
          }
         }
        },
        "title": {
         "text": "Distribuição de Alunos por Raça/Cor"
        },
        "xaxis": {
         "anchor": "y",
         "domain": [
          0,
          1
         ],
         "title": {
          "text": "index"
         }
        },
        "yaxis": {
         "anchor": "x",
         "domain": [
          0,
          1
         ],
         "title": {
          "text": "Número de Alunos"
         }
        }
       }
      }
     },
     "metadata": {},
     "output_type": "display_data"
    }
   ],
   "source": [
    "# Selecionando as colunas relacionadas por raça/cor\n",
    "raca_colunas = [col for col in df_aluno.columns if col.startswith('raca_aluno')]\n",
    "\n",
    "# Calculando a contagem de alunos para cada raça/cor\n",
    "distribuicao_raca = df_aluno[raca_colunas].sum()\n",
    "\n",
    "# Transformando o índice para um formato mais amigável e removendo 'None'\n",
    "distribuicao_raca.index = distribuicao_raca.index.str.replace('raca_aluno_', '')\n",
    "\n",
    "# Filtrando a categoria 'None'\n",
    "distribuicao_raca = distribuicao_raca[distribuicao_raca.index != 'None']\n",
    "\n",
    "# Mapeando as categorias para os novos rótulos\n",
    "raca_mapeamento = {\n",
    "    'B': 'Branco',\n",
    "    'A': 'Amarelo',\n",
    "    'I': 'Indígena',\n",
    "    'N': 'Preto',\n",
    "    'P': 'Preto',\n",
    "    'R': 'Pardo'\n",
    "}\n",
    "\n",
    "# Aplicando o mapeamento de categorias\n",
    "distribuicao_raca.index = distribuicao_raca.index.map(raca_mapeamento)\n",
    "\n",
    "# Agrupando as categorias \"N\" e \"P\" como \"Preto\"\n",
    "distribuicao_raca_agrupada = distribuicao_raca.groupby(distribuicao_raca.index).sum()\n",
    "\n",
    "# Gráfico de barras para mostrar a distribuição por raça/cor\n",
    "fig_raca = px.bar(distribuicao_raca_agrupada, \n",
    "                  x=distribuicao_raca_agrupada.index, \n",
    "                  y=distribuicao_raca_agrupada.values,\n",
    "                  title='Distribuição de Alunos por Raça/Cor',\n",
    "                  labels={'y': 'Número de Alunos', 'x': 'Raça/Cor'},\n",
    "                  color_discrete_sequence=['#1f77b4'])\n",
    "\n",
    "# Ajustando o layout com fundo escuro\n",
    "fig_raca.update_layout(\n",
    "    plot_bgcolor='rgba(0, 0, 0, 0)',  \n",
    "    paper_bgcolor='rgba(0, 0, 0, 0)', \n",
    "    font_color='white'                \n",
    ")\n",
    "\n",
    "# Exibindo o gráfico\n",
    "fig_raca.show()\n"
   ]
  },
  {
   "cell_type": "markdown",
   "metadata": {},
   "source": [
    "<font color='orange'>**Análise da Distribuição por Raça/Cor:**</font>\n",
    "\n",
    "A distribuição de alunos por raça/cor mostra algumas categorias com uma predominância clara e outras com presença muito pequena:\n",
    "\n",
    "1. **Branco (1027 alunos)**: É a categoria mais representada, sugerindo que a maioria dos alunos se identifica com essa classificação.\n",
    "   \n",
    "2. **Pardo (865 alunos)**: A segunda categoria mais representada, com uma quantidade significativa de alunos.\n",
    "\n",
    "3. **Preto (327 alunos)**: Essa categoria que é a soma da \"P\" e \"N\" tem uma representação menor que as duas maiores categorias.\n",
    "\n",
    "5. **Outras Categorias (Amarelo, Indígina)**:\n",
    "   - **Amarelo (17 alunos)** representa uma quantidade muito pequena de alunos.\n",
    "   - **Indígina (1 aluno)** tem a menor representação possível, indicando apenas um aluno nessa categoria.\n",
    "\n",
    "**Considerações:**\n",
    "\n",
    "- **Concentração**: As categorias \"Branco\" e \"Pardo\" dominam a distribuição, representando a maioria dos alunos.\n",
    "- **Diversidade**: A presença de categorias menores como \"Amarelo\", \"Indígina\" e \"Preto\" indica uma diversidade na classificação racial, mas com uma concentração evidente em poucas categorias.\n"
   ]
  },
  {
   "cell_type": "code",
   "execution_count": 30,
   "metadata": {},
   "outputs": [
    {
     "data": {
      "application/vnd.plotly.v1+json": {
       "config": {
        "plotlyServerURL": "https://plot.ly"
       },
       "data": [
        {
         "alignmentgroup": "True",
         "hovertemplate": "Status=Presença (%)<br>Raça/Cor=%{x}<br>Porcentagem=%{y}<extra></extra>",
         "legendgroup": "Presença (%)",
         "marker": {
          "color": "#1f77b4",
          "pattern": {
           "shape": ""
          }
         },
         "name": "Presença (%)",
         "offsetgroup": "Presença (%)",
         "orientation": "v",
         "showlegend": true,
         "textposition": "auto",
         "type": "bar",
         "x": [
          "Amarelo",
          "Branco",
          "Indígena",
          "Preto",
          "Pardo"
         ],
         "xaxis": "x",
         "y": [
          93.75,
          83.91261171797419,
          100,
          85.06787330316742,
          80.76923076923077
         ],
         "yaxis": "y"
        },
        {
         "alignmentgroup": "True",
         "hovertemplate": "Status=Faltas (%)<br>Raça/Cor=%{x}<br>Porcentagem=%{y}<extra></extra>",
         "legendgroup": "Faltas (%)",
         "marker": {
          "color": "#FF7F7F",
          "pattern": {
           "shape": ""
          }
         },
         "name": "Faltas (%)",
         "offsetgroup": "Faltas (%)",
         "orientation": "v",
         "showlegend": true,
         "textposition": "auto",
         "type": "bar",
         "x": [
          "Amarelo",
          "Branco",
          "Indígena",
          "Preto",
          "Pardo"
         ],
         "xaxis": "x",
         "y": [
          6.25,
          16.087388282025813,
          0,
          14.932126696832583,
          19.230769230769226
         ],
         "yaxis": "y"
        }
       ],
       "layout": {
        "barmode": "stack",
        "font": {
         "color": "white"
        },
        "legend": {
         "title": {
          "text": "Status"
         },
         "tracegroupgap": 0
        },
        "paper_bgcolor": "rgba(0, 0, 0, 0)",
        "plot_bgcolor": "rgba(0, 0, 0, 0)",
        "template": {
         "data": {
          "bar": [
           {
            "error_x": {
             "color": "#2a3f5f"
            },
            "error_y": {
             "color": "#2a3f5f"
            },
            "marker": {
             "line": {
              "color": "#E5ECF6",
              "width": 0.5
             },
             "pattern": {
              "fillmode": "overlay",
              "size": 10,
              "solidity": 0.2
             }
            },
            "type": "bar"
           }
          ],
          "barpolar": [
           {
            "marker": {
             "line": {
              "color": "#E5ECF6",
              "width": 0.5
             },
             "pattern": {
              "fillmode": "overlay",
              "size": 10,
              "solidity": 0.2
             }
            },
            "type": "barpolar"
           }
          ],
          "carpet": [
           {
            "aaxis": {
             "endlinecolor": "#2a3f5f",
             "gridcolor": "white",
             "linecolor": "white",
             "minorgridcolor": "white",
             "startlinecolor": "#2a3f5f"
            },
            "baxis": {
             "endlinecolor": "#2a3f5f",
             "gridcolor": "white",
             "linecolor": "white",
             "minorgridcolor": "white",
             "startlinecolor": "#2a3f5f"
            },
            "type": "carpet"
           }
          ],
          "choropleth": [
           {
            "colorbar": {
             "outlinewidth": 0,
             "ticks": ""
            },
            "type": "choropleth"
           }
          ],
          "contour": [
           {
            "colorbar": {
             "outlinewidth": 0,
             "ticks": ""
            },
            "colorscale": [
             [
              0,
              "#0d0887"
             ],
             [
              0.1111111111111111,
              "#46039f"
             ],
             [
              0.2222222222222222,
              "#7201a8"
             ],
             [
              0.3333333333333333,
              "#9c179e"
             ],
             [
              0.4444444444444444,
              "#bd3786"
             ],
             [
              0.5555555555555556,
              "#d8576b"
             ],
             [
              0.6666666666666666,
              "#ed7953"
             ],
             [
              0.7777777777777778,
              "#fb9f3a"
             ],
             [
              0.8888888888888888,
              "#fdca26"
             ],
             [
              1,
              "#f0f921"
             ]
            ],
            "type": "contour"
           }
          ],
          "contourcarpet": [
           {
            "colorbar": {
             "outlinewidth": 0,
             "ticks": ""
            },
            "type": "contourcarpet"
           }
          ],
          "heatmap": [
           {
            "colorbar": {
             "outlinewidth": 0,
             "ticks": ""
            },
            "colorscale": [
             [
              0,
              "#0d0887"
             ],
             [
              0.1111111111111111,
              "#46039f"
             ],
             [
              0.2222222222222222,
              "#7201a8"
             ],
             [
              0.3333333333333333,
              "#9c179e"
             ],
             [
              0.4444444444444444,
              "#bd3786"
             ],
             [
              0.5555555555555556,
              "#d8576b"
             ],
             [
              0.6666666666666666,
              "#ed7953"
             ],
             [
              0.7777777777777778,
              "#fb9f3a"
             ],
             [
              0.8888888888888888,
              "#fdca26"
             ],
             [
              1,
              "#f0f921"
             ]
            ],
            "type": "heatmap"
           }
          ],
          "heatmapgl": [
           {
            "colorbar": {
             "outlinewidth": 0,
             "ticks": ""
            },
            "colorscale": [
             [
              0,
              "#0d0887"
             ],
             [
              0.1111111111111111,
              "#46039f"
             ],
             [
              0.2222222222222222,
              "#7201a8"
             ],
             [
              0.3333333333333333,
              "#9c179e"
             ],
             [
              0.4444444444444444,
              "#bd3786"
             ],
             [
              0.5555555555555556,
              "#d8576b"
             ],
             [
              0.6666666666666666,
              "#ed7953"
             ],
             [
              0.7777777777777778,
              "#fb9f3a"
             ],
             [
              0.8888888888888888,
              "#fdca26"
             ],
             [
              1,
              "#f0f921"
             ]
            ],
            "type": "heatmapgl"
           }
          ],
          "histogram": [
           {
            "marker": {
             "pattern": {
              "fillmode": "overlay",
              "size": 10,
              "solidity": 0.2
             }
            },
            "type": "histogram"
           }
          ],
          "histogram2d": [
           {
            "colorbar": {
             "outlinewidth": 0,
             "ticks": ""
            },
            "colorscale": [
             [
              0,
              "#0d0887"
             ],
             [
              0.1111111111111111,
              "#46039f"
             ],
             [
              0.2222222222222222,
              "#7201a8"
             ],
             [
              0.3333333333333333,
              "#9c179e"
             ],
             [
              0.4444444444444444,
              "#bd3786"
             ],
             [
              0.5555555555555556,
              "#d8576b"
             ],
             [
              0.6666666666666666,
              "#ed7953"
             ],
             [
              0.7777777777777778,
              "#fb9f3a"
             ],
             [
              0.8888888888888888,
              "#fdca26"
             ],
             [
              1,
              "#f0f921"
             ]
            ],
            "type": "histogram2d"
           }
          ],
          "histogram2dcontour": [
           {
            "colorbar": {
             "outlinewidth": 0,
             "ticks": ""
            },
            "colorscale": [
             [
              0,
              "#0d0887"
             ],
             [
              0.1111111111111111,
              "#46039f"
             ],
             [
              0.2222222222222222,
              "#7201a8"
             ],
             [
              0.3333333333333333,
              "#9c179e"
             ],
             [
              0.4444444444444444,
              "#bd3786"
             ],
             [
              0.5555555555555556,
              "#d8576b"
             ],
             [
              0.6666666666666666,
              "#ed7953"
             ],
             [
              0.7777777777777778,
              "#fb9f3a"
             ],
             [
              0.8888888888888888,
              "#fdca26"
             ],
             [
              1,
              "#f0f921"
             ]
            ],
            "type": "histogram2dcontour"
           }
          ],
          "mesh3d": [
           {
            "colorbar": {
             "outlinewidth": 0,
             "ticks": ""
            },
            "type": "mesh3d"
           }
          ],
          "parcoords": [
           {
            "line": {
             "colorbar": {
              "outlinewidth": 0,
              "ticks": ""
             }
            },
            "type": "parcoords"
           }
          ],
          "pie": [
           {
            "automargin": true,
            "type": "pie"
           }
          ],
          "scatter": [
           {
            "fillpattern": {
             "fillmode": "overlay",
             "size": 10,
             "solidity": 0.2
            },
            "type": "scatter"
           }
          ],
          "scatter3d": [
           {
            "line": {
             "colorbar": {
              "outlinewidth": 0,
              "ticks": ""
             }
            },
            "marker": {
             "colorbar": {
              "outlinewidth": 0,
              "ticks": ""
             }
            },
            "type": "scatter3d"
           }
          ],
          "scattercarpet": [
           {
            "marker": {
             "colorbar": {
              "outlinewidth": 0,
              "ticks": ""
             }
            },
            "type": "scattercarpet"
           }
          ],
          "scattergeo": [
           {
            "marker": {
             "colorbar": {
              "outlinewidth": 0,
              "ticks": ""
             }
            },
            "type": "scattergeo"
           }
          ],
          "scattergl": [
           {
            "marker": {
             "colorbar": {
              "outlinewidth": 0,
              "ticks": ""
             }
            },
            "type": "scattergl"
           }
          ],
          "scattermapbox": [
           {
            "marker": {
             "colorbar": {
              "outlinewidth": 0,
              "ticks": ""
             }
            },
            "type": "scattermapbox"
           }
          ],
          "scatterpolar": [
           {
            "marker": {
             "colorbar": {
              "outlinewidth": 0,
              "ticks": ""
             }
            },
            "type": "scatterpolar"
           }
          ],
          "scatterpolargl": [
           {
            "marker": {
             "colorbar": {
              "outlinewidth": 0,
              "ticks": ""
             }
            },
            "type": "scatterpolargl"
           }
          ],
          "scatterternary": [
           {
            "marker": {
             "colorbar": {
              "outlinewidth": 0,
              "ticks": ""
             }
            },
            "type": "scatterternary"
           }
          ],
          "surface": [
           {
            "colorbar": {
             "outlinewidth": 0,
             "ticks": ""
            },
            "colorscale": [
             [
              0,
              "#0d0887"
             ],
             [
              0.1111111111111111,
              "#46039f"
             ],
             [
              0.2222222222222222,
              "#7201a8"
             ],
             [
              0.3333333333333333,
              "#9c179e"
             ],
             [
              0.4444444444444444,
              "#bd3786"
             ],
             [
              0.5555555555555556,
              "#d8576b"
             ],
             [
              0.6666666666666666,
              "#ed7953"
             ],
             [
              0.7777777777777778,
              "#fb9f3a"
             ],
             [
              0.8888888888888888,
              "#fdca26"
             ],
             [
              1,
              "#f0f921"
             ]
            ],
            "type": "surface"
           }
          ],
          "table": [
           {
            "cells": {
             "fill": {
              "color": "#EBF0F8"
             },
             "line": {
              "color": "white"
             }
            },
            "header": {
             "fill": {
              "color": "#C8D4E3"
             },
             "line": {
              "color": "white"
             }
            },
            "type": "table"
           }
          ]
         },
         "layout": {
          "annotationdefaults": {
           "arrowcolor": "#2a3f5f",
           "arrowhead": 0,
           "arrowwidth": 1
          },
          "autotypenumbers": "strict",
          "coloraxis": {
           "colorbar": {
            "outlinewidth": 0,
            "ticks": ""
           }
          },
          "colorscale": {
           "diverging": [
            [
             0,
             "#8e0152"
            ],
            [
             0.1,
             "#c51b7d"
            ],
            [
             0.2,
             "#de77ae"
            ],
            [
             0.3,
             "#f1b6da"
            ],
            [
             0.4,
             "#fde0ef"
            ],
            [
             0.5,
             "#f7f7f7"
            ],
            [
             0.6,
             "#e6f5d0"
            ],
            [
             0.7,
             "#b8e186"
            ],
            [
             0.8,
             "#7fbc41"
            ],
            [
             0.9,
             "#4d9221"
            ],
            [
             1,
             "#276419"
            ]
           ],
           "sequential": [
            [
             0,
             "#0d0887"
            ],
            [
             0.1111111111111111,
             "#46039f"
            ],
            [
             0.2222222222222222,
             "#7201a8"
            ],
            [
             0.3333333333333333,
             "#9c179e"
            ],
            [
             0.4444444444444444,
             "#bd3786"
            ],
            [
             0.5555555555555556,
             "#d8576b"
            ],
            [
             0.6666666666666666,
             "#ed7953"
            ],
            [
             0.7777777777777778,
             "#fb9f3a"
            ],
            [
             0.8888888888888888,
             "#fdca26"
            ],
            [
             1,
             "#f0f921"
            ]
           ],
           "sequentialminus": [
            [
             0,
             "#0d0887"
            ],
            [
             0.1111111111111111,
             "#46039f"
            ],
            [
             0.2222222222222222,
             "#7201a8"
            ],
            [
             0.3333333333333333,
             "#9c179e"
            ],
            [
             0.4444444444444444,
             "#bd3786"
            ],
            [
             0.5555555555555556,
             "#d8576b"
            ],
            [
             0.6666666666666666,
             "#ed7953"
            ],
            [
             0.7777777777777778,
             "#fb9f3a"
            ],
            [
             0.8888888888888888,
             "#fdca26"
            ],
            [
             1,
             "#f0f921"
            ]
           ]
          },
          "colorway": [
           "#636efa",
           "#EF553B",
           "#00cc96",
           "#ab63fa",
           "#FFA15A",
           "#19d3f3",
           "#FF6692",
           "#B6E880",
           "#FF97FF",
           "#FECB52"
          ],
          "font": {
           "color": "#2a3f5f"
          },
          "geo": {
           "bgcolor": "white",
           "lakecolor": "white",
           "landcolor": "#E5ECF6",
           "showlakes": true,
           "showland": true,
           "subunitcolor": "white"
          },
          "hoverlabel": {
           "align": "left"
          },
          "hovermode": "closest",
          "mapbox": {
           "style": "light"
          },
          "paper_bgcolor": "white",
          "plot_bgcolor": "#E5ECF6",
          "polar": {
           "angularaxis": {
            "gridcolor": "white",
            "linecolor": "white",
            "ticks": ""
           },
           "bgcolor": "#E5ECF6",
           "radialaxis": {
            "gridcolor": "white",
            "linecolor": "white",
            "ticks": ""
           }
          },
          "scene": {
           "xaxis": {
            "backgroundcolor": "#E5ECF6",
            "gridcolor": "white",
            "gridwidth": 2,
            "linecolor": "white",
            "showbackground": true,
            "ticks": "",
            "zerolinecolor": "white"
           },
           "yaxis": {
            "backgroundcolor": "#E5ECF6",
            "gridcolor": "white",
            "gridwidth": 2,
            "linecolor": "white",
            "showbackground": true,
            "ticks": "",
            "zerolinecolor": "white"
           },
           "zaxis": {
            "backgroundcolor": "#E5ECF6",
            "gridcolor": "white",
            "gridwidth": 2,
            "linecolor": "white",
            "showbackground": true,
            "ticks": "",
            "zerolinecolor": "white"
           }
          },
          "shapedefaults": {
           "line": {
            "color": "#2a3f5f"
           }
          },
          "ternary": {
           "aaxis": {
            "gridcolor": "white",
            "linecolor": "white",
            "ticks": ""
           },
           "baxis": {
            "gridcolor": "white",
            "linecolor": "white",
            "ticks": ""
           },
           "bgcolor": "#E5ECF6",
           "caxis": {
            "gridcolor": "white",
            "linecolor": "white",
            "ticks": ""
           }
          },
          "title": {
           "x": 0.05
          },
          "xaxis": {
           "automargin": true,
           "gridcolor": "white",
           "linecolor": "white",
           "ticks": "",
           "title": {
            "standoff": 15
           },
           "zerolinecolor": "white",
           "zerolinewidth": 2
          },
          "yaxis": {
           "automargin": true,
           "gridcolor": "white",
           "linecolor": "white",
           "ticks": "",
           "title": {
            "standoff": 15
           },
           "zerolinecolor": "white",
           "zerolinewidth": 2
          }
         }
        },
        "title": {
         "text": "Porcentagem de Presença e Faltas por Raça/Cor"
        },
        "xaxis": {
         "anchor": "y",
         "domain": [
          0,
          1
         ],
         "title": {
          "text": "Raça/Cor"
         }
        },
        "yaxis": {
         "anchor": "x",
         "domain": [
          0,
          1
         ],
         "title": {
          "text": "Porcentagem"
         }
        }
       }
      }
     },
     "metadata": {},
     "output_type": "display_data"
    }
   ],
   "source": [
    "\n",
    "df_aluno2 = df_aluno.drop_duplicates(subset=['id_aluno'], keep='first')\n",
    "df_diarioFreq2 = df_diarioFreq.drop_duplicates(subset=['id_aluno'], keep='first')\n",
    "\n",
    "# Mapeando as categorias de raça/cor\n",
    "raca_mapeamento = {\n",
    "    'B': 'Branco',\n",
    "    'A': 'Amarelo',\n",
    "    'I': 'Indígena',\n",
    "    'N': 'Preto',\n",
    "    'P': 'Preto',\n",
    "    'R': 'Pardo'\n",
    "}\n",
    "\n",
    "# Filtrando as colunas de raça/cor, excluindo 'None'\n",
    "raca_colunas = [col for col in df_aluno2.columns if col.startswith('raca_aluno') and col != 'raca_aluno_None']\n",
    "\n",
    "# Juntando as tabelas de frequência e aluno para trazer a raça/cor dos alunos\n",
    "df_raca_freq = pd.merge(df_diarioFreq2, df_aluno2[['id_aluno'] + raca_colunas], on='id_aluno', how='inner')\n",
    "\n",
    "# Calculando a porcentagem de presença por raça/cor\n",
    "presenca_por_raca = {}\n",
    "for raca in raca_colunas:\n",
    "    media_presenca = df_raca_freq.groupby(raca)['presente'].mean()[1] * 100  # A média de presença para alunos com aquela raça\n",
    "    \n",
    "    # Usando o mapeamento diretamente na string do nome da raça\n",
    "    raca_label = raca.replace('raca_aluno_', '')\n",
    "    raca_label = raca_mapeamento.get(raca_label, raca_label)  # Aplicando o mapeamento\n",
    "    presenca_por_raca[raca_label] = media_presenca\n",
    "\n",
    "# Criando o DataFrame para presença e faltas\n",
    "df_presenca_raca = pd.DataFrame.from_dict(presenca_por_raca, orient='index', columns=['Presença (%)'])\n",
    "df_presenca_raca['Faltas (%)'] = 100 - df_presenca_raca['Presença (%)']\n",
    "\n",
    "# Transformando o DataFrame para o formato adequado para o gráfico\n",
    "df_presenca_raca_melt = df_presenca_raca.reset_index().melt(id_vars='index', \n",
    "                                                            value_vars=['Presença (%)', 'Faltas (%)'], \n",
    "                                                            var_name='Status', \n",
    "                                                            value_name='Porcentagem')\n",
    "\n",
    "# Gráfico de barras empilhadas para presença e faltas por raça/cor\n",
    "fig_raca_freq = px.bar(df_presenca_raca_melt, \n",
    "                       x='index', \n",
    "                       y='Porcentagem', \n",
    "                       color='Status', \n",
    "                       title='Porcentagem de Presença e Faltas por Raça/Cor',\n",
    "                       labels={'index': 'Raça/Cor'},\n",
    "                       color_discrete_sequence=['#1f77b4', '#FF7F7F'])  # Azul para presença, vermelho claro para faltas\n",
    "\n",
    "# Ajustando o layout com fundo escuro\n",
    "fig_raca_freq.update_layout(\n",
    "    plot_bgcolor='rgba(0, 0, 0, 0)',  \n",
    "    paper_bgcolor='rgba(0, 0, 0, 0)', \n",
    "    font_color='white',               \n",
    "    barmode='stack'                   \n",
    ")\n",
    "\n",
    "# Exibindo o gráfico\n",
    "fig_raca_freq.show()\n"
   ]
  },
  {
   "cell_type": "markdown",
   "metadata": {},
   "source": [
    "<font color='orange'>**Análise Breve da Correlação entre Raça/Cor e Presença/Faltas:**</font>\n",
    "\n",
    "A análise da **presença e faltas por raça/cor** revela algumas diferenças interessantes entre os grupos:\n",
    "\n",
    "1. **Amarelo (Presença: 93,75%, Faltas: 6,25%)**:\n",
    "   - Este grupo tem uma das maiores taxas de presença, indicando um engajamento forte nas aulas.\n",
    "   - A baixa taxa de faltas sugere que os alunos dessa categoria estão bastante comprometidos com suas atividades.\n",
    "\n",
    "2. **Branco (Presença: 83,91%, Faltas: 16,09%)**:\n",
    "   - A categoria mais populosa (com 1027 alunos) tem uma taxa de presença moderadamente alta, mas as faltas, com **16%**, indicam que cerca de um quinto dos alunos dessa categoria estão ausentes regularmente.\n",
    "\n",
    "3. **Indígina (Presença: 100%, Faltas: 0%)**:\n",
    "   - Embora haja apenas um aluno nessa categoria, esse aluno tem **100% de presença** e nenhuma falta, o que é um comportamento notável, mas deve ser interpretado com cautela devido ao tamanho da amostra (apenas um aluno).\n",
    "\n",
    "4. **Preto (Presença: 85,06%, Faltas: 14,94%)**:\n",
    "   - A taxa de presença e faltas nesse grupo é quase idêntica à da categoria \"B\", o que sugere um comportamento semelhante de engajamento e absenteísmo.\n",
    "\n",
    "7. **Pardo (Presença: 80,76%, Faltas: 19,24%)**:\n",
    "   - A presença nesse grupo é similar à das categorias \"B\" e \"P\", com uma taxa de faltas de **15%**. O comportamento de presença está dentro da média observada para os outros grupos.\n",
    "\n",
    "**Considerações Finais:**\n",
    "\n",
    "- **Grupo Indígina**: Apesar de ser uma amostra muito pequena, esse grupo se destaca por ter **100% de presença**. Isso pode ser um outlier devido ao tamanho reduzido da amostra.\n",
    "- **Grupo Amarelo**: Com a maior taxa de presença (**93,75%**), os alunos dessa categoria parecem ser os mais assíduos.\n",
    "- **Outros Grupos (Branco, Preto, Pardo)**: A maioria dos grupos tem taxas de presença na faixa de **85% a 80%** e faltas entre **15% e 20%**, o que indica um comportamento relativamente consistente entre esses alunos."
   ]
  },
  {
   "cell_type": "markdown",
   "metadata": {},
   "source": [
    "<font color='orange'>**Tratando a TbProfessor:**</font>\n",
    "\n",
    "1. **Leitura dos Dados**: O arquivo CSV é carregado com `pd.read_csv()`, ignorando erros de linhas.\n",
    "   \n",
    "2. **Seleção e Renomeação de Colunas**: As colunas de interesse são selecionadas e renomeadas para facilitar a manipulação.\n",
    "   \n",
    "3. **Conversão de Datas**: A coluna `data_nascimento_professor` é convertida para o formato `datetime`, e a idade do professor é calculada subtraindo o ano de nascimento do ano atual.\n",
    "\n",
    "4. **Lógica Condicional para Sexo**: A coluna `Sexo` é convertida para uma variável numérica, onde `0` representa masculino e `1` feminino.\n",
    "\n",
    "5. **Preenchimento de Valores Nulos**: A coluna `cargo_professor` tem seus valores nulos preenchidos com `\"Nenhum\"`.\n",
    "\n",
    "6. **Variáveis Dummy**: As colunas `raca_professor` e `cargo_professor` são transformadas em variáveis dummy para permitir análises categóricas.\n"
   ]
  },
  {
   "cell_type": "code",
   "execution_count": 23,
   "metadata": {},
   "outputs": [
    {
     "data": {
      "text/html": [
       "<div>\n",
       "<style scoped>\n",
       "    .dataframe tbody tr th:only-of-type {\n",
       "        vertical-align: middle;\n",
       "    }\n",
       "\n",
       "    .dataframe tbody tr th {\n",
       "        vertical-align: top;\n",
       "    }\n",
       "\n",
       "    .dataframe thead th {\n",
       "        text-align: right;\n",
       "    }\n",
       "</style>\n",
       "<table border=\"1\" class=\"dataframe\">\n",
       "  <thead>\n",
       "    <tr style=\"text-align: right;\">\n",
       "      <th></th>\n",
       "      <th>id_professor</th>\n",
       "      <th>data_nascimento_professor</th>\n",
       "      <th>Sexo</th>\n",
       "      <th>idade_professor</th>\n",
       "      <th>sexo_professor</th>\n",
       "      <th>raca_professor_A</th>\n",
       "      <th>raca_professor_B</th>\n",
       "      <th>raca_professor_N</th>\n",
       "      <th>raca_professor_P</th>\n",
       "      <th>raca_professor_R</th>\n",
       "      <th>cargo_professor_Nenhum</th>\n",
       "      <th>cargo_professor_Neuropsicóloga</th>\n",
       "      <th>cargo_professor_Professor</th>\n",
       "      <th>cargo_professor_Professor Inglês</th>\n",
       "      <th>cargo_professor_Professor de Inglês</th>\n",
       "      <th>cargo_professor_Professor de Matemática</th>\n",
       "      <th>cargo_professor_Professora</th>\n",
       "      <th>cargo_professor_Professora de Inglês</th>\n",
       "      <th>cargo_professor_Professora de Matemática</th>\n",
       "      <th>cargo_professor_Professora/Coordenadora</th>\n",
       "      <th>cargo_professor_Psicóloga</th>\n",
       "      <th>cargo_professor_Psicólogo</th>\n",
       "      <th>cargo_professor_professora</th>\n",
       "    </tr>\n",
       "  </thead>\n",
       "  <tbody>\n",
       "    <tr>\n",
       "      <th>31</th>\n",
       "      <td>33</td>\n",
       "      <td>2003-01-13 02:00:00</td>\n",
       "      <td>M</td>\n",
       "      <td>21</td>\n",
       "      <td>0</td>\n",
       "      <td>False</td>\n",
       "      <td>False</td>\n",
       "      <td>False</td>\n",
       "      <td>True</td>\n",
       "      <td>False</td>\n",
       "      <td>False</td>\n",
       "      <td>False</td>\n",
       "      <td>False</td>\n",
       "      <td>True</td>\n",
       "      <td>False</td>\n",
       "      <td>False</td>\n",
       "      <td>False</td>\n",
       "      <td>False</td>\n",
       "      <td>False</td>\n",
       "      <td>False</td>\n",
       "      <td>False</td>\n",
       "      <td>False</td>\n",
       "      <td>False</td>\n",
       "    </tr>\n",
       "    <tr>\n",
       "      <th>35</th>\n",
       "      <td>37</td>\n",
       "      <td>1983-03-03 03:00:00</td>\n",
       "      <td>M</td>\n",
       "      <td>41</td>\n",
       "      <td>0</td>\n",
       "      <td>False</td>\n",
       "      <td>True</td>\n",
       "      <td>False</td>\n",
       "      <td>False</td>\n",
       "      <td>False</td>\n",
       "      <td>False</td>\n",
       "      <td>False</td>\n",
       "      <td>False</td>\n",
       "      <td>False</td>\n",
       "      <td>False</td>\n",
       "      <td>True</td>\n",
       "      <td>False</td>\n",
       "      <td>False</td>\n",
       "      <td>False</td>\n",
       "      <td>False</td>\n",
       "      <td>False</td>\n",
       "      <td>False</td>\n",
       "      <td>False</td>\n",
       "    </tr>\n",
       "    <tr>\n",
       "      <th>39</th>\n",
       "      <td>41</td>\n",
       "      <td>1995-10-16 02:00:00</td>\n",
       "      <td>F</td>\n",
       "      <td>29</td>\n",
       "      <td>1</td>\n",
       "      <td>False</td>\n",
       "      <td>True</td>\n",
       "      <td>False</td>\n",
       "      <td>False</td>\n",
       "      <td>False</td>\n",
       "      <td>True</td>\n",
       "      <td>False</td>\n",
       "      <td>False</td>\n",
       "      <td>False</td>\n",
       "      <td>False</td>\n",
       "      <td>False</td>\n",
       "      <td>False</td>\n",
       "      <td>False</td>\n",
       "      <td>False</td>\n",
       "      <td>False</td>\n",
       "      <td>False</td>\n",
       "      <td>False</td>\n",
       "      <td>False</td>\n",
       "    </tr>\n",
       "    <tr>\n",
       "      <th>22</th>\n",
       "      <td>24</td>\n",
       "      <td>1991-01-16 02:00:00</td>\n",
       "      <td>F</td>\n",
       "      <td>33</td>\n",
       "      <td>1</td>\n",
       "      <td>False</td>\n",
       "      <td>False</td>\n",
       "      <td>False</td>\n",
       "      <td>False</td>\n",
       "      <td>True</td>\n",
       "      <td>False</td>\n",
       "      <td>False</td>\n",
       "      <td>False</td>\n",
       "      <td>False</td>\n",
       "      <td>False</td>\n",
       "      <td>False</td>\n",
       "      <td>True</td>\n",
       "      <td>False</td>\n",
       "      <td>False</td>\n",
       "      <td>False</td>\n",
       "      <td>False</td>\n",
       "      <td>False</td>\n",
       "      <td>False</td>\n",
       "    </tr>\n",
       "    <tr>\n",
       "      <th>43</th>\n",
       "      <td>45</td>\n",
       "      <td>2002-11-16 02:00:00</td>\n",
       "      <td>F</td>\n",
       "      <td>22</td>\n",
       "      <td>1</td>\n",
       "      <td>False</td>\n",
       "      <td>False</td>\n",
       "      <td>False</td>\n",
       "      <td>False</td>\n",
       "      <td>True</td>\n",
       "      <td>True</td>\n",
       "      <td>False</td>\n",
       "      <td>False</td>\n",
       "      <td>False</td>\n",
       "      <td>False</td>\n",
       "      <td>False</td>\n",
       "      <td>False</td>\n",
       "      <td>False</td>\n",
       "      <td>False</td>\n",
       "      <td>False</td>\n",
       "      <td>False</td>\n",
       "      <td>False</td>\n",
       "      <td>False</td>\n",
       "    </tr>\n",
       "  </tbody>\n",
       "</table>\n",
       "</div>"
      ],
      "text/plain": [
       "   id_professor data_nascimento_professor Sexo  idade_professor  \\\n",
       "31           33       2003-01-13 02:00:00    M               21   \n",
       "35           37       1983-03-03 03:00:00    M               41   \n",
       "39           41       1995-10-16 02:00:00    F               29   \n",
       "22           24       1991-01-16 02:00:00    F               33   \n",
       "43           45       2002-11-16 02:00:00    F               22   \n",
       "\n",
       "    sexo_professor  raca_professor_A  raca_professor_B  raca_professor_N  \\\n",
       "31               0             False             False             False   \n",
       "35               0             False              True             False   \n",
       "39               1             False              True             False   \n",
       "22               1             False             False             False   \n",
       "43               1             False             False             False   \n",
       "\n",
       "    raca_professor_P  raca_professor_R  cargo_professor_Nenhum  \\\n",
       "31              True             False                   False   \n",
       "35             False             False                   False   \n",
       "39             False             False                    True   \n",
       "22             False              True                   False   \n",
       "43             False              True                    True   \n",
       "\n",
       "    cargo_professor_Neuropsicóloga  cargo_professor_Professor  \\\n",
       "31                           False                      False   \n",
       "35                           False                      False   \n",
       "39                           False                      False   \n",
       "22                           False                      False   \n",
       "43                           False                      False   \n",
       "\n",
       "    cargo_professor_Professor Inglês  cargo_professor_Professor de Inglês  \\\n",
       "31                              True                                False   \n",
       "35                             False                                False   \n",
       "39                             False                                False   \n",
       "22                             False                                False   \n",
       "43                             False                                False   \n",
       "\n",
       "    cargo_professor_Professor de Matemática  cargo_professor_Professora  \\\n",
       "31                                    False                       False   \n",
       "35                                     True                       False   \n",
       "39                                    False                       False   \n",
       "22                                    False                        True   \n",
       "43                                    False                       False   \n",
       "\n",
       "    cargo_professor_Professora de Inglês  \\\n",
       "31                                 False   \n",
       "35                                 False   \n",
       "39                                 False   \n",
       "22                                 False   \n",
       "43                                 False   \n",
       "\n",
       "    cargo_professor_Professora de Matemática  \\\n",
       "31                                     False   \n",
       "35                                     False   \n",
       "39                                     False   \n",
       "22                                     False   \n",
       "43                                     False   \n",
       "\n",
       "    cargo_professor_Professora/Coordenadora  cargo_professor_Psicóloga  \\\n",
       "31                                    False                      False   \n",
       "35                                    False                      False   \n",
       "39                                    False                      False   \n",
       "22                                    False                      False   \n",
       "43                                    False                      False   \n",
       "\n",
       "    cargo_professor_Psicólogo  cargo_professor_professora  \n",
       "31                      False                       False  \n",
       "35                      False                       False  \n",
       "39                      False                       False  \n",
       "22                      False                       False  \n",
       "43                      False                       False  "
      ]
     },
     "execution_count": 23,
     "metadata": {},
     "output_type": "execute_result"
    }
   ],
   "source": [
    "# Lendo o CSV com pandas\n",
    "df_professor = pd.read_csv(local_arquivos_analise + \"TbProfessor/Originais anonimizados/TbProfessor.csv\")\n",
    "\n",
    "# Selecionando e renomeando as colunas\n",
    "df_professor = df_professor[['IdProfessor', 'DataNascimento', 'Sexo', 'CorRaca', 'Cargo']].rename(\n",
    "    columns={\n",
    "        'IdProfessor': 'id_professor',\n",
    "        'DataNascimento': 'data_nascimento_professor',\n",
    "        'CorRaca': 'raca_professor',\n",
    "        'Cargo': 'cargo_professor'\n",
    "    }\n",
    ")\n",
    "\n",
    "# Convertendo a coluna de data de nascimento para datetime\n",
    "df_professor['data_nascimento_professor'] = pd.to_datetime(df_professor['data_nascimento_professor'], format=\"%Y-%m-%d %H:%M:%S\", errors='coerce')\n",
    "\n",
    "# Calculando a idade do professor\n",
    "df_professor['idade_professor'] = datetime.now().year - df_professor['data_nascimento_professor'].dt.year\n",
    "\n",
    "# Aplicando a lógica condicional para a coluna 'Sexo'\n",
    "df_professor['sexo_professor'] = df_professor['Sexo'].apply(lambda x: 0 if x == \"M\" else 1)\n",
    "\n",
    "# Preenchendo valores nulos na coluna 'Cargo'\n",
    "df_professor['cargo_professor'] = df_professor['cargo_professor'].fillna(\"Nenhum\")\n",
    "\n",
    "# Criando variáveis dummy para as colunas 'raca_professor' e 'cargo_professor'\n",
    "df_professor = pd.get_dummies(df_professor, columns=['raca_professor', 'cargo_professor'])\n",
    "\n",
    "# Convertendo as colunas 'id_professor' para o tipo (string)\n",
    "df_professor['id_professor'] = df_professor['id_professor'].astype(str)\n",
    "\n",
    "# Exibindo uma amostra de 5 linhas\n",
    "df_professor.sample(5)\n"
   ]
  },
  {
   "cell_type": "markdown",
   "metadata": {},
   "source": [
    "<font color='orange'>Realizando os merges:</font>\n",
    "\n",
    "1. **pd.merge**: Utilizamos o `pd.merge()` para unir as tabelas, especificando as colunas em comum (`on=\"id_aluno\"`, `on=\"id_diario_aula\"`, etc.).\n",
    "   \n",
    "2. **how=\"left\"**: O tipo de junção utilizado é o `left join`, o que significa que todos os registros da tabela à esquerda (neste caso, `df_diarioFreq` inicialmente) serão mantidos, mesmo que não haja correspondência nas tabelas à direita.\n",
    "\n",
    "3. **Ordem dos Merges**: A junção é feita passo a passo, primeiro unindo `df_diarioFreq` com `df_aluno`, e depois adicionando as demais tabelas (como `df_diarioAula`, `df_professor`, etc.).\n",
    "\n",
    "4. **Verificação do Resultado**: Ao final, uma amostra de 5 registros é exibida para verificar o resultado.\n",
    "\n",
    "Este código consolidará todas as informações das tabelas em um único DataFrame (`df_raw`), deixando todos os dados unificados para análises mais completas."
   ]
  },
  {
   "cell_type": "code",
   "execution_count": 24,
   "metadata": {},
   "outputs": [
    {
     "data": {
      "text/html": [
       "<div>\n",
       "<style scoped>\n",
       "    .dataframe tbody tr th:only-of-type {\n",
       "        vertical-align: middle;\n",
       "    }\n",
       "\n",
       "    .dataframe tbody tr th {\n",
       "        vertical-align: top;\n",
       "    }\n",
       "\n",
       "    .dataframe thead th {\n",
       "        text-align: right;\n",
       "    }\n",
       "</style>\n",
       "<table border=\"1\" class=\"dataframe\">\n",
       "  <thead>\n",
       "    <tr style=\"text-align: right;\">\n",
       "      <th></th>\n",
       "      <th>id_diario_aula</th>\n",
       "      <th>id_aluno</th>\n",
       "      <th>StPresencaFalta</th>\n",
       "      <th>presente</th>\n",
       "      <th>data_nascimento_aluno</th>\n",
       "      <th>Sexo_x</th>\n",
       "      <th>IdPai</th>\n",
       "      <th>IdMae</th>\n",
       "      <th>CorRaca</th>\n",
       "      <th>idade_aluno</th>\n",
       "      <th>sexo_aluno</th>\n",
       "      <th>tem_pai</th>\n",
       "      <th>tem_mae</th>\n",
       "      <th>raca_aluno_A</th>\n",
       "      <th>raca_aluno_B</th>\n",
       "      <th>raca_aluno_I</th>\n",
       "      <th>raca_aluno_N</th>\n",
       "      <th>raca_aluno_None</th>\n",
       "      <th>raca_aluno_P</th>\n",
       "      <th>raca_aluno_R</th>\n",
       "      <th>id_diario</th>\n",
       "      <th>data_aula</th>\n",
       "      <th>num_aula</th>\n",
       "      <th>conteudo_ministrado</th>\n",
       "      <th>id_professor</th>\n",
       "      <th>dia_semana_0</th>\n",
       "      <th>dia_semana_1</th>\n",
       "      <th>dia_semana_2</th>\n",
       "      <th>dia_semana_3</th>\n",
       "      <th>dia_semana_4</th>\n",
       "      <th>dia_semana_5</th>\n",
       "      <th>dia_semana_6</th>\n",
       "      <th>data_nascimento_professor</th>\n",
       "      <th>Sexo_y</th>\n",
       "      <th>idade_professor</th>\n",
       "      <th>sexo_professor</th>\n",
       "      <th>raca_professor_A</th>\n",
       "      <th>raca_professor_B</th>\n",
       "      <th>raca_professor_N</th>\n",
       "      <th>raca_professor_P</th>\n",
       "      <th>raca_professor_R</th>\n",
       "      <th>cargo_professor_Nenhum</th>\n",
       "      <th>cargo_professor_Neuropsicóloga</th>\n",
       "      <th>cargo_professor_Professor</th>\n",
       "      <th>cargo_professor_Professor Inglês</th>\n",
       "      <th>cargo_professor_Professor de Inglês</th>\n",
       "      <th>cargo_professor_Professor de Matemática</th>\n",
       "      <th>cargo_professor_Professora</th>\n",
       "      <th>cargo_professor_Professora de Inglês</th>\n",
       "      <th>cargo_professor_Professora de Matemática</th>\n",
       "      <th>cargo_professor_Professora/Coordenadora</th>\n",
       "      <th>cargo_professor_Psicóloga</th>\n",
       "      <th>cargo_professor_Psicólogo</th>\n",
       "      <th>cargo_professor_professora</th>\n",
       "      <th>id_turma</th>\n",
       "      <th>id_disciplina</th>\n",
       "      <th>id_serie</th>\n",
       "      <th>id_periodo</th>\n",
       "      <th>TurnoPrincipal</th>\n",
       "      <th>turno_turma</th>\n",
       "    </tr>\n",
       "  </thead>\n",
       "  <tbody>\n",
       "    <tr>\n",
       "      <th>259398</th>\n",
       "      <td>21172</td>\n",
       "      <td>1535</td>\n",
       "      <td>P</td>\n",
       "      <td>1</td>\n",
       "      <td>2012-10-04 00:00:00</td>\n",
       "      <td>F</td>\n",
       "      <td>1298.0</td>\n",
       "      <td>NaN</td>\n",
       "      <td>R</td>\n",
       "      <td>12.0</td>\n",
       "      <td>1.0</td>\n",
       "      <td>1.0</td>\n",
       "      <td>0.0</td>\n",
       "      <td>False</td>\n",
       "      <td>False</td>\n",
       "      <td>False</td>\n",
       "      <td>False</td>\n",
       "      <td>False</td>\n",
       "      <td>False</td>\n",
       "      <td>True</td>\n",
       "      <td>2142</td>\n",
       "      <td>2024-03-12</td>\n",
       "      <td>3</td>\n",
       "      <td>Atividades de autoconhecimento</td>\n",
       "      <td>13</td>\n",
       "      <td>False</td>\n",
       "      <td>True</td>\n",
       "      <td>False</td>\n",
       "      <td>False</td>\n",
       "      <td>False</td>\n",
       "      <td>False</td>\n",
       "      <td>False</td>\n",
       "      <td>1976-06-08 03:00:00</td>\n",
       "      <td>F</td>\n",
       "      <td>48.0</td>\n",
       "      <td>1.0</td>\n",
       "      <td>False</td>\n",
       "      <td>True</td>\n",
       "      <td>False</td>\n",
       "      <td>False</td>\n",
       "      <td>False</td>\n",
       "      <td>False</td>\n",
       "      <td>False</td>\n",
       "      <td>False</td>\n",
       "      <td>False</td>\n",
       "      <td>False</td>\n",
       "      <td>False</td>\n",
       "      <td>False</td>\n",
       "      <td>False</td>\n",
       "      <td>False</td>\n",
       "      <td>False</td>\n",
       "      <td>False</td>\n",
       "      <td>False</td>\n",
       "      <td>True</td>\n",
       "      <td>631</td>\n",
       "      <td>19</td>\n",
       "      <td>8</td>\n",
       "      <td>7</td>\n",
       "      <td>M</td>\n",
       "      <td>0</td>\n",
       "    </tr>\n",
       "    <tr>\n",
       "      <th>180356</th>\n",
       "      <td>14524</td>\n",
       "      <td>1177</td>\n",
       "      <td>P</td>\n",
       "      <td>1</td>\n",
       "      <td>2012-03-12 00:00:00</td>\n",
       "      <td>M</td>\n",
       "      <td>NaN</td>\n",
       "      <td>964</td>\n",
       "      <td>B</td>\n",
       "      <td>12.0</td>\n",
       "      <td>0.0</td>\n",
       "      <td>0.0</td>\n",
       "      <td>1.0</td>\n",
       "      <td>False</td>\n",
       "      <td>True</td>\n",
       "      <td>False</td>\n",
       "      <td>False</td>\n",
       "      <td>False</td>\n",
       "      <td>False</td>\n",
       "      <td>False</td>\n",
       "      <td>1361</td>\n",
       "      <td>2023-05-15</td>\n",
       "      <td>2</td>\n",
       "      <td>Procrastinação \\r\\nO que é? Como Parar de proc...</td>\n",
       "      <td>9</td>\n",
       "      <td>True</td>\n",
       "      <td>False</td>\n",
       "      <td>False</td>\n",
       "      <td>False</td>\n",
       "      <td>False</td>\n",
       "      <td>False</td>\n",
       "      <td>False</td>\n",
       "      <td>1977-01-09 03:00:00</td>\n",
       "      <td>F</td>\n",
       "      <td>47.0</td>\n",
       "      <td>1.0</td>\n",
       "      <td>False</td>\n",
       "      <td>True</td>\n",
       "      <td>False</td>\n",
       "      <td>False</td>\n",
       "      <td>False</td>\n",
       "      <td>False</td>\n",
       "      <td>False</td>\n",
       "      <td>False</td>\n",
       "      <td>False</td>\n",
       "      <td>False</td>\n",
       "      <td>False</td>\n",
       "      <td>True</td>\n",
       "      <td>False</td>\n",
       "      <td>False</td>\n",
       "      <td>False</td>\n",
       "      <td>False</td>\n",
       "      <td>False</td>\n",
       "      <td>False</td>\n",
       "      <td>489</td>\n",
       "      <td>21</td>\n",
       "      <td>15</td>\n",
       "      <td>6</td>\n",
       "      <td>Z</td>\n",
       "      <td>3</td>\n",
       "    </tr>\n",
       "    <tr>\n",
       "      <th>66166</th>\n",
       "      <td>5776</td>\n",
       "      <td>988</td>\n",
       "      <td>P</td>\n",
       "      <td>1</td>\n",
       "      <td>2005-08-10 03:00:00</td>\n",
       "      <td>F</td>\n",
       "      <td>NaN</td>\n",
       "      <td>817</td>\n",
       "      <td>B</td>\n",
       "      <td>19.0</td>\n",
       "      <td>1.0</td>\n",
       "      <td>0.0</td>\n",
       "      <td>1.0</td>\n",
       "      <td>False</td>\n",
       "      <td>True</td>\n",
       "      <td>False</td>\n",
       "      <td>False</td>\n",
       "      <td>False</td>\n",
       "      <td>False</td>\n",
       "      <td>False</td>\n",
       "      <td>463</td>\n",
       "      <td>2022-05-02</td>\n",
       "      <td>9</td>\n",
       "      <td>CORREÇÃO DA P1</td>\n",
       "      <td>8</td>\n",
       "      <td>True</td>\n",
       "      <td>False</td>\n",
       "      <td>False</td>\n",
       "      <td>False</td>\n",
       "      <td>False</td>\n",
       "      <td>False</td>\n",
       "      <td>False</td>\n",
       "      <td>1983-05-11 03:00:00</td>\n",
       "      <td>M</td>\n",
       "      <td>41.0</td>\n",
       "      <td>0.0</td>\n",
       "      <td>True</td>\n",
       "      <td>False</td>\n",
       "      <td>False</td>\n",
       "      <td>False</td>\n",
       "      <td>False</td>\n",
       "      <td>False</td>\n",
       "      <td>False</td>\n",
       "      <td>True</td>\n",
       "      <td>False</td>\n",
       "      <td>False</td>\n",
       "      <td>False</td>\n",
       "      <td>False</td>\n",
       "      <td>False</td>\n",
       "      <td>False</td>\n",
       "      <td>False</td>\n",
       "      <td>False</td>\n",
       "      <td>False</td>\n",
       "      <td>False</td>\n",
       "      <td>409</td>\n",
       "      <td>4</td>\n",
       "      <td>24</td>\n",
       "      <td>5</td>\n",
       "      <td>M</td>\n",
       "      <td>0</td>\n",
       "    </tr>\n",
       "    <tr>\n",
       "      <th>38036</th>\n",
       "      <td>3475</td>\n",
       "      <td>240</td>\n",
       "      <td>P</td>\n",
       "      <td>1</td>\n",
       "      <td>2008-10-19 00:00:00</td>\n",
       "      <td>M</td>\n",
       "      <td>NaN</td>\n",
       "      <td>229</td>\n",
       "      <td>R</td>\n",
       "      <td>16.0</td>\n",
       "      <td>0.0</td>\n",
       "      <td>0.0</td>\n",
       "      <td>1.0</td>\n",
       "      <td>False</td>\n",
       "      <td>False</td>\n",
       "      <td>False</td>\n",
       "      <td>False</td>\n",
       "      <td>False</td>\n",
       "      <td>False</td>\n",
       "      <td>True</td>\n",
       "      <td>138</td>\n",
       "      <td>2021-11-26</td>\n",
       "      <td>15</td>\n",
       "      <td>Avaliação Diagnóstica de Língua Portuguesa (Se...</td>\n",
       "      <td>12</td>\n",
       "      <td>False</td>\n",
       "      <td>False</td>\n",
       "      <td>False</td>\n",
       "      <td>False</td>\n",
       "      <td>True</td>\n",
       "      <td>False</td>\n",
       "      <td>False</td>\n",
       "      <td>1978-03-02 03:00:00</td>\n",
       "      <td>F</td>\n",
       "      <td>46.0</td>\n",
       "      <td>1.0</td>\n",
       "      <td>False</td>\n",
       "      <td>False</td>\n",
       "      <td>False</td>\n",
       "      <td>False</td>\n",
       "      <td>True</td>\n",
       "      <td>False</td>\n",
       "      <td>False</td>\n",
       "      <td>False</td>\n",
       "      <td>False</td>\n",
       "      <td>False</td>\n",
       "      <td>False</td>\n",
       "      <td>True</td>\n",
       "      <td>False</td>\n",
       "      <td>False</td>\n",
       "      <td>False</td>\n",
       "      <td>False</td>\n",
       "      <td>False</td>\n",
       "      <td>False</td>\n",
       "      <td>100</td>\n",
       "      <td>1</td>\n",
       "      <td>11</td>\n",
       "      <td>4</td>\n",
       "      <td>M</td>\n",
       "      <td>0</td>\n",
       "    </tr>\n",
       "    <tr>\n",
       "      <th>164156</th>\n",
       "      <td>13201</td>\n",
       "      <td>1627</td>\n",
       "      <td>P</td>\n",
       "      <td>1</td>\n",
       "      <td>2006-07-03 00:00:00</td>\n",
       "      <td>F</td>\n",
       "      <td>1303.0</td>\n",
       "      <td>NaN</td>\n",
       "      <td>R</td>\n",
       "      <td>18.0</td>\n",
       "      <td>1.0</td>\n",
       "      <td>1.0</td>\n",
       "      <td>0.0</td>\n",
       "      <td>False</td>\n",
       "      <td>False</td>\n",
       "      <td>False</td>\n",
       "      <td>False</td>\n",
       "      <td>False</td>\n",
       "      <td>False</td>\n",
       "      <td>True</td>\n",
       "      <td>1136</td>\n",
       "      <td>2023-04-10</td>\n",
       "      <td>4</td>\n",
       "      <td>Ortografia (sinônimos e antônimos)</td>\n",
       "      <td>auticorreção</td>\n",
       "      <td>True</td>\n",
       "      <td>False</td>\n",
       "      <td>False</td>\n",
       "      <td>False</td>\n",
       "      <td>False</td>\n",
       "      <td>False</td>\n",
       "      <td>False</td>\n",
       "      <td>NaT</td>\n",
       "      <td>NaN</td>\n",
       "      <td>NaN</td>\n",
       "      <td>NaN</td>\n",
       "      <td>NaN</td>\n",
       "      <td>NaN</td>\n",
       "      <td>NaN</td>\n",
       "      <td>NaN</td>\n",
       "      <td>NaN</td>\n",
       "      <td>NaN</td>\n",
       "      <td>NaN</td>\n",
       "      <td>NaN</td>\n",
       "      <td>NaN</td>\n",
       "      <td>NaN</td>\n",
       "      <td>NaN</td>\n",
       "      <td>NaN</td>\n",
       "      <td>NaN</td>\n",
       "      <td>NaN</td>\n",
       "      <td>NaN</td>\n",
       "      <td>NaN</td>\n",
       "      <td>NaN</td>\n",
       "      <td>NaN</td>\n",
       "      <td>522</td>\n",
       "      <td>1</td>\n",
       "      <td>24</td>\n",
       "      <td>6</td>\n",
       "      <td>Z</td>\n",
       "      <td>3</td>\n",
       "    </tr>\n",
       "  </tbody>\n",
       "</table>\n",
       "</div>"
      ],
      "text/plain": [
       "        id_diario_aula  id_aluno StPresencaFalta  presente  \\\n",
       "259398           21172      1535               P         1   \n",
       "180356           14524      1177               P         1   \n",
       "66166             5776       988               P         1   \n",
       "38036             3475       240               P         1   \n",
       "164156           13201      1627               P         1   \n",
       "\n",
       "       data_nascimento_aluno Sexo_x   IdPai IdMae CorRaca  idade_aluno  \\\n",
       "259398   2012-10-04 00:00:00      F  1298.0   NaN       R         12.0   \n",
       "180356   2012-03-12 00:00:00      M     NaN   964       B         12.0   \n",
       "66166    2005-08-10 03:00:00      F     NaN   817       B         19.0   \n",
       "38036    2008-10-19 00:00:00      M     NaN   229       R         16.0   \n",
       "164156   2006-07-03 00:00:00      F  1303.0   NaN       R         18.0   \n",
       "\n",
       "        sexo_aluno  tem_pai  tem_mae raca_aluno_A raca_aluno_B raca_aluno_I  \\\n",
       "259398         1.0      1.0      0.0        False        False        False   \n",
       "180356         0.0      0.0      1.0        False         True        False   \n",
       "66166          1.0      0.0      1.0        False         True        False   \n",
       "38036          0.0      0.0      1.0        False        False        False   \n",
       "164156         1.0      1.0      0.0        False        False        False   \n",
       "\n",
       "       raca_aluno_N raca_aluno_None raca_aluno_P raca_aluno_R  id_diario  \\\n",
       "259398        False           False        False         True       2142   \n",
       "180356        False           False        False        False       1361   \n",
       "66166         False           False        False        False        463   \n",
       "38036         False           False        False         True        138   \n",
       "164156        False           False        False         True       1136   \n",
       "\n",
       "        data_aula  num_aula  \\\n",
       "259398 2024-03-12         3   \n",
       "180356 2023-05-15         2   \n",
       "66166  2022-05-02         9   \n",
       "38036  2021-11-26        15   \n",
       "164156 2023-04-10         4   \n",
       "\n",
       "                                      conteudo_ministrado   id_professor  \\\n",
       "259398                    Atividades de autoconhecimento              13   \n",
       "180356  Procrastinação \\r\\nO que é? Como Parar de proc...              9   \n",
       "66166                                      CORREÇÃO DA P1              8   \n",
       "38036   Avaliação Diagnóstica de Língua Portuguesa (Se...             12   \n",
       "164156                 Ortografia (sinônimos e antônimos)   auticorreção   \n",
       "\n",
       "        dia_semana_0  dia_semana_1  dia_semana_2  dia_semana_3  dia_semana_4  \\\n",
       "259398         False          True         False         False         False   \n",
       "180356          True         False         False         False         False   \n",
       "66166           True         False         False         False         False   \n",
       "38036          False         False         False         False          True   \n",
       "164156          True         False         False         False         False   \n",
       "\n",
       "        dia_semana_5  dia_semana_6 data_nascimento_professor Sexo_y  \\\n",
       "259398         False         False       1976-06-08 03:00:00      F   \n",
       "180356         False         False       1977-01-09 03:00:00      F   \n",
       "66166          False         False       1983-05-11 03:00:00      M   \n",
       "38036          False         False       1978-03-02 03:00:00      F   \n",
       "164156         False         False                       NaT    NaN   \n",
       "\n",
       "        idade_professor  sexo_professor raca_professor_A raca_professor_B  \\\n",
       "259398             48.0             1.0            False             True   \n",
       "180356             47.0             1.0            False             True   \n",
       "66166              41.0             0.0             True            False   \n",
       "38036              46.0             1.0            False            False   \n",
       "164156              NaN             NaN              NaN              NaN   \n",
       "\n",
       "       raca_professor_N raca_professor_P raca_professor_R  \\\n",
       "259398            False            False            False   \n",
       "180356            False            False            False   \n",
       "66166             False            False            False   \n",
       "38036             False            False             True   \n",
       "164156              NaN              NaN              NaN   \n",
       "\n",
       "       cargo_professor_Nenhum cargo_professor_Neuropsicóloga  \\\n",
       "259398                  False                          False   \n",
       "180356                  False                          False   \n",
       "66166                   False                          False   \n",
       "38036                   False                          False   \n",
       "164156                    NaN                            NaN   \n",
       "\n",
       "       cargo_professor_Professor cargo_professor_Professor Inglês  \\\n",
       "259398                     False                            False   \n",
       "180356                     False                            False   \n",
       "66166                       True                            False   \n",
       "38036                      False                            False   \n",
       "164156                       NaN                              NaN   \n",
       "\n",
       "       cargo_professor_Professor de Inglês  \\\n",
       "259398                               False   \n",
       "180356                               False   \n",
       "66166                                False   \n",
       "38036                                False   \n",
       "164156                                 NaN   \n",
       "\n",
       "       cargo_professor_Professor de Matemática cargo_professor_Professora  \\\n",
       "259398                                   False                      False   \n",
       "180356                                   False                       True   \n",
       "66166                                    False                      False   \n",
       "38036                                    False                       True   \n",
       "164156                                     NaN                        NaN   \n",
       "\n",
       "       cargo_professor_Professora de Inglês  \\\n",
       "259398                                False   \n",
       "180356                                False   \n",
       "66166                                 False   \n",
       "38036                                 False   \n",
       "164156                                  NaN   \n",
       "\n",
       "       cargo_professor_Professora de Matemática  \\\n",
       "259398                                    False   \n",
       "180356                                    False   \n",
       "66166                                     False   \n",
       "38036                                     False   \n",
       "164156                                      NaN   \n",
       "\n",
       "       cargo_professor_Professora/Coordenadora cargo_professor_Psicóloga  \\\n",
       "259398                                   False                     False   \n",
       "180356                                   False                     False   \n",
       "66166                                    False                     False   \n",
       "38036                                    False                     False   \n",
       "164156                                     NaN                       NaN   \n",
       "\n",
       "       cargo_professor_Psicólogo cargo_professor_professora  id_turma  \\\n",
       "259398                     False                       True       631   \n",
       "180356                     False                      False       489   \n",
       "66166                      False                      False       409   \n",
       "38036                      False                      False       100   \n",
       "164156                       NaN                        NaN       522   \n",
       "\n",
       "        id_disciplina  id_serie  id_periodo TurnoPrincipal  turno_turma  \n",
       "259398             19         8           7              M            0  \n",
       "180356             21        15           6              Z            3  \n",
       "66166               4        24           5              M            0  \n",
       "38036               1        11           4              M            0  \n",
       "164156              1        24           6              Z            3  "
      ]
     },
     "execution_count": 24,
     "metadata": {},
     "output_type": "execute_result"
    }
   ],
   "source": [
    "# Realizando os merges (junção) usando pandas\n",
    "df_raw = pd.merge(df_diarioFreq, df_aluno, on=\"id_aluno\", how=\"left\")\n",
    "df_raw = pd.merge(df_raw, df_diarioAula, on=\"id_diario_aula\", how=\"left\")\n",
    "df_raw = pd.merge(df_raw, df_professor, on=\"id_professor\", how=\"left\")\n",
    "df_raw = pd.merge(df_raw, df_diario, on=\"id_diario\", how=\"left\")\n",
    "df_raw = pd.merge(df_raw, df_turma, on=\"id_turma\", how=\"left\")\n",
    "\n",
    "# Exibindo uma amostra dos dados após o merge\n",
    "df_raw.sample(5)\n"
   ]
  },
  {
   "cell_type": "code",
   "execution_count": 25,
   "metadata": {},
   "outputs": [
    {
     "data": {
      "text/html": [
       "<div>\n",
       "<style scoped>\n",
       "    .dataframe tbody tr th:only-of-type {\n",
       "        vertical-align: middle;\n",
       "    }\n",
       "\n",
       "    .dataframe tbody tr th {\n",
       "        vertical-align: top;\n",
       "    }\n",
       "\n",
       "    .dataframe thead th {\n",
       "        text-align: right;\n",
       "    }\n",
       "</style>\n",
       "<table border=\"1\" class=\"dataframe\">\n",
       "  <thead>\n",
       "    <tr style=\"text-align: right;\">\n",
       "      <th></th>\n",
       "      <th>data_aula</th>\n",
       "      <th>dia_semana_0</th>\n",
       "      <th>dia_semana_1</th>\n",
       "      <th>dia_semana_2</th>\n",
       "      <th>dia_semana_3</th>\n",
       "      <th>dia_semana_4</th>\n",
       "      <th>dia_semana_5</th>\n",
       "      <th>dia_semana_6</th>\n",
       "      <th>num_aula</th>\n",
       "      <th>conteudo_ministrado</th>\n",
       "      <th>id_aluno</th>\n",
       "      <th>sexo_aluno</th>\n",
       "      <th>tem_pai</th>\n",
       "      <th>tem_mae</th>\n",
       "      <th>raca_aluno_A</th>\n",
       "      <th>raca_aluno_B</th>\n",
       "      <th>raca_aluno_I</th>\n",
       "      <th>raca_aluno_N</th>\n",
       "      <th>raca_aluno_None</th>\n",
       "      <th>raca_aluno_P</th>\n",
       "      <th>raca_aluno_R</th>\n",
       "      <th>idade_aluno</th>\n",
       "      <th>id_professor</th>\n",
       "      <th>sexo_professor</th>\n",
       "      <th>raca_professor_A</th>\n",
       "      <th>raca_professor_B</th>\n",
       "      <th>raca_professor_N</th>\n",
       "      <th>raca_professor_P</th>\n",
       "      <th>raca_professor_R</th>\n",
       "      <th>cargo_professor_Nenhum</th>\n",
       "      <th>cargo_professor_Neuropsicóloga</th>\n",
       "      <th>cargo_professor_Professor</th>\n",
       "      <th>cargo_professor_Professor Inglês</th>\n",
       "      <th>cargo_professor_Professor de Inglês</th>\n",
       "      <th>cargo_professor_Professor de Matemática</th>\n",
       "      <th>cargo_professor_Professora</th>\n",
       "      <th>cargo_professor_Professora de Inglês</th>\n",
       "      <th>cargo_professor_Professora de Matemática</th>\n",
       "      <th>cargo_professor_Professora/Coordenadora</th>\n",
       "      <th>cargo_professor_Psicóloga</th>\n",
       "      <th>cargo_professor_Psicólogo</th>\n",
       "      <th>cargo_professor_professora</th>\n",
       "      <th>idade_professor</th>\n",
       "      <th>id_turma</th>\n",
       "      <th>id_disciplina</th>\n",
       "      <th>id_serie</th>\n",
       "      <th>id_periodo</th>\n",
       "      <th>turno_turma</th>\n",
       "      <th>presente</th>\n",
       "    </tr>\n",
       "  </thead>\n",
       "  <tbody>\n",
       "    <tr>\n",
       "      <th>227000</th>\n",
       "      <td>2023-09-21</td>\n",
       "      <td>False</td>\n",
       "      <td>False</td>\n",
       "      <td>False</td>\n",
       "      <td>True</td>\n",
       "      <td>False</td>\n",
       "      <td>False</td>\n",
       "      <td>False</td>\n",
       "      <td>8</td>\n",
       "      <td>AVALIAÇÃO DE PORTUGUÊS (P3).</td>\n",
       "      <td>1167</td>\n",
       "      <td>1.0</td>\n",
       "      <td>0.0</td>\n",
       "      <td>1.0</td>\n",
       "      <td>False</td>\n",
       "      <td>True</td>\n",
       "      <td>False</td>\n",
       "      <td>False</td>\n",
       "      <td>False</td>\n",
       "      <td>False</td>\n",
       "      <td>False</td>\n",
       "      <td>16.0</td>\n",
       "      <td>5</td>\n",
       "      <td>1.0</td>\n",
       "      <td>False</td>\n",
       "      <td>True</td>\n",
       "      <td>False</td>\n",
       "      <td>False</td>\n",
       "      <td>False</td>\n",
       "      <td>False</td>\n",
       "      <td>False</td>\n",
       "      <td>False</td>\n",
       "      <td>False</td>\n",
       "      <td>False</td>\n",
       "      <td>False</td>\n",
       "      <td>True</td>\n",
       "      <td>False</td>\n",
       "      <td>False</td>\n",
       "      <td>False</td>\n",
       "      <td>False</td>\n",
       "      <td>False</td>\n",
       "      <td>False</td>\n",
       "      <td>55.0</td>\n",
       "      <td>580</td>\n",
       "      <td>1</td>\n",
       "      <td>25</td>\n",
       "      <td>6</td>\n",
       "      <td>0</td>\n",
       "      <td>1</td>\n",
       "    </tr>\n",
       "    <tr>\n",
       "      <th>242745</th>\n",
       "      <td>2023-11-07</td>\n",
       "      <td>False</td>\n",
       "      <td>True</td>\n",
       "      <td>False</td>\n",
       "      <td>False</td>\n",
       "      <td>False</td>\n",
       "      <td>False</td>\n",
       "      <td>False</td>\n",
       "      <td>6</td>\n",
       "      <td>Planejar e executar pesquisa amostral sobre qu...</td>\n",
       "      <td>280</td>\n",
       "      <td>0.0</td>\n",
       "      <td>0.0</td>\n",
       "      <td>1.0</td>\n",
       "      <td>False</td>\n",
       "      <td>True</td>\n",
       "      <td>False</td>\n",
       "      <td>False</td>\n",
       "      <td>False</td>\n",
       "      <td>False</td>\n",
       "      <td>False</td>\n",
       "      <td>15.0</td>\n",
       "      <td>8</td>\n",
       "      <td>0.0</td>\n",
       "      <td>True</td>\n",
       "      <td>False</td>\n",
       "      <td>False</td>\n",
       "      <td>False</td>\n",
       "      <td>False</td>\n",
       "      <td>False</td>\n",
       "      <td>False</td>\n",
       "      <td>True</td>\n",
       "      <td>False</td>\n",
       "      <td>False</td>\n",
       "      <td>False</td>\n",
       "      <td>False</td>\n",
       "      <td>False</td>\n",
       "      <td>False</td>\n",
       "      <td>False</td>\n",
       "      <td>False</td>\n",
       "      <td>False</td>\n",
       "      <td>False</td>\n",
       "      <td>41.0</td>\n",
       "      <td>516</td>\n",
       "      <td>4</td>\n",
       "      <td>25</td>\n",
       "      <td>6</td>\n",
       "      <td>0</td>\n",
       "      <td>1</td>\n",
       "    </tr>\n",
       "    <tr>\n",
       "      <th>124106</th>\n",
       "      <td>2022-09-21</td>\n",
       "      <td>False</td>\n",
       "      <td>False</td>\n",
       "      <td>True</td>\n",
       "      <td>False</td>\n",
       "      <td>False</td>\n",
       "      <td>False</td>\n",
       "      <td>False</td>\n",
       "      <td>8</td>\n",
       "      <td>AVALIAÇÃAO P3- PRIMEIRA PARTE- REDAÇÃO PLATAFO...</td>\n",
       "      <td>515</td>\n",
       "      <td>0.0</td>\n",
       "      <td>0.0</td>\n",
       "      <td>1.0</td>\n",
       "      <td>False</td>\n",
       "      <td>False</td>\n",
       "      <td>False</td>\n",
       "      <td>False</td>\n",
       "      <td>False</td>\n",
       "      <td>False</td>\n",
       "      <td>True</td>\n",
       "      <td>15.0</td>\n",
       "      <td>5</td>\n",
       "      <td>1.0</td>\n",
       "      <td>False</td>\n",
       "      <td>True</td>\n",
       "      <td>False</td>\n",
       "      <td>False</td>\n",
       "      <td>False</td>\n",
       "      <td>False</td>\n",
       "      <td>False</td>\n",
       "      <td>False</td>\n",
       "      <td>False</td>\n",
       "      <td>False</td>\n",
       "      <td>False</td>\n",
       "      <td>True</td>\n",
       "      <td>False</td>\n",
       "      <td>False</td>\n",
       "      <td>False</td>\n",
       "      <td>False</td>\n",
       "      <td>False</td>\n",
       "      <td>False</td>\n",
       "      <td>55.0</td>\n",
       "      <td>205</td>\n",
       "      <td>1</td>\n",
       "      <td>25</td>\n",
       "      <td>5</td>\n",
       "      <td>3</td>\n",
       "      <td>1</td>\n",
       "    </tr>\n",
       "    <tr>\n",
       "      <th>38918</th>\n",
       "      <td>2021-11-30</td>\n",
       "      <td>False</td>\n",
       "      <td>True</td>\n",
       "      <td>False</td>\n",
       "      <td>False</td>\n",
       "      <td>False</td>\n",
       "      <td>False</td>\n",
       "      <td>False</td>\n",
       "      <td>16</td>\n",
       "      <td>Aula de Encerramento: preenchimento dos formul...</td>\n",
       "      <td>404</td>\n",
       "      <td>1.0</td>\n",
       "      <td>1.0</td>\n",
       "      <td>0.0</td>\n",
       "      <td>False</td>\n",
       "      <td>True</td>\n",
       "      <td>False</td>\n",
       "      <td>False</td>\n",
       "      <td>False</td>\n",
       "      <td>False</td>\n",
       "      <td>False</td>\n",
       "      <td>13.0</td>\n",
       "      <td>9</td>\n",
       "      <td>1.0</td>\n",
       "      <td>False</td>\n",
       "      <td>True</td>\n",
       "      <td>False</td>\n",
       "      <td>False</td>\n",
       "      <td>False</td>\n",
       "      <td>False</td>\n",
       "      <td>False</td>\n",
       "      <td>False</td>\n",
       "      <td>False</td>\n",
       "      <td>False</td>\n",
       "      <td>False</td>\n",
       "      <td>True</td>\n",
       "      <td>False</td>\n",
       "      <td>False</td>\n",
       "      <td>False</td>\n",
       "      <td>False</td>\n",
       "      <td>False</td>\n",
       "      <td>False</td>\n",
       "      <td>47.0</td>\n",
       "      <td>74</td>\n",
       "      <td>4</td>\n",
       "      <td>8</td>\n",
       "      <td>4</td>\n",
       "      <td>1</td>\n",
       "      <td>1</td>\n",
       "    </tr>\n",
       "    <tr>\n",
       "      <th>290713</th>\n",
       "      <td>2024-05-17</td>\n",
       "      <td>False</td>\n",
       "      <td>False</td>\n",
       "      <td>False</td>\n",
       "      <td>False</td>\n",
       "      <td>True</td>\n",
       "      <td>False</td>\n",
       "      <td>False</td>\n",
       "      <td>3</td>\n",
       "      <td>Tema: Psico – Mapa da empatia</td>\n",
       "      <td>586</td>\n",
       "      <td>1.0</td>\n",
       "      <td>0.0</td>\n",
       "      <td>1.0</td>\n",
       "      <td>False</td>\n",
       "      <td>False</td>\n",
       "      <td>False</td>\n",
       "      <td>False</td>\n",
       "      <td>False</td>\n",
       "      <td>False</td>\n",
       "      <td>True</td>\n",
       "      <td>14.0</td>\n",
       "      <td>26</td>\n",
       "      <td>0.0</td>\n",
       "      <td>False</td>\n",
       "      <td>True</td>\n",
       "      <td>False</td>\n",
       "      <td>False</td>\n",
       "      <td>False</td>\n",
       "      <td>True</td>\n",
       "      <td>False</td>\n",
       "      <td>False</td>\n",
       "      <td>False</td>\n",
       "      <td>False</td>\n",
       "      <td>False</td>\n",
       "      <td>False</td>\n",
       "      <td>False</td>\n",
       "      <td>False</td>\n",
       "      <td>False</td>\n",
       "      <td>False</td>\n",
       "      <td>False</td>\n",
       "      <td>False</td>\n",
       "      <td>54.0</td>\n",
       "      <td>716</td>\n",
       "      <td>22</td>\n",
       "      <td>25</td>\n",
       "      <td>7</td>\n",
       "      <td>0</td>\n",
       "      <td>1</td>\n",
       "    </tr>\n",
       "  </tbody>\n",
       "</table>\n",
       "</div>"
      ],
      "text/plain": [
       "        data_aula  dia_semana_0  dia_semana_1  dia_semana_2  dia_semana_3  \\\n",
       "227000 2023-09-21         False         False         False          True   \n",
       "242745 2023-11-07         False          True         False         False   \n",
       "124106 2022-09-21         False         False          True         False   \n",
       "38918  2021-11-30         False          True         False         False   \n",
       "290713 2024-05-17         False         False         False         False   \n",
       "\n",
       "        dia_semana_4  dia_semana_5  dia_semana_6  num_aula  \\\n",
       "227000         False         False         False         8   \n",
       "242745         False         False         False         6   \n",
       "124106         False         False         False         8   \n",
       "38918          False         False         False        16   \n",
       "290713          True         False         False         3   \n",
       "\n",
       "                                      conteudo_ministrado  id_aluno  \\\n",
       "227000                       AVALIAÇÃO DE PORTUGUÊS (P3).      1167   \n",
       "242745  Planejar e executar pesquisa amostral sobre qu...       280   \n",
       "124106  AVALIAÇÃAO P3- PRIMEIRA PARTE- REDAÇÃO PLATAFO...       515   \n",
       "38918   Aula de Encerramento: preenchimento dos formul...       404   \n",
       "290713                      Tema: Psico – Mapa da empatia       586   \n",
       "\n",
       "        sexo_aluno  tem_pai  tem_mae raca_aluno_A raca_aluno_B raca_aluno_I  \\\n",
       "227000         1.0      0.0      1.0        False         True        False   \n",
       "242745         0.0      0.0      1.0        False         True        False   \n",
       "124106         0.0      0.0      1.0        False        False        False   \n",
       "38918          1.0      1.0      0.0        False         True        False   \n",
       "290713         1.0      0.0      1.0        False        False        False   \n",
       "\n",
       "       raca_aluno_N raca_aluno_None raca_aluno_P raca_aluno_R  idade_aluno  \\\n",
       "227000        False           False        False        False         16.0   \n",
       "242745        False           False        False        False         15.0   \n",
       "124106        False           False        False         True         15.0   \n",
       "38918         False           False        False        False         13.0   \n",
       "290713        False           False        False         True         14.0   \n",
       "\n",
       "       id_professor  sexo_professor raca_professor_A raca_professor_B  \\\n",
       "227000            5             1.0            False             True   \n",
       "242745            8             0.0             True            False   \n",
       "124106            5             1.0            False             True   \n",
       "38918             9             1.0            False             True   \n",
       "290713           26             0.0            False             True   \n",
       "\n",
       "       raca_professor_N raca_professor_P raca_professor_R  \\\n",
       "227000            False            False            False   \n",
       "242745            False            False            False   \n",
       "124106            False            False            False   \n",
       "38918             False            False            False   \n",
       "290713            False            False            False   \n",
       "\n",
       "       cargo_professor_Nenhum cargo_professor_Neuropsicóloga  \\\n",
       "227000                  False                          False   \n",
       "242745                  False                          False   \n",
       "124106                  False                          False   \n",
       "38918                   False                          False   \n",
       "290713                   True                          False   \n",
       "\n",
       "       cargo_professor_Professor cargo_professor_Professor Inglês  \\\n",
       "227000                     False                            False   \n",
       "242745                      True                            False   \n",
       "124106                     False                            False   \n",
       "38918                      False                            False   \n",
       "290713                     False                            False   \n",
       "\n",
       "       cargo_professor_Professor de Inglês  \\\n",
       "227000                               False   \n",
       "242745                               False   \n",
       "124106                               False   \n",
       "38918                                False   \n",
       "290713                               False   \n",
       "\n",
       "       cargo_professor_Professor de Matemática cargo_professor_Professora  \\\n",
       "227000                                   False                       True   \n",
       "242745                                   False                      False   \n",
       "124106                                   False                       True   \n",
       "38918                                    False                       True   \n",
       "290713                                   False                      False   \n",
       "\n",
       "       cargo_professor_Professora de Inglês  \\\n",
       "227000                                False   \n",
       "242745                                False   \n",
       "124106                                False   \n",
       "38918                                 False   \n",
       "290713                                False   \n",
       "\n",
       "       cargo_professor_Professora de Matemática  \\\n",
       "227000                                    False   \n",
       "242745                                    False   \n",
       "124106                                    False   \n",
       "38918                                     False   \n",
       "290713                                    False   \n",
       "\n",
       "       cargo_professor_Professora/Coordenadora cargo_professor_Psicóloga  \\\n",
       "227000                                   False                     False   \n",
       "242745                                   False                     False   \n",
       "124106                                   False                     False   \n",
       "38918                                    False                     False   \n",
       "290713                                   False                     False   \n",
       "\n",
       "       cargo_professor_Psicólogo cargo_professor_professora  idade_professor  \\\n",
       "227000                     False                      False             55.0   \n",
       "242745                     False                      False             41.0   \n",
       "124106                     False                      False             55.0   \n",
       "38918                      False                      False             47.0   \n",
       "290713                     False                      False             54.0   \n",
       "\n",
       "        id_turma  id_disciplina  id_serie  id_periodo  turno_turma  presente  \n",
       "227000       580              1        25           6            0         1  \n",
       "242745       516              4        25           6            0         1  \n",
       "124106       205              1        25           5            3         1  \n",
       "38918         74              4         8           4            1         1  \n",
       "290713       716             22        25           7            0         1  "
      ]
     },
     "execution_count": 25,
     "metadata": {},
     "output_type": "execute_result"
    }
   ],
   "source": [
    "\n",
    "# Selecionando as colunas\n",
    "df = df_raw[[\n",
    "    # Aula\n",
    "    'data_aula',\n",
    "    'dia_semana_0',\n",
    "    'dia_semana_1',\n",
    "    'dia_semana_2',\n",
    "    'dia_semana_3',\n",
    "    'dia_semana_4',\n",
    "    'dia_semana_5',\n",
    "    'dia_semana_6',\n",
    "    'num_aula',\n",
    "    'conteudo_ministrado',\n",
    "    \n",
    "    # Aluno\n",
    "    'id_aluno',\n",
    "    'sexo_aluno',\n",
    "    'tem_pai',\n",
    "    'tem_mae',\n",
    "    'raca_aluno_A',\n",
    "    'raca_aluno_B',\n",
    "    'raca_aluno_I',\n",
    "    'raca_aluno_N',\n",
    "    'raca_aluno_None',\n",
    "    'raca_aluno_P',\n",
    "    'raca_aluno_R',\n",
    "    'idade_aluno',\n",
    "    \n",
    "    # Professor\n",
    "    'id_professor',\n",
    "    'sexo_professor',\n",
    "    'raca_professor_A',\n",
    "    'raca_professor_B',\n",
    "    'raca_professor_N',\n",
    "    'raca_professor_P',\n",
    "    'raca_professor_R',\n",
    "    'cargo_professor_Nenhum',\n",
    "    'cargo_professor_Neuropsicóloga',\n",
    "    'cargo_professor_Professor',\n",
    "    'cargo_professor_Professor Inglês',\n",
    "    'cargo_professor_Professor de Inglês',\n",
    "    'cargo_professor_Professor de Matemática',\n",
    "    'cargo_professor_Professora',\n",
    "    'cargo_professor_Professora de Inglês',\n",
    "    'cargo_professor_Professora de Matemática',\n",
    "    'cargo_professor_Professora/Coordenadora',\n",
    "    'cargo_professor_Psicóloga',\n",
    "    'cargo_professor_Psicólogo',\n",
    "    'cargo_professor_professora',\n",
    "    'idade_professor',\n",
    "    \n",
    "    # Turma\n",
    "    'id_turma',\n",
    "    'id_disciplina',\n",
    "    'id_serie',\n",
    "    'id_periodo',\n",
    "    'turno_turma',\n",
    "    \n",
    "    # Target\n",
    "    'presente'\n",
    "]]\n",
    "\n",
    "# Exibindo uma amostra do DataFrame selecionado\n",
    "df.sample(5)\n"
   ]
  },
  {
   "cell_type": "code",
   "execution_count": 26,
   "metadata": {},
   "outputs": [
    {
     "name": "stdout",
     "output_type": "stream",
     "text": [
      "[2021 2022 2023 2024]\n",
      "(313160, 49)\n"
     ]
    }
   ],
   "source": [
    "print(df['data_aula'].dt.year.unique())\n",
    "print(df.shape)"
   ]
  },
  {
   "cell_type": "markdown",
   "metadata": {},
   "source": [
    "<font color='orange'>**TESTE Função buscar aluno com o PANDAS**</font>"
   ]
  },
  {
   "cell_type": "code",
   "execution_count": 47,
   "metadata": {},
   "outputs": [
    {
     "data": {
      "text/html": [
       "<div>\n",
       "<style scoped>\n",
       "    .dataframe tbody tr th:only-of-type {\n",
       "        vertical-align: middle;\n",
       "    }\n",
       "\n",
       "    .dataframe tbody tr th {\n",
       "        vertical-align: top;\n",
       "    }\n",
       "\n",
       "    .dataframe thead th {\n",
       "        text-align: right;\n",
       "    }\n",
       "</style>\n",
       "<table border=\"1\" class=\"dataframe\">\n",
       "  <thead>\n",
       "    <tr style=\"text-align: right;\">\n",
       "      <th></th>\n",
       "      <th>data_aula</th>\n",
       "      <th>dia_semana_0</th>\n",
       "      <th>dia_semana_1</th>\n",
       "      <th>dia_semana_2</th>\n",
       "      <th>dia_semana_3</th>\n",
       "      <th>dia_semana_4</th>\n",
       "      <th>dia_semana_5</th>\n",
       "      <th>dia_semana_6</th>\n",
       "      <th>num_aula</th>\n",
       "      <th>conteudo_ministrado</th>\n",
       "      <th>id_aluno</th>\n",
       "      <th>sexo_aluno</th>\n",
       "      <th>tem_pai</th>\n",
       "      <th>tem_mae</th>\n",
       "      <th>raca_aluno_A</th>\n",
       "      <th>raca_aluno_B</th>\n",
       "      <th>raca_aluno_I</th>\n",
       "      <th>raca_aluno_N</th>\n",
       "      <th>raca_aluno_None</th>\n",
       "      <th>raca_aluno_P</th>\n",
       "      <th>raca_aluno_R</th>\n",
       "      <th>idade_aluno</th>\n",
       "      <th>id_professor</th>\n",
       "      <th>sexo_professor</th>\n",
       "      <th>raca_professor_A</th>\n",
       "      <th>raca_professor_B</th>\n",
       "      <th>raca_professor_N</th>\n",
       "      <th>raca_professor_P</th>\n",
       "      <th>raca_professor_R</th>\n",
       "      <th>cargo_professor_Nenhum</th>\n",
       "      <th>cargo_professor_Neuropsicóloga</th>\n",
       "      <th>cargo_professor_Professor</th>\n",
       "      <th>cargo_professor_Professor Inglês</th>\n",
       "      <th>cargo_professor_Professor de Inglês</th>\n",
       "      <th>cargo_professor_Professor de Matemática</th>\n",
       "      <th>cargo_professor_Professora</th>\n",
       "      <th>cargo_professor_Professora de Inglês</th>\n",
       "      <th>cargo_professor_Professora de Matemática</th>\n",
       "      <th>cargo_professor_Professora/Coordenadora</th>\n",
       "      <th>cargo_professor_Psicóloga</th>\n",
       "      <th>cargo_professor_Psicólogo</th>\n",
       "      <th>cargo_professor_professora</th>\n",
       "      <th>idade_professor</th>\n",
       "      <th>id_turma</th>\n",
       "      <th>id_disciplina</th>\n",
       "      <th>id_serie</th>\n",
       "      <th>id_periodo</th>\n",
       "      <th>turno_turma</th>\n",
       "      <th>presente</th>\n",
       "      <th>seq_presenca</th>\n",
       "    </tr>\n",
       "  </thead>\n",
       "  <tbody>\n",
       "    <tr>\n",
       "      <th>178961</th>\n",
       "      <td>2023-05-11</td>\n",
       "      <td>False</td>\n",
       "      <td>False</td>\n",
       "      <td>False</td>\n",
       "      <td>True</td>\n",
       "      <td>False</td>\n",
       "      <td>False</td>\n",
       "      <td>False</td>\n",
       "      <td>2</td>\n",
       "      <td>Reconhecimento das emoções , nomeie as emoções...</td>\n",
       "      <td>2</td>\n",
       "      <td>NaN</td>\n",
       "      <td>NaN</td>\n",
       "      <td>NaN</td>\n",
       "      <td>NaN</td>\n",
       "      <td>NaN</td>\n",
       "      <td>NaN</td>\n",
       "      <td>NaN</td>\n",
       "      <td>NaN</td>\n",
       "      <td>NaN</td>\n",
       "      <td>NaN</td>\n",
       "      <td>NaN</td>\n",
       "      <td>14</td>\n",
       "      <td>1.0</td>\n",
       "      <td>False</td>\n",
       "      <td>False</td>\n",
       "      <td>False</td>\n",
       "      <td>False</td>\n",
       "      <td>True</td>\n",
       "      <td>False</td>\n",
       "      <td>False</td>\n",
       "      <td>False</td>\n",
       "      <td>False</td>\n",
       "      <td>False</td>\n",
       "      <td>False</td>\n",
       "      <td>True</td>\n",
       "      <td>False</td>\n",
       "      <td>False</td>\n",
       "      <td>False</td>\n",
       "      <td>False</td>\n",
       "      <td>False</td>\n",
       "      <td>False</td>\n",
       "      <td>41.0</td>\n",
       "      <td>466</td>\n",
       "      <td>19</td>\n",
       "      <td>8</td>\n",
       "      <td>6</td>\n",
       "      <td>1</td>\n",
       "      <td>1</td>\n",
       "      <td>1</td>\n",
       "    </tr>\n",
       "    <tr>\n",
       "      <th>179553</th>\n",
       "      <td>2023-05-12</td>\n",
       "      <td>False</td>\n",
       "      <td>False</td>\n",
       "      <td>False</td>\n",
       "      <td>False</td>\n",
       "      <td>True</td>\n",
       "      <td>False</td>\n",
       "      <td>False</td>\n",
       "      <td>2</td>\n",
       "      <td>Subtração \\r\\nRelembrando igualdade</td>\n",
       "      <td>2</td>\n",
       "      <td>NaN</td>\n",
       "      <td>NaN</td>\n",
       "      <td>NaN</td>\n",
       "      <td>NaN</td>\n",
       "      <td>NaN</td>\n",
       "      <td>NaN</td>\n",
       "      <td>NaN</td>\n",
       "      <td>NaN</td>\n",
       "      <td>NaN</td>\n",
       "      <td>NaN</td>\n",
       "      <td>NaN</td>\n",
       "      <td>9</td>\n",
       "      <td>1.0</td>\n",
       "      <td>False</td>\n",
       "      <td>True</td>\n",
       "      <td>False</td>\n",
       "      <td>False</td>\n",
       "      <td>False</td>\n",
       "      <td>False</td>\n",
       "      <td>False</td>\n",
       "      <td>False</td>\n",
       "      <td>False</td>\n",
       "      <td>False</td>\n",
       "      <td>False</td>\n",
       "      <td>True</td>\n",
       "      <td>False</td>\n",
       "      <td>False</td>\n",
       "      <td>False</td>\n",
       "      <td>False</td>\n",
       "      <td>False</td>\n",
       "      <td>False</td>\n",
       "      <td>47.0</td>\n",
       "      <td>466</td>\n",
       "      <td>4</td>\n",
       "      <td>8</td>\n",
       "      <td>6</td>\n",
       "      <td>1</td>\n",
       "      <td>1</td>\n",
       "      <td>2</td>\n",
       "    </tr>\n",
       "    <tr>\n",
       "      <th>6121</th>\n",
       "      <td>2021-07-27</td>\n",
       "      <td>False</td>\n",
       "      <td>True</td>\n",
       "      <td>False</td>\n",
       "      <td>False</td>\n",
       "      <td>False</td>\n",
       "      <td>False</td>\n",
       "      <td>False</td>\n",
       "      <td>1</td>\n",
       "      <td>Live de boas vindas</td>\n",
       "      <td>3</td>\n",
       "      <td>1.0</td>\n",
       "      <td>0.0</td>\n",
       "      <td>1.0</td>\n",
       "      <td>False</td>\n",
       "      <td>False</td>\n",
       "      <td>False</td>\n",
       "      <td>False</td>\n",
       "      <td>False</td>\n",
       "      <td>False</td>\n",
       "      <td>True</td>\n",
       "      <td>19.0</td>\n",
       "      <td>6</td>\n",
       "      <td>0.0</td>\n",
       "      <td>False</td>\n",
       "      <td>False</td>\n",
       "      <td>False</td>\n",
       "      <td>False</td>\n",
       "      <td>True</td>\n",
       "      <td>False</td>\n",
       "      <td>False</td>\n",
       "      <td>True</td>\n",
       "      <td>False</td>\n",
       "      <td>False</td>\n",
       "      <td>False</td>\n",
       "      <td>False</td>\n",
       "      <td>False</td>\n",
       "      <td>False</td>\n",
       "      <td>False</td>\n",
       "      <td>False</td>\n",
       "      <td>False</td>\n",
       "      <td>False</td>\n",
       "      <td>34.0</td>\n",
       "      <td>106</td>\n",
       "      <td>4</td>\n",
       "      <td>29</td>\n",
       "      <td>4</td>\n",
       "      <td>1</td>\n",
       "      <td>1</td>\n",
       "      <td>1</td>\n",
       "    </tr>\n",
       "    <tr>\n",
       "      <th>4095</th>\n",
       "      <td>2021-07-29</td>\n",
       "      <td>False</td>\n",
       "      <td>False</td>\n",
       "      <td>False</td>\n",
       "      <td>True</td>\n",
       "      <td>False</td>\n",
       "      <td>False</td>\n",
       "      <td>False</td>\n",
       "      <td>1</td>\n",
       "      <td>Live de retorno 2 semestre com Acolhimento da ...</td>\n",
       "      <td>3</td>\n",
       "      <td>1.0</td>\n",
       "      <td>0.0</td>\n",
       "      <td>1.0</td>\n",
       "      <td>False</td>\n",
       "      <td>False</td>\n",
       "      <td>False</td>\n",
       "      <td>False</td>\n",
       "      <td>False</td>\n",
       "      <td>False</td>\n",
       "      <td>True</td>\n",
       "      <td>19.0</td>\n",
       "      <td>3</td>\n",
       "      <td>1.0</td>\n",
       "      <td>False</td>\n",
       "      <td>True</td>\n",
       "      <td>False</td>\n",
       "      <td>False</td>\n",
       "      <td>False</td>\n",
       "      <td>False</td>\n",
       "      <td>False</td>\n",
       "      <td>False</td>\n",
       "      <td>False</td>\n",
       "      <td>False</td>\n",
       "      <td>False</td>\n",
       "      <td>False</td>\n",
       "      <td>False</td>\n",
       "      <td>False</td>\n",
       "      <td>True</td>\n",
       "      <td>False</td>\n",
       "      <td>False</td>\n",
       "      <td>False</td>\n",
       "      <td>39.0</td>\n",
       "      <td>106</td>\n",
       "      <td>1</td>\n",
       "      <td>29</td>\n",
       "      <td>4</td>\n",
       "      <td>1</td>\n",
       "      <td>1</td>\n",
       "      <td>2</td>\n",
       "    </tr>\n",
       "    <tr>\n",
       "      <th>4622</th>\n",
       "      <td>2021-08-03</td>\n",
       "      <td>False</td>\n",
       "      <td>True</td>\n",
       "      <td>False</td>\n",
       "      <td>False</td>\n",
       "      <td>False</td>\n",
       "      <td>False</td>\n",
       "      <td>False</td>\n",
       "      <td>1</td>\n",
       "      <td>Retomada de Planejamento.</td>\n",
       "      <td>3</td>\n",
       "      <td>1.0</td>\n",
       "      <td>0.0</td>\n",
       "      <td>1.0</td>\n",
       "      <td>False</td>\n",
       "      <td>False</td>\n",
       "      <td>False</td>\n",
       "      <td>False</td>\n",
       "      <td>False</td>\n",
       "      <td>False</td>\n",
       "      <td>True</td>\n",
       "      <td>19.0</td>\n",
       "      <td>7</td>\n",
       "      <td>1.0</td>\n",
       "      <td>False</td>\n",
       "      <td>False</td>\n",
       "      <td>False</td>\n",
       "      <td>False</td>\n",
       "      <td>True</td>\n",
       "      <td>False</td>\n",
       "      <td>False</td>\n",
       "      <td>False</td>\n",
       "      <td>False</td>\n",
       "      <td>False</td>\n",
       "      <td>False</td>\n",
       "      <td>False</td>\n",
       "      <td>False</td>\n",
       "      <td>False</td>\n",
       "      <td>False</td>\n",
       "      <td>True</td>\n",
       "      <td>False</td>\n",
       "      <td>False</td>\n",
       "      <td>44.0</td>\n",
       "      <td>106</td>\n",
       "      <td>17</td>\n",
       "      <td>29</td>\n",
       "      <td>4</td>\n",
       "      <td>1</td>\n",
       "      <td>1</td>\n",
       "      <td>3</td>\n",
       "    </tr>\n",
       "  </tbody>\n",
       "</table>\n",
       "</div>"
      ],
      "text/plain": [
       "        data_aula  dia_semana_0  dia_semana_1  dia_semana_2  dia_semana_3  \\\n",
       "178961 2023-05-11         False         False         False          True   \n",
       "179553 2023-05-12         False         False         False         False   \n",
       "6121   2021-07-27         False          True         False         False   \n",
       "4095   2021-07-29         False         False         False          True   \n",
       "4622   2021-08-03         False          True         False         False   \n",
       "\n",
       "        dia_semana_4  dia_semana_5  dia_semana_6  num_aula  \\\n",
       "178961         False         False         False         2   \n",
       "179553          True         False         False         2   \n",
       "6121           False         False         False         1   \n",
       "4095           False         False         False         1   \n",
       "4622           False         False         False         1   \n",
       "\n",
       "                                      conteudo_ministrado  id_aluno  \\\n",
       "178961  Reconhecimento das emoções , nomeie as emoções...         2   \n",
       "179553               Subtração \\r\\nRelembrando igualdade          2   \n",
       "6121                                  Live de boas vindas         3   \n",
       "4095    Live de retorno 2 semestre com Acolhimento da ...         3   \n",
       "4622                            Retomada de Planejamento.         3   \n",
       "\n",
       "        sexo_aluno  tem_pai  tem_mae raca_aluno_A raca_aluno_B raca_aluno_I  \\\n",
       "178961         NaN      NaN      NaN          NaN          NaN          NaN   \n",
       "179553         NaN      NaN      NaN          NaN          NaN          NaN   \n",
       "6121           1.0      0.0      1.0        False        False        False   \n",
       "4095           1.0      0.0      1.0        False        False        False   \n",
       "4622           1.0      0.0      1.0        False        False        False   \n",
       "\n",
       "       raca_aluno_N raca_aluno_None raca_aluno_P raca_aluno_R  idade_aluno  \\\n",
       "178961          NaN             NaN          NaN          NaN          NaN   \n",
       "179553          NaN             NaN          NaN          NaN          NaN   \n",
       "6121          False           False        False         True         19.0   \n",
       "4095          False           False        False         True         19.0   \n",
       "4622          False           False        False         True         19.0   \n",
       "\n",
       "       id_professor  sexo_professor raca_professor_A raca_professor_B  \\\n",
       "178961           14             1.0            False            False   \n",
       "179553            9             1.0            False             True   \n",
       "6121              6             0.0            False            False   \n",
       "4095              3             1.0            False             True   \n",
       "4622              7             1.0            False            False   \n",
       "\n",
       "       raca_professor_N raca_professor_P raca_professor_R  \\\n",
       "178961            False            False             True   \n",
       "179553            False            False            False   \n",
       "6121              False            False             True   \n",
       "4095              False            False            False   \n",
       "4622              False            False             True   \n",
       "\n",
       "       cargo_professor_Nenhum cargo_professor_Neuropsicóloga  \\\n",
       "178961                  False                          False   \n",
       "179553                  False                          False   \n",
       "6121                    False                          False   \n",
       "4095                    False                          False   \n",
       "4622                    False                          False   \n",
       "\n",
       "       cargo_professor_Professor cargo_professor_Professor Inglês  \\\n",
       "178961                     False                            False   \n",
       "179553                     False                            False   \n",
       "6121                        True                            False   \n",
       "4095                       False                            False   \n",
       "4622                       False                            False   \n",
       "\n",
       "       cargo_professor_Professor de Inglês  \\\n",
       "178961                               False   \n",
       "179553                               False   \n",
       "6121                                 False   \n",
       "4095                                 False   \n",
       "4622                                 False   \n",
       "\n",
       "       cargo_professor_Professor de Matemática cargo_professor_Professora  \\\n",
       "178961                                   False                       True   \n",
       "179553                                   False                       True   \n",
       "6121                                     False                      False   \n",
       "4095                                     False                      False   \n",
       "4622                                     False                      False   \n",
       "\n",
       "       cargo_professor_Professora de Inglês  \\\n",
       "178961                                False   \n",
       "179553                                False   \n",
       "6121                                  False   \n",
       "4095                                  False   \n",
       "4622                                  False   \n",
       "\n",
       "       cargo_professor_Professora de Matemática  \\\n",
       "178961                                    False   \n",
       "179553                                    False   \n",
       "6121                                      False   \n",
       "4095                                      False   \n",
       "4622                                      False   \n",
       "\n",
       "       cargo_professor_Professora/Coordenadora cargo_professor_Psicóloga  \\\n",
       "178961                                   False                     False   \n",
       "179553                                   False                     False   \n",
       "6121                                     False                     False   \n",
       "4095                                      True                     False   \n",
       "4622                                     False                      True   \n",
       "\n",
       "       cargo_professor_Psicólogo cargo_professor_professora  idade_professor  \\\n",
       "178961                     False                      False             41.0   \n",
       "179553                     False                      False             47.0   \n",
       "6121                       False                      False             34.0   \n",
       "4095                       False                      False             39.0   \n",
       "4622                       False                      False             44.0   \n",
       "\n",
       "        id_turma  id_disciplina  id_serie  id_periodo  turno_turma  presente  \\\n",
       "178961       466             19         8           6            1         1   \n",
       "179553       466              4         8           6            1         1   \n",
       "6121         106              4        29           4            1         1   \n",
       "4095         106              1        29           4            1         1   \n",
       "4622         106             17        29           4            1         1   \n",
       "\n",
       "        seq_presenca  \n",
       "178961             1  \n",
       "179553             2  \n",
       "6121               1  \n",
       "4095               2  \n",
       "4622               3  "
      ]
     },
     "execution_count": 47,
     "metadata": {},
     "output_type": "execute_result"
    }
   ],
   "source": [
    "df_prox = df.sort_values(['id_aluno', 'data_aula']).copy()\n",
    "\n",
    "# Criando a coluna 'seq_presenca' com a sequência ordinal de presença para cada aluno\n",
    "df_prox['seq_presenca'] = df_prox.groupby('id_aluno').cumcount() + 1\n",
    "\n",
    "df_prox.head()"
   ]
  },
  {
   "cell_type": "code",
   "execution_count": 68,
   "metadata": {},
   "outputs": [
    {
     "data": {
      "text/html": [
       "<div>\n",
       "<style scoped>\n",
       "    .dataframe tbody tr th:only-of-type {\n",
       "        vertical-align: middle;\n",
       "    }\n",
       "\n",
       "    .dataframe tbody tr th {\n",
       "        vertical-align: top;\n",
       "    }\n",
       "\n",
       "    .dataframe thead th {\n",
       "        text-align: right;\n",
       "    }\n",
       "</style>\n",
       "<table border=\"1\" class=\"dataframe\">\n",
       "  <thead>\n",
       "    <tr style=\"text-align: right;\">\n",
       "      <th></th>\n",
       "      <th>id_aluno</th>\n",
       "      <th>data_aula_first</th>\n",
       "      <th>data_aula_last</th>\n",
       "      <th>sum_dia_semana_1</th>\n",
       "      <th>sum_dia_semana_2</th>\n",
       "      <th>sum_dia_semana_3</th>\n",
       "      <th>sum_dia_semana_4</th>\n",
       "      <th>sum_dia_semana_5</th>\n",
       "      <th>sum_dia_semana_6</th>\n",
       "      <th>sum_dia_semana_7</th>\n",
       "      <th>sexo_aluno</th>\n",
       "      <th>tem_pai</th>\n",
       "      <th>tem_mae</th>\n",
       "      <th>raca_aluno_A</th>\n",
       "      <th>raca_aluno_B</th>\n",
       "      <th>raca_aluno_I</th>\n",
       "      <th>raca_aluno_N</th>\n",
       "      <th>raca_aluno_None</th>\n",
       "      <th>raca_aluno_P</th>\n",
       "      <th>raca_aluno_R</th>\n",
       "      <th>idade_aluno_media</th>\n",
       "      <th>sexo_professor_sum</th>\n",
       "      <th>raca_professor_A_sum</th>\n",
       "      <th>raca_professor_B_sum</th>\n",
       "      <th>raca_professor_N_sum</th>\n",
       "      <th>raca_professor_P_sum</th>\n",
       "      <th>raca_professor_R_sum</th>\n",
       "      <th>cargo_professor_Nenhum_sum</th>\n",
       "      <th>cargo_professor_Neuropsicóloga_sum</th>\n",
       "      <th>cargo_professor_Professor_sum</th>\n",
       "      <th>cargo_professor_Professor_Inglês_sum</th>\n",
       "      <th>cargo_professor_Professor_de_Inglês_sum</th>\n",
       "      <th>cargo_professor_Professor_de_Matemática_sum</th>\n",
       "      <th>cargo_professor_Professora_sum</th>\n",
       "      <th>cargo_professor_Professora_de_Inglês_sum</th>\n",
       "      <th>cargo_professor_Professora_de_Matemática_sum</th>\n",
       "      <th>cargo_professor_Professora_Coordenadora_sum</th>\n",
       "      <th>cargo_professor_Psicóloga_sum</th>\n",
       "      <th>cargo_professor_Psicólogo_sum</th>\n",
       "      <th>idade_professor_media</th>\n",
       "      <th>num_professores</th>\n",
       "      <th>num_disciplinas</th>\n",
       "      <th>num_series</th>\n",
       "      <th>num_turmas</th>\n",
       "      <th>num_presencas</th>\n",
       "      <th>num_aulas</th>\n",
       "      <th>ultima_presenca</th>\n",
       "      <th>last_seq</th>\n",
       "      <th>0</th>\n",
       "      <th>1</th>\n",
       "      <th>2</th>\n",
       "      <th>3</th>\n",
       "      <th>4</th>\n",
       "      <th>5</th>\n",
       "      <th>6</th>\n",
       "      <th>7</th>\n",
       "      <th>8</th>\n",
       "      <th>9</th>\n",
       "      <th>10</th>\n",
       "      <th>11</th>\n",
       "      <th>12</th>\n",
       "      <th>13</th>\n",
       "      <th>14</th>\n",
       "      <th>15</th>\n",
       "      <th>16</th>\n",
       "      <th>17</th>\n",
       "      <th>18</th>\n",
       "      <th>19</th>\n",
       "      <th>20</th>\n",
       "      <th>21</th>\n",
       "      <th>22</th>\n",
       "      <th>23</th>\n",
       "      <th>24</th>\n",
       "      <th>25</th>\n",
       "      <th>26</th>\n",
       "      <th>27</th>\n",
       "      <th>28</th>\n",
       "      <th>29</th>\n",
       "      <th>30</th>\n",
       "      <th>31</th>\n",
       "      <th>32</th>\n",
       "      <th>33</th>\n",
       "      <th>34</th>\n",
       "      <th>35</th>\n",
       "      <th>36</th>\n",
       "      <th>37</th>\n",
       "      <th>38</th>\n",
       "      <th>39</th>\n",
       "      <th>40</th>\n",
       "      <th>41</th>\n",
       "      <th>42</th>\n",
       "      <th>43</th>\n",
       "      <th>44</th>\n",
       "      <th>45</th>\n",
       "      <th>46</th>\n",
       "      <th>47</th>\n",
       "      <th>48</th>\n",
       "      <th>49</th>\n",
       "      <th>50</th>\n",
       "      <th>51</th>\n",
       "      <th>52</th>\n",
       "      <th>53</th>\n",
       "      <th>54</th>\n",
       "      <th>55</th>\n",
       "      <th>56</th>\n",
       "      <th>57</th>\n",
       "      <th>58</th>\n",
       "      <th>59</th>\n",
       "      <th>60</th>\n",
       "      <th>61</th>\n",
       "      <th>62</th>\n",
       "      <th>63</th>\n",
       "      <th>64</th>\n",
       "      <th>65</th>\n",
       "      <th>66</th>\n",
       "      <th>67</th>\n",
       "      <th>68</th>\n",
       "      <th>69</th>\n",
       "      <th>70</th>\n",
       "      <th>71</th>\n",
       "      <th>72</th>\n",
       "      <th>73</th>\n",
       "      <th>74</th>\n",
       "      <th>75</th>\n",
       "      <th>76</th>\n",
       "      <th>77</th>\n",
       "      <th>78</th>\n",
       "      <th>79</th>\n",
       "      <th>80</th>\n",
       "      <th>81</th>\n",
       "      <th>82</th>\n",
       "      <th>83</th>\n",
       "      <th>84</th>\n",
       "      <th>85</th>\n",
       "      <th>86</th>\n",
       "      <th>87</th>\n",
       "      <th>88</th>\n",
       "      <th>89</th>\n",
       "      <th>90</th>\n",
       "      <th>91</th>\n",
       "      <th>92</th>\n",
       "      <th>93</th>\n",
       "      <th>94</th>\n",
       "      <th>95</th>\n",
       "    </tr>\n",
       "  </thead>\n",
       "  <tbody>\n",
       "    <tr>\n",
       "      <th>0</th>\n",
       "      <td>102</td>\n",
       "      <td>2022-06-07</td>\n",
       "      <td>2022-06-30</td>\n",
       "      <td>0</td>\n",
       "      <td>4</td>\n",
       "      <td>4</td>\n",
       "      <td>3</td>\n",
       "      <td>0</td>\n",
       "      <td>0</td>\n",
       "      <td>0</td>\n",
       "      <td>1.0</td>\n",
       "      <td>0.0</td>\n",
       "      <td>1.0</td>\n",
       "      <td>False</td>\n",
       "      <td>False</td>\n",
       "      <td>False</td>\n",
       "      <td>False</td>\n",
       "      <td>False</td>\n",
       "      <td>False</td>\n",
       "      <td>True</td>\n",
       "      <td>19.0</td>\n",
       "      <td>6.0</td>\n",
       "      <td>0</td>\n",
       "      <td>8</td>\n",
       "      <td>0</td>\n",
       "      <td>0</td>\n",
       "      <td>3</td>\n",
       "      <td>0</td>\n",
       "      <td>0</td>\n",
       "      <td>5</td>\n",
       "      <td>0</td>\n",
       "      <td>0</td>\n",
       "      <td>0</td>\n",
       "      <td>4</td>\n",
       "      <td>0</td>\n",
       "      <td>0</td>\n",
       "      <td>0</td>\n",
       "      <td>2</td>\n",
       "      <td>0</td>\n",
       "      <td>48.181818</td>\n",
       "      <td>4</td>\n",
       "      <td>4</td>\n",
       "      <td>2</td>\n",
       "      <td>2</td>\n",
       "      <td>0</td>\n",
       "      <td>11</td>\n",
       "      <td>0.0</td>\n",
       "      <td>123</td>\n",
       "      <td>0.114647</td>\n",
       "      <td>-1.40983</td>\n",
       "      <td>-0.017523</td>\n",
       "      <td>1.246244</td>\n",
       "      <td>0.054283</td>\n",
       "      <td>0.797433</td>\n",
       "      <td>0.768126</td>\n",
       "      <td>0.926144</td>\n",
       "      <td>0.525275</td>\n",
       "      <td>0.203207</td>\n",
       "      <td>0.407622</td>\n",
       "      <td>-2.665226</td>\n",
       "      <td>-1.500093</td>\n",
       "      <td>0.767286</td>\n",
       "      <td>-1.899162</td>\n",
       "      <td>1.956527</td>\n",
       "      <td>1.249517</td>\n",
       "      <td>0.709662</td>\n",
       "      <td>0.449481</td>\n",
       "      <td>0.213025</td>\n",
       "      <td>0.190514</td>\n",
       "      <td>0.574134</td>\n",
       "      <td>-0.09262</td>\n",
       "      <td>0.465144</td>\n",
       "      <td>-1.194155</td>\n",
       "      <td>-0.565527</td>\n",
       "      <td>1.010417</td>\n",
       "      <td>0.669021</td>\n",
       "      <td>1.697539</td>\n",
       "      <td>0.898498</td>\n",
       "      <td>0.008078</td>\n",
       "      <td>1.067726</td>\n",
       "      <td>0.511524</td>\n",
       "      <td>-0.445266</td>\n",
       "      <td>0.194692</td>\n",
       "      <td>-0.325014</td>\n",
       "      <td>-0.870756</td>\n",
       "      <td>0.111917</td>\n",
       "      <td>-0.173054</td>\n",
       "      <td>-0.332524</td>\n",
       "      <td>-1.408381</td>\n",
       "      <td>1.981254</td>\n",
       "      <td>-0.453415</td>\n",
       "      <td>1.701112</td>\n",
       "      <td>0.187319</td>\n",
       "      <td>0.567705</td>\n",
       "      <td>-1.27237</td>\n",
       "      <td>1.034499</td>\n",
       "      <td>-1.054332</td>\n",
       "      <td>-1.675773</td>\n",
       "      <td>-1.522119</td>\n",
       "      <td>0.143676</td>\n",
       "      <td>1.513889</td>\n",
       "      <td>0.270373</td>\n",
       "      <td>0.854043</td>\n",
       "      <td>0.160905</td>\n",
       "      <td>0.721267</td>\n",
       "      <td>-0.737817</td>\n",
       "      <td>-1.946351</td>\n",
       "      <td>-1.13472</td>\n",
       "      <td>-0.408238</td>\n",
       "      <td>-1.027617</td>\n",
       "      <td>-1.341581</td>\n",
       "      <td>-1.122147</td>\n",
       "      <td>0.335029</td>\n",
       "      <td>1.180084</td>\n",
       "      <td>-0.416602</td>\n",
       "      <td>-1.029512</td>\n",
       "      <td>-0.383877</td>\n",
       "      <td>0.796493</td>\n",
       "      <td>-1.373293</td>\n",
       "      <td>1.048338</td>\n",
       "      <td>0.86538</td>\n",
       "      <td>-1.984326</td>\n",
       "      <td>0.543008</td>\n",
       "      <td>0.158557</td>\n",
       "      <td>-0.969629</td>\n",
       "      <td>0.523497</td>\n",
       "      <td>1.40189</td>\n",
       "      <td>-2.082065</td>\n",
       "      <td>0.470857</td>\n",
       "      <td>1.783062</td>\n",
       "      <td>-1.006254</td>\n",
       "      <td>1.290781</td>\n",
       "      <td>0.814985</td>\n",
       "      <td>0.724475</td>\n",
       "      <td>0.837011</td>\n",
       "      <td>-0.379999</td>\n",
       "      <td>-1.64262</td>\n",
       "      <td>1.107531</td>\n",
       "      <td>0.207118</td>\n",
       "      <td>-1.62815</td>\n",
       "      <td>2.241691</td>\n",
       "      <td>1.90668</td>\n",
       "      <td>-1.611591</td>\n",
       "      <td>0.10455</td>\n",
       "    </tr>\n",
       "  </tbody>\n",
       "</table>\n",
       "</div>"
      ],
      "text/plain": [
       "   id_aluno data_aula_first data_aula_last  sum_dia_semana_1  \\\n",
       "0       102      2022-06-07     2022-06-30                 0   \n",
       "\n",
       "   sum_dia_semana_2  sum_dia_semana_3  sum_dia_semana_4  sum_dia_semana_5  \\\n",
       "0                 4                 4                 3                 0   \n",
       "\n",
       "   sum_dia_semana_6  sum_dia_semana_7  sexo_aluno  tem_pai  tem_mae  \\\n",
       "0                 0                 0         1.0      0.0      1.0   \n",
       "\n",
       "  raca_aluno_A raca_aluno_B raca_aluno_I raca_aluno_N raca_aluno_None  \\\n",
       "0        False        False        False        False           False   \n",
       "\n",
       "  raca_aluno_P raca_aluno_R  idade_aluno_media  sexo_professor_sum  \\\n",
       "0        False         True               19.0                 6.0   \n",
       "\n",
       "  raca_professor_A_sum raca_professor_B_sum raca_professor_N_sum  \\\n",
       "0                    0                    8                    0   \n",
       "\n",
       "  raca_professor_P_sum raca_professor_R_sum cargo_professor_Nenhum_sum  \\\n",
       "0                    0                    3                          0   \n",
       "\n",
       "  cargo_professor_Neuropsicóloga_sum cargo_professor_Professor_sum  \\\n",
       "0                                  0                             5   \n",
       "\n",
       "  cargo_professor_Professor_Inglês_sum  \\\n",
       "0                                    0   \n",
       "\n",
       "  cargo_professor_Professor_de_Inglês_sum  \\\n",
       "0                                       0   \n",
       "\n",
       "  cargo_professor_Professor_de_Matemática_sum cargo_professor_Professora_sum  \\\n",
       "0                                           0                              4   \n",
       "\n",
       "  cargo_professor_Professora_de_Inglês_sum  \\\n",
       "0                                        0   \n",
       "\n",
       "  cargo_professor_Professora_de_Matemática_sum  \\\n",
       "0                                            0   \n",
       "\n",
       "  cargo_professor_Professora_Coordenadora_sum cargo_professor_Psicóloga_sum  \\\n",
       "0                                           0                             2   \n",
       "\n",
       "  cargo_professor_Psicólogo_sum  idade_professor_media  num_professores  \\\n",
       "0                             0              48.181818                4   \n",
       "\n",
       "   num_disciplinas  num_series  num_turmas  num_presencas  num_aulas  \\\n",
       "0                4           2           2              0         11   \n",
       "\n",
       "   ultima_presenca  last_seq         0        1         2         3         4  \\\n",
       "0              0.0       123  0.114647 -1.40983 -0.017523  1.246244  0.054283   \n",
       "\n",
       "          5         6         7         8         9        10        11  \\\n",
       "0  0.797433  0.768126  0.926144  0.525275  0.203207  0.407622 -2.665226   \n",
       "\n",
       "         12        13        14        15        16        17        18  \\\n",
       "0 -1.500093  0.767286 -1.899162  1.956527  1.249517  0.709662  0.449481   \n",
       "\n",
       "         19        20        21       22        23        24        25  \\\n",
       "0  0.213025  0.190514  0.574134 -0.09262  0.465144 -1.194155 -0.565527   \n",
       "\n",
       "         26        27        28        29        30        31        32  \\\n",
       "0  1.010417  0.669021  1.697539  0.898498  0.008078  1.067726  0.511524   \n",
       "\n",
       "         33        34        35        36        37        38        39  \\\n",
       "0 -0.445266  0.194692 -0.325014 -0.870756  0.111917 -0.173054 -0.332524   \n",
       "\n",
       "         40        41        42        43        44        45       46  \\\n",
       "0 -1.408381  1.981254 -0.453415  1.701112  0.187319  0.567705 -1.27237   \n",
       "\n",
       "         47        48        49        50        51        52        53  \\\n",
       "0  1.034499 -1.054332 -1.675773 -1.522119  0.143676  1.513889  0.270373   \n",
       "\n",
       "         54        55        56        57        58       59        60  \\\n",
       "0  0.854043  0.160905  0.721267 -0.737817 -1.946351 -1.13472 -0.408238   \n",
       "\n",
       "         61        62        63        64        65        66        67  \\\n",
       "0 -1.027617 -1.341581 -1.122147  0.335029  1.180084 -0.416602 -1.029512   \n",
       "\n",
       "         68        69        70        71       72        73        74  \\\n",
       "0 -0.383877  0.796493 -1.373293  1.048338  0.86538 -1.984326  0.543008   \n",
       "\n",
       "         75        76        77       78        79        80        81  \\\n",
       "0  0.158557 -0.969629  0.523497  1.40189 -2.082065  0.470857  1.783062   \n",
       "\n",
       "         82        83        84        85        86        87       88  \\\n",
       "0 -1.006254  1.290781  0.814985  0.724475  0.837011 -0.379999 -1.64262   \n",
       "\n",
       "         89        90       91        92       93        94       95  \n",
       "0  1.107531  0.207118 -1.62815  2.241691  1.90668 -1.611591  0.10455  "
      ]
     },
     "execution_count": 68,
     "metadata": {},
     "output_type": "execute_result"
    }
   ],
   "source": [
    "def prepare_datos_predict(df: pd.DataFrame, id_aluno):\n",
    "\n",
    "    df = df.sort_values(['id_aluno', 'data_aula']).copy()\n",
    "\n",
    "    # Criando a coluna 'seq_presenca' com a sequência ordinal de presença para cada aluno\n",
    "    df['seq_presenca'] = df.groupby('id_aluno').cumcount() + 1\n",
    "\n",
    "    # Filtrando o dataframe para o id_aluno específico\n",
    "    df_aluno = df[df[\"id_aluno\"] == id_aluno]\n",
    "\n",
    "    # Calculando as janelas de presença\n",
    "    inicio_janela = df_aluno[\"seq_presenca\"].max() - 10\n",
    "    fim_janela = df_aluno[\"seq_presenca\"].max()\n",
    "\n",
    "    # Carregando o modelo de NLP\n",
    "    nlp = spacy.load(\"pt_core_news_sm\")\n",
    "\n",
    "    # Função para criar embeddings\n",
    "    def criar_embedding(texto):\n",
    "        doc = nlp(texto)\n",
    "        return doc.vector.tolist()\n",
    "\n",
    "    # Filtrando o dataframe nas janelas de presença\n",
    "    df_janela = df_aluno[(df_aluno[\"seq_presenca\"] >= inicio_janela) & (df_aluno[\"seq_presenca\"] <= fim_janela)]\n",
    "\n",
    "    # Agrupando os dados e criando as agregações necessárias\n",
    "    df_agg = df_janela.groupby(\"id_aluno\").agg({\n",
    "        \"data_aula\": [\"first\", \"last\"],\n",
    "        \"dia_semana_0\": \"sum\",\n",
    "        \"dia_semana_1\": \"sum\",\n",
    "        \"dia_semana_2\": \"sum\",\n",
    "        \"dia_semana_3\": \"sum\",\n",
    "        \"dia_semana_4\": \"sum\",\n",
    "        \"dia_semana_5\": \"sum\",\n",
    "        \"dia_semana_6\": \"sum\",\n",
    "        \"conteudo_ministrado\": lambda x: \" \".join(x),  # Concatenando o conteúdo\n",
    "        \"sexo_aluno\": \"first\",\n",
    "        \"tem_pai\": \"first\",\n",
    "        \"tem_mae\": \"first\",\n",
    "        \"raca_aluno_A\": \"first\",\n",
    "        \"raca_aluno_B\": \"first\",\n",
    "        \"raca_aluno_I\": \"first\",\n",
    "        \"raca_aluno_N\": \"first\",\n",
    "        \"raca_aluno_None\": \"first\",\n",
    "        \"raca_aluno_P\": \"first\",\n",
    "        \"raca_aluno_R\": \"first\",\n",
    "        \"idade_aluno\": \"mean\",\n",
    "        \"sexo_professor\": \"sum\",\n",
    "        \"raca_professor_A\": \"sum\",\n",
    "        \"raca_professor_B\": \"sum\",\n",
    "        \"raca_professor_N\": \"sum\",\n",
    "        \"raca_professor_P\": \"sum\",\n",
    "        \"raca_professor_R\": \"sum\",\n",
    "        \"cargo_professor_Nenhum\": \"sum\",\n",
    "        \"cargo_professor_Neuropsicóloga\": \"sum\",\n",
    "        \"cargo_professor_Professor\": \"sum\",\n",
    "        \"cargo_professor_Professor Inglês\": \"sum\",\n",
    "        \"cargo_professor_Professor de Inglês\": \"sum\",\n",
    "        \"cargo_professor_Professor de Matemática\": \"sum\",\n",
    "        \"cargo_professor_Professora\": \"sum\",\n",
    "        \"cargo_professor_Professora de Inglês\": \"sum\",\n",
    "        \"cargo_professor_Professora de Matemática\": \"sum\",\n",
    "        \"cargo_professor_Professora/Coordenadora\": \"sum\",\n",
    "        \"cargo_professor_Psicóloga\": \"sum\",\n",
    "        \"cargo_professor_Psicólogo\": \"sum\",\n",
    "        \"idade_professor\": \"mean\",\n",
    "        \"id_professor\": pd.Series.nunique,  # Número de professores diferentes\n",
    "        \"id_disciplina\": pd.Series.nunique,  # Número de disciplinas diferentes\n",
    "        \"id_serie\": pd.Series.nunique,  # Número de séries diferentes\n",
    "        \"id_turma\": pd.Series.nunique,  # Número de turmas diferentes\n",
    "        \"presente\": [\"sum\", \"count\"],  # Soma e contagem de presenças\n",
    "        \"seq_presenca\": lambda x: x[df_janela[\"presente\"] == 1].max()  # Última presença\n",
    "    })\n",
    "\n",
    "    # Ajustando os nomes das colunas agregadas\n",
    "    df_agg.columns = [\"_\".join(col).strip() if isinstance(col, tuple) else col for col in df_agg.columns]\n",
    "\n",
    "    # Renomeando as colunas geradas pelo `groupby` para seguir o padrão desejado\n",
    "    df_agg.rename(columns={\n",
    "        'conteudo_ministrado_<lambda>': 'conteudo_ministrado_concat',\n",
    "        'seq_presenca_<lambda>': 'ultima_presenca',\n",
    "        'dia_semana_0_sum': 'sum_dia_semana_1',\n",
    "        'dia_semana_1_sum': 'sum_dia_semana_2',\n",
    "        'dia_semana_2_sum': 'sum_dia_semana_3',\n",
    "        'dia_semana_3_sum': 'sum_dia_semana_4',\n",
    "        'dia_semana_4_sum': 'sum_dia_semana_5',\n",
    "        'dia_semana_5_sum': 'sum_dia_semana_6',\n",
    "        'dia_semana_6_sum': 'sum_dia_semana_7',\n",
    "        'sexo_aluno_first': 'sexo_aluno',\n",
    "        'tem_pai_first': 'tem_pai',\n",
    "        'tem_mae_first': 'tem_mae',\n",
    "        'raca_aluno_A_first': 'raca_aluno_A',\n",
    "        'raca_aluno_B_first': 'raca_aluno_B',\n",
    "        'raca_aluno_I_first': 'raca_aluno_I',\n",
    "        'raca_aluno_N_first': 'raca_aluno_N',\n",
    "        'raca_aluno_None_first': 'raca_aluno_None',\n",
    "        'raca_aluno_P_first': 'raca_aluno_P',\n",
    "        'raca_aluno_R_first': 'raca_aluno_R',\n",
    "        'idade_aluno_mean': 'idade_aluno_media',\n",
    "        'cargo_professor_Professor Inglês_sum': 'cargo_professor_Professor_Inglês_sum',\n",
    "        'cargo_professor_Professor de Inglês_sum': 'cargo_professor_Professor_de_Inglês_sum',\n",
    "        'cargo_professor_Professor de Matemática_sum': 'cargo_professor_Professor_de_Matemática_sum',\n",
    "        'cargo_professor_Professora de Inglês_sum': 'cargo_professor_Professora_de_Inglês_sum',\n",
    "        'cargo_professor_Professora de Matemática_sum': 'cargo_professor_Professora_de_Matemática_sum',\n",
    "        'cargo_professor_Professora/Coordenadora_sum': 'cargo_professor_Professora_Coordenadora_sum',\n",
    "        'idade_professor_mean': 'idade_professor_media',\n",
    "        'id_professor_nunique': 'num_professores',\n",
    "        'id_disciplina_nunique': 'num_disciplinas',\n",
    "        'id_serie_nunique': 'num_series',\n",
    "        'id_turma_nunique': 'num_turmas',\n",
    "        'presente_sum': 'num_presencas',\n",
    "        'presente_count': 'num_aulas'\n",
    "    }, inplace=True)\n",
    "\n",
    "    # Adicionando a coluna 'last_seq'\n",
    "    df_agg[\"last_seq\"] = fim_janela\n",
    "\n",
    "    # Criando os embeddings para o conteúdo ministrado\n",
    "    df_agg[\"conteudo_embedding\"] = df_agg[\"conteudo_ministrado_concat\"].apply(criar_embedding)\n",
    "\n",
    "    # Remove a coluna 'conteudo_embedding' antiga e expande os embeddings\n",
    "    abt_filtered = df_agg.drop(columns=['conteudo_embedding', 'conteudo_ministrado_concat'])\n",
    "\n",
    "    # Expande a lista de embeddings (conteúdo_embedding) em múltiplas colunas\n",
    "    conteudo_embedding_expanded = pd.DataFrame(df_agg['conteudo_embedding'].tolist(), index=df_agg.index)\n",
    "\n",
    "    # Converte as colunas numéricas de embeddings para strings representando números\n",
    "    conteudo_embedding_expanded.columns = [str(i) for i in range(conteudo_embedding_expanded.shape[1])]\n",
    "\n",
    "    # Concatena o DataFrame original com as novas colunas de embedding\n",
    "    abt_final = pd.concat([abt_filtered, conteudo_embedding_expanded], axis=1)\n",
    "\n",
    "    # Preenchendo os valores NaN da coluna 'ultima_presenca' com a média de 'num_presenca'\n",
    "    media_presenca = abt_final['num_presencas'].mean()\n",
    "    abt_final['ultima_presenca'].fillna(media_presenca, inplace=True)\n",
    "\n",
    "    # Retornando o dataframe final\n",
    "    return abt_final.reset_index()\n",
    "\n",
    "# Testando a função\n",
    "id_aluno = np.int64(102)\n",
    "df_janela2 = prepare_datos_predict(df, id_aluno)\n",
    "df_janela2\n"
   ]
  },
  {
   "cell_type": "code",
   "execution_count": 24,
   "metadata": {},
   "outputs": [],
   "source": [
    "# df.to_csv('./documents/base dados/dados_gerais_passos_magicos.csv', index=False)"
   ]
  },
  {
   "cell_type": "markdown",
   "metadata": {},
   "source": [
    "<font color='orange'>**Correlação entre Pais (IdPai, IdMae) e Presença**</font>\n",
    "\n",
    "Alunos que têm ambos os pais cadastrados faltam menos? Isso pode revelar fatores sociais que impactam a presença."
   ]
  },
  {
   "cell_type": "code",
   "execution_count": 112,
   "metadata": {},
   "outputs": [
    {
     "data": {
      "application/vnd.plotly.v1+json": {
       "config": {
        "plotlyServerURL": "https://plot.ly"
       },
       "data": [
        {
         "alignmentgroup": "True",
         "hovertemplate": "Status=Presença (%)<br>Categoria=%{x}<br>Porcentagem=%{y}<extra></extra>",
         "legendgroup": "Presença (%)",
         "marker": {
          "color": "#1f77b4",
          "pattern": {
           "shape": ""
          }
         },
         "name": "Presença (%)",
         "offsetgroup": "Presença (%)",
         "orientation": "v",
         "showlegend": true,
         "textposition": "auto",
         "type": "bar",
         "x": [
          "Ambos Pais",
          "Só Pai ou Só Mãe",
          "Sem Pais"
         ],
         "xaxis": "x",
         "y": [
          73.84780278670954,
          77.02171664943123,
          78.74119587383535
         ],
         "yaxis": "y"
        },
        {
         "alignmentgroup": "True",
         "hovertemplate": "Status=Faltas (%)<br>Categoria=%{x}<br>Porcentagem=%{y}<extra></extra>",
         "legendgroup": "Faltas (%)",
         "marker": {
          "color": "#FF7F7F",
          "pattern": {
           "shape": ""
          }
         },
         "name": "Faltas (%)",
         "offsetgroup": "Faltas (%)",
         "orientation": "v",
         "showlegend": true,
         "textposition": "auto",
         "type": "bar",
         "x": [
          "Ambos Pais",
          "Só Pai ou Só Mãe",
          "Sem Pais"
         ],
         "xaxis": "x",
         "y": [
          26.152197213290464,
          22.978283350568773,
          21.258804126164648
         ],
         "yaxis": "y"
        }
       ],
       "layout": {
        "barmode": "stack",
        "font": {
         "color": "white"
        },
        "legend": {
         "title": {
          "text": "Status"
         },
         "tracegroupgap": 0
        },
        "paper_bgcolor": "rgba(0, 0, 0, 0)",
        "plot_bgcolor": "rgba(0, 0, 0, 0)",
        "template": {
         "data": {
          "bar": [
           {
            "error_x": {
             "color": "#2a3f5f"
            },
            "error_y": {
             "color": "#2a3f5f"
            },
            "marker": {
             "line": {
              "color": "#E5ECF6",
              "width": 0.5
             },
             "pattern": {
              "fillmode": "overlay",
              "size": 10,
              "solidity": 0.2
             }
            },
            "type": "bar"
           }
          ],
          "barpolar": [
           {
            "marker": {
             "line": {
              "color": "#E5ECF6",
              "width": 0.5
             },
             "pattern": {
              "fillmode": "overlay",
              "size": 10,
              "solidity": 0.2
             }
            },
            "type": "barpolar"
           }
          ],
          "carpet": [
           {
            "aaxis": {
             "endlinecolor": "#2a3f5f",
             "gridcolor": "white",
             "linecolor": "white",
             "minorgridcolor": "white",
             "startlinecolor": "#2a3f5f"
            },
            "baxis": {
             "endlinecolor": "#2a3f5f",
             "gridcolor": "white",
             "linecolor": "white",
             "minorgridcolor": "white",
             "startlinecolor": "#2a3f5f"
            },
            "type": "carpet"
           }
          ],
          "choropleth": [
           {
            "colorbar": {
             "outlinewidth": 0,
             "ticks": ""
            },
            "type": "choropleth"
           }
          ],
          "contour": [
           {
            "colorbar": {
             "outlinewidth": 0,
             "ticks": ""
            },
            "colorscale": [
             [
              0,
              "#0d0887"
             ],
             [
              0.1111111111111111,
              "#46039f"
             ],
             [
              0.2222222222222222,
              "#7201a8"
             ],
             [
              0.3333333333333333,
              "#9c179e"
             ],
             [
              0.4444444444444444,
              "#bd3786"
             ],
             [
              0.5555555555555556,
              "#d8576b"
             ],
             [
              0.6666666666666666,
              "#ed7953"
             ],
             [
              0.7777777777777778,
              "#fb9f3a"
             ],
             [
              0.8888888888888888,
              "#fdca26"
             ],
             [
              1,
              "#f0f921"
             ]
            ],
            "type": "contour"
           }
          ],
          "contourcarpet": [
           {
            "colorbar": {
             "outlinewidth": 0,
             "ticks": ""
            },
            "type": "contourcarpet"
           }
          ],
          "heatmap": [
           {
            "colorbar": {
             "outlinewidth": 0,
             "ticks": ""
            },
            "colorscale": [
             [
              0,
              "#0d0887"
             ],
             [
              0.1111111111111111,
              "#46039f"
             ],
             [
              0.2222222222222222,
              "#7201a8"
             ],
             [
              0.3333333333333333,
              "#9c179e"
             ],
             [
              0.4444444444444444,
              "#bd3786"
             ],
             [
              0.5555555555555556,
              "#d8576b"
             ],
             [
              0.6666666666666666,
              "#ed7953"
             ],
             [
              0.7777777777777778,
              "#fb9f3a"
             ],
             [
              0.8888888888888888,
              "#fdca26"
             ],
             [
              1,
              "#f0f921"
             ]
            ],
            "type": "heatmap"
           }
          ],
          "heatmapgl": [
           {
            "colorbar": {
             "outlinewidth": 0,
             "ticks": ""
            },
            "colorscale": [
             [
              0,
              "#0d0887"
             ],
             [
              0.1111111111111111,
              "#46039f"
             ],
             [
              0.2222222222222222,
              "#7201a8"
             ],
             [
              0.3333333333333333,
              "#9c179e"
             ],
             [
              0.4444444444444444,
              "#bd3786"
             ],
             [
              0.5555555555555556,
              "#d8576b"
             ],
             [
              0.6666666666666666,
              "#ed7953"
             ],
             [
              0.7777777777777778,
              "#fb9f3a"
             ],
             [
              0.8888888888888888,
              "#fdca26"
             ],
             [
              1,
              "#f0f921"
             ]
            ],
            "type": "heatmapgl"
           }
          ],
          "histogram": [
           {
            "marker": {
             "pattern": {
              "fillmode": "overlay",
              "size": 10,
              "solidity": 0.2
             }
            },
            "type": "histogram"
           }
          ],
          "histogram2d": [
           {
            "colorbar": {
             "outlinewidth": 0,
             "ticks": ""
            },
            "colorscale": [
             [
              0,
              "#0d0887"
             ],
             [
              0.1111111111111111,
              "#46039f"
             ],
             [
              0.2222222222222222,
              "#7201a8"
             ],
             [
              0.3333333333333333,
              "#9c179e"
             ],
             [
              0.4444444444444444,
              "#bd3786"
             ],
             [
              0.5555555555555556,
              "#d8576b"
             ],
             [
              0.6666666666666666,
              "#ed7953"
             ],
             [
              0.7777777777777778,
              "#fb9f3a"
             ],
             [
              0.8888888888888888,
              "#fdca26"
             ],
             [
              1,
              "#f0f921"
             ]
            ],
            "type": "histogram2d"
           }
          ],
          "histogram2dcontour": [
           {
            "colorbar": {
             "outlinewidth": 0,
             "ticks": ""
            },
            "colorscale": [
             [
              0,
              "#0d0887"
             ],
             [
              0.1111111111111111,
              "#46039f"
             ],
             [
              0.2222222222222222,
              "#7201a8"
             ],
             [
              0.3333333333333333,
              "#9c179e"
             ],
             [
              0.4444444444444444,
              "#bd3786"
             ],
             [
              0.5555555555555556,
              "#d8576b"
             ],
             [
              0.6666666666666666,
              "#ed7953"
             ],
             [
              0.7777777777777778,
              "#fb9f3a"
             ],
             [
              0.8888888888888888,
              "#fdca26"
             ],
             [
              1,
              "#f0f921"
             ]
            ],
            "type": "histogram2dcontour"
           }
          ],
          "mesh3d": [
           {
            "colorbar": {
             "outlinewidth": 0,
             "ticks": ""
            },
            "type": "mesh3d"
           }
          ],
          "parcoords": [
           {
            "line": {
             "colorbar": {
              "outlinewidth": 0,
              "ticks": ""
             }
            },
            "type": "parcoords"
           }
          ],
          "pie": [
           {
            "automargin": true,
            "type": "pie"
           }
          ],
          "scatter": [
           {
            "fillpattern": {
             "fillmode": "overlay",
             "size": 10,
             "solidity": 0.2
            },
            "type": "scatter"
           }
          ],
          "scatter3d": [
           {
            "line": {
             "colorbar": {
              "outlinewidth": 0,
              "ticks": ""
             }
            },
            "marker": {
             "colorbar": {
              "outlinewidth": 0,
              "ticks": ""
             }
            },
            "type": "scatter3d"
           }
          ],
          "scattercarpet": [
           {
            "marker": {
             "colorbar": {
              "outlinewidth": 0,
              "ticks": ""
             }
            },
            "type": "scattercarpet"
           }
          ],
          "scattergeo": [
           {
            "marker": {
             "colorbar": {
              "outlinewidth": 0,
              "ticks": ""
             }
            },
            "type": "scattergeo"
           }
          ],
          "scattergl": [
           {
            "marker": {
             "colorbar": {
              "outlinewidth": 0,
              "ticks": ""
             }
            },
            "type": "scattergl"
           }
          ],
          "scattermapbox": [
           {
            "marker": {
             "colorbar": {
              "outlinewidth": 0,
              "ticks": ""
             }
            },
            "type": "scattermapbox"
           }
          ],
          "scatterpolar": [
           {
            "marker": {
             "colorbar": {
              "outlinewidth": 0,
              "ticks": ""
             }
            },
            "type": "scatterpolar"
           }
          ],
          "scatterpolargl": [
           {
            "marker": {
             "colorbar": {
              "outlinewidth": 0,
              "ticks": ""
             }
            },
            "type": "scatterpolargl"
           }
          ],
          "scatterternary": [
           {
            "marker": {
             "colorbar": {
              "outlinewidth": 0,
              "ticks": ""
             }
            },
            "type": "scatterternary"
           }
          ],
          "surface": [
           {
            "colorbar": {
             "outlinewidth": 0,
             "ticks": ""
            },
            "colorscale": [
             [
              0,
              "#0d0887"
             ],
             [
              0.1111111111111111,
              "#46039f"
             ],
             [
              0.2222222222222222,
              "#7201a8"
             ],
             [
              0.3333333333333333,
              "#9c179e"
             ],
             [
              0.4444444444444444,
              "#bd3786"
             ],
             [
              0.5555555555555556,
              "#d8576b"
             ],
             [
              0.6666666666666666,
              "#ed7953"
             ],
             [
              0.7777777777777778,
              "#fb9f3a"
             ],
             [
              0.8888888888888888,
              "#fdca26"
             ],
             [
              1,
              "#f0f921"
             ]
            ],
            "type": "surface"
           }
          ],
          "table": [
           {
            "cells": {
             "fill": {
              "color": "#EBF0F8"
             },
             "line": {
              "color": "white"
             }
            },
            "header": {
             "fill": {
              "color": "#C8D4E3"
             },
             "line": {
              "color": "white"
             }
            },
            "type": "table"
           }
          ]
         },
         "layout": {
          "annotationdefaults": {
           "arrowcolor": "#2a3f5f",
           "arrowhead": 0,
           "arrowwidth": 1
          },
          "autotypenumbers": "strict",
          "coloraxis": {
           "colorbar": {
            "outlinewidth": 0,
            "ticks": ""
           }
          },
          "colorscale": {
           "diverging": [
            [
             0,
             "#8e0152"
            ],
            [
             0.1,
             "#c51b7d"
            ],
            [
             0.2,
             "#de77ae"
            ],
            [
             0.3,
             "#f1b6da"
            ],
            [
             0.4,
             "#fde0ef"
            ],
            [
             0.5,
             "#f7f7f7"
            ],
            [
             0.6,
             "#e6f5d0"
            ],
            [
             0.7,
             "#b8e186"
            ],
            [
             0.8,
             "#7fbc41"
            ],
            [
             0.9,
             "#4d9221"
            ],
            [
             1,
             "#276419"
            ]
           ],
           "sequential": [
            [
             0,
             "#0d0887"
            ],
            [
             0.1111111111111111,
             "#46039f"
            ],
            [
             0.2222222222222222,
             "#7201a8"
            ],
            [
             0.3333333333333333,
             "#9c179e"
            ],
            [
             0.4444444444444444,
             "#bd3786"
            ],
            [
             0.5555555555555556,
             "#d8576b"
            ],
            [
             0.6666666666666666,
             "#ed7953"
            ],
            [
             0.7777777777777778,
             "#fb9f3a"
            ],
            [
             0.8888888888888888,
             "#fdca26"
            ],
            [
             1,
             "#f0f921"
            ]
           ],
           "sequentialminus": [
            [
             0,
             "#0d0887"
            ],
            [
             0.1111111111111111,
             "#46039f"
            ],
            [
             0.2222222222222222,
             "#7201a8"
            ],
            [
             0.3333333333333333,
             "#9c179e"
            ],
            [
             0.4444444444444444,
             "#bd3786"
            ],
            [
             0.5555555555555556,
             "#d8576b"
            ],
            [
             0.6666666666666666,
             "#ed7953"
            ],
            [
             0.7777777777777778,
             "#fb9f3a"
            ],
            [
             0.8888888888888888,
             "#fdca26"
            ],
            [
             1,
             "#f0f921"
            ]
           ]
          },
          "colorway": [
           "#636efa",
           "#EF553B",
           "#00cc96",
           "#ab63fa",
           "#FFA15A",
           "#19d3f3",
           "#FF6692",
           "#B6E880",
           "#FF97FF",
           "#FECB52"
          ],
          "font": {
           "color": "#2a3f5f"
          },
          "geo": {
           "bgcolor": "white",
           "lakecolor": "white",
           "landcolor": "#E5ECF6",
           "showlakes": true,
           "showland": true,
           "subunitcolor": "white"
          },
          "hoverlabel": {
           "align": "left"
          },
          "hovermode": "closest",
          "mapbox": {
           "style": "light"
          },
          "paper_bgcolor": "white",
          "plot_bgcolor": "#E5ECF6",
          "polar": {
           "angularaxis": {
            "gridcolor": "white",
            "linecolor": "white",
            "ticks": ""
           },
           "bgcolor": "#E5ECF6",
           "radialaxis": {
            "gridcolor": "white",
            "linecolor": "white",
            "ticks": ""
           }
          },
          "scene": {
           "xaxis": {
            "backgroundcolor": "#E5ECF6",
            "gridcolor": "white",
            "gridwidth": 2,
            "linecolor": "white",
            "showbackground": true,
            "ticks": "",
            "zerolinecolor": "white"
           },
           "yaxis": {
            "backgroundcolor": "#E5ECF6",
            "gridcolor": "white",
            "gridwidth": 2,
            "linecolor": "white",
            "showbackground": true,
            "ticks": "",
            "zerolinecolor": "white"
           },
           "zaxis": {
            "backgroundcolor": "#E5ECF6",
            "gridcolor": "white",
            "gridwidth": 2,
            "linecolor": "white",
            "showbackground": true,
            "ticks": "",
            "zerolinecolor": "white"
           }
          },
          "shapedefaults": {
           "line": {
            "color": "#2a3f5f"
           }
          },
          "ternary": {
           "aaxis": {
            "gridcolor": "white",
            "linecolor": "white",
            "ticks": ""
           },
           "baxis": {
            "gridcolor": "white",
            "linecolor": "white",
            "ticks": ""
           },
           "bgcolor": "#E5ECF6",
           "caxis": {
            "gridcolor": "white",
            "linecolor": "white",
            "ticks": ""
           }
          },
          "title": {
           "x": 0.05
          },
          "xaxis": {
           "automargin": true,
           "gridcolor": "white",
           "linecolor": "white",
           "ticks": "",
           "title": {
            "standoff": 15
           },
           "zerolinecolor": "white",
           "zerolinewidth": 2
          },
          "yaxis": {
           "automargin": true,
           "gridcolor": "white",
           "linecolor": "white",
           "ticks": "",
           "title": {
            "standoff": 15
           },
           "zerolinecolor": "white",
           "zerolinewidth": 2
          }
         }
        },
        "title": {
         "text": "Presença e Faltas por Categoria de Pais"
        },
        "xaxis": {
         "anchor": "y",
         "domain": [
          0,
          1
         ],
         "title": {
          "text": "Categoria"
         }
        },
        "yaxis": {
         "anchor": "x",
         "domain": [
          0,
          1
         ],
         "title": {
          "text": "Porcentagem"
         }
        }
       }
      }
     },
     "metadata": {},
     "output_type": "display_data"
    },
    {
     "name": "stdout",
     "output_type": "stream",
     "text": [
      "          Categoria  Presença (%)  Faltas (%)\n",
      "0        Ambos Pais     73.847803   26.152197\n",
      "1  Só Pai ou Só Mãe     77.021717   22.978283\n",
      "2          Sem Pais     78.741196   21.258804\n"
     ]
    }
   ],
   "source": [
    "# Criando uma nova coluna para categorizar os alunos\n",
    "df['categoria_pais'] = df.apply(lambda row: 'Ambos Pais' if row['tem_pai'] == 1 and row['tem_mae'] == 1 \n",
    "                                 else 'Só Pai ou Só Mãe' if row['tem_pai'] != row['tem_mae'] \n",
    "                                 else 'Sem Pais', axis=1)\n",
    "\n",
    "# Calculando a média de presença para cada categoria\n",
    "presenca_categoria = df.groupby('categoria_pais')['presente'].mean() * 100\n",
    "faltas_categoria = 100 - presenca_categoria\n",
    "\n",
    "# Criando DataFrame para visualização dos resultados\n",
    "df_categoria_pais = pd.DataFrame({\n",
    "    'Categoria': ['Ambos Pais', 'Só Pai ou Só Mãe', 'Sem Pais'],\n",
    "    'Presença (%)': presenca_categoria.values,\n",
    "    'Faltas (%)': faltas_categoria.values\n",
    "})\n",
    "\n",
    "# Transformando o DataFrame para gráfico empilhado\n",
    "df_categoria_pais_melt = df_categoria_pais.melt(id_vars='Categoria', \n",
    "                                                value_vars=['Presença (%)', 'Faltas (%)'], \n",
    "                                                var_name='Status', \n",
    "                                                value_name='Porcentagem')\n",
    "\n",
    "# Gráfico de barras empilhadas para presença e faltas por categoria\n",
    "fig_categoria_pais = px.bar(df_categoria_pais_melt, \n",
    "                            x='Categoria', \n",
    "                            y='Porcentagem', \n",
    "                            color='Status', \n",
    "                            title='Presença e Faltas por Categoria de Pais',\n",
    "                            color_discrete_sequence=['#1f77b4', '#FF7F7F'])  # Azul para presença, vermelho claro para faltas\n",
    "\n",
    "# Ajustando o layout com fundo escuro\n",
    "fig_categoria_pais.update_layout(\n",
    "    plot_bgcolor='rgba(0, 0, 0, 0)',  \n",
    "    paper_bgcolor='rgba(0, 0, 0, 0)', \n",
    "    font_color='white',               \n",
    "    barmode='stack'                   \n",
    ")\n",
    "\n",
    "# Exibindo o gráfico\n",
    "fig_categoria_pais.show()\n",
    "\n",
    "# Exibindo os valores para análise\n",
    "print(df_categoria_pais)\n"
   ]
  },
  {
   "cell_type": "markdown",
   "metadata": {},
   "source": [
    "<font color='orange'>**Análise da Correlação entre Presença de Pais e Presença/Faltas:**</font>\n",
    "\n",
    "1. **Alunos com Ambos os Pais**:\n",
    "   - **Presença**: **73,85%**\n",
    "   - **Faltas**: **26,15%**\n",
    "   - **Interpretação**: Curiosamente, alunos que têm ambos os pais registrados apresentam a **menor taxa de presença** e a maior taxa de faltas (**26,15%**). Isso pode indicar que a presença de ambos os pais não necessariamente garante maior assiduidade nas aulas.\n",
    "\n",
    "2. **Alunos com Apenas Pai ou Mãe**:\n",
    "   - **Presença**: **77,02%**\n",
    "   - **Faltas**: **22,98%**\n",
    "   - **Interpretação**: Alunos que têm apenas pai ou mãe registrados apresentam uma taxa de presença maior (**77,02%**), e a taxa de faltas diminui para cerca de **23%**. Essa categoria parece estar em uma situação intermediária entre alunos com ambos os pais e sem pais.\n",
    "\n",
    "3. **Alunos Sem Pais**:\n",
    "   - **Presença**: **78,74%**\n",
    "   - **Faltas**: **21,26%**\n",
    "   - **Interpretação**: De maneira contraintuitiva, alunos sem pai nem mãe registrados têm a **maior taxa de presença** (**78,74%**) e a menor taxa de faltas. Isso sugere que, para esses alunos, a falta de pais registrados não resulta em uma menor presença escolar, e pode haver outros fatores sociais ou institucionais que motivam esses alunos a comparecerem mais frequentemente.\n",
    "\n",
    "**Conclusão:**\n",
    "\n",
    "- **Alunos com ambos os pais** têm a maior taxa de faltas, o que é um resultado inesperado. Intervenções para engajar mais esses alunos podem ser úteis.\n",
    "- **Alunos sem pais** se destacam por ter a maior taxa de presença, sugerindo que esses alunos podem receber suporte adicional ou possuem uma motivação interna maior para comparecer às aulas.\n",
    "- **Alunos com apenas um dos pais** estão em uma situação intermediária, com uma boa taxa de presença, indicando que a presença de pelo menos um dos pais pode ajudar no engajamento escolar.\n",
    "\n",
    "Esses resultados indicam que a presença de pais, por si só, não é o único fator determinante para a assiduidade, e outras variáveis podem estar influenciando o comportamento dos alunos."
   ]
  },
  {
   "cell_type": "code",
   "execution_count": 113,
   "metadata": {},
   "outputs": [
    {
     "data": {
      "application/vnd.plotly.v1+json": {
       "config": {
        "plotlyServerURL": "https://plot.ly"
       },
       "data": [
        {
         "alignmentgroup": "True",
         "hovertemplate": "Status=Presença (%)<br>Grupo=%{x}<br>Porcentagem=%{y}<extra></extra>",
         "legendgroup": "Presença (%)",
         "marker": {
          "color": "#1f77b4",
          "pattern": {
           "shape": ""
          }
         },
         "name": "Presença (%)",
         "offsetgroup": "Presença (%)",
         "orientation": "v",
         "showlegend": true,
         "textposition": "auto",
         "type": "bar",
         "x": [
          "Tem Pai",
          "Não Tem Pai",
          "Tem Mãe",
          "Não Tem Mãe"
         ],
         "xaxis": "x",
         "y": [
          85.7613841298467,
          76.60046338169518,
          76.5720063754306,
          84.84061570885551
         ],
         "yaxis": "y"
        },
        {
         "alignmentgroup": "True",
         "hovertemplate": "Status=Faltas (%)<br>Grupo=%{x}<br>Porcentagem=%{y}<extra></extra>",
         "legendgroup": "Faltas (%)",
         "marker": {
          "color": "#FF7F7F",
          "pattern": {
           "shape": ""
          }
         },
         "name": "Faltas (%)",
         "offsetgroup": "Faltas (%)",
         "orientation": "v",
         "showlegend": true,
         "textposition": "auto",
         "type": "bar",
         "x": [
          "Tem Pai",
          "Não Tem Pai",
          "Tem Mãe",
          "Não Tem Mãe"
         ],
         "xaxis": "x",
         "y": [
          14.238615870153296,
          23.399536618304822,
          23.427993624569396,
          15.159384291144491
         ],
         "yaxis": "y"
        }
       ],
       "layout": {
        "barmode": "stack",
        "font": {
         "color": "white"
        },
        "legend": {
         "title": {
          "text": "Status"
         },
         "tracegroupgap": 0
        },
        "paper_bgcolor": "rgba(0, 0, 0, 0)",
        "plot_bgcolor": "rgba(0, 0, 0, 0)",
        "template": {
         "data": {
          "bar": [
           {
            "error_x": {
             "color": "#2a3f5f"
            },
            "error_y": {
             "color": "#2a3f5f"
            },
            "marker": {
             "line": {
              "color": "#E5ECF6",
              "width": 0.5
             },
             "pattern": {
              "fillmode": "overlay",
              "size": 10,
              "solidity": 0.2
             }
            },
            "type": "bar"
           }
          ],
          "barpolar": [
           {
            "marker": {
             "line": {
              "color": "#E5ECF6",
              "width": 0.5
             },
             "pattern": {
              "fillmode": "overlay",
              "size": 10,
              "solidity": 0.2
             }
            },
            "type": "barpolar"
           }
          ],
          "carpet": [
           {
            "aaxis": {
             "endlinecolor": "#2a3f5f",
             "gridcolor": "white",
             "linecolor": "white",
             "minorgridcolor": "white",
             "startlinecolor": "#2a3f5f"
            },
            "baxis": {
             "endlinecolor": "#2a3f5f",
             "gridcolor": "white",
             "linecolor": "white",
             "minorgridcolor": "white",
             "startlinecolor": "#2a3f5f"
            },
            "type": "carpet"
           }
          ],
          "choropleth": [
           {
            "colorbar": {
             "outlinewidth": 0,
             "ticks": ""
            },
            "type": "choropleth"
           }
          ],
          "contour": [
           {
            "colorbar": {
             "outlinewidth": 0,
             "ticks": ""
            },
            "colorscale": [
             [
              0,
              "#0d0887"
             ],
             [
              0.1111111111111111,
              "#46039f"
             ],
             [
              0.2222222222222222,
              "#7201a8"
             ],
             [
              0.3333333333333333,
              "#9c179e"
             ],
             [
              0.4444444444444444,
              "#bd3786"
             ],
             [
              0.5555555555555556,
              "#d8576b"
             ],
             [
              0.6666666666666666,
              "#ed7953"
             ],
             [
              0.7777777777777778,
              "#fb9f3a"
             ],
             [
              0.8888888888888888,
              "#fdca26"
             ],
             [
              1,
              "#f0f921"
             ]
            ],
            "type": "contour"
           }
          ],
          "contourcarpet": [
           {
            "colorbar": {
             "outlinewidth": 0,
             "ticks": ""
            },
            "type": "contourcarpet"
           }
          ],
          "heatmap": [
           {
            "colorbar": {
             "outlinewidth": 0,
             "ticks": ""
            },
            "colorscale": [
             [
              0,
              "#0d0887"
             ],
             [
              0.1111111111111111,
              "#46039f"
             ],
             [
              0.2222222222222222,
              "#7201a8"
             ],
             [
              0.3333333333333333,
              "#9c179e"
             ],
             [
              0.4444444444444444,
              "#bd3786"
             ],
             [
              0.5555555555555556,
              "#d8576b"
             ],
             [
              0.6666666666666666,
              "#ed7953"
             ],
             [
              0.7777777777777778,
              "#fb9f3a"
             ],
             [
              0.8888888888888888,
              "#fdca26"
             ],
             [
              1,
              "#f0f921"
             ]
            ],
            "type": "heatmap"
           }
          ],
          "heatmapgl": [
           {
            "colorbar": {
             "outlinewidth": 0,
             "ticks": ""
            },
            "colorscale": [
             [
              0,
              "#0d0887"
             ],
             [
              0.1111111111111111,
              "#46039f"
             ],
             [
              0.2222222222222222,
              "#7201a8"
             ],
             [
              0.3333333333333333,
              "#9c179e"
             ],
             [
              0.4444444444444444,
              "#bd3786"
             ],
             [
              0.5555555555555556,
              "#d8576b"
             ],
             [
              0.6666666666666666,
              "#ed7953"
             ],
             [
              0.7777777777777778,
              "#fb9f3a"
             ],
             [
              0.8888888888888888,
              "#fdca26"
             ],
             [
              1,
              "#f0f921"
             ]
            ],
            "type": "heatmapgl"
           }
          ],
          "histogram": [
           {
            "marker": {
             "pattern": {
              "fillmode": "overlay",
              "size": 10,
              "solidity": 0.2
             }
            },
            "type": "histogram"
           }
          ],
          "histogram2d": [
           {
            "colorbar": {
             "outlinewidth": 0,
             "ticks": ""
            },
            "colorscale": [
             [
              0,
              "#0d0887"
             ],
             [
              0.1111111111111111,
              "#46039f"
             ],
             [
              0.2222222222222222,
              "#7201a8"
             ],
             [
              0.3333333333333333,
              "#9c179e"
             ],
             [
              0.4444444444444444,
              "#bd3786"
             ],
             [
              0.5555555555555556,
              "#d8576b"
             ],
             [
              0.6666666666666666,
              "#ed7953"
             ],
             [
              0.7777777777777778,
              "#fb9f3a"
             ],
             [
              0.8888888888888888,
              "#fdca26"
             ],
             [
              1,
              "#f0f921"
             ]
            ],
            "type": "histogram2d"
           }
          ],
          "histogram2dcontour": [
           {
            "colorbar": {
             "outlinewidth": 0,
             "ticks": ""
            },
            "colorscale": [
             [
              0,
              "#0d0887"
             ],
             [
              0.1111111111111111,
              "#46039f"
             ],
             [
              0.2222222222222222,
              "#7201a8"
             ],
             [
              0.3333333333333333,
              "#9c179e"
             ],
             [
              0.4444444444444444,
              "#bd3786"
             ],
             [
              0.5555555555555556,
              "#d8576b"
             ],
             [
              0.6666666666666666,
              "#ed7953"
             ],
             [
              0.7777777777777778,
              "#fb9f3a"
             ],
             [
              0.8888888888888888,
              "#fdca26"
             ],
             [
              1,
              "#f0f921"
             ]
            ],
            "type": "histogram2dcontour"
           }
          ],
          "mesh3d": [
           {
            "colorbar": {
             "outlinewidth": 0,
             "ticks": ""
            },
            "type": "mesh3d"
           }
          ],
          "parcoords": [
           {
            "line": {
             "colorbar": {
              "outlinewidth": 0,
              "ticks": ""
             }
            },
            "type": "parcoords"
           }
          ],
          "pie": [
           {
            "automargin": true,
            "type": "pie"
           }
          ],
          "scatter": [
           {
            "fillpattern": {
             "fillmode": "overlay",
             "size": 10,
             "solidity": 0.2
            },
            "type": "scatter"
           }
          ],
          "scatter3d": [
           {
            "line": {
             "colorbar": {
              "outlinewidth": 0,
              "ticks": ""
             }
            },
            "marker": {
             "colorbar": {
              "outlinewidth": 0,
              "ticks": ""
             }
            },
            "type": "scatter3d"
           }
          ],
          "scattercarpet": [
           {
            "marker": {
             "colorbar": {
              "outlinewidth": 0,
              "ticks": ""
             }
            },
            "type": "scattercarpet"
           }
          ],
          "scattergeo": [
           {
            "marker": {
             "colorbar": {
              "outlinewidth": 0,
              "ticks": ""
             }
            },
            "type": "scattergeo"
           }
          ],
          "scattergl": [
           {
            "marker": {
             "colorbar": {
              "outlinewidth": 0,
              "ticks": ""
             }
            },
            "type": "scattergl"
           }
          ],
          "scattermapbox": [
           {
            "marker": {
             "colorbar": {
              "outlinewidth": 0,
              "ticks": ""
             }
            },
            "type": "scattermapbox"
           }
          ],
          "scatterpolar": [
           {
            "marker": {
             "colorbar": {
              "outlinewidth": 0,
              "ticks": ""
             }
            },
            "type": "scatterpolar"
           }
          ],
          "scatterpolargl": [
           {
            "marker": {
             "colorbar": {
              "outlinewidth": 0,
              "ticks": ""
             }
            },
            "type": "scatterpolargl"
           }
          ],
          "scatterternary": [
           {
            "marker": {
             "colorbar": {
              "outlinewidth": 0,
              "ticks": ""
             }
            },
            "type": "scatterternary"
           }
          ],
          "surface": [
           {
            "colorbar": {
             "outlinewidth": 0,
             "ticks": ""
            },
            "colorscale": [
             [
              0,
              "#0d0887"
             ],
             [
              0.1111111111111111,
              "#46039f"
             ],
             [
              0.2222222222222222,
              "#7201a8"
             ],
             [
              0.3333333333333333,
              "#9c179e"
             ],
             [
              0.4444444444444444,
              "#bd3786"
             ],
             [
              0.5555555555555556,
              "#d8576b"
             ],
             [
              0.6666666666666666,
              "#ed7953"
             ],
             [
              0.7777777777777778,
              "#fb9f3a"
             ],
             [
              0.8888888888888888,
              "#fdca26"
             ],
             [
              1,
              "#f0f921"
             ]
            ],
            "type": "surface"
           }
          ],
          "table": [
           {
            "cells": {
             "fill": {
              "color": "#EBF0F8"
             },
             "line": {
              "color": "white"
             }
            },
            "header": {
             "fill": {
              "color": "#C8D4E3"
             },
             "line": {
              "color": "white"
             }
            },
            "type": "table"
           }
          ]
         },
         "layout": {
          "annotationdefaults": {
           "arrowcolor": "#2a3f5f",
           "arrowhead": 0,
           "arrowwidth": 1
          },
          "autotypenumbers": "strict",
          "coloraxis": {
           "colorbar": {
            "outlinewidth": 0,
            "ticks": ""
           }
          },
          "colorscale": {
           "diverging": [
            [
             0,
             "#8e0152"
            ],
            [
             0.1,
             "#c51b7d"
            ],
            [
             0.2,
             "#de77ae"
            ],
            [
             0.3,
             "#f1b6da"
            ],
            [
             0.4,
             "#fde0ef"
            ],
            [
             0.5,
             "#f7f7f7"
            ],
            [
             0.6,
             "#e6f5d0"
            ],
            [
             0.7,
             "#b8e186"
            ],
            [
             0.8,
             "#7fbc41"
            ],
            [
             0.9,
             "#4d9221"
            ],
            [
             1,
             "#276419"
            ]
           ],
           "sequential": [
            [
             0,
             "#0d0887"
            ],
            [
             0.1111111111111111,
             "#46039f"
            ],
            [
             0.2222222222222222,
             "#7201a8"
            ],
            [
             0.3333333333333333,
             "#9c179e"
            ],
            [
             0.4444444444444444,
             "#bd3786"
            ],
            [
             0.5555555555555556,
             "#d8576b"
            ],
            [
             0.6666666666666666,
             "#ed7953"
            ],
            [
             0.7777777777777778,
             "#fb9f3a"
            ],
            [
             0.8888888888888888,
             "#fdca26"
            ],
            [
             1,
             "#f0f921"
            ]
           ],
           "sequentialminus": [
            [
             0,
             "#0d0887"
            ],
            [
             0.1111111111111111,
             "#46039f"
            ],
            [
             0.2222222222222222,
             "#7201a8"
            ],
            [
             0.3333333333333333,
             "#9c179e"
            ],
            [
             0.4444444444444444,
             "#bd3786"
            ],
            [
             0.5555555555555556,
             "#d8576b"
            ],
            [
             0.6666666666666666,
             "#ed7953"
            ],
            [
             0.7777777777777778,
             "#fb9f3a"
            ],
            [
             0.8888888888888888,
             "#fdca26"
            ],
            [
             1,
             "#f0f921"
            ]
           ]
          },
          "colorway": [
           "#636efa",
           "#EF553B",
           "#00cc96",
           "#ab63fa",
           "#FFA15A",
           "#19d3f3",
           "#FF6692",
           "#B6E880",
           "#FF97FF",
           "#FECB52"
          ],
          "font": {
           "color": "#2a3f5f"
          },
          "geo": {
           "bgcolor": "white",
           "lakecolor": "white",
           "landcolor": "#E5ECF6",
           "showlakes": true,
           "showland": true,
           "subunitcolor": "white"
          },
          "hoverlabel": {
           "align": "left"
          },
          "hovermode": "closest",
          "mapbox": {
           "style": "light"
          },
          "paper_bgcolor": "white",
          "plot_bgcolor": "#E5ECF6",
          "polar": {
           "angularaxis": {
            "gridcolor": "white",
            "linecolor": "white",
            "ticks": ""
           },
           "bgcolor": "#E5ECF6",
           "radialaxis": {
            "gridcolor": "white",
            "linecolor": "white",
            "ticks": ""
           }
          },
          "scene": {
           "xaxis": {
            "backgroundcolor": "#E5ECF6",
            "gridcolor": "white",
            "gridwidth": 2,
            "linecolor": "white",
            "showbackground": true,
            "ticks": "",
            "zerolinecolor": "white"
           },
           "yaxis": {
            "backgroundcolor": "#E5ECF6",
            "gridcolor": "white",
            "gridwidth": 2,
            "linecolor": "white",
            "showbackground": true,
            "ticks": "",
            "zerolinecolor": "white"
           },
           "zaxis": {
            "backgroundcolor": "#E5ECF6",
            "gridcolor": "white",
            "gridwidth": 2,
            "linecolor": "white",
            "showbackground": true,
            "ticks": "",
            "zerolinecolor": "white"
           }
          },
          "shapedefaults": {
           "line": {
            "color": "#2a3f5f"
           }
          },
          "ternary": {
           "aaxis": {
            "gridcolor": "white",
            "linecolor": "white",
            "ticks": ""
           },
           "baxis": {
            "gridcolor": "white",
            "linecolor": "white",
            "ticks": ""
           },
           "bgcolor": "#E5ECF6",
           "caxis": {
            "gridcolor": "white",
            "linecolor": "white",
            "ticks": ""
           }
          },
          "title": {
           "x": 0.05
          },
          "xaxis": {
           "automargin": true,
           "gridcolor": "white",
           "linecolor": "white",
           "ticks": "",
           "title": {
            "standoff": 15
           },
           "zerolinecolor": "white",
           "zerolinewidth": 2
          },
          "yaxis": {
           "automargin": true,
           "gridcolor": "white",
           "linecolor": "white",
           "ticks": "",
           "title": {
            "standoff": 15
           },
           "zerolinecolor": "white",
           "zerolinewidth": 2
          }
         }
        },
        "title": {
         "text": "Presença e Faltas por Presença de Pai/Mãe"
        },
        "xaxis": {
         "anchor": "y",
         "domain": [
          0,
          1
         ],
         "title": {
          "text": "Grupo"
         }
        },
        "yaxis": {
         "anchor": "x",
         "domain": [
          0,
          1
         ],
         "title": {
          "text": "Porcentagem"
         }
        }
       }
      }
     },
     "metadata": {},
     "output_type": "display_data"
    },
    {
     "name": "stdout",
     "output_type": "stream",
     "text": [
      "         Grupo  Presença (%)  Faltas (%)\n",
      "0      Tem Pai     85.761384   14.238616\n",
      "1  Não Tem Pai     76.600463   23.399537\n",
      "2      Tem Mãe     76.572006   23.427994\n",
      "3  Não Tem Mãe     84.840616   15.159384\n"
     ]
    }
   ],
   "source": [
    "# Calculando a média de presença para alunos com e sem pai\n",
    "presenca_pai = df.groupby('tem_pai')['presente'].mean() * 100\n",
    "faltas_pai = 100 - presenca_pai\n",
    "\n",
    "# Calculando a média de presença para alunos com e sem mãe\n",
    "presenca_mae = df.groupby('tem_mae')['presente'].mean() * 100\n",
    "faltas_mae = 100 - presenca_mae\n",
    "\n",
    "# Criando DataFrame para visualização dos resultados\n",
    "df_pai_mae = pd.DataFrame({\n",
    "    'Grupo': ['Tem Pai', 'Não Tem Pai', 'Tem Mãe', 'Não Tem Mãe'],\n",
    "    'Presença (%)': [presenca_pai[1], presenca_pai[0], presenca_mae[1], presenca_mae[0]],\n",
    "    'Faltas (%)': [faltas_pai[1], faltas_pai[0], faltas_mae[1], faltas_mae[0]]\n",
    "})\n",
    "\n",
    "# Transformando o DataFrame para gráfico empilhado\n",
    "df_pai_mae_melt = df_pai_mae.melt(id_vars='Grupo', \n",
    "                                  value_vars=['Presença (%)', 'Faltas (%)'], \n",
    "                                  var_name='Status', \n",
    "                                  value_name='Porcentagem')\n",
    "\n",
    "# Gráfico de barras empilhadas para presença e faltas por grupo (pai/mãe)\n",
    "fig_pai_mae = px.bar(df_pai_mae_melt, \n",
    "                     x='Grupo', \n",
    "                     y='Porcentagem', \n",
    "                     color='Status', \n",
    "                     title='Presença e Faltas por Presença de Pai/Mãe',\n",
    "                     color_discrete_sequence=['#1f77b4', '#FF7F7F'])  # Azul para presença, vermelho claro para faltas\n",
    "\n",
    "# Ajustando o layout com fundo escuro\n",
    "fig_pai_mae.update_layout(\n",
    "    plot_bgcolor='rgba(0, 0, 0, 0)',  \n",
    "    paper_bgcolor='rgba(0, 0, 0, 0)', \n",
    "    font_color='white',               \n",
    "    barmode='stack'                   \n",
    ")\n",
    "\n",
    "# Exibindo o gráfico\n",
    "fig_pai_mae.show()\n",
    "\n",
    "# Exibindo os valores para análise\n",
    "print(df_pai_mae)\n"
   ]
  },
  {
   "cell_type": "markdown",
   "metadata": {},
   "source": [
    "<font color='orange'>**Análise da Correlação entre Presença de Pais/Mães e Presença/Faltas:**</font>\n",
    "\n",
    "1. **Alunos com Pai**:\n",
    "   - **Presença**: **85,76%**\n",
    "   - **Faltas**: **14,24%**\n",
    "   - **Interpretação**: Alunos que têm pai registrado apresentam uma alta taxa de presença (**85,76%**), sugerindo um maior comprometimento com as aulas em comparação com os alunos sem pai registrado.\n",
    "\n",
    "2. **Alunos sem Pai**:\n",
    "   - **Presença**: **76,60%**\n",
    "   - **Faltas**: **23,40%**\n",
    "   - **Interpretação**: A ausência de pai registrado está associada a uma redução significativa na presença, com quase **23,4% de faltas**, indicando um possível fator de vulnerabilidade.\n",
    "\n",
    "3. **Alunos com Mãe**:\n",
    "   - **Presença**: **76,57%**\n",
    "   - **Faltas**: **23,43%**\n",
    "   - **Interpretação**: A presença de mãe registrada não parece influenciar tanto quanto a de pai. Alunos com mãe têm uma taxa de presença ligeiramente inferior, similar à dos alunos sem pai.\n",
    "\n",
    "4. **Alunos sem Mãe**:\n",
    "   - **Presença**: **84,84%**\n",
    "   - **Faltas**: **15,16%**\n",
    "   - **Interpretação**: Curiosamente, alunos sem mãe registrada apresentam uma presença mais alta (**84,84%**) do que aqueles com mãe registrada. Esse comportamento pode ser influenciado por outros fatores que exigem uma investigação mais profunda.\n",
    "\n",
    "**Conclusão:**\n",
    "\n",
    "- **Presença de Pai**: A presença de um pai registrado está associada a uma maior taxa de presença. A falta de pai registrado parece impactar negativamente a presença dos alunos, aumentando significativamente as faltas.\n",
    "- **Presença de Mãe**: A diferença entre ter ou não mãe registrada é menos clara, com alunos sem mãe apresentando uma taxa de presença até superior àqueles com mãe registrada.\n",
    "\n",
    "Esses dados sugerem que a **ausência de pai** tem um impacto mais significativo na frequência escolar."
   ]
  },
  {
   "cell_type": "markdown",
   "metadata": {},
   "source": [
    "<font color='orange'>**Correlação entre a Disciplina e Presença**</font>\n",
    "\n",
    "Quais disciplinas precisam de ajustes para melhorar a participação dos alunos e quais estão funcionando bem?"
   ]
  },
  {
   "cell_type": "code",
   "execution_count": 114,
   "metadata": {},
   "outputs": [
    {
     "data": {
      "text/html": [
       "<div>\n",
       "<style scoped>\n",
       "    .dataframe tbody tr th:only-of-type {\n",
       "        vertical-align: middle;\n",
       "    }\n",
       "\n",
       "    .dataframe tbody tr th {\n",
       "        vertical-align: top;\n",
       "    }\n",
       "\n",
       "    .dataframe thead th {\n",
       "        text-align: right;\n",
       "    }\n",
       "</style>\n",
       "<table border=\"1\" class=\"dataframe\">\n",
       "  <thead>\n",
       "    <tr style=\"text-align: right;\">\n",
       "      <th></th>\n",
       "      <th>id_disciplina</th>\n",
       "      <th>NomeDisciplina</th>\n",
       "    </tr>\n",
       "  </thead>\n",
       "  <tbody>\n",
       "    <tr>\n",
       "      <th>0</th>\n",
       "      <td>1</td>\n",
       "      <td>PORTUGUÊS</td>\n",
       "    </tr>\n",
       "    <tr>\n",
       "      <th>1</th>\n",
       "      <td>4</td>\n",
       "      <td>MATEMÁTICA</td>\n",
       "    </tr>\n",
       "    <tr>\n",
       "      <th>2</th>\n",
       "      <td>5</td>\n",
       "      <td>INGLÊS</td>\n",
       "    </tr>\n",
       "    <tr>\n",
       "      <th>3</th>\n",
       "      <td>16</td>\n",
       "      <td>HERÓIS DA EDUCAÇÃO</td>\n",
       "    </tr>\n",
       "    <tr>\n",
       "      <th>4</th>\n",
       "      <td>17</td>\n",
       "      <td>SACODE A POEIRA</td>\n",
       "    </tr>\n",
       "    <tr>\n",
       "      <th>5</th>\n",
       "      <td>18</td>\n",
       "      <td>POLIVALENTE</td>\n",
       "    </tr>\n",
       "    <tr>\n",
       "      <th>6</th>\n",
       "      <td>19</td>\n",
       "      <td>SABEDORIA EM AÇÃO</td>\n",
       "    </tr>\n",
       "    <tr>\n",
       "      <th>7</th>\n",
       "      <td>20</td>\n",
       "      <td>TRILHANDO MEU CAMINHO</td>\n",
       "    </tr>\n",
       "    <tr>\n",
       "      <th>8</th>\n",
       "      <td>21</td>\n",
       "      <td>JORNADA DAS EMOÇÕES</td>\n",
       "    </tr>\n",
       "    <tr>\n",
       "      <th>9</th>\n",
       "      <td>22</td>\n",
       "      <td>QUEBRANDO BARREIRAS</td>\n",
       "    </tr>\n",
       "    <tr>\n",
       "      <th>10</th>\n",
       "      <td>23</td>\n",
       "      <td>SUPERAÇÃO</td>\n",
       "    </tr>\n",
       "    <tr>\n",
       "      <th>11</th>\n",
       "      <td>24</td>\n",
       "      <td>GUARDIÕES DO SABER</td>\n",
       "    </tr>\n",
       "    <tr>\n",
       "      <th>12</th>\n",
       "      <td>25</td>\n",
       "      <td>EU NO COMANDO / SACODE A POEIRA / SUPERAÇÃO</td>\n",
       "    </tr>\n",
       "  </tbody>\n",
       "</table>\n",
       "</div>"
      ],
      "text/plain": [
       "    id_disciplina                               NomeDisciplina\n",
       "0               1                                    PORTUGUÊS\n",
       "1               4                                   MATEMÁTICA\n",
       "2               5                                       INGLÊS\n",
       "3              16                           HERÓIS DA EDUCAÇÃO\n",
       "4              17                              SACODE A POEIRA\n",
       "5              18                                  POLIVALENTE\n",
       "6              19                            SABEDORIA EM AÇÃO\n",
       "7              20                        TRILHANDO MEU CAMINHO\n",
       "8              21                          JORNADA DAS EMOÇÕES\n",
       "9              22                          QUEBRANDO BARREIRAS\n",
       "10             23                                    SUPERAÇÃO\n",
       "11             24                           GUARDIÕES DO SABER\n",
       "12             25  EU NO COMANDO / SACODE A POEIRA / SUPERAÇÃO"
      ]
     },
     "execution_count": 114,
     "metadata": {},
     "output_type": "execute_result"
    }
   ],
   "source": [
    "df_disciplina = pd.read_csv(local_arquivos_analise + \"TbDisciplina/Originais anonimizados/TbDisciplina.csv\")\n",
    "\n",
    "df_disciplina = df_disciplina[['IdDisciplina', 'NomeDisciplina']]\n",
    "\n",
    "df_disciplina.columns = ['id_disciplina', 'NomeDisciplina']\n",
    "\n",
    "df_disciplina"
   ]
  },
  {
   "cell_type": "code",
   "execution_count": 115,
   "metadata": {},
   "outputs": [
    {
     "data": {
      "application/vnd.plotly.v1+json": {
       "config": {
        "plotlyServerURL": "https://plot.ly"
       },
       "data": [
        {
         "alignmentgroup": "True",
         "hovertemplate": "Status=Presença (%)<br>Disciplina=%{x}<br>Porcentagem=%{y}<extra></extra>",
         "legendgroup": "Presença (%)",
         "marker": {
          "color": "#1f77b4",
          "pattern": {
           "shape": ""
          }
         },
         "name": "Presença (%)",
         "offsetgroup": "Presença (%)",
         "orientation": "v",
         "showlegend": true,
         "textposition": "auto",
         "type": "bar",
         "x": [
          "EU NO COMANDO / SACODE A POEIRA / SUPERAÇÃO",
          "GUARDIÕES DO SABER",
          "HERÓIS DA EDUCAÇÃO",
          "INGLÊS",
          "JORNADA DAS EMOÇÕES",
          "MATEMÁTICA",
          "POLIVALENTE",
          "PORTUGUÊS",
          "QUEBRANDO BARREIRAS",
          "SABEDORIA EM AÇÃO",
          "SACODE A POEIRA",
          "SUPERAÇÃO",
          "TRILHANDO MEU CAMINHO"
         ],
         "xaxis": "x",
         "y": [
          80.26421781859192,
          86.3015220531052,
          78.6148722033162,
          75.4634476812219,
          87.94527620030975,
          82.60609121554164,
          49.157135639153,
          82.8880982072374,
          79.54107211723873,
          77.85265049415993,
          71.11691704768126,
          100,
          27.736131934032983
         ],
         "yaxis": "y"
        },
        {
         "alignmentgroup": "True",
         "hovertemplate": "Status=Faltas (%)<br>Disciplina=%{x}<br>Porcentagem=%{y}<extra></extra>",
         "legendgroup": "Faltas (%)",
         "marker": {
          "color": "#FF7F7F",
          "pattern": {
           "shape": ""
          }
         },
         "name": "Faltas (%)",
         "offsetgroup": "Faltas (%)",
         "orientation": "v",
         "showlegend": true,
         "textposition": "auto",
         "type": "bar",
         "x": [
          "EU NO COMANDO / SACODE A POEIRA / SUPERAÇÃO",
          "GUARDIÕES DO SABER",
          "HERÓIS DA EDUCAÇÃO",
          "INGLÊS",
          "JORNADA DAS EMOÇÕES",
          "MATEMÁTICA",
          "POLIVALENTE",
          "PORTUGUÊS",
          "QUEBRANDO BARREIRAS",
          "SABEDORIA EM AÇÃO",
          "SACODE A POEIRA",
          "SUPERAÇÃO",
          "TRILHANDO MEU CAMINHO"
         ],
         "xaxis": "x",
         "y": [
          19.735782181408084,
          13.698477946894798,
          21.385127796683804,
          24.536552318778106,
          12.054723799690251,
          17.39390878445836,
          50.842864360847,
          17.111901792762595,
          20.458927882761273,
          22.14734950584007,
          28.883082952318745,
          0,
          72.26386806596702
         ],
         "yaxis": "y"
        }
       ],
       "layout": {
        "barmode": "stack",
        "font": {
         "color": "white"
        },
        "legend": {
         "title": {
          "text": "Status"
         },
         "tracegroupgap": 0
        },
        "paper_bgcolor": "rgba(0, 0, 0, 0)",
        "plot_bgcolor": "rgba(0, 0, 0, 0)",
        "template": {
         "data": {
          "bar": [
           {
            "error_x": {
             "color": "#2a3f5f"
            },
            "error_y": {
             "color": "#2a3f5f"
            },
            "marker": {
             "line": {
              "color": "#E5ECF6",
              "width": 0.5
             },
             "pattern": {
              "fillmode": "overlay",
              "size": 10,
              "solidity": 0.2
             }
            },
            "type": "bar"
           }
          ],
          "barpolar": [
           {
            "marker": {
             "line": {
              "color": "#E5ECF6",
              "width": 0.5
             },
             "pattern": {
              "fillmode": "overlay",
              "size": 10,
              "solidity": 0.2
             }
            },
            "type": "barpolar"
           }
          ],
          "carpet": [
           {
            "aaxis": {
             "endlinecolor": "#2a3f5f",
             "gridcolor": "white",
             "linecolor": "white",
             "minorgridcolor": "white",
             "startlinecolor": "#2a3f5f"
            },
            "baxis": {
             "endlinecolor": "#2a3f5f",
             "gridcolor": "white",
             "linecolor": "white",
             "minorgridcolor": "white",
             "startlinecolor": "#2a3f5f"
            },
            "type": "carpet"
           }
          ],
          "choropleth": [
           {
            "colorbar": {
             "outlinewidth": 0,
             "ticks": ""
            },
            "type": "choropleth"
           }
          ],
          "contour": [
           {
            "colorbar": {
             "outlinewidth": 0,
             "ticks": ""
            },
            "colorscale": [
             [
              0,
              "#0d0887"
             ],
             [
              0.1111111111111111,
              "#46039f"
             ],
             [
              0.2222222222222222,
              "#7201a8"
             ],
             [
              0.3333333333333333,
              "#9c179e"
             ],
             [
              0.4444444444444444,
              "#bd3786"
             ],
             [
              0.5555555555555556,
              "#d8576b"
             ],
             [
              0.6666666666666666,
              "#ed7953"
             ],
             [
              0.7777777777777778,
              "#fb9f3a"
             ],
             [
              0.8888888888888888,
              "#fdca26"
             ],
             [
              1,
              "#f0f921"
             ]
            ],
            "type": "contour"
           }
          ],
          "contourcarpet": [
           {
            "colorbar": {
             "outlinewidth": 0,
             "ticks": ""
            },
            "type": "contourcarpet"
           }
          ],
          "heatmap": [
           {
            "colorbar": {
             "outlinewidth": 0,
             "ticks": ""
            },
            "colorscale": [
             [
              0,
              "#0d0887"
             ],
             [
              0.1111111111111111,
              "#46039f"
             ],
             [
              0.2222222222222222,
              "#7201a8"
             ],
             [
              0.3333333333333333,
              "#9c179e"
             ],
             [
              0.4444444444444444,
              "#bd3786"
             ],
             [
              0.5555555555555556,
              "#d8576b"
             ],
             [
              0.6666666666666666,
              "#ed7953"
             ],
             [
              0.7777777777777778,
              "#fb9f3a"
             ],
             [
              0.8888888888888888,
              "#fdca26"
             ],
             [
              1,
              "#f0f921"
             ]
            ],
            "type": "heatmap"
           }
          ],
          "heatmapgl": [
           {
            "colorbar": {
             "outlinewidth": 0,
             "ticks": ""
            },
            "colorscale": [
             [
              0,
              "#0d0887"
             ],
             [
              0.1111111111111111,
              "#46039f"
             ],
             [
              0.2222222222222222,
              "#7201a8"
             ],
             [
              0.3333333333333333,
              "#9c179e"
             ],
             [
              0.4444444444444444,
              "#bd3786"
             ],
             [
              0.5555555555555556,
              "#d8576b"
             ],
             [
              0.6666666666666666,
              "#ed7953"
             ],
             [
              0.7777777777777778,
              "#fb9f3a"
             ],
             [
              0.8888888888888888,
              "#fdca26"
             ],
             [
              1,
              "#f0f921"
             ]
            ],
            "type": "heatmapgl"
           }
          ],
          "histogram": [
           {
            "marker": {
             "pattern": {
              "fillmode": "overlay",
              "size": 10,
              "solidity": 0.2
             }
            },
            "type": "histogram"
           }
          ],
          "histogram2d": [
           {
            "colorbar": {
             "outlinewidth": 0,
             "ticks": ""
            },
            "colorscale": [
             [
              0,
              "#0d0887"
             ],
             [
              0.1111111111111111,
              "#46039f"
             ],
             [
              0.2222222222222222,
              "#7201a8"
             ],
             [
              0.3333333333333333,
              "#9c179e"
             ],
             [
              0.4444444444444444,
              "#bd3786"
             ],
             [
              0.5555555555555556,
              "#d8576b"
             ],
             [
              0.6666666666666666,
              "#ed7953"
             ],
             [
              0.7777777777777778,
              "#fb9f3a"
             ],
             [
              0.8888888888888888,
              "#fdca26"
             ],
             [
              1,
              "#f0f921"
             ]
            ],
            "type": "histogram2d"
           }
          ],
          "histogram2dcontour": [
           {
            "colorbar": {
             "outlinewidth": 0,
             "ticks": ""
            },
            "colorscale": [
             [
              0,
              "#0d0887"
             ],
             [
              0.1111111111111111,
              "#46039f"
             ],
             [
              0.2222222222222222,
              "#7201a8"
             ],
             [
              0.3333333333333333,
              "#9c179e"
             ],
             [
              0.4444444444444444,
              "#bd3786"
             ],
             [
              0.5555555555555556,
              "#d8576b"
             ],
             [
              0.6666666666666666,
              "#ed7953"
             ],
             [
              0.7777777777777778,
              "#fb9f3a"
             ],
             [
              0.8888888888888888,
              "#fdca26"
             ],
             [
              1,
              "#f0f921"
             ]
            ],
            "type": "histogram2dcontour"
           }
          ],
          "mesh3d": [
           {
            "colorbar": {
             "outlinewidth": 0,
             "ticks": ""
            },
            "type": "mesh3d"
           }
          ],
          "parcoords": [
           {
            "line": {
             "colorbar": {
              "outlinewidth": 0,
              "ticks": ""
             }
            },
            "type": "parcoords"
           }
          ],
          "pie": [
           {
            "automargin": true,
            "type": "pie"
           }
          ],
          "scatter": [
           {
            "fillpattern": {
             "fillmode": "overlay",
             "size": 10,
             "solidity": 0.2
            },
            "type": "scatter"
           }
          ],
          "scatter3d": [
           {
            "line": {
             "colorbar": {
              "outlinewidth": 0,
              "ticks": ""
             }
            },
            "marker": {
             "colorbar": {
              "outlinewidth": 0,
              "ticks": ""
             }
            },
            "type": "scatter3d"
           }
          ],
          "scattercarpet": [
           {
            "marker": {
             "colorbar": {
              "outlinewidth": 0,
              "ticks": ""
             }
            },
            "type": "scattercarpet"
           }
          ],
          "scattergeo": [
           {
            "marker": {
             "colorbar": {
              "outlinewidth": 0,
              "ticks": ""
             }
            },
            "type": "scattergeo"
           }
          ],
          "scattergl": [
           {
            "marker": {
             "colorbar": {
              "outlinewidth": 0,
              "ticks": ""
             }
            },
            "type": "scattergl"
           }
          ],
          "scattermapbox": [
           {
            "marker": {
             "colorbar": {
              "outlinewidth": 0,
              "ticks": ""
             }
            },
            "type": "scattermapbox"
           }
          ],
          "scatterpolar": [
           {
            "marker": {
             "colorbar": {
              "outlinewidth": 0,
              "ticks": ""
             }
            },
            "type": "scatterpolar"
           }
          ],
          "scatterpolargl": [
           {
            "marker": {
             "colorbar": {
              "outlinewidth": 0,
              "ticks": ""
             }
            },
            "type": "scatterpolargl"
           }
          ],
          "scatterternary": [
           {
            "marker": {
             "colorbar": {
              "outlinewidth": 0,
              "ticks": ""
             }
            },
            "type": "scatterternary"
           }
          ],
          "surface": [
           {
            "colorbar": {
             "outlinewidth": 0,
             "ticks": ""
            },
            "colorscale": [
             [
              0,
              "#0d0887"
             ],
             [
              0.1111111111111111,
              "#46039f"
             ],
             [
              0.2222222222222222,
              "#7201a8"
             ],
             [
              0.3333333333333333,
              "#9c179e"
             ],
             [
              0.4444444444444444,
              "#bd3786"
             ],
             [
              0.5555555555555556,
              "#d8576b"
             ],
             [
              0.6666666666666666,
              "#ed7953"
             ],
             [
              0.7777777777777778,
              "#fb9f3a"
             ],
             [
              0.8888888888888888,
              "#fdca26"
             ],
             [
              1,
              "#f0f921"
             ]
            ],
            "type": "surface"
           }
          ],
          "table": [
           {
            "cells": {
             "fill": {
              "color": "#EBF0F8"
             },
             "line": {
              "color": "white"
             }
            },
            "header": {
             "fill": {
              "color": "#C8D4E3"
             },
             "line": {
              "color": "white"
             }
            },
            "type": "table"
           }
          ]
         },
         "layout": {
          "annotationdefaults": {
           "arrowcolor": "#2a3f5f",
           "arrowhead": 0,
           "arrowwidth": 1
          },
          "autotypenumbers": "strict",
          "coloraxis": {
           "colorbar": {
            "outlinewidth": 0,
            "ticks": ""
           }
          },
          "colorscale": {
           "diverging": [
            [
             0,
             "#8e0152"
            ],
            [
             0.1,
             "#c51b7d"
            ],
            [
             0.2,
             "#de77ae"
            ],
            [
             0.3,
             "#f1b6da"
            ],
            [
             0.4,
             "#fde0ef"
            ],
            [
             0.5,
             "#f7f7f7"
            ],
            [
             0.6,
             "#e6f5d0"
            ],
            [
             0.7,
             "#b8e186"
            ],
            [
             0.8,
             "#7fbc41"
            ],
            [
             0.9,
             "#4d9221"
            ],
            [
             1,
             "#276419"
            ]
           ],
           "sequential": [
            [
             0,
             "#0d0887"
            ],
            [
             0.1111111111111111,
             "#46039f"
            ],
            [
             0.2222222222222222,
             "#7201a8"
            ],
            [
             0.3333333333333333,
             "#9c179e"
            ],
            [
             0.4444444444444444,
             "#bd3786"
            ],
            [
             0.5555555555555556,
             "#d8576b"
            ],
            [
             0.6666666666666666,
             "#ed7953"
            ],
            [
             0.7777777777777778,
             "#fb9f3a"
            ],
            [
             0.8888888888888888,
             "#fdca26"
            ],
            [
             1,
             "#f0f921"
            ]
           ],
           "sequentialminus": [
            [
             0,
             "#0d0887"
            ],
            [
             0.1111111111111111,
             "#46039f"
            ],
            [
             0.2222222222222222,
             "#7201a8"
            ],
            [
             0.3333333333333333,
             "#9c179e"
            ],
            [
             0.4444444444444444,
             "#bd3786"
            ],
            [
             0.5555555555555556,
             "#d8576b"
            ],
            [
             0.6666666666666666,
             "#ed7953"
            ],
            [
             0.7777777777777778,
             "#fb9f3a"
            ],
            [
             0.8888888888888888,
             "#fdca26"
            ],
            [
             1,
             "#f0f921"
            ]
           ]
          },
          "colorway": [
           "#636efa",
           "#EF553B",
           "#00cc96",
           "#ab63fa",
           "#FFA15A",
           "#19d3f3",
           "#FF6692",
           "#B6E880",
           "#FF97FF",
           "#FECB52"
          ],
          "font": {
           "color": "#2a3f5f"
          },
          "geo": {
           "bgcolor": "white",
           "lakecolor": "white",
           "landcolor": "#E5ECF6",
           "showlakes": true,
           "showland": true,
           "subunitcolor": "white"
          },
          "hoverlabel": {
           "align": "left"
          },
          "hovermode": "closest",
          "mapbox": {
           "style": "light"
          },
          "paper_bgcolor": "white",
          "plot_bgcolor": "#E5ECF6",
          "polar": {
           "angularaxis": {
            "gridcolor": "white",
            "linecolor": "white",
            "ticks": ""
           },
           "bgcolor": "#E5ECF6",
           "radialaxis": {
            "gridcolor": "white",
            "linecolor": "white",
            "ticks": ""
           }
          },
          "scene": {
           "xaxis": {
            "backgroundcolor": "#E5ECF6",
            "gridcolor": "white",
            "gridwidth": 2,
            "linecolor": "white",
            "showbackground": true,
            "ticks": "",
            "zerolinecolor": "white"
           },
           "yaxis": {
            "backgroundcolor": "#E5ECF6",
            "gridcolor": "white",
            "gridwidth": 2,
            "linecolor": "white",
            "showbackground": true,
            "ticks": "",
            "zerolinecolor": "white"
           },
           "zaxis": {
            "backgroundcolor": "#E5ECF6",
            "gridcolor": "white",
            "gridwidth": 2,
            "linecolor": "white",
            "showbackground": true,
            "ticks": "",
            "zerolinecolor": "white"
           }
          },
          "shapedefaults": {
           "line": {
            "color": "#2a3f5f"
           }
          },
          "ternary": {
           "aaxis": {
            "gridcolor": "white",
            "linecolor": "white",
            "ticks": ""
           },
           "baxis": {
            "gridcolor": "white",
            "linecolor": "white",
            "ticks": ""
           },
           "bgcolor": "#E5ECF6",
           "caxis": {
            "gridcolor": "white",
            "linecolor": "white",
            "ticks": ""
           }
          },
          "title": {
           "x": 0.05
          },
          "xaxis": {
           "automargin": true,
           "gridcolor": "white",
           "linecolor": "white",
           "ticks": "",
           "title": {
            "standoff": 15
           },
           "zerolinecolor": "white",
           "zerolinewidth": 2
          },
          "yaxis": {
           "automargin": true,
           "gridcolor": "white",
           "linecolor": "white",
           "ticks": "",
           "title": {
            "standoff": 15
           },
           "zerolinecolor": "white",
           "zerolinewidth": 2
          }
         }
        },
        "title": {
         "text": "Presença e Faltas por Disciplina"
        },
        "xaxis": {
         "anchor": "y",
         "domain": [
          0,
          1
         ],
         "title": {
          "text": "Disciplina"
         }
        },
        "yaxis": {
         "anchor": "x",
         "domain": [
          0,
          1
         ],
         "title": {
          "text": "Porcentagem"
         }
        }
       }
      }
     },
     "metadata": {},
     "output_type": "display_data"
    },
    {
     "name": "stdout",
     "output_type": "stream",
     "text": [
      "                                     Disciplina  Presença (%)  Faltas (%)\n",
      "0   EU NO COMANDO / SACODE A POEIRA / SUPERAÇÃO     80.264218   19.735782\n",
      "1                            GUARDIÕES DO SABER     86.301522   13.698478\n",
      "2                            HERÓIS DA EDUCAÇÃO     78.614872   21.385128\n",
      "3                                        INGLÊS     75.463448   24.536552\n",
      "4                           JORNADA DAS EMOÇÕES     87.945276   12.054724\n",
      "5                                    MATEMÁTICA     82.606091   17.393909\n",
      "6                                   POLIVALENTE     49.157136   50.842864\n",
      "7                                     PORTUGUÊS     82.888098   17.111902\n",
      "8                           QUEBRANDO BARREIRAS     79.541072   20.458928\n",
      "9                             SABEDORIA EM AÇÃO     77.852650   22.147350\n",
      "10                              SACODE A POEIRA     71.116917   28.883083\n",
      "11                                    SUPERAÇÃO    100.000000    0.000000\n",
      "12                        TRILHANDO MEU CAMINHO     27.736132   72.263868\n"
     ]
    }
   ],
   "source": [
    "# Realizando o merge para trazer o nome da disciplina\n",
    "df_merged = pd.merge(df, df_disciplina, on='id_disciplina', how='left')\n",
    "\n",
    "# Calculando a média de presença por disciplina\n",
    "presenca_disciplina = df_merged.groupby('NomeDisciplina')['presente'].mean() * 100\n",
    "faltas_disciplina = 100 - presenca_disciplina\n",
    "\n",
    "# Criando DataFrame para visualização dos resultados\n",
    "df_disciplina_presenca = pd.DataFrame({\n",
    "    'Disciplina': presenca_disciplina.index,\n",
    "    'Presença (%)': presenca_disciplina.values,\n",
    "    'Faltas (%)': faltas_disciplina.values\n",
    "})\n",
    "\n",
    "# Transformando o DataFrame para gráfico empilhado\n",
    "df_disciplina_presenca_melt = df_disciplina_presenca.melt(id_vars='Disciplina', \n",
    "                                                          value_vars=['Presença (%)', 'Faltas (%)'], \n",
    "                                                          var_name='Status', \n",
    "                                                          value_name='Porcentagem')\n",
    "\n",
    "# Gráfico de barras empilhadas para presença e faltas por disciplina\n",
    "fig_disciplina = px.bar(df_disciplina_presenca_melt, \n",
    "                        x='Disciplina', \n",
    "                        y='Porcentagem', \n",
    "                        color='Status', \n",
    "                        title='Presença e Faltas por Disciplina',\n",
    "                        color_discrete_sequence=['#1f77b4', '#FF7F7F'])  # Azul para presença, vermelho claro para faltas\n",
    "\n",
    "# Ajustando o layout com fundo escuro\n",
    "fig_disciplina.update_layout(\n",
    "    plot_bgcolor='rgba(0, 0, 0, 0)', \n",
    "    paper_bgcolor='rgba(0, 0, 0, 0)', \n",
    "    font_color='white',               \n",
    "    barmode='stack'                   \n",
    ")\n",
    "\n",
    "# Exibindo o gráfico\n",
    "fig_disciplina.show()\n",
    "\n",
    "# Exibindo os valores para análise\n",
    "print(df_disciplina_presenca)\n"
   ]
  },
  {
   "cell_type": "markdown",
   "metadata": {},
   "source": [
    "#### <font color='orange'>**Análise da Presença e Faltas por Disciplina:**</font>\n",
    "\n",
    "1. **JORNADA DAS EMOÇÕES**:\n",
    "   - **Presença**: **87,95%**\n",
    "   - **Faltas**: **12,05%**\n",
    "   - **Interpretação**: A disciplina com a maior taxa de presença, indicando um alto nível de engajamento dos alunos. Com uma taxa de faltas bem baixa, é uma das disciplinas com o melhor desempenho em termos de frequência.\n",
    "\n",
    "2. **GUARDIÕES DO SABER**:\n",
    "   - **Presença**: **86,30%**\n",
    "   - **Faltas**: **13,70%**\n",
    "   - **Interpretação**: Também apresenta uma taxa de presença elevada, com uma baixa taxa de faltas, mostrando bom engajamento.\n",
    "\n",
    "3. **SUPERAÇÃO**:\n",
    "   - **Presença**: **100%**\n",
    "   - **Faltas**: **0%**\n",
    "   - **Interpretação**: Notavelmente, todos os alunos registrados assistiram a essa disciplina, resultando em **100% de presença**. Isso pode indicar uma disciplina de curta duração ou um tema altamente motivacional.\n",
    "\n",
    "4. **MATEMÁTICA** e **PORTUGUÊS**:\n",
    "   - **Presença**: **82,61%** e **82,89%**, respectivamente.\n",
    "   - **Faltas**: **17,39%** e **17,11%**.\n",
    "   - **Interpretação**: Essas disciplinas apresentam um desempenho sólido em termos de presença, com taxas de faltas moderadas, típicas para disciplinas centrais no currículo.\n",
    "\n",
    "5. **INGLÊS**:\n",
    "   - **Presença**: **75,46%**\n",
    "   - **Faltas**: **24,54%**\n",
    "   - **Interpretação**: Uma das disciplinas com menor taxa de presença, sugerindo que os alunos podem ter mais dificuldades ou menos interesse em comparecer às aulas de inglês.\n",
    "\n",
    "6. **POLIVALENTE**:\n",
    "   - **Presença**: **49,16%**\n",
    "   - **Faltas**: **50,84%**\n",
    "   - **Interpretação**: Essa disciplina tem uma das piores taxas de presença, com mais da metade dos alunos faltando. A alta taxa de faltas pode indicar falta de engajamento ou dificuldades associadas ao conteúdo.\n",
    "\n",
    "7. **TRILHANDO MEU CAMINHO**:\n",
    "   - **Presença**: **27,74%**\n",
    "   - **Faltas**: **72,26%**\n",
    "   - **Interpretação**: Esta é a disciplina com a **pior taxa de presença**. Mais de 70% dos alunos estão ausentes, o que indica que há uma necessidade urgente de reavaliar a forma como essa disciplina está sendo conduzida ou as condições que estão afetando o comparecimento.\n",
    "\n",
    "8. **DISCIPLINAS MOTIVACIONAIS** (e.g., \"EU NO COMANDO / SACODE A POEIRA / SUPERAÇÃO\"):\n",
    "   - **Presença**: **80,26%** a **100%**\n",
    "   - **Interpretação**: As disciplinas com temas motivacionais têm uma presença geralmente alta, sugerindo que o conteúdo inspira os alunos a participar mais.\n",
    "\n",
    "**Conclusão:**\n",
    "\n",
    "- **Disciplinas de Engajamento Alto**: \"Jornada das Emoções\", \"Guardião dos Saberes\" e \"Superação\" estão no topo da lista, com taxas de presença acima de 85%, indicando que essas disciplinas são populares e bem recebidas pelos alunos.\n",
    "- **Áreas de Preocupação**: Disciplinas como \"Polivalente\" e \"Trilhando Meu Caminho\" têm taxas de faltas extremamente altas, exigindo uma revisão do conteúdo ou estratégias para aumentar a participação dos alunos.\n",
    "- **Disciplinas Centrais (Matemática, Português)**: Essas disciplinas têm boas taxas de presença, mas ainda podem se beneficiar de estratégias que reduzam as faltas e aumentem o engajamento.\n",
    "\n"
   ]
  },
  {
   "cell_type": "markdown",
   "metadata": {},
   "source": [
    "### <font color='orange'>Criando Safras e ABT:</font>"
   ]
  },
  {
   "cell_type": "code",
   "execution_count": 116,
   "metadata": {},
   "outputs": [],
   "source": [
    "df_prox = df.sort_values(['id_aluno', 'data_aula']).copy()\n",
    "\n",
    "# Criando a coluna 'seq_presenca' com a sequência ordinal de presença para cada aluno\n",
    "df_prox['seq_presenca'] = df_prox.groupby('id_aluno').cumcount() + 1"
   ]
  },
  {
   "cell_type": "code",
   "execution_count": 118,
   "metadata": {},
   "outputs": [
    {
     "data": {
      "text/html": [
       "<div>\n",
       "<style scoped>\n",
       "    .dataframe tbody tr th:only-of-type {\n",
       "        vertical-align: middle;\n",
       "    }\n",
       "\n",
       "    .dataframe tbody tr th {\n",
       "        vertical-align: top;\n",
       "    }\n",
       "\n",
       "    .dataframe thead th {\n",
       "        text-align: right;\n",
       "    }\n",
       "</style>\n",
       "<table border=\"1\" class=\"dataframe\">\n",
       "  <thead>\n",
       "    <tr style=\"text-align: right;\">\n",
       "      <th></th>\n",
       "      <th>data_aula</th>\n",
       "      <th>dia_semana_0</th>\n",
       "      <th>dia_semana_1</th>\n",
       "      <th>dia_semana_2</th>\n",
       "      <th>dia_semana_3</th>\n",
       "      <th>dia_semana_4</th>\n",
       "      <th>dia_semana_5</th>\n",
       "      <th>dia_semana_6</th>\n",
       "      <th>num_aula</th>\n",
       "      <th>conteudo_ministrado</th>\n",
       "      <th>id_aluno</th>\n",
       "      <th>sexo_aluno</th>\n",
       "      <th>tem_pai</th>\n",
       "      <th>tem_mae</th>\n",
       "      <th>raca_aluno_A</th>\n",
       "      <th>raca_aluno_B</th>\n",
       "      <th>raca_aluno_I</th>\n",
       "      <th>raca_aluno_N</th>\n",
       "      <th>raca_aluno_None</th>\n",
       "      <th>raca_aluno_P</th>\n",
       "      <th>raca_aluno_R</th>\n",
       "      <th>idade_aluno</th>\n",
       "      <th>id_professor</th>\n",
       "      <th>sexo_professor</th>\n",
       "      <th>raca_professor_A</th>\n",
       "      <th>raca_professor_B</th>\n",
       "      <th>raca_professor_N</th>\n",
       "      <th>raca_professor_P</th>\n",
       "      <th>raca_professor_R</th>\n",
       "      <th>cargo_professor_Nenhum</th>\n",
       "      <th>cargo_professor_Neuropsicóloga</th>\n",
       "      <th>cargo_professor_Professor</th>\n",
       "      <th>cargo_professor_Professor Inglês</th>\n",
       "      <th>cargo_professor_Professor de Inglês</th>\n",
       "      <th>cargo_professor_Professor de Matemática</th>\n",
       "      <th>cargo_professor_Professora</th>\n",
       "      <th>cargo_professor_Professora de Inglês</th>\n",
       "      <th>cargo_professor_Professora de Matemática</th>\n",
       "      <th>cargo_professor_Professora/Coordenadora</th>\n",
       "      <th>cargo_professor_Psicóloga</th>\n",
       "      <th>cargo_professor_Psicólogo</th>\n",
       "      <th>cargo_professor_professora</th>\n",
       "      <th>idade_professor</th>\n",
       "      <th>id_turma</th>\n",
       "      <th>id_disciplina</th>\n",
       "      <th>id_serie</th>\n",
       "      <th>id_periodo</th>\n",
       "      <th>turno_turma</th>\n",
       "      <th>presente</th>\n",
       "      <th>categoria_pais</th>\n",
       "      <th>seq_presenca</th>\n",
       "    </tr>\n",
       "  </thead>\n",
       "  <tbody>\n",
       "    <tr>\n",
       "      <th>168208</th>\n",
       "      <td>2023-04-18</td>\n",
       "      <td>False</td>\n",
       "      <td>True</td>\n",
       "      <td>False</td>\n",
       "      <td>False</td>\n",
       "      <td>False</td>\n",
       "      <td>False</td>\n",
       "      <td>False</td>\n",
       "      <td>6</td>\n",
       "      <td>- Entrada e acolhimento dos alunos \\r\\n- Calen...</td>\n",
       "      <td>926</td>\n",
       "      <td>0.0</td>\n",
       "      <td>0.0</td>\n",
       "      <td>1.0</td>\n",
       "      <td>False</td>\n",
       "      <td>False</td>\n",
       "      <td>False</td>\n",
       "      <td>False</td>\n",
       "      <td>False</td>\n",
       "      <td>False</td>\n",
       "      <td>True</td>\n",
       "      <td>10.0</td>\n",
       "      <td>16</td>\n",
       "      <td>1.0</td>\n",
       "      <td>False</td>\n",
       "      <td>True</td>\n",
       "      <td>False</td>\n",
       "      <td>False</td>\n",
       "      <td>False</td>\n",
       "      <td>False</td>\n",
       "      <td>False</td>\n",
       "      <td>False</td>\n",
       "      <td>False</td>\n",
       "      <td>False</td>\n",
       "      <td>False</td>\n",
       "      <td>True</td>\n",
       "      <td>False</td>\n",
       "      <td>False</td>\n",
       "      <td>False</td>\n",
       "      <td>False</td>\n",
       "      <td>False</td>\n",
       "      <td>False</td>\n",
       "      <td>24.0</td>\n",
       "      <td>512</td>\n",
       "      <td>1</td>\n",
       "      <td>2</td>\n",
       "      <td>6</td>\n",
       "      <td>1</td>\n",
       "      <td>1</td>\n",
       "      <td>Só Pai ou Só Mãe</td>\n",
       "      <td>129</td>\n",
       "    </tr>\n",
       "    <tr>\n",
       "      <th>281174</th>\n",
       "      <td>2024-04-25</td>\n",
       "      <td>False</td>\n",
       "      <td>False</td>\n",
       "      <td>False</td>\n",
       "      <td>True</td>\n",
       "      <td>False</td>\n",
       "      <td>False</td>\n",
       "      <td>False</td>\n",
       "      <td>7</td>\n",
       "      <td>Avaliação de língua portuguesa ( P 1).</td>\n",
       "      <td>1822</td>\n",
       "      <td>1.0</td>\n",
       "      <td>1.0</td>\n",
       "      <td>0.0</td>\n",
       "      <td>False</td>\n",
       "      <td>True</td>\n",
       "      <td>False</td>\n",
       "      <td>False</td>\n",
       "      <td>False</td>\n",
       "      <td>False</td>\n",
       "      <td>False</td>\n",
       "      <td>10.0</td>\n",
       "      <td>12</td>\n",
       "      <td>1.0</td>\n",
       "      <td>False</td>\n",
       "      <td>False</td>\n",
       "      <td>False</td>\n",
       "      <td>False</td>\n",
       "      <td>True</td>\n",
       "      <td>False</td>\n",
       "      <td>False</td>\n",
       "      <td>False</td>\n",
       "      <td>False</td>\n",
       "      <td>False</td>\n",
       "      <td>False</td>\n",
       "      <td>True</td>\n",
       "      <td>False</td>\n",
       "      <td>False</td>\n",
       "      <td>False</td>\n",
       "      <td>False</td>\n",
       "      <td>False</td>\n",
       "      <td>False</td>\n",
       "      <td>46.0</td>\n",
       "      <td>676</td>\n",
       "      <td>1</td>\n",
       "      <td>8</td>\n",
       "      <td>7</td>\n",
       "      <td>1</td>\n",
       "      <td>1</td>\n",
       "      <td>Só Pai ou Só Mãe</td>\n",
       "      <td>57</td>\n",
       "    </tr>\n",
       "    <tr>\n",
       "      <th>52917</th>\n",
       "      <td>2022-03-31</td>\n",
       "      <td>False</td>\n",
       "      <td>False</td>\n",
       "      <td>False</td>\n",
       "      <td>True</td>\n",
       "      <td>False</td>\n",
       "      <td>False</td>\n",
       "      <td>False</td>\n",
       "      <td>6</td>\n",
       "      <td>Revisão das emoções estudadas.</td>\n",
       "      <td>809</td>\n",
       "      <td>0.0</td>\n",
       "      <td>0.0</td>\n",
       "      <td>1.0</td>\n",
       "      <td>False</td>\n",
       "      <td>True</td>\n",
       "      <td>False</td>\n",
       "      <td>False</td>\n",
       "      <td>False</td>\n",
       "      <td>False</td>\n",
       "      <td>False</td>\n",
       "      <td>11.0</td>\n",
       "      <td>14</td>\n",
       "      <td>1.0</td>\n",
       "      <td>False</td>\n",
       "      <td>False</td>\n",
       "      <td>False</td>\n",
       "      <td>False</td>\n",
       "      <td>True</td>\n",
       "      <td>False</td>\n",
       "      <td>False</td>\n",
       "      <td>False</td>\n",
       "      <td>False</td>\n",
       "      <td>False</td>\n",
       "      <td>False</td>\n",
       "      <td>True</td>\n",
       "      <td>False</td>\n",
       "      <td>False</td>\n",
       "      <td>False</td>\n",
       "      <td>False</td>\n",
       "      <td>False</td>\n",
       "      <td>False</td>\n",
       "      <td>41.0</td>\n",
       "      <td>148</td>\n",
       "      <td>16</td>\n",
       "      <td>2</td>\n",
       "      <td>5</td>\n",
       "      <td>1</td>\n",
       "      <td>1</td>\n",
       "      <td>Só Pai ou Só Mãe</td>\n",
       "      <td>16</td>\n",
       "    </tr>\n",
       "    <tr>\n",
       "      <th>21959</th>\n",
       "      <td>2021-10-05</td>\n",
       "      <td>False</td>\n",
       "      <td>True</td>\n",
       "      <td>False</td>\n",
       "      <td>False</td>\n",
       "      <td>False</td>\n",
       "      <td>False</td>\n",
       "      <td>False</td>\n",
       "      <td>9</td>\n",
       "      <td>P3 - PROVA</td>\n",
       "      <td>397</td>\n",
       "      <td>0.0</td>\n",
       "      <td>0.0</td>\n",
       "      <td>1.0</td>\n",
       "      <td>False</td>\n",
       "      <td>True</td>\n",
       "      <td>False</td>\n",
       "      <td>False</td>\n",
       "      <td>False</td>\n",
       "      <td>False</td>\n",
       "      <td>False</td>\n",
       "      <td>16.0</td>\n",
       "      <td>11</td>\n",
       "      <td>0.0</td>\n",
       "      <td>False</td>\n",
       "      <td>True</td>\n",
       "      <td>False</td>\n",
       "      <td>False</td>\n",
       "      <td>False</td>\n",
       "      <td>False</td>\n",
       "      <td>False</td>\n",
       "      <td>True</td>\n",
       "      <td>False</td>\n",
       "      <td>False</td>\n",
       "      <td>False</td>\n",
       "      <td>False</td>\n",
       "      <td>False</td>\n",
       "      <td>False</td>\n",
       "      <td>False</td>\n",
       "      <td>False</td>\n",
       "      <td>False</td>\n",
       "      <td>False</td>\n",
       "      <td>46.0</td>\n",
       "      <td>93</td>\n",
       "      <td>5</td>\n",
       "      <td>15</td>\n",
       "      <td>4</td>\n",
       "      <td>0</td>\n",
       "      <td>1</td>\n",
       "      <td>Só Pai ou Só Mãe</td>\n",
       "      <td>36</td>\n",
       "    </tr>\n",
       "    <tr>\n",
       "      <th>307059</th>\n",
       "      <td>2024-06-19</td>\n",
       "      <td>False</td>\n",
       "      <td>False</td>\n",
       "      <td>True</td>\n",
       "      <td>False</td>\n",
       "      <td>False</td>\n",
       "      <td>False</td>\n",
       "      <td>False</td>\n",
       "      <td>3</td>\n",
       "      <td>Aplicação da avaliação P2</td>\n",
       "      <td>219</td>\n",
       "      <td>1.0</td>\n",
       "      <td>0.0</td>\n",
       "      <td>1.0</td>\n",
       "      <td>False</td>\n",
       "      <td>True</td>\n",
       "      <td>False</td>\n",
       "      <td>False</td>\n",
       "      <td>False</td>\n",
       "      <td>False</td>\n",
       "      <td>False</td>\n",
       "      <td>15.0</td>\n",
       "      <td>3</td>\n",
       "      <td>1.0</td>\n",
       "      <td>False</td>\n",
       "      <td>True</td>\n",
       "      <td>False</td>\n",
       "      <td>False</td>\n",
       "      <td>False</td>\n",
       "      <td>False</td>\n",
       "      <td>False</td>\n",
       "      <td>False</td>\n",
       "      <td>False</td>\n",
       "      <td>False</td>\n",
       "      <td>False</td>\n",
       "      <td>False</td>\n",
       "      <td>False</td>\n",
       "      <td>False</td>\n",
       "      <td>True</td>\n",
       "      <td>False</td>\n",
       "      <td>False</td>\n",
       "      <td>False</td>\n",
       "      <td>39.0</td>\n",
       "      <td>657</td>\n",
       "      <td>1</td>\n",
       "      <td>24</td>\n",
       "      <td>7</td>\n",
       "      <td>1</td>\n",
       "      <td>1</td>\n",
       "      <td>Só Pai ou Só Mãe</td>\n",
       "      <td>404</td>\n",
       "    </tr>\n",
       "  </tbody>\n",
       "</table>\n",
       "</div>"
      ],
      "text/plain": [
       "        data_aula  dia_semana_0  dia_semana_1  dia_semana_2  dia_semana_3  \\\n",
       "168208 2023-04-18         False          True         False         False   \n",
       "281174 2024-04-25         False         False         False          True   \n",
       "52917  2022-03-31         False         False         False          True   \n",
       "21959  2021-10-05         False          True         False         False   \n",
       "307059 2024-06-19         False         False          True         False   \n",
       "\n",
       "        dia_semana_4  dia_semana_5  dia_semana_6  num_aula  \\\n",
       "168208         False         False         False         6   \n",
       "281174         False         False         False         7   \n",
       "52917          False         False         False         6   \n",
       "21959          False         False         False         9   \n",
       "307059         False         False         False         3   \n",
       "\n",
       "                                      conteudo_ministrado  id_aluno  \\\n",
       "168208  - Entrada e acolhimento dos alunos \\r\\n- Calen...       926   \n",
       "281174             Avaliação de língua portuguesa ( P 1).      1822   \n",
       "52917                      Revisão das emoções estudadas.       809   \n",
       "21959                                          P3 - PROVA       397   \n",
       "307059                          Aplicação da avaliação P2       219   \n",
       "\n",
       "        sexo_aluno  tem_pai  tem_mae raca_aluno_A raca_aluno_B raca_aluno_I  \\\n",
       "168208         0.0      0.0      1.0        False        False        False   \n",
       "281174         1.0      1.0      0.0        False         True        False   \n",
       "52917          0.0      0.0      1.0        False         True        False   \n",
       "21959          0.0      0.0      1.0        False         True        False   \n",
       "307059         1.0      0.0      1.0        False         True        False   \n",
       "\n",
       "       raca_aluno_N raca_aluno_None raca_aluno_P raca_aluno_R  idade_aluno  \\\n",
       "168208        False           False        False         True         10.0   \n",
       "281174        False           False        False        False         10.0   \n",
       "52917         False           False        False        False         11.0   \n",
       "21959         False           False        False        False         16.0   \n",
       "307059        False           False        False        False         15.0   \n",
       "\n",
       "       id_professor  sexo_professor raca_professor_A raca_professor_B  \\\n",
       "168208           16             1.0            False             True   \n",
       "281174           12             1.0            False            False   \n",
       "52917            14             1.0            False            False   \n",
       "21959            11             0.0            False             True   \n",
       "307059            3             1.0            False             True   \n",
       "\n",
       "       raca_professor_N raca_professor_P raca_professor_R  \\\n",
       "168208            False            False            False   \n",
       "281174            False            False             True   \n",
       "52917             False            False             True   \n",
       "21959             False            False            False   \n",
       "307059            False            False            False   \n",
       "\n",
       "       cargo_professor_Nenhum cargo_professor_Neuropsicóloga  \\\n",
       "168208                  False                          False   \n",
       "281174                  False                          False   \n",
       "52917                   False                          False   \n",
       "21959                   False                          False   \n",
       "307059                  False                          False   \n",
       "\n",
       "       cargo_professor_Professor cargo_professor_Professor Inglês  \\\n",
       "168208                     False                            False   \n",
       "281174                     False                            False   \n",
       "52917                      False                            False   \n",
       "21959                       True                            False   \n",
       "307059                     False                            False   \n",
       "\n",
       "       cargo_professor_Professor de Inglês  \\\n",
       "168208                               False   \n",
       "281174                               False   \n",
       "52917                                False   \n",
       "21959                                False   \n",
       "307059                               False   \n",
       "\n",
       "       cargo_professor_Professor de Matemática cargo_professor_Professora  \\\n",
       "168208                                   False                       True   \n",
       "281174                                   False                       True   \n",
       "52917                                    False                       True   \n",
       "21959                                    False                      False   \n",
       "307059                                   False                      False   \n",
       "\n",
       "       cargo_professor_Professora de Inglês  \\\n",
       "168208                                False   \n",
       "281174                                False   \n",
       "52917                                 False   \n",
       "21959                                 False   \n",
       "307059                                False   \n",
       "\n",
       "       cargo_professor_Professora de Matemática  \\\n",
       "168208                                    False   \n",
       "281174                                    False   \n",
       "52917                                     False   \n",
       "21959                                     False   \n",
       "307059                                    False   \n",
       "\n",
       "       cargo_professor_Professora/Coordenadora cargo_professor_Psicóloga  \\\n",
       "168208                                   False                     False   \n",
       "281174                                   False                     False   \n",
       "52917                                    False                     False   \n",
       "21959                                    False                     False   \n",
       "307059                                    True                     False   \n",
       "\n",
       "       cargo_professor_Psicólogo cargo_professor_professora  idade_professor  \\\n",
       "168208                     False                      False             24.0   \n",
       "281174                     False                      False             46.0   \n",
       "52917                      False                      False             41.0   \n",
       "21959                      False                      False             46.0   \n",
       "307059                     False                      False             39.0   \n",
       "\n",
       "        id_turma  id_disciplina  id_serie  id_periodo  turno_turma  presente  \\\n",
       "168208       512              1         2           6            1         1   \n",
       "281174       676              1         8           7            1         1   \n",
       "52917        148             16         2           5            1         1   \n",
       "21959         93              5        15           4            0         1   \n",
       "307059       657              1        24           7            1         1   \n",
       "\n",
       "          categoria_pais  seq_presenca  \n",
       "168208  Só Pai ou Só Mãe           129  \n",
       "281174  Só Pai ou Só Mãe            57  \n",
       "52917   Só Pai ou Só Mãe            16  \n",
       "21959   Só Pai ou Só Mãe            36  \n",
       "307059  Só Pai ou Só Mãe           404  "
      ]
     },
     "execution_count": 118,
     "metadata": {},
     "output_type": "execute_result"
    }
   ],
   "source": [
    "# Exibir o dataframe com a nova coluna\n",
    "df_prox.sample(5)"
   ]
  },
  {
   "cell_type": "markdown",
   "metadata": {},
   "source": [
    "1. **Ordenação dos Dados**: Primeiro, ordenamos o DataFrame `df` pelas colunas `id_aluno` (identificação do aluno) e `data_aula` (data da aula). Isso garante que as presenças de cada aluno estejam na ordem correta das aulas.\n",
    "\n",
    "2. **Criando Sequência de Presença**: Utilizamos a função `groupby('id_aluno')` para agrupar os dados por aluno. Em seguida, aplicamos `cumcount()`, que gera uma sequência numérica (começando do 0) dentro de cada grupo. O `+ 1` é adicionado para que a sequência comece em 1.\n",
    "\n",
    "3. **Resultado**: Isso cria a coluna `'seq_presenca'`, que representa a ordem das presenças para cada aluno dentro do grupo de aulas."
   ]
  },
  {
   "cell_type": "markdown",
   "metadata": {},
   "source": [
    "#### <font color='orange'>Criando funções para modelo preditivo de faltas e presenças futuras</font>\n",
    "\n",
    "Criando um modelo preditivo para probabilidade de faltas e presenças futuras"
   ]
  },
  {
   "cell_type": "code",
   "execution_count": 34,
   "metadata": {},
   "outputs": [],
   "source": [
    "\n",
    "def criar_abt(df, tamanho_janela=10, passo=1):\n",
    "\n",
    "\n",
    "    def load_spacy_model():\n",
    "        # Verifica se o modelo já está instalado\n",
    "        if not is_package(\"pt_core_news_sm\"):\n",
    "            # Faz o download do modelo caso não esteja instalado\n",
    "            from spacy.cli import download\n",
    "            download(\"pt_core_news_sm\")\n",
    "        # Carrega o modelo de linguagem\n",
    "        return spacy.load(\"pt_core_news_sm\")\n",
    "\n",
    "    # Carregando o modelo de NLP\n",
    "    # Carrega o modelo de linguagem do spacy\n",
    "    nlp = load_spacy_model()\n",
    "    \n",
    "    # nlp = spacy.load('pt_core_news_sm')\n",
    "\n",
    "    # Função para criar embeddings do conteúdo ministrado\n",
    "    def criar_embedding(texto):\n",
    "        doc = nlp(texto)\n",
    "        return doc.vector.tolist()\n",
    "\n",
    "    # Encontra o maior valor da sequência de presenças\n",
    "    max_seq = df['seq_presenca'].max()\n",
    "    \n",
    "    resultados = []\n",
    "\n",
    "    # Itera sobre as janelas de presenças\n",
    "    for inicio_janela in range(1, max_seq - tamanho_janela + 2, passo):\n",
    "        fim_janela = inicio_janela + tamanho_janela - 1\n",
    "\n",
    "\n",
    "        # Filtra os dados dentro da janela de presenças\n",
    "        df_janela = (\n",
    "            df[(df['seq_presenca'] >= inicio_janela) & (df['seq_presenca'] <= fim_janela)]\n",
    "            .sort_values('seq_presenca')\n",
    "            .groupby('id_aluno')\n",
    "            .agg({\n",
    "                'data_aula': ['first', 'last'],\n",
    "                'dia_semana_0': 'sum',\n",
    "                'dia_semana_1': 'sum',\n",
    "                'dia_semana_2': 'sum',\n",
    "                'dia_semana_3': 'sum',\n",
    "                'dia_semana_4': 'sum',\n",
    "                'dia_semana_5': 'sum',\n",
    "                'dia_semana_6': 'sum',\n",
    "                'conteudo_ministrado': lambda x: ' '.join(x),\n",
    "                'sexo_aluno': 'first',\n",
    "                'tem_pai': 'first',\n",
    "                'tem_mae': 'first',\n",
    "                'raca_aluno_A': 'first',\n",
    "                'raca_aluno_B': 'first',\n",
    "                'raca_aluno_I': 'first',\n",
    "                'raca_aluno_N': 'first',\n",
    "                'raca_aluno_None': 'first',\n",
    "                'raca_aluno_P': 'first',\n",
    "                'raca_aluno_R': 'first',\n",
    "                'idade_aluno': 'mean',\n",
    "                'sexo_professor': 'sum',\n",
    "                'raca_professor_A': 'sum',\n",
    "                'raca_professor_B': 'sum',\n",
    "                'raca_professor_N': 'sum',\n",
    "                'raca_professor_P': 'sum',\n",
    "                'raca_professor_R': 'sum',\n",
    "                'cargo_professor_Nenhum': 'sum',\n",
    "                'cargo_professor_Neuropsicóloga': 'sum',\n",
    "                'cargo_professor_Professor': 'sum',\n",
    "                'cargo_professor_Professor Inglês': 'sum',\n",
    "                'cargo_professor_Professor de Inglês': 'sum',\n",
    "                'cargo_professor_Professor de Matemática': 'sum',\n",
    "                'cargo_professor_Professora': 'sum',\n",
    "                'cargo_professor_Professora de Inglês': 'sum',\n",
    "                'cargo_professor_Professora de Matemática': 'sum',\n",
    "                'cargo_professor_Professora/Coordenadora': 'sum',\n",
    "                'cargo_professor_Psicóloga': 'sum',\n",
    "                'cargo_professor_Psicólogo': 'sum',\n",
    "                'idade_professor': 'mean',\n",
    "                'id_professor': pd.Series.nunique,\n",
    "                'id_disciplina': pd.Series.nunique,\n",
    "                'id_serie': pd.Series.nunique,\n",
    "                'id_turma': pd.Series.nunique,\n",
    "                'presente': ['sum', 'count'],\n",
    "                'seq_presenca': lambda x: max(x[x == 1]) if (x == 1).any() else 0\n",
    "            }).reset_index()\n",
    "        )\n",
    "\n",
    "        # Renomeia as colunas do DataFrame após o groupby\n",
    "        df_janela.columns = [\n",
    "            'id_aluno', 'first_data_aula', 'last_data_aula', 'sum_dia_semana_1', 'sum_dia_semana_2',\n",
    "            'sum_dia_semana_3', 'sum_dia_semana_4', 'sum_dia_semana_5', 'sum_dia_semana_6', 'sum_dia_semana_7',\n",
    "            'conteudo', 'sexo_aluno', 'tem_pai', 'tem_mae', 'raca_aluno_A', 'raca_aluno_B', 'raca_aluno_I',\n",
    "            'raca_aluno_N', 'raca_aluno_None', 'raca_aluno_P', 'raca_aluno_R', 'idade_aluno_media',\n",
    "            'sexo_professor_sum', 'raca_professor_A_sum', 'raca_professor_B_sum', 'raca_professor_N_sum',\n",
    "            'raca_professor_P_sum', 'raca_professor_R_sum', 'cargo_professor_Nenhum_sum',\n",
    "            'cargo_professor_Neuropsicóloga_sum', 'cargo_professor_Professor_sum',\n",
    "            'cargo_professor_Professor_Inglês_sum', 'cargo_professor_Professor_de_Inglês_sum',\n",
    "            'cargo_professor_Professor_de_Matemática_sum', 'cargo_professor_Professora_sum',\n",
    "            'cargo_professor_Professora_de_Inglês_sum', 'cargo_professor_Professora_de_Matemática_sum',\n",
    "            'cargo_professor_Professora_Coordenadora_sum', 'cargo_professor_Psicóloga_sum',\n",
    "            'cargo_professor_Psicólogo_sum', 'idade_professor_media', 'num_professores',\n",
    "            'num_disciplinas', 'num_series', 'num_turmas', 'num_presencas', 'num_aulas', 'ultima_presenca'\n",
    "        ]\n",
    "\n",
    "        # Adiciona a coluna de sequência final da janela\n",
    "        df_janela['last_seq'] = fim_janela\n",
    "\n",
    "        # Aplica o embedding ao conteúdo ministrado\n",
    "        df_janela['conteudo_embedding'] = df_janela['conteudo'].apply(criar_embedding)\n",
    "\n",
    "        # Busca a presença na próxima aula\n",
    "        next_presente = df[df['seq_presenca'] == fim_janela + 1][['id_aluno', 'presente']].rename(columns={'presente': 'next_presente'})\n",
    "\n",
    "        # Junta os dados da próxima presença no DataFrame da janela\n",
    "        df_janela = pd.merge(df_janela, next_presente, on='id_aluno', how='left')\n",
    "\n",
    "        # Adiciona os resultados no acumulador\n",
    "        resultados.append(df_janela)\n",
    "\n",
    "    # Concatena os resultados de todas as janelas\n",
    "    return pd.concat(resultados, ignore_index=True)\n"
   ]
  },
  {
   "cell_type": "markdown",
   "metadata": {},
   "source": [
    "1. **Objetivo da Função**: A função `criar_abt` constrói uma tabela agregada baseada nas presenças de cada aluno em um intervalo de aulas, criando features (variáveis explicativas) que serão usadas no modelo preditivo.\n",
    "\n",
    "2. **Parâmetros**:\n",
    "   - `df`: DataFrame com os dados dos alunos e das aulas.\n",
    "   - `tamanho_janela`: Define o número de aulas (presenças) que serão usadas para analisar o comportamento de cada aluno.\n",
    "   - `passo`: Define o número de presenças que o intervalo de análise se deslocará após cada iteração.\n",
    "\n",
    "3. **Uso do spaCy**: Carrega o modelo de linguagem `spacy` para a língua portuguesa e define a função `criar_embedding`, que transforma o texto de conteúdo ministrado em um vetor numérico (embedding), facilitando a análise de textos.\n",
    "\n",
    "4. **Laço de Iteração**: O código percorre janelas de tamanho definido pelas presenças de cada aluno, calculando estatísticas e coletando informações de variáveis importantes:\n",
    "   - **Dados da aula**: Coleta a soma das presenças por dia da semana e concatena o conteúdo ministrado em texto.\n",
    "   - **Dados do aluno**: Captura informações como sexo, presença dos pais, raça, média de idade e quantidade de presenças.\n",
    "   - **Dados do professor**: Soma as informações relacionadas a raça, cargos e idade dos professores.\n",
    "   - **Diversidade de Interações**: Calcula quantos professores, disciplinas, séries e turmas diferentes o aluno teve no período.\n",
    "   - **Presenças**: Soma quantas presenças o aluno teve na janela e identifica a última aula em que ele esteve presente.\n",
    "\n",
    "5. **Cálculo do Target**: Após gerar as variáveis de cada janela, o código também busca a presença na próxima aula (`next_presente`), que será o target para o modelo preditivo.\n",
    "\n",
    "6. **Resultado**: Ao final, todos os dados gerados para cada janela são concatenados e retornados como um novo DataFrame.\n"
   ]
  },
  {
   "cell_type": "code",
   "execution_count": 35,
   "metadata": {},
   "outputs": [],
   "source": [
    "# Chama a função criar_abt para gerar a tabela agregada\n",
    "abt = criar_abt(df_prox)\n",
    "\n",
    "# Filtra as linhas onde 'next_presente' não é nulo\n",
    "abt = abt[abt['next_presente'].notnull()]\n",
    "\n",
    "# Ordena o DataFrame pela coluna 'first_data_aula'\n",
    "abt = abt.sort_values('first_data_aula').reset_index(drop=True)\n"
   ]
  },
  {
   "cell_type": "markdown",
   "metadata": {},
   "source": [
    "\n",
    "1. **`criar_abt(df_prox)`**: A função `criar_abt` é chamada para criar a tabela agregada (ABT).\n",
    "2. **`abt['next_presente'].notnull()`**: Usa o método `notnull()` do `pandas` para filtrar as linhas onde a coluna `next_presente` não é nula.\n",
    "3. **`sort_values('first_data_aula')`**: Ordena o DataFrame pela coluna `'first_data_aula'` para garantir que os dados estejam em ordem cronológica. O método `reset_index(drop=True)` remove a antiga numeração de índices após a ordenação."
   ]
  },
  {
   "cell_type": "code",
   "execution_count": 36,
   "metadata": {},
   "outputs": [
    {
     "data": {
      "text/html": [
       "<div>\n",
       "<style scoped>\n",
       "    .dataframe tbody tr th:only-of-type {\n",
       "        vertical-align: middle;\n",
       "    }\n",
       "\n",
       "    .dataframe tbody tr th {\n",
       "        vertical-align: top;\n",
       "    }\n",
       "\n",
       "    .dataframe thead th {\n",
       "        text-align: right;\n",
       "    }\n",
       "</style>\n",
       "<table border=\"1\" class=\"dataframe\">\n",
       "  <thead>\n",
       "    <tr style=\"text-align: right;\">\n",
       "      <th></th>\n",
       "      <th>id_aluno</th>\n",
       "      <th>first_data_aula</th>\n",
       "      <th>last_data_aula</th>\n",
       "      <th>sum_dia_semana_1</th>\n",
       "      <th>sum_dia_semana_2</th>\n",
       "      <th>sum_dia_semana_3</th>\n",
       "      <th>sum_dia_semana_4</th>\n",
       "      <th>sum_dia_semana_5</th>\n",
       "      <th>sum_dia_semana_6</th>\n",
       "      <th>sum_dia_semana_7</th>\n",
       "      <th>sexo_aluno</th>\n",
       "      <th>tem_pai</th>\n",
       "      <th>tem_mae</th>\n",
       "      <th>raca_aluno_A</th>\n",
       "      <th>raca_aluno_B</th>\n",
       "      <th>raca_aluno_I</th>\n",
       "      <th>raca_aluno_N</th>\n",
       "      <th>raca_aluno_None</th>\n",
       "      <th>raca_aluno_P</th>\n",
       "      <th>raca_aluno_R</th>\n",
       "      <th>idade_aluno_media</th>\n",
       "      <th>sexo_professor_sum</th>\n",
       "      <th>raca_professor_A_sum</th>\n",
       "      <th>raca_professor_B_sum</th>\n",
       "      <th>raca_professor_N_sum</th>\n",
       "      <th>raca_professor_P_sum</th>\n",
       "      <th>raca_professor_R_sum</th>\n",
       "      <th>cargo_professor_Nenhum_sum</th>\n",
       "      <th>cargo_professor_Neuropsicóloga_sum</th>\n",
       "      <th>cargo_professor_Professor_sum</th>\n",
       "      <th>cargo_professor_Professor_Inglês_sum</th>\n",
       "      <th>cargo_professor_Professor_de_Inglês_sum</th>\n",
       "      <th>cargo_professor_Professor_de_Matemática_sum</th>\n",
       "      <th>cargo_professor_Professora_sum</th>\n",
       "      <th>cargo_professor_Professora_de_Inglês_sum</th>\n",
       "      <th>cargo_professor_Professora_de_Matemática_sum</th>\n",
       "      <th>cargo_professor_Professora_Coordenadora_sum</th>\n",
       "      <th>cargo_professor_Psicóloga_sum</th>\n",
       "      <th>cargo_professor_Psicólogo_sum</th>\n",
       "      <th>idade_professor_media</th>\n",
       "      <th>num_professores</th>\n",
       "      <th>num_disciplinas</th>\n",
       "      <th>num_series</th>\n",
       "      <th>num_turmas</th>\n",
       "      <th>num_presencas</th>\n",
       "      <th>num_aulas</th>\n",
       "      <th>ultima_presenca</th>\n",
       "      <th>last_seq</th>\n",
       "      <th>next_presente</th>\n",
       "      <th>0</th>\n",
       "      <th>1</th>\n",
       "      <th>2</th>\n",
       "      <th>3</th>\n",
       "      <th>4</th>\n",
       "      <th>5</th>\n",
       "      <th>6</th>\n",
       "      <th>7</th>\n",
       "      <th>8</th>\n",
       "      <th>9</th>\n",
       "      <th>10</th>\n",
       "      <th>11</th>\n",
       "      <th>12</th>\n",
       "      <th>13</th>\n",
       "      <th>14</th>\n",
       "      <th>15</th>\n",
       "      <th>16</th>\n",
       "      <th>17</th>\n",
       "      <th>18</th>\n",
       "      <th>19</th>\n",
       "      <th>20</th>\n",
       "      <th>21</th>\n",
       "      <th>22</th>\n",
       "      <th>23</th>\n",
       "      <th>24</th>\n",
       "      <th>25</th>\n",
       "      <th>26</th>\n",
       "      <th>27</th>\n",
       "      <th>28</th>\n",
       "      <th>29</th>\n",
       "      <th>30</th>\n",
       "      <th>31</th>\n",
       "      <th>32</th>\n",
       "      <th>33</th>\n",
       "      <th>34</th>\n",
       "      <th>35</th>\n",
       "      <th>36</th>\n",
       "      <th>37</th>\n",
       "      <th>38</th>\n",
       "      <th>39</th>\n",
       "      <th>40</th>\n",
       "      <th>41</th>\n",
       "      <th>42</th>\n",
       "      <th>43</th>\n",
       "      <th>44</th>\n",
       "      <th>45</th>\n",
       "      <th>46</th>\n",
       "      <th>47</th>\n",
       "      <th>48</th>\n",
       "      <th>49</th>\n",
       "      <th>50</th>\n",
       "      <th>51</th>\n",
       "      <th>52</th>\n",
       "      <th>53</th>\n",
       "      <th>54</th>\n",
       "      <th>55</th>\n",
       "      <th>56</th>\n",
       "      <th>57</th>\n",
       "      <th>58</th>\n",
       "      <th>59</th>\n",
       "      <th>60</th>\n",
       "      <th>61</th>\n",
       "      <th>62</th>\n",
       "      <th>63</th>\n",
       "      <th>64</th>\n",
       "      <th>65</th>\n",
       "      <th>66</th>\n",
       "      <th>67</th>\n",
       "      <th>68</th>\n",
       "      <th>69</th>\n",
       "      <th>70</th>\n",
       "      <th>71</th>\n",
       "      <th>72</th>\n",
       "      <th>73</th>\n",
       "      <th>74</th>\n",
       "      <th>75</th>\n",
       "      <th>76</th>\n",
       "      <th>77</th>\n",
       "      <th>78</th>\n",
       "      <th>79</th>\n",
       "      <th>80</th>\n",
       "      <th>81</th>\n",
       "      <th>82</th>\n",
       "      <th>83</th>\n",
       "      <th>84</th>\n",
       "      <th>85</th>\n",
       "      <th>86</th>\n",
       "      <th>87</th>\n",
       "      <th>88</th>\n",
       "      <th>89</th>\n",
       "      <th>90</th>\n",
       "      <th>91</th>\n",
       "      <th>92</th>\n",
       "      <th>93</th>\n",
       "      <th>94</th>\n",
       "      <th>95</th>\n",
       "    </tr>\n",
       "  </thead>\n",
       "  <tbody>\n",
       "    <tr>\n",
       "      <th>0</th>\n",
       "      <td>648</td>\n",
       "      <td>2021-07-01</td>\n",
       "      <td>2021-08-17</td>\n",
       "      <td>1</td>\n",
       "      <td>4</td>\n",
       "      <td>0</td>\n",
       "      <td>5</td>\n",
       "      <td>0</td>\n",
       "      <td>0</td>\n",
       "      <td>0</td>\n",
       "      <td>1.0</td>\n",
       "      <td>0.0</td>\n",
       "      <td>1.0</td>\n",
       "      <td>False</td>\n",
       "      <td>False</td>\n",
       "      <td>False</td>\n",
       "      <td>False</td>\n",
       "      <td>False</td>\n",
       "      <td>True</td>\n",
       "      <td>False</td>\n",
       "      <td>10.0</td>\n",
       "      <td>10.0</td>\n",
       "      <td>0</td>\n",
       "      <td>6</td>\n",
       "      <td>0</td>\n",
       "      <td>0</td>\n",
       "      <td>4</td>\n",
       "      <td>0</td>\n",
       "      <td>0</td>\n",
       "      <td>0</td>\n",
       "      <td>0</td>\n",
       "      <td>0</td>\n",
       "      <td>0</td>\n",
       "      <td>10</td>\n",
       "      <td>0</td>\n",
       "      <td>0</td>\n",
       "      <td>0</td>\n",
       "      <td>0</td>\n",
       "      <td>0</td>\n",
       "      <td>46.4</td>\n",
       "      <td>2</td>\n",
       "      <td>4</td>\n",
       "      <td>2</td>\n",
       "      <td>2</td>\n",
       "      <td>9</td>\n",
       "      <td>10</td>\n",
       "      <td>1</td>\n",
       "      <td>10</td>\n",
       "      <td>0.0</td>\n",
       "      <td>0.464691</td>\n",
       "      <td>-1.198423</td>\n",
       "      <td>-0.319709</td>\n",
       "      <td>0.602826</td>\n",
       "      <td>-0.460871</td>\n",
       "      <td>1.102701</td>\n",
       "      <td>0.704168</td>\n",
       "      <td>0.853496</td>\n",
       "      <td>-0.009229</td>\n",
       "      <td>0.622204</td>\n",
       "      <td>0.452460</td>\n",
       "      <td>-2.836177</td>\n",
       "      <td>-1.992858</td>\n",
       "      <td>1.045671</td>\n",
       "      <td>-1.642192</td>\n",
       "      <td>1.548579</td>\n",
       "      <td>0.522448</td>\n",
       "      <td>0.780726</td>\n",
       "      <td>1.101357</td>\n",
       "      <td>0.818639</td>\n",
       "      <td>-0.097104</td>\n",
       "      <td>0.239930</td>\n",
       "      <td>0.080852</td>\n",
       "      <td>0.198630</td>\n",
       "      <td>-0.890790</td>\n",
       "      <td>-0.782643</td>\n",
       "      <td>1.410378</td>\n",
       "      <td>0.247345</td>\n",
       "      <td>1.862815</td>\n",
       "      <td>0.916794</td>\n",
       "      <td>-0.138691</td>\n",
       "      <td>1.315967</td>\n",
       "      <td>0.865970</td>\n",
       "      <td>0.294602</td>\n",
       "      <td>0.399981</td>\n",
       "      <td>-0.821849</td>\n",
       "      <td>-0.432646</td>\n",
       "      <td>0.700167</td>\n",
       "      <td>-0.233130</td>\n",
       "      <td>0.618022</td>\n",
       "      <td>-1.726568</td>\n",
       "      <td>2.311276</td>\n",
       "      <td>-0.858766</td>\n",
       "      <td>1.622699</td>\n",
       "      <td>0.139805</td>\n",
       "      <td>0.816618</td>\n",
       "      <td>-0.911285</td>\n",
       "      <td>1.377313</td>\n",
       "      <td>-1.339101</td>\n",
       "      <td>-1.049585</td>\n",
       "      <td>-0.658509</td>\n",
       "      <td>0.292452</td>\n",
       "      <td>1.949671</td>\n",
       "      <td>0.319016</td>\n",
       "      <td>0.976979</td>\n",
       "      <td>-0.751922</td>\n",
       "      <td>0.579159</td>\n",
       "      <td>-0.586001</td>\n",
       "      <td>-1.081194</td>\n",
       "      <td>-1.101541</td>\n",
       "      <td>-0.748312</td>\n",
       "      <td>-1.767539</td>\n",
       "      <td>-1.438028</td>\n",
       "      <td>-1.489322</td>\n",
       "      <td>-0.372536</td>\n",
       "      <td>0.985170</td>\n",
       "      <td>-0.870256</td>\n",
       "      <td>-1.297789</td>\n",
       "      <td>-1.058778</td>\n",
       "      <td>0.659834</td>\n",
       "      <td>-1.343446</td>\n",
       "      <td>1.526212</td>\n",
       "      <td>1.048456</td>\n",
       "      <td>-1.556131</td>\n",
       "      <td>-0.236190</td>\n",
       "      <td>-1.028931</td>\n",
       "      <td>-0.554941</td>\n",
       "      <td>0.386188</td>\n",
       "      <td>2.106617</td>\n",
       "      <td>-1.995267</td>\n",
       "      <td>-0.088607</td>\n",
       "      <td>1.010175</td>\n",
       "      <td>-1.295087</td>\n",
       "      <td>1.418227</td>\n",
       "      <td>0.266865</td>\n",
       "      <td>0.647785</td>\n",
       "      <td>0.606404</td>\n",
       "      <td>0.413301</td>\n",
       "      <td>-1.151923</td>\n",
       "      <td>1.166774</td>\n",
       "      <td>0.870474</td>\n",
       "      <td>-1.508583</td>\n",
       "      <td>1.903979</td>\n",
       "      <td>1.765981</td>\n",
       "      <td>-1.539079</td>\n",
       "      <td>0.019102</td>\n",
       "    </tr>\n",
       "    <tr>\n",
       "      <th>1</th>\n",
       "      <td>481</td>\n",
       "      <td>2021-07-01</td>\n",
       "      <td>2021-08-17</td>\n",
       "      <td>4</td>\n",
       "      <td>3</td>\n",
       "      <td>2</td>\n",
       "      <td>1</td>\n",
       "      <td>0</td>\n",
       "      <td>0</td>\n",
       "      <td>0</td>\n",
       "      <td>1.0</td>\n",
       "      <td>0.0</td>\n",
       "      <td>1.0</td>\n",
       "      <td>False</td>\n",
       "      <td>True</td>\n",
       "      <td>False</td>\n",
       "      <td>False</td>\n",
       "      <td>False</td>\n",
       "      <td>False</td>\n",
       "      <td>False</td>\n",
       "      <td>14.0</td>\n",
       "      <td>10.0</td>\n",
       "      <td>0</td>\n",
       "      <td>3</td>\n",
       "      <td>0</td>\n",
       "      <td>0</td>\n",
       "      <td>7</td>\n",
       "      <td>0</td>\n",
       "      <td>0</td>\n",
       "      <td>0</td>\n",
       "      <td>0</td>\n",
       "      <td>0</td>\n",
       "      <td>0</td>\n",
       "      <td>10</td>\n",
       "      <td>0</td>\n",
       "      <td>0</td>\n",
       "      <td>0</td>\n",
       "      <td>0</td>\n",
       "      <td>0</td>\n",
       "      <td>43.8</td>\n",
       "      <td>3</td>\n",
       "      <td>3</td>\n",
       "      <td>1</td>\n",
       "      <td>1</td>\n",
       "      <td>10</td>\n",
       "      <td>10</td>\n",
       "      <td>1</td>\n",
       "      <td>10</td>\n",
       "      <td>1.0</td>\n",
       "      <td>-0.073422</td>\n",
       "      <td>-0.711597</td>\n",
       "      <td>0.341229</td>\n",
       "      <td>0.716728</td>\n",
       "      <td>0.310992</td>\n",
       "      <td>0.983920</td>\n",
       "      <td>0.866293</td>\n",
       "      <td>1.014369</td>\n",
       "      <td>0.307688</td>\n",
       "      <td>-0.136745</td>\n",
       "      <td>0.239743</td>\n",
       "      <td>-2.273412</td>\n",
       "      <td>-1.965942</td>\n",
       "      <td>1.003965</td>\n",
       "      <td>-1.419866</td>\n",
       "      <td>1.729892</td>\n",
       "      <td>0.465460</td>\n",
       "      <td>0.265484</td>\n",
       "      <td>0.560922</td>\n",
       "      <td>0.985313</td>\n",
       "      <td>1.118845</td>\n",
       "      <td>0.106258</td>\n",
       "      <td>-0.788691</td>\n",
       "      <td>1.096229</td>\n",
       "      <td>-1.335220</td>\n",
       "      <td>-0.296204</td>\n",
       "      <td>1.267547</td>\n",
       "      <td>0.519375</td>\n",
       "      <td>2.182246</td>\n",
       "      <td>0.705323</td>\n",
       "      <td>0.741574</td>\n",
       "      <td>0.965964</td>\n",
       "      <td>0.875002</td>\n",
       "      <td>-0.318132</td>\n",
       "      <td>1.435704</td>\n",
       "      <td>-0.588161</td>\n",
       "      <td>-0.514121</td>\n",
       "      <td>0.081712</td>\n",
       "      <td>-0.742954</td>\n",
       "      <td>-0.373873</td>\n",
       "      <td>-1.616383</td>\n",
       "      <td>1.426424</td>\n",
       "      <td>-0.651520</td>\n",
       "      <td>1.620814</td>\n",
       "      <td>0.624212</td>\n",
       "      <td>0.122211</td>\n",
       "      <td>-1.464309</td>\n",
       "      <td>0.939843</td>\n",
       "      <td>-1.150770</td>\n",
       "      <td>-1.419779</td>\n",
       "      <td>-1.389726</td>\n",
       "      <td>-0.188227</td>\n",
       "      <td>1.731806</td>\n",
       "      <td>0.485782</td>\n",
       "      <td>0.163470</td>\n",
       "      <td>0.112734</td>\n",
       "      <td>0.025611</td>\n",
       "      <td>-0.745826</td>\n",
       "      <td>-1.255155</td>\n",
       "      <td>-1.278717</td>\n",
       "      <td>-0.754777</td>\n",
       "      <td>-0.651368</td>\n",
       "      <td>-1.434665</td>\n",
       "      <td>-1.241882</td>\n",
       "      <td>0.646737</td>\n",
       "      <td>0.890642</td>\n",
       "      <td>-1.073662</td>\n",
       "      <td>-1.112513</td>\n",
       "      <td>-0.248149</td>\n",
       "      <td>0.930719</td>\n",
       "      <td>-1.112172</td>\n",
       "      <td>1.277486</td>\n",
       "      <td>1.265674</td>\n",
       "      <td>-1.521356</td>\n",
       "      <td>-0.027169</td>\n",
       "      <td>0.071664</td>\n",
       "      <td>-0.988226</td>\n",
       "      <td>0.122071</td>\n",
       "      <td>1.073685</td>\n",
       "      <td>-1.859833</td>\n",
       "      <td>0.132486</td>\n",
       "      <td>1.305501</td>\n",
       "      <td>-1.279922</td>\n",
       "      <td>1.328429</td>\n",
       "      <td>0.520989</td>\n",
       "      <td>1.093549</td>\n",
       "      <td>0.686937</td>\n",
       "      <td>0.732217</td>\n",
       "      <td>-1.404893</td>\n",
       "      <td>1.191996</td>\n",
       "      <td>0.696156</td>\n",
       "      <td>-1.721939</td>\n",
       "      <td>1.838985</td>\n",
       "      <td>1.061773</td>\n",
       "      <td>-1.971193</td>\n",
       "      <td>-0.030658</td>\n",
       "    </tr>\n",
       "    <tr>\n",
       "      <th>2</th>\n",
       "      <td>482</td>\n",
       "      <td>2021-07-01</td>\n",
       "      <td>2021-08-17</td>\n",
       "      <td>4</td>\n",
       "      <td>3</td>\n",
       "      <td>2</td>\n",
       "      <td>1</td>\n",
       "      <td>0</td>\n",
       "      <td>0</td>\n",
       "      <td>0</td>\n",
       "      <td>0.0</td>\n",
       "      <td>0.0</td>\n",
       "      <td>1.0</td>\n",
       "      <td>False</td>\n",
       "      <td>True</td>\n",
       "      <td>False</td>\n",
       "      <td>False</td>\n",
       "      <td>False</td>\n",
       "      <td>False</td>\n",
       "      <td>False</td>\n",
       "      <td>13.0</td>\n",
       "      <td>10.0</td>\n",
       "      <td>0</td>\n",
       "      <td>3</td>\n",
       "      <td>0</td>\n",
       "      <td>0</td>\n",
       "      <td>7</td>\n",
       "      <td>0</td>\n",
       "      <td>0</td>\n",
       "      <td>0</td>\n",
       "      <td>0</td>\n",
       "      <td>0</td>\n",
       "      <td>0</td>\n",
       "      <td>10</td>\n",
       "      <td>0</td>\n",
       "      <td>0</td>\n",
       "      <td>0</td>\n",
       "      <td>0</td>\n",
       "      <td>0</td>\n",
       "      <td>43.8</td>\n",
       "      <td>3</td>\n",
       "      <td>3</td>\n",
       "      <td>1</td>\n",
       "      <td>1</td>\n",
       "      <td>9</td>\n",
       "      <td>10</td>\n",
       "      <td>1</td>\n",
       "      <td>10</td>\n",
       "      <td>1.0</td>\n",
       "      <td>-0.073422</td>\n",
       "      <td>-0.711597</td>\n",
       "      <td>0.341229</td>\n",
       "      <td>0.716728</td>\n",
       "      <td>0.310992</td>\n",
       "      <td>0.983920</td>\n",
       "      <td>0.866293</td>\n",
       "      <td>1.014369</td>\n",
       "      <td>0.307688</td>\n",
       "      <td>-0.136745</td>\n",
       "      <td>0.239743</td>\n",
       "      <td>-2.273412</td>\n",
       "      <td>-1.965942</td>\n",
       "      <td>1.003965</td>\n",
       "      <td>-1.419866</td>\n",
       "      <td>1.729892</td>\n",
       "      <td>0.465460</td>\n",
       "      <td>0.265484</td>\n",
       "      <td>0.560922</td>\n",
       "      <td>0.985313</td>\n",
       "      <td>1.118845</td>\n",
       "      <td>0.106258</td>\n",
       "      <td>-0.788691</td>\n",
       "      <td>1.096229</td>\n",
       "      <td>-1.335220</td>\n",
       "      <td>-0.296204</td>\n",
       "      <td>1.267547</td>\n",
       "      <td>0.519375</td>\n",
       "      <td>2.182246</td>\n",
       "      <td>0.705323</td>\n",
       "      <td>0.741574</td>\n",
       "      <td>0.965964</td>\n",
       "      <td>0.875002</td>\n",
       "      <td>-0.318132</td>\n",
       "      <td>1.435704</td>\n",
       "      <td>-0.588161</td>\n",
       "      <td>-0.514121</td>\n",
       "      <td>0.081712</td>\n",
       "      <td>-0.742954</td>\n",
       "      <td>-0.373873</td>\n",
       "      <td>-1.616383</td>\n",
       "      <td>1.426424</td>\n",
       "      <td>-0.651520</td>\n",
       "      <td>1.620814</td>\n",
       "      <td>0.624212</td>\n",
       "      <td>0.122211</td>\n",
       "      <td>-1.464309</td>\n",
       "      <td>0.939843</td>\n",
       "      <td>-1.150770</td>\n",
       "      <td>-1.419779</td>\n",
       "      <td>-1.389726</td>\n",
       "      <td>-0.188227</td>\n",
       "      <td>1.731806</td>\n",
       "      <td>0.485782</td>\n",
       "      <td>0.163470</td>\n",
       "      <td>0.112734</td>\n",
       "      <td>0.025611</td>\n",
       "      <td>-0.745826</td>\n",
       "      <td>-1.255155</td>\n",
       "      <td>-1.278717</td>\n",
       "      <td>-0.754777</td>\n",
       "      <td>-0.651368</td>\n",
       "      <td>-1.434665</td>\n",
       "      <td>-1.241882</td>\n",
       "      <td>0.646737</td>\n",
       "      <td>0.890642</td>\n",
       "      <td>-1.073662</td>\n",
       "      <td>-1.112513</td>\n",
       "      <td>-0.248149</td>\n",
       "      <td>0.930719</td>\n",
       "      <td>-1.112172</td>\n",
       "      <td>1.277486</td>\n",
       "      <td>1.265674</td>\n",
       "      <td>-1.521356</td>\n",
       "      <td>-0.027169</td>\n",
       "      <td>0.071664</td>\n",
       "      <td>-0.988226</td>\n",
       "      <td>0.122071</td>\n",
       "      <td>1.073685</td>\n",
       "      <td>-1.859833</td>\n",
       "      <td>0.132486</td>\n",
       "      <td>1.305501</td>\n",
       "      <td>-1.279922</td>\n",
       "      <td>1.328429</td>\n",
       "      <td>0.520989</td>\n",
       "      <td>1.093549</td>\n",
       "      <td>0.686937</td>\n",
       "      <td>0.732217</td>\n",
       "      <td>-1.404893</td>\n",
       "      <td>1.191996</td>\n",
       "      <td>0.696156</td>\n",
       "      <td>-1.721939</td>\n",
       "      <td>1.838985</td>\n",
       "      <td>1.061773</td>\n",
       "      <td>-1.971193</td>\n",
       "      <td>-0.030658</td>\n",
       "    </tr>\n",
       "    <tr>\n",
       "      <th>3</th>\n",
       "      <td>483</td>\n",
       "      <td>2021-07-01</td>\n",
       "      <td>2021-08-17</td>\n",
       "      <td>4</td>\n",
       "      <td>3</td>\n",
       "      <td>2</td>\n",
       "      <td>1</td>\n",
       "      <td>0</td>\n",
       "      <td>0</td>\n",
       "      <td>0</td>\n",
       "      <td>1.0</td>\n",
       "      <td>0.0</td>\n",
       "      <td>1.0</td>\n",
       "      <td>False</td>\n",
       "      <td>False</td>\n",
       "      <td>False</td>\n",
       "      <td>False</td>\n",
       "      <td>False</td>\n",
       "      <td>False</td>\n",
       "      <td>True</td>\n",
       "      <td>12.0</td>\n",
       "      <td>10.0</td>\n",
       "      <td>0</td>\n",
       "      <td>3</td>\n",
       "      <td>0</td>\n",
       "      <td>0</td>\n",
       "      <td>7</td>\n",
       "      <td>0</td>\n",
       "      <td>0</td>\n",
       "      <td>0</td>\n",
       "      <td>0</td>\n",
       "      <td>0</td>\n",
       "      <td>0</td>\n",
       "      <td>10</td>\n",
       "      <td>0</td>\n",
       "      <td>0</td>\n",
       "      <td>0</td>\n",
       "      <td>0</td>\n",
       "      <td>0</td>\n",
       "      <td>43.8</td>\n",
       "      <td>3</td>\n",
       "      <td>3</td>\n",
       "      <td>1</td>\n",
       "      <td>1</td>\n",
       "      <td>10</td>\n",
       "      <td>10</td>\n",
       "      <td>1</td>\n",
       "      <td>10</td>\n",
       "      <td>1.0</td>\n",
       "      <td>-0.073422</td>\n",
       "      <td>-0.711597</td>\n",
       "      <td>0.341229</td>\n",
       "      <td>0.716728</td>\n",
       "      <td>0.310992</td>\n",
       "      <td>0.983920</td>\n",
       "      <td>0.866293</td>\n",
       "      <td>1.014369</td>\n",
       "      <td>0.307688</td>\n",
       "      <td>-0.136745</td>\n",
       "      <td>0.239743</td>\n",
       "      <td>-2.273412</td>\n",
       "      <td>-1.965942</td>\n",
       "      <td>1.003965</td>\n",
       "      <td>-1.419866</td>\n",
       "      <td>1.729892</td>\n",
       "      <td>0.465460</td>\n",
       "      <td>0.265484</td>\n",
       "      <td>0.560922</td>\n",
       "      <td>0.985313</td>\n",
       "      <td>1.118845</td>\n",
       "      <td>0.106258</td>\n",
       "      <td>-0.788691</td>\n",
       "      <td>1.096229</td>\n",
       "      <td>-1.335220</td>\n",
       "      <td>-0.296204</td>\n",
       "      <td>1.267547</td>\n",
       "      <td>0.519375</td>\n",
       "      <td>2.182246</td>\n",
       "      <td>0.705323</td>\n",
       "      <td>0.741574</td>\n",
       "      <td>0.965964</td>\n",
       "      <td>0.875002</td>\n",
       "      <td>-0.318132</td>\n",
       "      <td>1.435704</td>\n",
       "      <td>-0.588161</td>\n",
       "      <td>-0.514121</td>\n",
       "      <td>0.081712</td>\n",
       "      <td>-0.742954</td>\n",
       "      <td>-0.373873</td>\n",
       "      <td>-1.616383</td>\n",
       "      <td>1.426424</td>\n",
       "      <td>-0.651520</td>\n",
       "      <td>1.620814</td>\n",
       "      <td>0.624212</td>\n",
       "      <td>0.122211</td>\n",
       "      <td>-1.464309</td>\n",
       "      <td>0.939843</td>\n",
       "      <td>-1.150770</td>\n",
       "      <td>-1.419779</td>\n",
       "      <td>-1.389726</td>\n",
       "      <td>-0.188227</td>\n",
       "      <td>1.731806</td>\n",
       "      <td>0.485782</td>\n",
       "      <td>0.163470</td>\n",
       "      <td>0.112734</td>\n",
       "      <td>0.025611</td>\n",
       "      <td>-0.745826</td>\n",
       "      <td>-1.255155</td>\n",
       "      <td>-1.278717</td>\n",
       "      <td>-0.754777</td>\n",
       "      <td>-0.651368</td>\n",
       "      <td>-1.434665</td>\n",
       "      <td>-1.241882</td>\n",
       "      <td>0.646737</td>\n",
       "      <td>0.890642</td>\n",
       "      <td>-1.073662</td>\n",
       "      <td>-1.112513</td>\n",
       "      <td>-0.248149</td>\n",
       "      <td>0.930719</td>\n",
       "      <td>-1.112172</td>\n",
       "      <td>1.277486</td>\n",
       "      <td>1.265674</td>\n",
       "      <td>-1.521356</td>\n",
       "      <td>-0.027169</td>\n",
       "      <td>0.071664</td>\n",
       "      <td>-0.988226</td>\n",
       "      <td>0.122071</td>\n",
       "      <td>1.073685</td>\n",
       "      <td>-1.859833</td>\n",
       "      <td>0.132486</td>\n",
       "      <td>1.305501</td>\n",
       "      <td>-1.279922</td>\n",
       "      <td>1.328429</td>\n",
       "      <td>0.520989</td>\n",
       "      <td>1.093549</td>\n",
       "      <td>0.686937</td>\n",
       "      <td>0.732217</td>\n",
       "      <td>-1.404893</td>\n",
       "      <td>1.191996</td>\n",
       "      <td>0.696156</td>\n",
       "      <td>-1.721939</td>\n",
       "      <td>1.838985</td>\n",
       "      <td>1.061773</td>\n",
       "      <td>-1.971193</td>\n",
       "      <td>-0.030658</td>\n",
       "    </tr>\n",
       "    <tr>\n",
       "      <th>4</th>\n",
       "      <td>484</td>\n",
       "      <td>2021-07-01</td>\n",
       "      <td>2021-08-17</td>\n",
       "      <td>4</td>\n",
       "      <td>3</td>\n",
       "      <td>2</td>\n",
       "      <td>1</td>\n",
       "      <td>0</td>\n",
       "      <td>0</td>\n",
       "      <td>0</td>\n",
       "      <td>1.0</td>\n",
       "      <td>0.0</td>\n",
       "      <td>1.0</td>\n",
       "      <td>False</td>\n",
       "      <td>True</td>\n",
       "      <td>False</td>\n",
       "      <td>False</td>\n",
       "      <td>False</td>\n",
       "      <td>False</td>\n",
       "      <td>False</td>\n",
       "      <td>13.0</td>\n",
       "      <td>10.0</td>\n",
       "      <td>0</td>\n",
       "      <td>3</td>\n",
       "      <td>0</td>\n",
       "      <td>0</td>\n",
       "      <td>7</td>\n",
       "      <td>0</td>\n",
       "      <td>0</td>\n",
       "      <td>0</td>\n",
       "      <td>0</td>\n",
       "      <td>0</td>\n",
       "      <td>0</td>\n",
       "      <td>10</td>\n",
       "      <td>0</td>\n",
       "      <td>0</td>\n",
       "      <td>0</td>\n",
       "      <td>0</td>\n",
       "      <td>0</td>\n",
       "      <td>43.8</td>\n",
       "      <td>3</td>\n",
       "      <td>3</td>\n",
       "      <td>1</td>\n",
       "      <td>1</td>\n",
       "      <td>7</td>\n",
       "      <td>10</td>\n",
       "      <td>1</td>\n",
       "      <td>10</td>\n",
       "      <td>1.0</td>\n",
       "      <td>-0.073422</td>\n",
       "      <td>-0.711597</td>\n",
       "      <td>0.341229</td>\n",
       "      <td>0.716728</td>\n",
       "      <td>0.310992</td>\n",
       "      <td>0.983920</td>\n",
       "      <td>0.866293</td>\n",
       "      <td>1.014369</td>\n",
       "      <td>0.307688</td>\n",
       "      <td>-0.136745</td>\n",
       "      <td>0.239743</td>\n",
       "      <td>-2.273412</td>\n",
       "      <td>-1.965942</td>\n",
       "      <td>1.003965</td>\n",
       "      <td>-1.419866</td>\n",
       "      <td>1.729892</td>\n",
       "      <td>0.465460</td>\n",
       "      <td>0.265484</td>\n",
       "      <td>0.560922</td>\n",
       "      <td>0.985313</td>\n",
       "      <td>1.118845</td>\n",
       "      <td>0.106258</td>\n",
       "      <td>-0.788691</td>\n",
       "      <td>1.096229</td>\n",
       "      <td>-1.335220</td>\n",
       "      <td>-0.296204</td>\n",
       "      <td>1.267547</td>\n",
       "      <td>0.519375</td>\n",
       "      <td>2.182246</td>\n",
       "      <td>0.705323</td>\n",
       "      <td>0.741574</td>\n",
       "      <td>0.965964</td>\n",
       "      <td>0.875002</td>\n",
       "      <td>-0.318132</td>\n",
       "      <td>1.435704</td>\n",
       "      <td>-0.588161</td>\n",
       "      <td>-0.514121</td>\n",
       "      <td>0.081712</td>\n",
       "      <td>-0.742954</td>\n",
       "      <td>-0.373873</td>\n",
       "      <td>-1.616383</td>\n",
       "      <td>1.426424</td>\n",
       "      <td>-0.651520</td>\n",
       "      <td>1.620814</td>\n",
       "      <td>0.624212</td>\n",
       "      <td>0.122211</td>\n",
       "      <td>-1.464309</td>\n",
       "      <td>0.939843</td>\n",
       "      <td>-1.150770</td>\n",
       "      <td>-1.419779</td>\n",
       "      <td>-1.389726</td>\n",
       "      <td>-0.188227</td>\n",
       "      <td>1.731806</td>\n",
       "      <td>0.485782</td>\n",
       "      <td>0.163470</td>\n",
       "      <td>0.112734</td>\n",
       "      <td>0.025611</td>\n",
       "      <td>-0.745826</td>\n",
       "      <td>-1.255155</td>\n",
       "      <td>-1.278717</td>\n",
       "      <td>-0.754777</td>\n",
       "      <td>-0.651368</td>\n",
       "      <td>-1.434665</td>\n",
       "      <td>-1.241882</td>\n",
       "      <td>0.646737</td>\n",
       "      <td>0.890642</td>\n",
       "      <td>-1.073662</td>\n",
       "      <td>-1.112513</td>\n",
       "      <td>-0.248149</td>\n",
       "      <td>0.930719</td>\n",
       "      <td>-1.112172</td>\n",
       "      <td>1.277486</td>\n",
       "      <td>1.265674</td>\n",
       "      <td>-1.521356</td>\n",
       "      <td>-0.027169</td>\n",
       "      <td>0.071664</td>\n",
       "      <td>-0.988226</td>\n",
       "      <td>0.122071</td>\n",
       "      <td>1.073685</td>\n",
       "      <td>-1.859833</td>\n",
       "      <td>0.132486</td>\n",
       "      <td>1.305501</td>\n",
       "      <td>-1.279922</td>\n",
       "      <td>1.328429</td>\n",
       "      <td>0.520989</td>\n",
       "      <td>1.093549</td>\n",
       "      <td>0.686937</td>\n",
       "      <td>0.732217</td>\n",
       "      <td>-1.404893</td>\n",
       "      <td>1.191996</td>\n",
       "      <td>0.696156</td>\n",
       "      <td>-1.721939</td>\n",
       "      <td>1.838985</td>\n",
       "      <td>1.061773</td>\n",
       "      <td>-1.971193</td>\n",
       "      <td>-0.030658</td>\n",
       "    </tr>\n",
       "    <tr>\n",
       "      <th>...</th>\n",
       "      <td>...</td>\n",
       "      <td>...</td>\n",
       "      <td>...</td>\n",
       "      <td>...</td>\n",
       "      <td>...</td>\n",
       "      <td>...</td>\n",
       "      <td>...</td>\n",
       "      <td>...</td>\n",
       "      <td>...</td>\n",
       "      <td>...</td>\n",
       "      <td>...</td>\n",
       "      <td>...</td>\n",
       "      <td>...</td>\n",
       "      <td>...</td>\n",
       "      <td>...</td>\n",
       "      <td>...</td>\n",
       "      <td>...</td>\n",
       "      <td>...</td>\n",
       "      <td>...</td>\n",
       "      <td>...</td>\n",
       "      <td>...</td>\n",
       "      <td>...</td>\n",
       "      <td>...</td>\n",
       "      <td>...</td>\n",
       "      <td>...</td>\n",
       "      <td>...</td>\n",
       "      <td>...</td>\n",
       "      <td>...</td>\n",
       "      <td>...</td>\n",
       "      <td>...</td>\n",
       "      <td>...</td>\n",
       "      <td>...</td>\n",
       "      <td>...</td>\n",
       "      <td>...</td>\n",
       "      <td>...</td>\n",
       "      <td>...</td>\n",
       "      <td>...</td>\n",
       "      <td>...</td>\n",
       "      <td>...</td>\n",
       "      <td>...</td>\n",
       "      <td>...</td>\n",
       "      <td>...</td>\n",
       "      <td>...</td>\n",
       "      <td>...</td>\n",
       "      <td>...</td>\n",
       "      <td>...</td>\n",
       "      <td>...</td>\n",
       "      <td>...</td>\n",
       "      <td>...</td>\n",
       "      <td>...</td>\n",
       "      <td>...</td>\n",
       "      <td>...</td>\n",
       "      <td>...</td>\n",
       "      <td>...</td>\n",
       "      <td>...</td>\n",
       "      <td>...</td>\n",
       "      <td>...</td>\n",
       "      <td>...</td>\n",
       "      <td>...</td>\n",
       "      <td>...</td>\n",
       "      <td>...</td>\n",
       "      <td>...</td>\n",
       "      <td>...</td>\n",
       "      <td>...</td>\n",
       "      <td>...</td>\n",
       "      <td>...</td>\n",
       "      <td>...</td>\n",
       "      <td>...</td>\n",
       "      <td>...</td>\n",
       "      <td>...</td>\n",
       "      <td>...</td>\n",
       "      <td>...</td>\n",
       "      <td>...</td>\n",
       "      <td>...</td>\n",
       "      <td>...</td>\n",
       "      <td>...</td>\n",
       "      <td>...</td>\n",
       "      <td>...</td>\n",
       "      <td>...</td>\n",
       "      <td>...</td>\n",
       "      <td>...</td>\n",
       "      <td>...</td>\n",
       "      <td>...</td>\n",
       "      <td>...</td>\n",
       "      <td>...</td>\n",
       "      <td>...</td>\n",
       "      <td>...</td>\n",
       "      <td>...</td>\n",
       "      <td>...</td>\n",
       "      <td>...</td>\n",
       "      <td>...</td>\n",
       "      <td>...</td>\n",
       "      <td>...</td>\n",
       "      <td>...</td>\n",
       "      <td>...</td>\n",
       "      <td>...</td>\n",
       "      <td>...</td>\n",
       "      <td>...</td>\n",
       "      <td>...</td>\n",
       "      <td>...</td>\n",
       "      <td>...</td>\n",
       "      <td>...</td>\n",
       "      <td>...</td>\n",
       "      <td>...</td>\n",
       "      <td>...</td>\n",
       "      <td>...</td>\n",
       "      <td>...</td>\n",
       "      <td>...</td>\n",
       "      <td>...</td>\n",
       "      <td>...</td>\n",
       "      <td>...</td>\n",
       "      <td>...</td>\n",
       "      <td>...</td>\n",
       "      <td>...</td>\n",
       "      <td>...</td>\n",
       "      <td>...</td>\n",
       "      <td>...</td>\n",
       "      <td>...</td>\n",
       "      <td>...</td>\n",
       "      <td>...</td>\n",
       "      <td>...</td>\n",
       "      <td>...</td>\n",
       "      <td>...</td>\n",
       "      <td>...</td>\n",
       "      <td>...</td>\n",
       "      <td>...</td>\n",
       "      <td>...</td>\n",
       "      <td>...</td>\n",
       "      <td>...</td>\n",
       "      <td>...</td>\n",
       "      <td>...</td>\n",
       "      <td>...</td>\n",
       "      <td>...</td>\n",
       "      <td>...</td>\n",
       "      <td>...</td>\n",
       "      <td>...</td>\n",
       "      <td>...</td>\n",
       "      <td>...</td>\n",
       "      <td>...</td>\n",
       "      <td>...</td>\n",
       "      <td>...</td>\n",
       "      <td>...</td>\n",
       "      <td>...</td>\n",
       "      <td>...</td>\n",
       "      <td>...</td>\n",
       "    </tr>\n",
       "    <tr>\n",
       "      <th>291923</th>\n",
       "      <td>2165</td>\n",
       "      <td>2024-06-14</td>\n",
       "      <td>2024-06-26</td>\n",
       "      <td>2</td>\n",
       "      <td>4</td>\n",
       "      <td>2</td>\n",
       "      <td>0</td>\n",
       "      <td>2</td>\n",
       "      <td>0</td>\n",
       "      <td>0</td>\n",
       "      <td>1.0</td>\n",
       "      <td>1.0</td>\n",
       "      <td>0.0</td>\n",
       "      <td>False</td>\n",
       "      <td>False</td>\n",
       "      <td>False</td>\n",
       "      <td>False</td>\n",
       "      <td>False</td>\n",
       "      <td>False</td>\n",
       "      <td>True</td>\n",
       "      <td>18.0</td>\n",
       "      <td>6.0</td>\n",
       "      <td>0</td>\n",
       "      <td>8</td>\n",
       "      <td>0</td>\n",
       "      <td>0</td>\n",
       "      <td>2</td>\n",
       "      <td>5</td>\n",
       "      <td>0</td>\n",
       "      <td>2</td>\n",
       "      <td>0</td>\n",
       "      <td>0</td>\n",
       "      <td>0</td>\n",
       "      <td>1</td>\n",
       "      <td>2</td>\n",
       "      <td>0</td>\n",
       "      <td>0</td>\n",
       "      <td>0</td>\n",
       "      <td>0</td>\n",
       "      <td>39.0</td>\n",
       "      <td>6</td>\n",
       "      <td>4</td>\n",
       "      <td>3</td>\n",
       "      <td>3</td>\n",
       "      <td>7</td>\n",
       "      <td>10</td>\n",
       "      <td>0</td>\n",
       "      <td>47</td>\n",
       "      <td>1.0</td>\n",
       "      <td>-0.050422</td>\n",
       "      <td>-1.238044</td>\n",
       "      <td>-1.269763</td>\n",
       "      <td>0.962297</td>\n",
       "      <td>-0.257396</td>\n",
       "      <td>0.450170</td>\n",
       "      <td>0.684361</td>\n",
       "      <td>0.465161</td>\n",
       "      <td>0.479866</td>\n",
       "      <td>0.398770</td>\n",
       "      <td>-0.234095</td>\n",
       "      <td>-1.245737</td>\n",
       "      <td>-1.314227</td>\n",
       "      <td>0.882728</td>\n",
       "      <td>-0.947708</td>\n",
       "      <td>1.500426</td>\n",
       "      <td>1.291883</td>\n",
       "      <td>1.586779</td>\n",
       "      <td>0.942150</td>\n",
       "      <td>1.020312</td>\n",
       "      <td>-0.020887</td>\n",
       "      <td>0.440570</td>\n",
       "      <td>0.750453</td>\n",
       "      <td>-1.106586</td>\n",
       "      <td>-1.166365</td>\n",
       "      <td>-0.746130</td>\n",
       "      <td>0.452928</td>\n",
       "      <td>0.134487</td>\n",
       "      <td>2.134719</td>\n",
       "      <td>-0.051744</td>\n",
       "      <td>-0.895949</td>\n",
       "      <td>0.428914</td>\n",
       "      <td>-0.029644</td>\n",
       "      <td>-0.408267</td>\n",
       "      <td>0.458076</td>\n",
       "      <td>-0.216447</td>\n",
       "      <td>-0.901860</td>\n",
       "      <td>1.046608</td>\n",
       "      <td>0.510382</td>\n",
       "      <td>-0.113066</td>\n",
       "      <td>-1.334246</td>\n",
       "      <td>2.293523</td>\n",
       "      <td>-0.753720</td>\n",
       "      <td>1.875162</td>\n",
       "      <td>0.183325</td>\n",
       "      <td>1.129252</td>\n",
       "      <td>-2.272649</td>\n",
       "      <td>0.741484</td>\n",
       "      <td>0.297328</td>\n",
       "      <td>-2.260319</td>\n",
       "      <td>-1.523500</td>\n",
       "      <td>-0.063436</td>\n",
       "      <td>1.430352</td>\n",
       "      <td>-0.950970</td>\n",
       "      <td>0.816022</td>\n",
       "      <td>-0.354943</td>\n",
       "      <td>0.444400</td>\n",
       "      <td>-0.407325</td>\n",
       "      <td>-1.694755</td>\n",
       "      <td>-1.100028</td>\n",
       "      <td>-1.340298</td>\n",
       "      <td>-0.632283</td>\n",
       "      <td>-1.048911</td>\n",
       "      <td>-1.157424</td>\n",
       "      <td>0.289609</td>\n",
       "      <td>1.245689</td>\n",
       "      <td>-0.288548</td>\n",
       "      <td>-0.489839</td>\n",
       "      <td>0.144477</td>\n",
       "      <td>1.231629</td>\n",
       "      <td>-1.577886</td>\n",
       "      <td>1.100507</td>\n",
       "      <td>1.434138</td>\n",
       "      <td>-1.520447</td>\n",
       "      <td>0.901984</td>\n",
       "      <td>-0.231574</td>\n",
       "      <td>-2.280113</td>\n",
       "      <td>1.347166</td>\n",
       "      <td>2.235009</td>\n",
       "      <td>-2.077207</td>\n",
       "      <td>0.323503</td>\n",
       "      <td>1.614585</td>\n",
       "      <td>-0.715993</td>\n",
       "      <td>1.182941</td>\n",
       "      <td>1.121943</td>\n",
       "      <td>0.078111</td>\n",
       "      <td>0.121623</td>\n",
       "      <td>-0.419214</td>\n",
       "      <td>-1.347232</td>\n",
       "      <td>1.352050</td>\n",
       "      <td>0.154044</td>\n",
       "      <td>-1.246703</td>\n",
       "      <td>2.056533</td>\n",
       "      <td>2.357893</td>\n",
       "      <td>-1.784181</td>\n",
       "      <td>0.584339</td>\n",
       "    </tr>\n",
       "    <tr>\n",
       "      <th>291924</th>\n",
       "      <td>2180</td>\n",
       "      <td>2024-06-14</td>\n",
       "      <td>2024-06-26</td>\n",
       "      <td>4</td>\n",
       "      <td>0</td>\n",
       "      <td>4</td>\n",
       "      <td>0</td>\n",
       "      <td>2</td>\n",
       "      <td>0</td>\n",
       "      <td>0</td>\n",
       "      <td>1.0</td>\n",
       "      <td>1.0</td>\n",
       "      <td>0.0</td>\n",
       "      <td>False</td>\n",
       "      <td>True</td>\n",
       "      <td>False</td>\n",
       "      <td>False</td>\n",
       "      <td>False</td>\n",
       "      <td>False</td>\n",
       "      <td>False</td>\n",
       "      <td>17.0</td>\n",
       "      <td>8.0</td>\n",
       "      <td>0</td>\n",
       "      <td>8</td>\n",
       "      <td>0</td>\n",
       "      <td>0</td>\n",
       "      <td>2</td>\n",
       "      <td>3</td>\n",
       "      <td>0</td>\n",
       "      <td>0</td>\n",
       "      <td>0</td>\n",
       "      <td>0</td>\n",
       "      <td>0</td>\n",
       "      <td>3</td>\n",
       "      <td>2</td>\n",
       "      <td>0</td>\n",
       "      <td>2</td>\n",
       "      <td>0</td>\n",
       "      <td>0</td>\n",
       "      <td>41.8</td>\n",
       "      <td>6</td>\n",
       "      <td>4</td>\n",
       "      <td>3</td>\n",
       "      <td>3</td>\n",
       "      <td>10</td>\n",
       "      <td>10</td>\n",
       "      <td>0</td>\n",
       "      <td>43</td>\n",
       "      <td>1.0</td>\n",
       "      <td>-0.288524</td>\n",
       "      <td>-0.763260</td>\n",
       "      <td>-1.136158</td>\n",
       "      <td>0.179402</td>\n",
       "      <td>-0.021400</td>\n",
       "      <td>0.277619</td>\n",
       "      <td>0.812288</td>\n",
       "      <td>0.791743</td>\n",
       "      <td>0.850081</td>\n",
       "      <td>0.128132</td>\n",
       "      <td>0.403342</td>\n",
       "      <td>-0.645786</td>\n",
       "      <td>-1.215454</td>\n",
       "      <td>0.995555</td>\n",
       "      <td>-1.158576</td>\n",
       "      <td>1.780186</td>\n",
       "      <td>0.544404</td>\n",
       "      <td>0.932733</td>\n",
       "      <td>0.805588</td>\n",
       "      <td>1.092296</td>\n",
       "      <td>0.282561</td>\n",
       "      <td>0.117263</td>\n",
       "      <td>0.265517</td>\n",
       "      <td>-0.693496</td>\n",
       "      <td>-1.316221</td>\n",
       "      <td>-0.858699</td>\n",
       "      <td>0.721987</td>\n",
       "      <td>-0.066156</td>\n",
       "      <td>2.295448</td>\n",
       "      <td>0.772107</td>\n",
       "      <td>-0.969262</td>\n",
       "      <td>-0.089636</td>\n",
       "      <td>1.062938</td>\n",
       "      <td>0.305650</td>\n",
       "      <td>0.414655</td>\n",
       "      <td>0.649551</td>\n",
       "      <td>-1.510350</td>\n",
       "      <td>1.374651</td>\n",
       "      <td>0.025952</td>\n",
       "      <td>0.089353</td>\n",
       "      <td>-1.234080</td>\n",
       "      <td>2.362644</td>\n",
       "      <td>-1.448102</td>\n",
       "      <td>1.661774</td>\n",
       "      <td>0.302329</td>\n",
       "      <td>0.894799</td>\n",
       "      <td>-2.406747</td>\n",
       "      <td>0.671247</td>\n",
       "      <td>-0.327429</td>\n",
       "      <td>-1.656167</td>\n",
       "      <td>-1.711582</td>\n",
       "      <td>0.033773</td>\n",
       "      <td>1.422380</td>\n",
       "      <td>-0.771310</td>\n",
       "      <td>0.500281</td>\n",
       "      <td>-0.487960</td>\n",
       "      <td>0.929167</td>\n",
       "      <td>-0.677446</td>\n",
       "      <td>-1.783778</td>\n",
       "      <td>-0.592887</td>\n",
       "      <td>-0.876282</td>\n",
       "      <td>-0.287201</td>\n",
       "      <td>-0.920124</td>\n",
       "      <td>-1.329390</td>\n",
       "      <td>0.688919</td>\n",
       "      <td>0.732411</td>\n",
       "      <td>-1.063651</td>\n",
       "      <td>-0.712930</td>\n",
       "      <td>-0.158928</td>\n",
       "      <td>0.852834</td>\n",
       "      <td>-0.975536</td>\n",
       "      <td>0.610664</td>\n",
       "      <td>0.890955</td>\n",
       "      <td>-1.398141</td>\n",
       "      <td>0.922017</td>\n",
       "      <td>-0.072052</td>\n",
       "      <td>-1.635451</td>\n",
       "      <td>0.864465</td>\n",
       "      <td>1.117827</td>\n",
       "      <td>-1.781196</td>\n",
       "      <td>0.705445</td>\n",
       "      <td>1.283979</td>\n",
       "      <td>-0.520089</td>\n",
       "      <td>0.941617</td>\n",
       "      <td>0.489129</td>\n",
       "      <td>0.464675</td>\n",
       "      <td>0.749021</td>\n",
       "      <td>-0.568837</td>\n",
       "      <td>-1.117249</td>\n",
       "      <td>1.353121</td>\n",
       "      <td>0.372614</td>\n",
       "      <td>-0.926223</td>\n",
       "      <td>2.378915</td>\n",
       "      <td>1.684329</td>\n",
       "      <td>-1.512201</td>\n",
       "      <td>-0.044146</td>\n",
       "    </tr>\n",
       "    <tr>\n",
       "      <th>291925</th>\n",
       "      <td>1447</td>\n",
       "      <td>2024-06-14</td>\n",
       "      <td>2024-06-26</td>\n",
       "      <td>2</td>\n",
       "      <td>4</td>\n",
       "      <td>2</td>\n",
       "      <td>0</td>\n",
       "      <td>2</td>\n",
       "      <td>0</td>\n",
       "      <td>0</td>\n",
       "      <td>1.0</td>\n",
       "      <td>1.0</td>\n",
       "      <td>0.0</td>\n",
       "      <td>False</td>\n",
       "      <td>False</td>\n",
       "      <td>False</td>\n",
       "      <td>False</td>\n",
       "      <td>False</td>\n",
       "      <td>False</td>\n",
       "      <td>True</td>\n",
       "      <td>17.0</td>\n",
       "      <td>6.0</td>\n",
       "      <td>0</td>\n",
       "      <td>8</td>\n",
       "      <td>0</td>\n",
       "      <td>0</td>\n",
       "      <td>2</td>\n",
       "      <td>5</td>\n",
       "      <td>0</td>\n",
       "      <td>2</td>\n",
       "      <td>0</td>\n",
       "      <td>0</td>\n",
       "      <td>0</td>\n",
       "      <td>1</td>\n",
       "      <td>2</td>\n",
       "      <td>0</td>\n",
       "      <td>0</td>\n",
       "      <td>0</td>\n",
       "      <td>0</td>\n",
       "      <td>39.0</td>\n",
       "      <td>6</td>\n",
       "      <td>4</td>\n",
       "      <td>3</td>\n",
       "      <td>3</td>\n",
       "      <td>3</td>\n",
       "      <td>10</td>\n",
       "      <td>0</td>\n",
       "      <td>186</td>\n",
       "      <td>0.0</td>\n",
       "      <td>-0.050422</td>\n",
       "      <td>-1.238044</td>\n",
       "      <td>-1.269763</td>\n",
       "      <td>0.962297</td>\n",
       "      <td>-0.257396</td>\n",
       "      <td>0.450170</td>\n",
       "      <td>0.684361</td>\n",
       "      <td>0.465161</td>\n",
       "      <td>0.479866</td>\n",
       "      <td>0.398770</td>\n",
       "      <td>-0.234095</td>\n",
       "      <td>-1.245737</td>\n",
       "      <td>-1.314227</td>\n",
       "      <td>0.882728</td>\n",
       "      <td>-0.947708</td>\n",
       "      <td>1.500426</td>\n",
       "      <td>1.291883</td>\n",
       "      <td>1.586779</td>\n",
       "      <td>0.942150</td>\n",
       "      <td>1.020312</td>\n",
       "      <td>-0.020887</td>\n",
       "      <td>0.440570</td>\n",
       "      <td>0.750453</td>\n",
       "      <td>-1.106586</td>\n",
       "      <td>-1.166365</td>\n",
       "      <td>-0.746130</td>\n",
       "      <td>0.452928</td>\n",
       "      <td>0.134487</td>\n",
       "      <td>2.134719</td>\n",
       "      <td>-0.051744</td>\n",
       "      <td>-0.895949</td>\n",
       "      <td>0.428914</td>\n",
       "      <td>-0.029644</td>\n",
       "      <td>-0.408267</td>\n",
       "      <td>0.458076</td>\n",
       "      <td>-0.216447</td>\n",
       "      <td>-0.901860</td>\n",
       "      <td>1.046608</td>\n",
       "      <td>0.510382</td>\n",
       "      <td>-0.113066</td>\n",
       "      <td>-1.334246</td>\n",
       "      <td>2.293523</td>\n",
       "      <td>-0.753720</td>\n",
       "      <td>1.875162</td>\n",
       "      <td>0.183325</td>\n",
       "      <td>1.129252</td>\n",
       "      <td>-2.272649</td>\n",
       "      <td>0.741484</td>\n",
       "      <td>0.297328</td>\n",
       "      <td>-2.260319</td>\n",
       "      <td>-1.523500</td>\n",
       "      <td>-0.063436</td>\n",
       "      <td>1.430352</td>\n",
       "      <td>-0.950970</td>\n",
       "      <td>0.816022</td>\n",
       "      <td>-0.354943</td>\n",
       "      <td>0.444400</td>\n",
       "      <td>-0.407325</td>\n",
       "      <td>-1.694755</td>\n",
       "      <td>-1.100028</td>\n",
       "      <td>-1.340298</td>\n",
       "      <td>-0.632283</td>\n",
       "      <td>-1.048911</td>\n",
       "      <td>-1.157424</td>\n",
       "      <td>0.289609</td>\n",
       "      <td>1.245689</td>\n",
       "      <td>-0.288548</td>\n",
       "      <td>-0.489839</td>\n",
       "      <td>0.144477</td>\n",
       "      <td>1.231629</td>\n",
       "      <td>-1.577886</td>\n",
       "      <td>1.100507</td>\n",
       "      <td>1.434138</td>\n",
       "      <td>-1.520447</td>\n",
       "      <td>0.901984</td>\n",
       "      <td>-0.231574</td>\n",
       "      <td>-2.280113</td>\n",
       "      <td>1.347166</td>\n",
       "      <td>2.235009</td>\n",
       "      <td>-2.077207</td>\n",
       "      <td>0.323503</td>\n",
       "      <td>1.614585</td>\n",
       "      <td>-0.715993</td>\n",
       "      <td>1.182941</td>\n",
       "      <td>1.121943</td>\n",
       "      <td>0.078111</td>\n",
       "      <td>0.121623</td>\n",
       "      <td>-0.419214</td>\n",
       "      <td>-1.347232</td>\n",
       "      <td>1.352050</td>\n",
       "      <td>0.154044</td>\n",
       "      <td>-1.246703</td>\n",
       "      <td>2.056533</td>\n",
       "      <td>2.357893</td>\n",
       "      <td>-1.784181</td>\n",
       "      <td>0.584339</td>\n",
       "    </tr>\n",
       "    <tr>\n",
       "      <th>291926</th>\n",
       "      <td>1398</td>\n",
       "      <td>2024-06-14</td>\n",
       "      <td>2024-06-26</td>\n",
       "      <td>2</td>\n",
       "      <td>4</td>\n",
       "      <td>2</td>\n",
       "      <td>0</td>\n",
       "      <td>2</td>\n",
       "      <td>0</td>\n",
       "      <td>0</td>\n",
       "      <td>0.0</td>\n",
       "      <td>1.0</td>\n",
       "      <td>0.0</td>\n",
       "      <td>False</td>\n",
       "      <td>True</td>\n",
       "      <td>False</td>\n",
       "      <td>False</td>\n",
       "      <td>False</td>\n",
       "      <td>False</td>\n",
       "      <td>False</td>\n",
       "      <td>18.0</td>\n",
       "      <td>6.0</td>\n",
       "      <td>0</td>\n",
       "      <td>8</td>\n",
       "      <td>0</td>\n",
       "      <td>0</td>\n",
       "      <td>2</td>\n",
       "      <td>5</td>\n",
       "      <td>0</td>\n",
       "      <td>2</td>\n",
       "      <td>0</td>\n",
       "      <td>0</td>\n",
       "      <td>0</td>\n",
       "      <td>1</td>\n",
       "      <td>2</td>\n",
       "      <td>0</td>\n",
       "      <td>0</td>\n",
       "      <td>0</td>\n",
       "      <td>0</td>\n",
       "      <td>39.0</td>\n",
       "      <td>6</td>\n",
       "      <td>4</td>\n",
       "      <td>3</td>\n",
       "      <td>3</td>\n",
       "      <td>8</td>\n",
       "      <td>10</td>\n",
       "      <td>0</td>\n",
       "      <td>200</td>\n",
       "      <td>0.0</td>\n",
       "      <td>-0.050422</td>\n",
       "      <td>-1.238044</td>\n",
       "      <td>-1.269763</td>\n",
       "      <td>0.962297</td>\n",
       "      <td>-0.257396</td>\n",
       "      <td>0.450170</td>\n",
       "      <td>0.684361</td>\n",
       "      <td>0.465161</td>\n",
       "      <td>0.479866</td>\n",
       "      <td>0.398770</td>\n",
       "      <td>-0.234095</td>\n",
       "      <td>-1.245737</td>\n",
       "      <td>-1.314227</td>\n",
       "      <td>0.882728</td>\n",
       "      <td>-0.947708</td>\n",
       "      <td>1.500426</td>\n",
       "      <td>1.291883</td>\n",
       "      <td>1.586779</td>\n",
       "      <td>0.942150</td>\n",
       "      <td>1.020312</td>\n",
       "      <td>-0.020887</td>\n",
       "      <td>0.440570</td>\n",
       "      <td>0.750453</td>\n",
       "      <td>-1.106586</td>\n",
       "      <td>-1.166365</td>\n",
       "      <td>-0.746130</td>\n",
       "      <td>0.452928</td>\n",
       "      <td>0.134487</td>\n",
       "      <td>2.134719</td>\n",
       "      <td>-0.051744</td>\n",
       "      <td>-0.895949</td>\n",
       "      <td>0.428914</td>\n",
       "      <td>-0.029644</td>\n",
       "      <td>-0.408267</td>\n",
       "      <td>0.458076</td>\n",
       "      <td>-0.216447</td>\n",
       "      <td>-0.901860</td>\n",
       "      <td>1.046608</td>\n",
       "      <td>0.510382</td>\n",
       "      <td>-0.113066</td>\n",
       "      <td>-1.334246</td>\n",
       "      <td>2.293523</td>\n",
       "      <td>-0.753720</td>\n",
       "      <td>1.875162</td>\n",
       "      <td>0.183325</td>\n",
       "      <td>1.129252</td>\n",
       "      <td>-2.272649</td>\n",
       "      <td>0.741484</td>\n",
       "      <td>0.297328</td>\n",
       "      <td>-2.260319</td>\n",
       "      <td>-1.523500</td>\n",
       "      <td>-0.063436</td>\n",
       "      <td>1.430352</td>\n",
       "      <td>-0.950970</td>\n",
       "      <td>0.816022</td>\n",
       "      <td>-0.354943</td>\n",
       "      <td>0.444400</td>\n",
       "      <td>-0.407325</td>\n",
       "      <td>-1.694755</td>\n",
       "      <td>-1.100028</td>\n",
       "      <td>-1.340298</td>\n",
       "      <td>-0.632283</td>\n",
       "      <td>-1.048911</td>\n",
       "      <td>-1.157424</td>\n",
       "      <td>0.289609</td>\n",
       "      <td>1.245689</td>\n",
       "      <td>-0.288548</td>\n",
       "      <td>-0.489839</td>\n",
       "      <td>0.144477</td>\n",
       "      <td>1.231629</td>\n",
       "      <td>-1.577886</td>\n",
       "      <td>1.100507</td>\n",
       "      <td>1.434138</td>\n",
       "      <td>-1.520447</td>\n",
       "      <td>0.901984</td>\n",
       "      <td>-0.231574</td>\n",
       "      <td>-2.280113</td>\n",
       "      <td>1.347166</td>\n",
       "      <td>2.235009</td>\n",
       "      <td>-2.077207</td>\n",
       "      <td>0.323503</td>\n",
       "      <td>1.614585</td>\n",
       "      <td>-0.715993</td>\n",
       "      <td>1.182941</td>\n",
       "      <td>1.121943</td>\n",
       "      <td>0.078111</td>\n",
       "      <td>0.121623</td>\n",
       "      <td>-0.419214</td>\n",
       "      <td>-1.347232</td>\n",
       "      <td>1.352050</td>\n",
       "      <td>0.154044</td>\n",
       "      <td>-1.246703</td>\n",
       "      <td>2.056533</td>\n",
       "      <td>2.357893</td>\n",
       "      <td>-1.784181</td>\n",
       "      <td>0.584339</td>\n",
       "    </tr>\n",
       "    <tr>\n",
       "      <th>291927</th>\n",
       "      <td>154</td>\n",
       "      <td>2024-06-14</td>\n",
       "      <td>2024-06-26</td>\n",
       "      <td>2</td>\n",
       "      <td>4</td>\n",
       "      <td>2</td>\n",
       "      <td>0</td>\n",
       "      <td>2</td>\n",
       "      <td>0</td>\n",
       "      <td>0</td>\n",
       "      <td>1.0</td>\n",
       "      <td>0.0</td>\n",
       "      <td>1.0</td>\n",
       "      <td>False</td>\n",
       "      <td>True</td>\n",
       "      <td>False</td>\n",
       "      <td>False</td>\n",
       "      <td>False</td>\n",
       "      <td>False</td>\n",
       "      <td>False</td>\n",
       "      <td>18.0</td>\n",
       "      <td>6.0</td>\n",
       "      <td>0</td>\n",
       "      <td>8</td>\n",
       "      <td>0</td>\n",
       "      <td>0</td>\n",
       "      <td>2</td>\n",
       "      <td>5</td>\n",
       "      <td>0</td>\n",
       "      <td>2</td>\n",
       "      <td>0</td>\n",
       "      <td>0</td>\n",
       "      <td>0</td>\n",
       "      <td>1</td>\n",
       "      <td>2</td>\n",
       "      <td>0</td>\n",
       "      <td>0</td>\n",
       "      <td>0</td>\n",
       "      <td>0</td>\n",
       "      <td>39.0</td>\n",
       "      <td>6</td>\n",
       "      <td>4</td>\n",
       "      <td>3</td>\n",
       "      <td>3</td>\n",
       "      <td>0</td>\n",
       "      <td>10</td>\n",
       "      <td>0</td>\n",
       "      <td>385</td>\n",
       "      <td>0.0</td>\n",
       "      <td>-0.050422</td>\n",
       "      <td>-1.238044</td>\n",
       "      <td>-1.269763</td>\n",
       "      <td>0.962297</td>\n",
       "      <td>-0.257396</td>\n",
       "      <td>0.450170</td>\n",
       "      <td>0.684361</td>\n",
       "      <td>0.465161</td>\n",
       "      <td>0.479866</td>\n",
       "      <td>0.398770</td>\n",
       "      <td>-0.234095</td>\n",
       "      <td>-1.245737</td>\n",
       "      <td>-1.314227</td>\n",
       "      <td>0.882728</td>\n",
       "      <td>-0.947708</td>\n",
       "      <td>1.500426</td>\n",
       "      <td>1.291883</td>\n",
       "      <td>1.586779</td>\n",
       "      <td>0.942150</td>\n",
       "      <td>1.020312</td>\n",
       "      <td>-0.020887</td>\n",
       "      <td>0.440570</td>\n",
       "      <td>0.750453</td>\n",
       "      <td>-1.106586</td>\n",
       "      <td>-1.166365</td>\n",
       "      <td>-0.746130</td>\n",
       "      <td>0.452928</td>\n",
       "      <td>0.134487</td>\n",
       "      <td>2.134719</td>\n",
       "      <td>-0.051744</td>\n",
       "      <td>-0.895949</td>\n",
       "      <td>0.428914</td>\n",
       "      <td>-0.029644</td>\n",
       "      <td>-0.408267</td>\n",
       "      <td>0.458076</td>\n",
       "      <td>-0.216447</td>\n",
       "      <td>-0.901860</td>\n",
       "      <td>1.046608</td>\n",
       "      <td>0.510382</td>\n",
       "      <td>-0.113066</td>\n",
       "      <td>-1.334246</td>\n",
       "      <td>2.293523</td>\n",
       "      <td>-0.753720</td>\n",
       "      <td>1.875162</td>\n",
       "      <td>0.183325</td>\n",
       "      <td>1.129252</td>\n",
       "      <td>-2.272649</td>\n",
       "      <td>0.741484</td>\n",
       "      <td>0.297328</td>\n",
       "      <td>-2.260319</td>\n",
       "      <td>-1.523500</td>\n",
       "      <td>-0.063436</td>\n",
       "      <td>1.430352</td>\n",
       "      <td>-0.950970</td>\n",
       "      <td>0.816022</td>\n",
       "      <td>-0.354943</td>\n",
       "      <td>0.444400</td>\n",
       "      <td>-0.407325</td>\n",
       "      <td>-1.694755</td>\n",
       "      <td>-1.100028</td>\n",
       "      <td>-1.340298</td>\n",
       "      <td>-0.632283</td>\n",
       "      <td>-1.048911</td>\n",
       "      <td>-1.157424</td>\n",
       "      <td>0.289609</td>\n",
       "      <td>1.245689</td>\n",
       "      <td>-0.288548</td>\n",
       "      <td>-0.489839</td>\n",
       "      <td>0.144477</td>\n",
       "      <td>1.231629</td>\n",
       "      <td>-1.577886</td>\n",
       "      <td>1.100507</td>\n",
       "      <td>1.434138</td>\n",
       "      <td>-1.520447</td>\n",
       "      <td>0.901984</td>\n",
       "      <td>-0.231574</td>\n",
       "      <td>-2.280113</td>\n",
       "      <td>1.347166</td>\n",
       "      <td>2.235009</td>\n",
       "      <td>-2.077207</td>\n",
       "      <td>0.323503</td>\n",
       "      <td>1.614585</td>\n",
       "      <td>-0.715993</td>\n",
       "      <td>1.182941</td>\n",
       "      <td>1.121943</td>\n",
       "      <td>0.078111</td>\n",
       "      <td>0.121623</td>\n",
       "      <td>-0.419214</td>\n",
       "      <td>-1.347232</td>\n",
       "      <td>1.352050</td>\n",
       "      <td>0.154044</td>\n",
       "      <td>-1.246703</td>\n",
       "      <td>2.056533</td>\n",
       "      <td>2.357893</td>\n",
       "      <td>-1.784181</td>\n",
       "      <td>0.584339</td>\n",
       "    </tr>\n",
       "  </tbody>\n",
       "</table>\n",
       "<p>291928 rows × 145 columns</p>\n",
       "</div>"
      ],
      "text/plain": [
       "        id_aluno first_data_aula last_data_aula  sum_dia_semana_1  \\\n",
       "0            648      2021-07-01     2021-08-17                 1   \n",
       "1            481      2021-07-01     2021-08-17                 4   \n",
       "2            482      2021-07-01     2021-08-17                 4   \n",
       "3            483      2021-07-01     2021-08-17                 4   \n",
       "4            484      2021-07-01     2021-08-17                 4   \n",
       "...          ...             ...            ...               ...   \n",
       "291923      2165      2024-06-14     2024-06-26                 2   \n",
       "291924      2180      2024-06-14     2024-06-26                 4   \n",
       "291925      1447      2024-06-14     2024-06-26                 2   \n",
       "291926      1398      2024-06-14     2024-06-26                 2   \n",
       "291927       154      2024-06-14     2024-06-26                 2   \n",
       "\n",
       "        sum_dia_semana_2  sum_dia_semana_3  sum_dia_semana_4  \\\n",
       "0                      4                 0                 5   \n",
       "1                      3                 2                 1   \n",
       "2                      3                 2                 1   \n",
       "3                      3                 2                 1   \n",
       "4                      3                 2                 1   \n",
       "...                  ...               ...               ...   \n",
       "291923                 4                 2                 0   \n",
       "291924                 0                 4                 0   \n",
       "291925                 4                 2                 0   \n",
       "291926                 4                 2                 0   \n",
       "291927                 4                 2                 0   \n",
       "\n",
       "        sum_dia_semana_5  sum_dia_semana_6  sum_dia_semana_7  sexo_aluno  \\\n",
       "0                      0                 0                 0         1.0   \n",
       "1                      0                 0                 0         1.0   \n",
       "2                      0                 0                 0         0.0   \n",
       "3                      0                 0                 0         1.0   \n",
       "4                      0                 0                 0         1.0   \n",
       "...                  ...               ...               ...         ...   \n",
       "291923                 2                 0                 0         1.0   \n",
       "291924                 2                 0                 0         1.0   \n",
       "291925                 2                 0                 0         1.0   \n",
       "291926                 2                 0                 0         0.0   \n",
       "291927                 2                 0                 0         1.0   \n",
       "\n",
       "        tem_pai  tem_mae raca_aluno_A raca_aluno_B raca_aluno_I raca_aluno_N  \\\n",
       "0           0.0      1.0        False        False        False        False   \n",
       "1           0.0      1.0        False         True        False        False   \n",
       "2           0.0      1.0        False         True        False        False   \n",
       "3           0.0      1.0        False        False        False        False   \n",
       "4           0.0      1.0        False         True        False        False   \n",
       "...         ...      ...          ...          ...          ...          ...   \n",
       "291923      1.0      0.0        False        False        False        False   \n",
       "291924      1.0      0.0        False         True        False        False   \n",
       "291925      1.0      0.0        False        False        False        False   \n",
       "291926      1.0      0.0        False         True        False        False   \n",
       "291927      0.0      1.0        False         True        False        False   \n",
       "\n",
       "       raca_aluno_None raca_aluno_P raca_aluno_R  idade_aluno_media  \\\n",
       "0                False         True        False               10.0   \n",
       "1                False        False        False               14.0   \n",
       "2                False        False        False               13.0   \n",
       "3                False        False         True               12.0   \n",
       "4                False        False        False               13.0   \n",
       "...                ...          ...          ...                ...   \n",
       "291923           False        False         True               18.0   \n",
       "291924           False        False        False               17.0   \n",
       "291925           False        False         True               17.0   \n",
       "291926           False        False        False               18.0   \n",
       "291927           False        False        False               18.0   \n",
       "\n",
       "        sexo_professor_sum raca_professor_A_sum raca_professor_B_sum  \\\n",
       "0                     10.0                    0                    6   \n",
       "1                     10.0                    0                    3   \n",
       "2                     10.0                    0                    3   \n",
       "3                     10.0                    0                    3   \n",
       "4                     10.0                    0                    3   \n",
       "...                    ...                  ...                  ...   \n",
       "291923                 6.0                    0                    8   \n",
       "291924                 8.0                    0                    8   \n",
       "291925                 6.0                    0                    8   \n",
       "291926                 6.0                    0                    8   \n",
       "291927                 6.0                    0                    8   \n",
       "\n",
       "       raca_professor_N_sum raca_professor_P_sum raca_professor_R_sum  \\\n",
       "0                         0                    0                    4   \n",
       "1                         0                    0                    7   \n",
       "2                         0                    0                    7   \n",
       "3                         0                    0                    7   \n",
       "4                         0                    0                    7   \n",
       "...                     ...                  ...                  ...   \n",
       "291923                    0                    0                    2   \n",
       "291924                    0                    0                    2   \n",
       "291925                    0                    0                    2   \n",
       "291926                    0                    0                    2   \n",
       "291927                    0                    0                    2   \n",
       "\n",
       "       cargo_professor_Nenhum_sum cargo_professor_Neuropsicóloga_sum  \\\n",
       "0                               0                                  0   \n",
       "1                               0                                  0   \n",
       "2                               0                                  0   \n",
       "3                               0                                  0   \n",
       "4                               0                                  0   \n",
       "...                           ...                                ...   \n",
       "291923                          5                                  0   \n",
       "291924                          3                                  0   \n",
       "291925                          5                                  0   \n",
       "291926                          5                                  0   \n",
       "291927                          5                                  0   \n",
       "\n",
       "       cargo_professor_Professor_sum cargo_professor_Professor_Inglês_sum  \\\n",
       "0                                  0                                    0   \n",
       "1                                  0                                    0   \n",
       "2                                  0                                    0   \n",
       "3                                  0                                    0   \n",
       "4                                  0                                    0   \n",
       "...                              ...                                  ...   \n",
       "291923                             2                                    0   \n",
       "291924                             0                                    0   \n",
       "291925                             2                                    0   \n",
       "291926                             2                                    0   \n",
       "291927                             2                                    0   \n",
       "\n",
       "       cargo_professor_Professor_de_Inglês_sum  \\\n",
       "0                                            0   \n",
       "1                                            0   \n",
       "2                                            0   \n",
       "3                                            0   \n",
       "4                                            0   \n",
       "...                                        ...   \n",
       "291923                                       0   \n",
       "291924                                       0   \n",
       "291925                                       0   \n",
       "291926                                       0   \n",
       "291927                                       0   \n",
       "\n",
       "       cargo_professor_Professor_de_Matemática_sum  \\\n",
       "0                                                0   \n",
       "1                                                0   \n",
       "2                                                0   \n",
       "3                                                0   \n",
       "4                                                0   \n",
       "...                                            ...   \n",
       "291923                                           0   \n",
       "291924                                           0   \n",
       "291925                                           0   \n",
       "291926                                           0   \n",
       "291927                                           0   \n",
       "\n",
       "       cargo_professor_Professora_sum  \\\n",
       "0                                  10   \n",
       "1                                  10   \n",
       "2                                  10   \n",
       "3                                  10   \n",
       "4                                  10   \n",
       "...                               ...   \n",
       "291923                              1   \n",
       "291924                              3   \n",
       "291925                              1   \n",
       "291926                              1   \n",
       "291927                              1   \n",
       "\n",
       "       cargo_professor_Professora_de_Inglês_sum  \\\n",
       "0                                             0   \n",
       "1                                             0   \n",
       "2                                             0   \n",
       "3                                             0   \n",
       "4                                             0   \n",
       "...                                         ...   \n",
       "291923                                        2   \n",
       "291924                                        2   \n",
       "291925                                        2   \n",
       "291926                                        2   \n",
       "291927                                        2   \n",
       "\n",
       "       cargo_professor_Professora_de_Matemática_sum  \\\n",
       "0                                                 0   \n",
       "1                                                 0   \n",
       "2                                                 0   \n",
       "3                                                 0   \n",
       "4                                                 0   \n",
       "...                                             ...   \n",
       "291923                                            0   \n",
       "291924                                            0   \n",
       "291925                                            0   \n",
       "291926                                            0   \n",
       "291927                                            0   \n",
       "\n",
       "       cargo_professor_Professora_Coordenadora_sum  \\\n",
       "0                                                0   \n",
       "1                                                0   \n",
       "2                                                0   \n",
       "3                                                0   \n",
       "4                                                0   \n",
       "...                                            ...   \n",
       "291923                                           0   \n",
       "291924                                           2   \n",
       "291925                                           0   \n",
       "291926                                           0   \n",
       "291927                                           0   \n",
       "\n",
       "       cargo_professor_Psicóloga_sum cargo_professor_Psicólogo_sum  \\\n",
       "0                                  0                             0   \n",
       "1                                  0                             0   \n",
       "2                                  0                             0   \n",
       "3                                  0                             0   \n",
       "4                                  0                             0   \n",
       "...                              ...                           ...   \n",
       "291923                             0                             0   \n",
       "291924                             0                             0   \n",
       "291925                             0                             0   \n",
       "291926                             0                             0   \n",
       "291927                             0                             0   \n",
       "\n",
       "        idade_professor_media  num_professores  num_disciplinas  num_series  \\\n",
       "0                        46.4                2                4           2   \n",
       "1                        43.8                3                3           1   \n",
       "2                        43.8                3                3           1   \n",
       "3                        43.8                3                3           1   \n",
       "4                        43.8                3                3           1   \n",
       "...                       ...              ...              ...         ...   \n",
       "291923                   39.0                6                4           3   \n",
       "291924                   41.8                6                4           3   \n",
       "291925                   39.0                6                4           3   \n",
       "291926                   39.0                6                4           3   \n",
       "291927                   39.0                6                4           3   \n",
       "\n",
       "        num_turmas  num_presencas  num_aulas  ultima_presenca  last_seq  \\\n",
       "0                2              9         10                1        10   \n",
       "1                1             10         10                1        10   \n",
       "2                1              9         10                1        10   \n",
       "3                1             10         10                1        10   \n",
       "4                1              7         10                1        10   \n",
       "...            ...            ...        ...              ...       ...   \n",
       "291923           3              7         10                0        47   \n",
       "291924           3             10         10                0        43   \n",
       "291925           3              3         10                0       186   \n",
       "291926           3              8         10                0       200   \n",
       "291927           3              0         10                0       385   \n",
       "\n",
       "        next_presente         0         1         2         3         4  \\\n",
       "0                 0.0  0.464691 -1.198423 -0.319709  0.602826 -0.460871   \n",
       "1                 1.0 -0.073422 -0.711597  0.341229  0.716728  0.310992   \n",
       "2                 1.0 -0.073422 -0.711597  0.341229  0.716728  0.310992   \n",
       "3                 1.0 -0.073422 -0.711597  0.341229  0.716728  0.310992   \n",
       "4                 1.0 -0.073422 -0.711597  0.341229  0.716728  0.310992   \n",
       "...               ...       ...       ...       ...       ...       ...   \n",
       "291923            1.0 -0.050422 -1.238044 -1.269763  0.962297 -0.257396   \n",
       "291924            1.0 -0.288524 -0.763260 -1.136158  0.179402 -0.021400   \n",
       "291925            0.0 -0.050422 -1.238044 -1.269763  0.962297 -0.257396   \n",
       "291926            0.0 -0.050422 -1.238044 -1.269763  0.962297 -0.257396   \n",
       "291927            0.0 -0.050422 -1.238044 -1.269763  0.962297 -0.257396   \n",
       "\n",
       "               5         6         7         8         9        10        11  \\\n",
       "0       1.102701  0.704168  0.853496 -0.009229  0.622204  0.452460 -2.836177   \n",
       "1       0.983920  0.866293  1.014369  0.307688 -0.136745  0.239743 -2.273412   \n",
       "2       0.983920  0.866293  1.014369  0.307688 -0.136745  0.239743 -2.273412   \n",
       "3       0.983920  0.866293  1.014369  0.307688 -0.136745  0.239743 -2.273412   \n",
       "4       0.983920  0.866293  1.014369  0.307688 -0.136745  0.239743 -2.273412   \n",
       "...          ...       ...       ...       ...       ...       ...       ...   \n",
       "291923  0.450170  0.684361  0.465161  0.479866  0.398770 -0.234095 -1.245737   \n",
       "291924  0.277619  0.812288  0.791743  0.850081  0.128132  0.403342 -0.645786   \n",
       "291925  0.450170  0.684361  0.465161  0.479866  0.398770 -0.234095 -1.245737   \n",
       "291926  0.450170  0.684361  0.465161  0.479866  0.398770 -0.234095 -1.245737   \n",
       "291927  0.450170  0.684361  0.465161  0.479866  0.398770 -0.234095 -1.245737   \n",
       "\n",
       "              12        13        14        15        16        17        18  \\\n",
       "0      -1.992858  1.045671 -1.642192  1.548579  0.522448  0.780726  1.101357   \n",
       "1      -1.965942  1.003965 -1.419866  1.729892  0.465460  0.265484  0.560922   \n",
       "2      -1.965942  1.003965 -1.419866  1.729892  0.465460  0.265484  0.560922   \n",
       "3      -1.965942  1.003965 -1.419866  1.729892  0.465460  0.265484  0.560922   \n",
       "4      -1.965942  1.003965 -1.419866  1.729892  0.465460  0.265484  0.560922   \n",
       "...          ...       ...       ...       ...       ...       ...       ...   \n",
       "291923 -1.314227  0.882728 -0.947708  1.500426  1.291883  1.586779  0.942150   \n",
       "291924 -1.215454  0.995555 -1.158576  1.780186  0.544404  0.932733  0.805588   \n",
       "291925 -1.314227  0.882728 -0.947708  1.500426  1.291883  1.586779  0.942150   \n",
       "291926 -1.314227  0.882728 -0.947708  1.500426  1.291883  1.586779  0.942150   \n",
       "291927 -1.314227  0.882728 -0.947708  1.500426  1.291883  1.586779  0.942150   \n",
       "\n",
       "              19        20        21        22        23        24        25  \\\n",
       "0       0.818639 -0.097104  0.239930  0.080852  0.198630 -0.890790 -0.782643   \n",
       "1       0.985313  1.118845  0.106258 -0.788691  1.096229 -1.335220 -0.296204   \n",
       "2       0.985313  1.118845  0.106258 -0.788691  1.096229 -1.335220 -0.296204   \n",
       "3       0.985313  1.118845  0.106258 -0.788691  1.096229 -1.335220 -0.296204   \n",
       "4       0.985313  1.118845  0.106258 -0.788691  1.096229 -1.335220 -0.296204   \n",
       "...          ...       ...       ...       ...       ...       ...       ...   \n",
       "291923  1.020312 -0.020887  0.440570  0.750453 -1.106586 -1.166365 -0.746130   \n",
       "291924  1.092296  0.282561  0.117263  0.265517 -0.693496 -1.316221 -0.858699   \n",
       "291925  1.020312 -0.020887  0.440570  0.750453 -1.106586 -1.166365 -0.746130   \n",
       "291926  1.020312 -0.020887  0.440570  0.750453 -1.106586 -1.166365 -0.746130   \n",
       "291927  1.020312 -0.020887  0.440570  0.750453 -1.106586 -1.166365 -0.746130   \n",
       "\n",
       "              26        27        28        29        30        31        32  \\\n",
       "0       1.410378  0.247345  1.862815  0.916794 -0.138691  1.315967  0.865970   \n",
       "1       1.267547  0.519375  2.182246  0.705323  0.741574  0.965964  0.875002   \n",
       "2       1.267547  0.519375  2.182246  0.705323  0.741574  0.965964  0.875002   \n",
       "3       1.267547  0.519375  2.182246  0.705323  0.741574  0.965964  0.875002   \n",
       "4       1.267547  0.519375  2.182246  0.705323  0.741574  0.965964  0.875002   \n",
       "...          ...       ...       ...       ...       ...       ...       ...   \n",
       "291923  0.452928  0.134487  2.134719 -0.051744 -0.895949  0.428914 -0.029644   \n",
       "291924  0.721987 -0.066156  2.295448  0.772107 -0.969262 -0.089636  1.062938   \n",
       "291925  0.452928  0.134487  2.134719 -0.051744 -0.895949  0.428914 -0.029644   \n",
       "291926  0.452928  0.134487  2.134719 -0.051744 -0.895949  0.428914 -0.029644   \n",
       "291927  0.452928  0.134487  2.134719 -0.051744 -0.895949  0.428914 -0.029644   \n",
       "\n",
       "              33        34        35        36        37        38        39  \\\n",
       "0       0.294602  0.399981 -0.821849 -0.432646  0.700167 -0.233130  0.618022   \n",
       "1      -0.318132  1.435704 -0.588161 -0.514121  0.081712 -0.742954 -0.373873   \n",
       "2      -0.318132  1.435704 -0.588161 -0.514121  0.081712 -0.742954 -0.373873   \n",
       "3      -0.318132  1.435704 -0.588161 -0.514121  0.081712 -0.742954 -0.373873   \n",
       "4      -0.318132  1.435704 -0.588161 -0.514121  0.081712 -0.742954 -0.373873   \n",
       "...          ...       ...       ...       ...       ...       ...       ...   \n",
       "291923 -0.408267  0.458076 -0.216447 -0.901860  1.046608  0.510382 -0.113066   \n",
       "291924  0.305650  0.414655  0.649551 -1.510350  1.374651  0.025952  0.089353   \n",
       "291925 -0.408267  0.458076 -0.216447 -0.901860  1.046608  0.510382 -0.113066   \n",
       "291926 -0.408267  0.458076 -0.216447 -0.901860  1.046608  0.510382 -0.113066   \n",
       "291927 -0.408267  0.458076 -0.216447 -0.901860  1.046608  0.510382 -0.113066   \n",
       "\n",
       "              40        41        42        43        44        45        46  \\\n",
       "0      -1.726568  2.311276 -0.858766  1.622699  0.139805  0.816618 -0.911285   \n",
       "1      -1.616383  1.426424 -0.651520  1.620814  0.624212  0.122211 -1.464309   \n",
       "2      -1.616383  1.426424 -0.651520  1.620814  0.624212  0.122211 -1.464309   \n",
       "3      -1.616383  1.426424 -0.651520  1.620814  0.624212  0.122211 -1.464309   \n",
       "4      -1.616383  1.426424 -0.651520  1.620814  0.624212  0.122211 -1.464309   \n",
       "...          ...       ...       ...       ...       ...       ...       ...   \n",
       "291923 -1.334246  2.293523 -0.753720  1.875162  0.183325  1.129252 -2.272649   \n",
       "291924 -1.234080  2.362644 -1.448102  1.661774  0.302329  0.894799 -2.406747   \n",
       "291925 -1.334246  2.293523 -0.753720  1.875162  0.183325  1.129252 -2.272649   \n",
       "291926 -1.334246  2.293523 -0.753720  1.875162  0.183325  1.129252 -2.272649   \n",
       "291927 -1.334246  2.293523 -0.753720  1.875162  0.183325  1.129252 -2.272649   \n",
       "\n",
       "              47        48        49        50        51        52        53  \\\n",
       "0       1.377313 -1.339101 -1.049585 -0.658509  0.292452  1.949671  0.319016   \n",
       "1       0.939843 -1.150770 -1.419779 -1.389726 -0.188227  1.731806  0.485782   \n",
       "2       0.939843 -1.150770 -1.419779 -1.389726 -0.188227  1.731806  0.485782   \n",
       "3       0.939843 -1.150770 -1.419779 -1.389726 -0.188227  1.731806  0.485782   \n",
       "4       0.939843 -1.150770 -1.419779 -1.389726 -0.188227  1.731806  0.485782   \n",
       "...          ...       ...       ...       ...       ...       ...       ...   \n",
       "291923  0.741484  0.297328 -2.260319 -1.523500 -0.063436  1.430352 -0.950970   \n",
       "291924  0.671247 -0.327429 -1.656167 -1.711582  0.033773  1.422380 -0.771310   \n",
       "291925  0.741484  0.297328 -2.260319 -1.523500 -0.063436  1.430352 -0.950970   \n",
       "291926  0.741484  0.297328 -2.260319 -1.523500 -0.063436  1.430352 -0.950970   \n",
       "291927  0.741484  0.297328 -2.260319 -1.523500 -0.063436  1.430352 -0.950970   \n",
       "\n",
       "              54        55        56        57        58        59        60  \\\n",
       "0       0.976979 -0.751922  0.579159 -0.586001 -1.081194 -1.101541 -0.748312   \n",
       "1       0.163470  0.112734  0.025611 -0.745826 -1.255155 -1.278717 -0.754777   \n",
       "2       0.163470  0.112734  0.025611 -0.745826 -1.255155 -1.278717 -0.754777   \n",
       "3       0.163470  0.112734  0.025611 -0.745826 -1.255155 -1.278717 -0.754777   \n",
       "4       0.163470  0.112734  0.025611 -0.745826 -1.255155 -1.278717 -0.754777   \n",
       "...          ...       ...       ...       ...       ...       ...       ...   \n",
       "291923  0.816022 -0.354943  0.444400 -0.407325 -1.694755 -1.100028 -1.340298   \n",
       "291924  0.500281 -0.487960  0.929167 -0.677446 -1.783778 -0.592887 -0.876282   \n",
       "291925  0.816022 -0.354943  0.444400 -0.407325 -1.694755 -1.100028 -1.340298   \n",
       "291926  0.816022 -0.354943  0.444400 -0.407325 -1.694755 -1.100028 -1.340298   \n",
       "291927  0.816022 -0.354943  0.444400 -0.407325 -1.694755 -1.100028 -1.340298   \n",
       "\n",
       "              61        62        63        64        65        66        67  \\\n",
       "0      -1.767539 -1.438028 -1.489322 -0.372536  0.985170 -0.870256 -1.297789   \n",
       "1      -0.651368 -1.434665 -1.241882  0.646737  0.890642 -1.073662 -1.112513   \n",
       "2      -0.651368 -1.434665 -1.241882  0.646737  0.890642 -1.073662 -1.112513   \n",
       "3      -0.651368 -1.434665 -1.241882  0.646737  0.890642 -1.073662 -1.112513   \n",
       "4      -0.651368 -1.434665 -1.241882  0.646737  0.890642 -1.073662 -1.112513   \n",
       "...          ...       ...       ...       ...       ...       ...       ...   \n",
       "291923 -0.632283 -1.048911 -1.157424  0.289609  1.245689 -0.288548 -0.489839   \n",
       "291924 -0.287201 -0.920124 -1.329390  0.688919  0.732411 -1.063651 -0.712930   \n",
       "291925 -0.632283 -1.048911 -1.157424  0.289609  1.245689 -0.288548 -0.489839   \n",
       "291926 -0.632283 -1.048911 -1.157424  0.289609  1.245689 -0.288548 -0.489839   \n",
       "291927 -0.632283 -1.048911 -1.157424  0.289609  1.245689 -0.288548 -0.489839   \n",
       "\n",
       "              68        69        70        71        72        73        74  \\\n",
       "0      -1.058778  0.659834 -1.343446  1.526212  1.048456 -1.556131 -0.236190   \n",
       "1      -0.248149  0.930719 -1.112172  1.277486  1.265674 -1.521356 -0.027169   \n",
       "2      -0.248149  0.930719 -1.112172  1.277486  1.265674 -1.521356 -0.027169   \n",
       "3      -0.248149  0.930719 -1.112172  1.277486  1.265674 -1.521356 -0.027169   \n",
       "4      -0.248149  0.930719 -1.112172  1.277486  1.265674 -1.521356 -0.027169   \n",
       "...          ...       ...       ...       ...       ...       ...       ...   \n",
       "291923  0.144477  1.231629 -1.577886  1.100507  1.434138 -1.520447  0.901984   \n",
       "291924 -0.158928  0.852834 -0.975536  0.610664  0.890955 -1.398141  0.922017   \n",
       "291925  0.144477  1.231629 -1.577886  1.100507  1.434138 -1.520447  0.901984   \n",
       "291926  0.144477  1.231629 -1.577886  1.100507  1.434138 -1.520447  0.901984   \n",
       "291927  0.144477  1.231629 -1.577886  1.100507  1.434138 -1.520447  0.901984   \n",
       "\n",
       "              75        76        77        78        79        80        81  \\\n",
       "0      -1.028931 -0.554941  0.386188  2.106617 -1.995267 -0.088607  1.010175   \n",
       "1       0.071664 -0.988226  0.122071  1.073685 -1.859833  0.132486  1.305501   \n",
       "2       0.071664 -0.988226  0.122071  1.073685 -1.859833  0.132486  1.305501   \n",
       "3       0.071664 -0.988226  0.122071  1.073685 -1.859833  0.132486  1.305501   \n",
       "4       0.071664 -0.988226  0.122071  1.073685 -1.859833  0.132486  1.305501   \n",
       "...          ...       ...       ...       ...       ...       ...       ...   \n",
       "291923 -0.231574 -2.280113  1.347166  2.235009 -2.077207  0.323503  1.614585   \n",
       "291924 -0.072052 -1.635451  0.864465  1.117827 -1.781196  0.705445  1.283979   \n",
       "291925 -0.231574 -2.280113  1.347166  2.235009 -2.077207  0.323503  1.614585   \n",
       "291926 -0.231574 -2.280113  1.347166  2.235009 -2.077207  0.323503  1.614585   \n",
       "291927 -0.231574 -2.280113  1.347166  2.235009 -2.077207  0.323503  1.614585   \n",
       "\n",
       "              82        83        84        85        86        87        88  \\\n",
       "0      -1.295087  1.418227  0.266865  0.647785  0.606404  0.413301 -1.151923   \n",
       "1      -1.279922  1.328429  0.520989  1.093549  0.686937  0.732217 -1.404893   \n",
       "2      -1.279922  1.328429  0.520989  1.093549  0.686937  0.732217 -1.404893   \n",
       "3      -1.279922  1.328429  0.520989  1.093549  0.686937  0.732217 -1.404893   \n",
       "4      -1.279922  1.328429  0.520989  1.093549  0.686937  0.732217 -1.404893   \n",
       "...          ...       ...       ...       ...       ...       ...       ...   \n",
       "291923 -0.715993  1.182941  1.121943  0.078111  0.121623 -0.419214 -1.347232   \n",
       "291924 -0.520089  0.941617  0.489129  0.464675  0.749021 -0.568837 -1.117249   \n",
       "291925 -0.715993  1.182941  1.121943  0.078111  0.121623 -0.419214 -1.347232   \n",
       "291926 -0.715993  1.182941  1.121943  0.078111  0.121623 -0.419214 -1.347232   \n",
       "291927 -0.715993  1.182941  1.121943  0.078111  0.121623 -0.419214 -1.347232   \n",
       "\n",
       "              89        90        91        92        93        94        95  \n",
       "0       1.166774  0.870474 -1.508583  1.903979  1.765981 -1.539079  0.019102  \n",
       "1       1.191996  0.696156 -1.721939  1.838985  1.061773 -1.971193 -0.030658  \n",
       "2       1.191996  0.696156 -1.721939  1.838985  1.061773 -1.971193 -0.030658  \n",
       "3       1.191996  0.696156 -1.721939  1.838985  1.061773 -1.971193 -0.030658  \n",
       "4       1.191996  0.696156 -1.721939  1.838985  1.061773 -1.971193 -0.030658  \n",
       "...          ...       ...       ...       ...       ...       ...       ...  \n",
       "291923  1.352050  0.154044 -1.246703  2.056533  2.357893 -1.784181  0.584339  \n",
       "291924  1.353121  0.372614 -0.926223  2.378915  1.684329 -1.512201 -0.044146  \n",
       "291925  1.352050  0.154044 -1.246703  2.056533  2.357893 -1.784181  0.584339  \n",
       "291926  1.352050  0.154044 -1.246703  2.056533  2.357893 -1.784181  0.584339  \n",
       "291927  1.352050  0.154044 -1.246703  2.056533  2.357893 -1.784181  0.584339  \n",
       "\n",
       "[291928 rows x 145 columns]"
      ]
     },
     "execution_count": 36,
     "metadata": {},
     "output_type": "execute_result"
    }
   ],
   "source": [
    "# Remove as colunas 'conteudo' e 'conteudo_embedding'\n",
    "abt_filtered = abt.drop(columns=['conteudo', 'conteudo_embedding'])\n",
    "\n",
    "# Expande a lista de embeddings (conteúdo_embedding) em múltiplas colunas\n",
    "conteudo_embedding_expanded = pd.DataFrame(abt['conteudo_embedding'].tolist(), index=abt.index)\n",
    "\n",
    "# Concatena o DataFrame original com as novas colunas de embedding\n",
    "abt_final = pd.concat([abt_filtered, conteudo_embedding_expanded], axis=1)\n",
    "\n",
    "# Exibe o resultado final\n",
    "abt_final\n"
   ]
  },
  {
   "cell_type": "markdown",
   "metadata": {},
   "source": [
    "1. **`drop()`**: Remove as colunas `'conteudo'` e `'conteudo_embedding'` do DataFrame.\n",
    "2. **Expansão do `conteudo_embedding`**: Usamos `pd.DataFrame(abt['conteudo_embedding'].tolist())` para transformar a lista de embeddings em várias colunas, uma para cada valor na lista.\n",
    "3. **Concatenação**: Unimos o DataFrame original sem as colunas removidas com o DataFrame expandido dos embeddings usando `pd.concat()`.\n"
   ]
  },
  {
   "cell_type": "code",
   "execution_count": 37,
   "metadata": {},
   "outputs": [],
   "source": [
    "pickle.dump(abt_final, open(\"abt.pkl\", \"wb\"))"
   ]
  },
  {
   "cell_type": "markdown",
   "metadata": {},
   "source": [
    "Este código salva o DataFrame `abt` em um arquivo chamado `\"abt.pkl\"`, permitindo que a recuperação seja de forma rapida, mais tarde caso necessário podemos recuperar sem precisar refazer todo o processo de cálculo.\n",
    "\n",
    "O código salva o DataFrame `abt` em um arquivo usando a biblioteca `pickle`:\n",
    "\n",
    "1. **`pickle.dump`**: Essa função serializa (converte em formato binário) o objeto `abt` para que ele possa ser salvo em um arquivo e carregado posteriormente.\n",
    "   \n",
    "2. **`open(\"abt.pkl\", \"wb\")`**: Abre um arquivo chamado `abt.pkl` em modo de escrita binária (`wb`), onde o DataFrame serializado será salvo.\n",
    "\n",
    "3. **Finalidade**: O arquivo `\"abt.pkl\"` pode ser reutilizado em outro momento, carregando os dados sem precisar recriar ou recalcular o DataFrame.\n",
    "\n"
   ]
  },
  {
   "cell_type": "code",
   "execution_count": 2,
   "metadata": {},
   "outputs": [
    {
     "data": {
      "text/html": [
       "<div>\n",
       "<style scoped>\n",
       "    .dataframe tbody tr th:only-of-type {\n",
       "        vertical-align: middle;\n",
       "    }\n",
       "\n",
       "    .dataframe tbody tr th {\n",
       "        vertical-align: top;\n",
       "    }\n",
       "\n",
       "    .dataframe thead th {\n",
       "        text-align: right;\n",
       "    }\n",
       "</style>\n",
       "<table border=\"1\" class=\"dataframe\">\n",
       "  <thead>\n",
       "    <tr style=\"text-align: right;\">\n",
       "      <th></th>\n",
       "      <th>id_aluno</th>\n",
       "      <th>first_data_aula</th>\n",
       "      <th>last_data_aula</th>\n",
       "      <th>sum_dia_semana_1</th>\n",
       "      <th>sum_dia_semana_2</th>\n",
       "      <th>sum_dia_semana_3</th>\n",
       "      <th>sum_dia_semana_4</th>\n",
       "      <th>sum_dia_semana_5</th>\n",
       "      <th>sum_dia_semana_6</th>\n",
       "      <th>sum_dia_semana_7</th>\n",
       "      <th>sexo_aluno</th>\n",
       "      <th>tem_pai</th>\n",
       "      <th>tem_mae</th>\n",
       "      <th>raca_aluno_A</th>\n",
       "      <th>raca_aluno_B</th>\n",
       "      <th>raca_aluno_I</th>\n",
       "      <th>raca_aluno_N</th>\n",
       "      <th>raca_aluno_None</th>\n",
       "      <th>raca_aluno_P</th>\n",
       "      <th>raca_aluno_R</th>\n",
       "      <th>idade_aluno_media</th>\n",
       "      <th>sexo_professor_sum</th>\n",
       "      <th>raca_professor_A_sum</th>\n",
       "      <th>raca_professor_B_sum</th>\n",
       "      <th>raca_professor_N_sum</th>\n",
       "      <th>raca_professor_P_sum</th>\n",
       "      <th>raca_professor_R_sum</th>\n",
       "      <th>cargo_professor_Nenhum_sum</th>\n",
       "      <th>cargo_professor_Neuropsicóloga_sum</th>\n",
       "      <th>cargo_professor_Professor_sum</th>\n",
       "      <th>cargo_professor_Professor_Inglês_sum</th>\n",
       "      <th>cargo_professor_Professor_de_Inglês_sum</th>\n",
       "      <th>cargo_professor_Professor_de_Matemática_sum</th>\n",
       "      <th>cargo_professor_Professora_sum</th>\n",
       "      <th>cargo_professor_Professora_de_Inglês_sum</th>\n",
       "      <th>cargo_professor_Professora_de_Matemática_sum</th>\n",
       "      <th>cargo_professor_Professora_Coordenadora_sum</th>\n",
       "      <th>cargo_professor_Psicóloga_sum</th>\n",
       "      <th>cargo_professor_Psicólogo_sum</th>\n",
       "      <th>idade_professor_media</th>\n",
       "      <th>num_professores</th>\n",
       "      <th>num_disciplinas</th>\n",
       "      <th>num_series</th>\n",
       "      <th>num_turmas</th>\n",
       "      <th>num_presencas</th>\n",
       "      <th>num_aulas</th>\n",
       "      <th>ultima_presenca</th>\n",
       "      <th>last_seq</th>\n",
       "      <th>next_presente</th>\n",
       "      <th>0</th>\n",
       "      <th>1</th>\n",
       "      <th>2</th>\n",
       "      <th>3</th>\n",
       "      <th>4</th>\n",
       "      <th>5</th>\n",
       "      <th>6</th>\n",
       "      <th>7</th>\n",
       "      <th>8</th>\n",
       "      <th>9</th>\n",
       "      <th>10</th>\n",
       "      <th>11</th>\n",
       "      <th>12</th>\n",
       "      <th>13</th>\n",
       "      <th>14</th>\n",
       "      <th>15</th>\n",
       "      <th>16</th>\n",
       "      <th>17</th>\n",
       "      <th>18</th>\n",
       "      <th>19</th>\n",
       "      <th>20</th>\n",
       "      <th>21</th>\n",
       "      <th>22</th>\n",
       "      <th>23</th>\n",
       "      <th>24</th>\n",
       "      <th>25</th>\n",
       "      <th>26</th>\n",
       "      <th>27</th>\n",
       "      <th>28</th>\n",
       "      <th>29</th>\n",
       "      <th>30</th>\n",
       "      <th>31</th>\n",
       "      <th>32</th>\n",
       "      <th>33</th>\n",
       "      <th>34</th>\n",
       "      <th>35</th>\n",
       "      <th>36</th>\n",
       "      <th>37</th>\n",
       "      <th>38</th>\n",
       "      <th>39</th>\n",
       "      <th>40</th>\n",
       "      <th>41</th>\n",
       "      <th>42</th>\n",
       "      <th>43</th>\n",
       "      <th>44</th>\n",
       "      <th>45</th>\n",
       "      <th>46</th>\n",
       "      <th>47</th>\n",
       "      <th>48</th>\n",
       "      <th>49</th>\n",
       "      <th>50</th>\n",
       "      <th>51</th>\n",
       "      <th>52</th>\n",
       "      <th>53</th>\n",
       "      <th>54</th>\n",
       "      <th>55</th>\n",
       "      <th>56</th>\n",
       "      <th>57</th>\n",
       "      <th>58</th>\n",
       "      <th>59</th>\n",
       "      <th>60</th>\n",
       "      <th>61</th>\n",
       "      <th>62</th>\n",
       "      <th>63</th>\n",
       "      <th>64</th>\n",
       "      <th>65</th>\n",
       "      <th>66</th>\n",
       "      <th>67</th>\n",
       "      <th>68</th>\n",
       "      <th>69</th>\n",
       "      <th>70</th>\n",
       "      <th>71</th>\n",
       "      <th>72</th>\n",
       "      <th>73</th>\n",
       "      <th>74</th>\n",
       "      <th>75</th>\n",
       "      <th>76</th>\n",
       "      <th>77</th>\n",
       "      <th>78</th>\n",
       "      <th>79</th>\n",
       "      <th>80</th>\n",
       "      <th>81</th>\n",
       "      <th>82</th>\n",
       "      <th>83</th>\n",
       "      <th>84</th>\n",
       "      <th>85</th>\n",
       "      <th>86</th>\n",
       "      <th>87</th>\n",
       "      <th>88</th>\n",
       "      <th>89</th>\n",
       "      <th>90</th>\n",
       "      <th>91</th>\n",
       "      <th>92</th>\n",
       "      <th>93</th>\n",
       "      <th>94</th>\n",
       "      <th>95</th>\n",
       "    </tr>\n",
       "  </thead>\n",
       "  <tbody>\n",
       "    <tr>\n",
       "      <th>0</th>\n",
       "      <td>648</td>\n",
       "      <td>2021-07-01</td>\n",
       "      <td>2021-08-17</td>\n",
       "      <td>1</td>\n",
       "      <td>4</td>\n",
       "      <td>0</td>\n",
       "      <td>5</td>\n",
       "      <td>0</td>\n",
       "      <td>0</td>\n",
       "      <td>0</td>\n",
       "      <td>1.0</td>\n",
       "      <td>0.0</td>\n",
       "      <td>1.0</td>\n",
       "      <td>False</td>\n",
       "      <td>False</td>\n",
       "      <td>False</td>\n",
       "      <td>False</td>\n",
       "      <td>False</td>\n",
       "      <td>True</td>\n",
       "      <td>False</td>\n",
       "      <td>10.0</td>\n",
       "      <td>10.0</td>\n",
       "      <td>0</td>\n",
       "      <td>6</td>\n",
       "      <td>0</td>\n",
       "      <td>0</td>\n",
       "      <td>4</td>\n",
       "      <td>0</td>\n",
       "      <td>0</td>\n",
       "      <td>0</td>\n",
       "      <td>0</td>\n",
       "      <td>0</td>\n",
       "      <td>0</td>\n",
       "      <td>10</td>\n",
       "      <td>0</td>\n",
       "      <td>0</td>\n",
       "      <td>0</td>\n",
       "      <td>0</td>\n",
       "      <td>0</td>\n",
       "      <td>46.4</td>\n",
       "      <td>2</td>\n",
       "      <td>4</td>\n",
       "      <td>2</td>\n",
       "      <td>2</td>\n",
       "      <td>9</td>\n",
       "      <td>10</td>\n",
       "      <td>1</td>\n",
       "      <td>10</td>\n",
       "      <td>0.0</td>\n",
       "      <td>0.464691</td>\n",
       "      <td>-1.198423</td>\n",
       "      <td>-0.319709</td>\n",
       "      <td>0.602826</td>\n",
       "      <td>-0.460871</td>\n",
       "      <td>1.102701</td>\n",
       "      <td>0.704168</td>\n",
       "      <td>0.853496</td>\n",
       "      <td>-0.009229</td>\n",
       "      <td>0.622204</td>\n",
       "      <td>0.452460</td>\n",
       "      <td>-2.836177</td>\n",
       "      <td>-1.992858</td>\n",
       "      <td>1.045671</td>\n",
       "      <td>-1.642192</td>\n",
       "      <td>1.548579</td>\n",
       "      <td>0.522448</td>\n",
       "      <td>0.780726</td>\n",
       "      <td>1.101357</td>\n",
       "      <td>0.818639</td>\n",
       "      <td>-0.097104</td>\n",
       "      <td>0.239930</td>\n",
       "      <td>0.080852</td>\n",
       "      <td>0.198630</td>\n",
       "      <td>-0.890790</td>\n",
       "      <td>-0.782643</td>\n",
       "      <td>1.410378</td>\n",
       "      <td>0.247345</td>\n",
       "      <td>1.862815</td>\n",
       "      <td>0.916794</td>\n",
       "      <td>-0.138691</td>\n",
       "      <td>1.315967</td>\n",
       "      <td>0.865970</td>\n",
       "      <td>0.294602</td>\n",
       "      <td>0.399981</td>\n",
       "      <td>-0.821849</td>\n",
       "      <td>-0.432646</td>\n",
       "      <td>0.700167</td>\n",
       "      <td>-0.233130</td>\n",
       "      <td>0.618022</td>\n",
       "      <td>-1.726568</td>\n",
       "      <td>2.311276</td>\n",
       "      <td>-0.858766</td>\n",
       "      <td>1.622699</td>\n",
       "      <td>0.139805</td>\n",
       "      <td>0.816618</td>\n",
       "      <td>-0.911285</td>\n",
       "      <td>1.377313</td>\n",
       "      <td>-1.339101</td>\n",
       "      <td>-1.049585</td>\n",
       "      <td>-0.658509</td>\n",
       "      <td>0.292452</td>\n",
       "      <td>1.949671</td>\n",
       "      <td>0.319016</td>\n",
       "      <td>0.976979</td>\n",
       "      <td>-0.751922</td>\n",
       "      <td>0.579159</td>\n",
       "      <td>-0.586001</td>\n",
       "      <td>-1.081194</td>\n",
       "      <td>-1.101541</td>\n",
       "      <td>-0.748312</td>\n",
       "      <td>-1.767539</td>\n",
       "      <td>-1.438028</td>\n",
       "      <td>-1.489322</td>\n",
       "      <td>-0.372536</td>\n",
       "      <td>0.985170</td>\n",
       "      <td>-0.870256</td>\n",
       "      <td>-1.297789</td>\n",
       "      <td>-1.058778</td>\n",
       "      <td>0.659834</td>\n",
       "      <td>-1.343446</td>\n",
       "      <td>1.526212</td>\n",
       "      <td>1.048456</td>\n",
       "      <td>-1.556131</td>\n",
       "      <td>-0.236190</td>\n",
       "      <td>-1.028931</td>\n",
       "      <td>-0.554941</td>\n",
       "      <td>0.386188</td>\n",
       "      <td>2.106617</td>\n",
       "      <td>-1.995267</td>\n",
       "      <td>-0.088607</td>\n",
       "      <td>1.010175</td>\n",
       "      <td>-1.295087</td>\n",
       "      <td>1.418227</td>\n",
       "      <td>0.266865</td>\n",
       "      <td>0.647785</td>\n",
       "      <td>0.606404</td>\n",
       "      <td>0.413301</td>\n",
       "      <td>-1.151923</td>\n",
       "      <td>1.166774</td>\n",
       "      <td>0.870474</td>\n",
       "      <td>-1.508583</td>\n",
       "      <td>1.903979</td>\n",
       "      <td>1.765981</td>\n",
       "      <td>-1.539079</td>\n",
       "      <td>0.019102</td>\n",
       "    </tr>\n",
       "    <tr>\n",
       "      <th>1</th>\n",
       "      <td>481</td>\n",
       "      <td>2021-07-01</td>\n",
       "      <td>2021-08-17</td>\n",
       "      <td>4</td>\n",
       "      <td>3</td>\n",
       "      <td>2</td>\n",
       "      <td>1</td>\n",
       "      <td>0</td>\n",
       "      <td>0</td>\n",
       "      <td>0</td>\n",
       "      <td>1.0</td>\n",
       "      <td>0.0</td>\n",
       "      <td>1.0</td>\n",
       "      <td>False</td>\n",
       "      <td>True</td>\n",
       "      <td>False</td>\n",
       "      <td>False</td>\n",
       "      <td>False</td>\n",
       "      <td>False</td>\n",
       "      <td>False</td>\n",
       "      <td>14.0</td>\n",
       "      <td>10.0</td>\n",
       "      <td>0</td>\n",
       "      <td>3</td>\n",
       "      <td>0</td>\n",
       "      <td>0</td>\n",
       "      <td>7</td>\n",
       "      <td>0</td>\n",
       "      <td>0</td>\n",
       "      <td>0</td>\n",
       "      <td>0</td>\n",
       "      <td>0</td>\n",
       "      <td>0</td>\n",
       "      <td>10</td>\n",
       "      <td>0</td>\n",
       "      <td>0</td>\n",
       "      <td>0</td>\n",
       "      <td>0</td>\n",
       "      <td>0</td>\n",
       "      <td>43.8</td>\n",
       "      <td>3</td>\n",
       "      <td>3</td>\n",
       "      <td>1</td>\n",
       "      <td>1</td>\n",
       "      <td>10</td>\n",
       "      <td>10</td>\n",
       "      <td>1</td>\n",
       "      <td>10</td>\n",
       "      <td>1.0</td>\n",
       "      <td>-0.073422</td>\n",
       "      <td>-0.711597</td>\n",
       "      <td>0.341229</td>\n",
       "      <td>0.716728</td>\n",
       "      <td>0.310992</td>\n",
       "      <td>0.983920</td>\n",
       "      <td>0.866293</td>\n",
       "      <td>1.014369</td>\n",
       "      <td>0.307688</td>\n",
       "      <td>-0.136745</td>\n",
       "      <td>0.239743</td>\n",
       "      <td>-2.273412</td>\n",
       "      <td>-1.965942</td>\n",
       "      <td>1.003965</td>\n",
       "      <td>-1.419866</td>\n",
       "      <td>1.729892</td>\n",
       "      <td>0.465460</td>\n",
       "      <td>0.265484</td>\n",
       "      <td>0.560922</td>\n",
       "      <td>0.985313</td>\n",
       "      <td>1.118845</td>\n",
       "      <td>0.106258</td>\n",
       "      <td>-0.788691</td>\n",
       "      <td>1.096229</td>\n",
       "      <td>-1.335220</td>\n",
       "      <td>-0.296204</td>\n",
       "      <td>1.267547</td>\n",
       "      <td>0.519375</td>\n",
       "      <td>2.182246</td>\n",
       "      <td>0.705323</td>\n",
       "      <td>0.741574</td>\n",
       "      <td>0.965964</td>\n",
       "      <td>0.875002</td>\n",
       "      <td>-0.318132</td>\n",
       "      <td>1.435704</td>\n",
       "      <td>-0.588161</td>\n",
       "      <td>-0.514121</td>\n",
       "      <td>0.081712</td>\n",
       "      <td>-0.742954</td>\n",
       "      <td>-0.373873</td>\n",
       "      <td>-1.616383</td>\n",
       "      <td>1.426424</td>\n",
       "      <td>-0.651520</td>\n",
       "      <td>1.620814</td>\n",
       "      <td>0.624212</td>\n",
       "      <td>0.122211</td>\n",
       "      <td>-1.464309</td>\n",
       "      <td>0.939843</td>\n",
       "      <td>-1.150770</td>\n",
       "      <td>-1.419779</td>\n",
       "      <td>-1.389726</td>\n",
       "      <td>-0.188227</td>\n",
       "      <td>1.731806</td>\n",
       "      <td>0.485782</td>\n",
       "      <td>0.163470</td>\n",
       "      <td>0.112734</td>\n",
       "      <td>0.025611</td>\n",
       "      <td>-0.745826</td>\n",
       "      <td>-1.255155</td>\n",
       "      <td>-1.278717</td>\n",
       "      <td>-0.754777</td>\n",
       "      <td>-0.651368</td>\n",
       "      <td>-1.434665</td>\n",
       "      <td>-1.241882</td>\n",
       "      <td>0.646737</td>\n",
       "      <td>0.890642</td>\n",
       "      <td>-1.073662</td>\n",
       "      <td>-1.112513</td>\n",
       "      <td>-0.248149</td>\n",
       "      <td>0.930719</td>\n",
       "      <td>-1.112172</td>\n",
       "      <td>1.277486</td>\n",
       "      <td>1.265674</td>\n",
       "      <td>-1.521356</td>\n",
       "      <td>-0.027169</td>\n",
       "      <td>0.071664</td>\n",
       "      <td>-0.988226</td>\n",
       "      <td>0.122071</td>\n",
       "      <td>1.073685</td>\n",
       "      <td>-1.859833</td>\n",
       "      <td>0.132486</td>\n",
       "      <td>1.305501</td>\n",
       "      <td>-1.279922</td>\n",
       "      <td>1.328429</td>\n",
       "      <td>0.520989</td>\n",
       "      <td>1.093549</td>\n",
       "      <td>0.686937</td>\n",
       "      <td>0.732217</td>\n",
       "      <td>-1.404893</td>\n",
       "      <td>1.191996</td>\n",
       "      <td>0.696156</td>\n",
       "      <td>-1.721939</td>\n",
       "      <td>1.838985</td>\n",
       "      <td>1.061773</td>\n",
       "      <td>-1.971193</td>\n",
       "      <td>-0.030658</td>\n",
       "    </tr>\n",
       "    <tr>\n",
       "      <th>2</th>\n",
       "      <td>482</td>\n",
       "      <td>2021-07-01</td>\n",
       "      <td>2021-08-17</td>\n",
       "      <td>4</td>\n",
       "      <td>3</td>\n",
       "      <td>2</td>\n",
       "      <td>1</td>\n",
       "      <td>0</td>\n",
       "      <td>0</td>\n",
       "      <td>0</td>\n",
       "      <td>0.0</td>\n",
       "      <td>0.0</td>\n",
       "      <td>1.0</td>\n",
       "      <td>False</td>\n",
       "      <td>True</td>\n",
       "      <td>False</td>\n",
       "      <td>False</td>\n",
       "      <td>False</td>\n",
       "      <td>False</td>\n",
       "      <td>False</td>\n",
       "      <td>13.0</td>\n",
       "      <td>10.0</td>\n",
       "      <td>0</td>\n",
       "      <td>3</td>\n",
       "      <td>0</td>\n",
       "      <td>0</td>\n",
       "      <td>7</td>\n",
       "      <td>0</td>\n",
       "      <td>0</td>\n",
       "      <td>0</td>\n",
       "      <td>0</td>\n",
       "      <td>0</td>\n",
       "      <td>0</td>\n",
       "      <td>10</td>\n",
       "      <td>0</td>\n",
       "      <td>0</td>\n",
       "      <td>0</td>\n",
       "      <td>0</td>\n",
       "      <td>0</td>\n",
       "      <td>43.8</td>\n",
       "      <td>3</td>\n",
       "      <td>3</td>\n",
       "      <td>1</td>\n",
       "      <td>1</td>\n",
       "      <td>9</td>\n",
       "      <td>10</td>\n",
       "      <td>1</td>\n",
       "      <td>10</td>\n",
       "      <td>1.0</td>\n",
       "      <td>-0.073422</td>\n",
       "      <td>-0.711597</td>\n",
       "      <td>0.341229</td>\n",
       "      <td>0.716728</td>\n",
       "      <td>0.310992</td>\n",
       "      <td>0.983920</td>\n",
       "      <td>0.866293</td>\n",
       "      <td>1.014369</td>\n",
       "      <td>0.307688</td>\n",
       "      <td>-0.136745</td>\n",
       "      <td>0.239743</td>\n",
       "      <td>-2.273412</td>\n",
       "      <td>-1.965942</td>\n",
       "      <td>1.003965</td>\n",
       "      <td>-1.419866</td>\n",
       "      <td>1.729892</td>\n",
       "      <td>0.465460</td>\n",
       "      <td>0.265484</td>\n",
       "      <td>0.560922</td>\n",
       "      <td>0.985313</td>\n",
       "      <td>1.118845</td>\n",
       "      <td>0.106258</td>\n",
       "      <td>-0.788691</td>\n",
       "      <td>1.096229</td>\n",
       "      <td>-1.335220</td>\n",
       "      <td>-0.296204</td>\n",
       "      <td>1.267547</td>\n",
       "      <td>0.519375</td>\n",
       "      <td>2.182246</td>\n",
       "      <td>0.705323</td>\n",
       "      <td>0.741574</td>\n",
       "      <td>0.965964</td>\n",
       "      <td>0.875002</td>\n",
       "      <td>-0.318132</td>\n",
       "      <td>1.435704</td>\n",
       "      <td>-0.588161</td>\n",
       "      <td>-0.514121</td>\n",
       "      <td>0.081712</td>\n",
       "      <td>-0.742954</td>\n",
       "      <td>-0.373873</td>\n",
       "      <td>-1.616383</td>\n",
       "      <td>1.426424</td>\n",
       "      <td>-0.651520</td>\n",
       "      <td>1.620814</td>\n",
       "      <td>0.624212</td>\n",
       "      <td>0.122211</td>\n",
       "      <td>-1.464309</td>\n",
       "      <td>0.939843</td>\n",
       "      <td>-1.150770</td>\n",
       "      <td>-1.419779</td>\n",
       "      <td>-1.389726</td>\n",
       "      <td>-0.188227</td>\n",
       "      <td>1.731806</td>\n",
       "      <td>0.485782</td>\n",
       "      <td>0.163470</td>\n",
       "      <td>0.112734</td>\n",
       "      <td>0.025611</td>\n",
       "      <td>-0.745826</td>\n",
       "      <td>-1.255155</td>\n",
       "      <td>-1.278717</td>\n",
       "      <td>-0.754777</td>\n",
       "      <td>-0.651368</td>\n",
       "      <td>-1.434665</td>\n",
       "      <td>-1.241882</td>\n",
       "      <td>0.646737</td>\n",
       "      <td>0.890642</td>\n",
       "      <td>-1.073662</td>\n",
       "      <td>-1.112513</td>\n",
       "      <td>-0.248149</td>\n",
       "      <td>0.930719</td>\n",
       "      <td>-1.112172</td>\n",
       "      <td>1.277486</td>\n",
       "      <td>1.265674</td>\n",
       "      <td>-1.521356</td>\n",
       "      <td>-0.027169</td>\n",
       "      <td>0.071664</td>\n",
       "      <td>-0.988226</td>\n",
       "      <td>0.122071</td>\n",
       "      <td>1.073685</td>\n",
       "      <td>-1.859833</td>\n",
       "      <td>0.132486</td>\n",
       "      <td>1.305501</td>\n",
       "      <td>-1.279922</td>\n",
       "      <td>1.328429</td>\n",
       "      <td>0.520989</td>\n",
       "      <td>1.093549</td>\n",
       "      <td>0.686937</td>\n",
       "      <td>0.732217</td>\n",
       "      <td>-1.404893</td>\n",
       "      <td>1.191996</td>\n",
       "      <td>0.696156</td>\n",
       "      <td>-1.721939</td>\n",
       "      <td>1.838985</td>\n",
       "      <td>1.061773</td>\n",
       "      <td>-1.971193</td>\n",
       "      <td>-0.030658</td>\n",
       "    </tr>\n",
       "    <tr>\n",
       "      <th>3</th>\n",
       "      <td>483</td>\n",
       "      <td>2021-07-01</td>\n",
       "      <td>2021-08-17</td>\n",
       "      <td>4</td>\n",
       "      <td>3</td>\n",
       "      <td>2</td>\n",
       "      <td>1</td>\n",
       "      <td>0</td>\n",
       "      <td>0</td>\n",
       "      <td>0</td>\n",
       "      <td>1.0</td>\n",
       "      <td>0.0</td>\n",
       "      <td>1.0</td>\n",
       "      <td>False</td>\n",
       "      <td>False</td>\n",
       "      <td>False</td>\n",
       "      <td>False</td>\n",
       "      <td>False</td>\n",
       "      <td>False</td>\n",
       "      <td>True</td>\n",
       "      <td>12.0</td>\n",
       "      <td>10.0</td>\n",
       "      <td>0</td>\n",
       "      <td>3</td>\n",
       "      <td>0</td>\n",
       "      <td>0</td>\n",
       "      <td>7</td>\n",
       "      <td>0</td>\n",
       "      <td>0</td>\n",
       "      <td>0</td>\n",
       "      <td>0</td>\n",
       "      <td>0</td>\n",
       "      <td>0</td>\n",
       "      <td>10</td>\n",
       "      <td>0</td>\n",
       "      <td>0</td>\n",
       "      <td>0</td>\n",
       "      <td>0</td>\n",
       "      <td>0</td>\n",
       "      <td>43.8</td>\n",
       "      <td>3</td>\n",
       "      <td>3</td>\n",
       "      <td>1</td>\n",
       "      <td>1</td>\n",
       "      <td>10</td>\n",
       "      <td>10</td>\n",
       "      <td>1</td>\n",
       "      <td>10</td>\n",
       "      <td>1.0</td>\n",
       "      <td>-0.073422</td>\n",
       "      <td>-0.711597</td>\n",
       "      <td>0.341229</td>\n",
       "      <td>0.716728</td>\n",
       "      <td>0.310992</td>\n",
       "      <td>0.983920</td>\n",
       "      <td>0.866293</td>\n",
       "      <td>1.014369</td>\n",
       "      <td>0.307688</td>\n",
       "      <td>-0.136745</td>\n",
       "      <td>0.239743</td>\n",
       "      <td>-2.273412</td>\n",
       "      <td>-1.965942</td>\n",
       "      <td>1.003965</td>\n",
       "      <td>-1.419866</td>\n",
       "      <td>1.729892</td>\n",
       "      <td>0.465460</td>\n",
       "      <td>0.265484</td>\n",
       "      <td>0.560922</td>\n",
       "      <td>0.985313</td>\n",
       "      <td>1.118845</td>\n",
       "      <td>0.106258</td>\n",
       "      <td>-0.788691</td>\n",
       "      <td>1.096229</td>\n",
       "      <td>-1.335220</td>\n",
       "      <td>-0.296204</td>\n",
       "      <td>1.267547</td>\n",
       "      <td>0.519375</td>\n",
       "      <td>2.182246</td>\n",
       "      <td>0.705323</td>\n",
       "      <td>0.741574</td>\n",
       "      <td>0.965964</td>\n",
       "      <td>0.875002</td>\n",
       "      <td>-0.318132</td>\n",
       "      <td>1.435704</td>\n",
       "      <td>-0.588161</td>\n",
       "      <td>-0.514121</td>\n",
       "      <td>0.081712</td>\n",
       "      <td>-0.742954</td>\n",
       "      <td>-0.373873</td>\n",
       "      <td>-1.616383</td>\n",
       "      <td>1.426424</td>\n",
       "      <td>-0.651520</td>\n",
       "      <td>1.620814</td>\n",
       "      <td>0.624212</td>\n",
       "      <td>0.122211</td>\n",
       "      <td>-1.464309</td>\n",
       "      <td>0.939843</td>\n",
       "      <td>-1.150770</td>\n",
       "      <td>-1.419779</td>\n",
       "      <td>-1.389726</td>\n",
       "      <td>-0.188227</td>\n",
       "      <td>1.731806</td>\n",
       "      <td>0.485782</td>\n",
       "      <td>0.163470</td>\n",
       "      <td>0.112734</td>\n",
       "      <td>0.025611</td>\n",
       "      <td>-0.745826</td>\n",
       "      <td>-1.255155</td>\n",
       "      <td>-1.278717</td>\n",
       "      <td>-0.754777</td>\n",
       "      <td>-0.651368</td>\n",
       "      <td>-1.434665</td>\n",
       "      <td>-1.241882</td>\n",
       "      <td>0.646737</td>\n",
       "      <td>0.890642</td>\n",
       "      <td>-1.073662</td>\n",
       "      <td>-1.112513</td>\n",
       "      <td>-0.248149</td>\n",
       "      <td>0.930719</td>\n",
       "      <td>-1.112172</td>\n",
       "      <td>1.277486</td>\n",
       "      <td>1.265674</td>\n",
       "      <td>-1.521356</td>\n",
       "      <td>-0.027169</td>\n",
       "      <td>0.071664</td>\n",
       "      <td>-0.988226</td>\n",
       "      <td>0.122071</td>\n",
       "      <td>1.073685</td>\n",
       "      <td>-1.859833</td>\n",
       "      <td>0.132486</td>\n",
       "      <td>1.305501</td>\n",
       "      <td>-1.279922</td>\n",
       "      <td>1.328429</td>\n",
       "      <td>0.520989</td>\n",
       "      <td>1.093549</td>\n",
       "      <td>0.686937</td>\n",
       "      <td>0.732217</td>\n",
       "      <td>-1.404893</td>\n",
       "      <td>1.191996</td>\n",
       "      <td>0.696156</td>\n",
       "      <td>-1.721939</td>\n",
       "      <td>1.838985</td>\n",
       "      <td>1.061773</td>\n",
       "      <td>-1.971193</td>\n",
       "      <td>-0.030658</td>\n",
       "    </tr>\n",
       "    <tr>\n",
       "      <th>4</th>\n",
       "      <td>484</td>\n",
       "      <td>2021-07-01</td>\n",
       "      <td>2021-08-17</td>\n",
       "      <td>4</td>\n",
       "      <td>3</td>\n",
       "      <td>2</td>\n",
       "      <td>1</td>\n",
       "      <td>0</td>\n",
       "      <td>0</td>\n",
       "      <td>0</td>\n",
       "      <td>1.0</td>\n",
       "      <td>0.0</td>\n",
       "      <td>1.0</td>\n",
       "      <td>False</td>\n",
       "      <td>True</td>\n",
       "      <td>False</td>\n",
       "      <td>False</td>\n",
       "      <td>False</td>\n",
       "      <td>False</td>\n",
       "      <td>False</td>\n",
       "      <td>13.0</td>\n",
       "      <td>10.0</td>\n",
       "      <td>0</td>\n",
       "      <td>3</td>\n",
       "      <td>0</td>\n",
       "      <td>0</td>\n",
       "      <td>7</td>\n",
       "      <td>0</td>\n",
       "      <td>0</td>\n",
       "      <td>0</td>\n",
       "      <td>0</td>\n",
       "      <td>0</td>\n",
       "      <td>0</td>\n",
       "      <td>10</td>\n",
       "      <td>0</td>\n",
       "      <td>0</td>\n",
       "      <td>0</td>\n",
       "      <td>0</td>\n",
       "      <td>0</td>\n",
       "      <td>43.8</td>\n",
       "      <td>3</td>\n",
       "      <td>3</td>\n",
       "      <td>1</td>\n",
       "      <td>1</td>\n",
       "      <td>7</td>\n",
       "      <td>10</td>\n",
       "      <td>1</td>\n",
       "      <td>10</td>\n",
       "      <td>1.0</td>\n",
       "      <td>-0.073422</td>\n",
       "      <td>-0.711597</td>\n",
       "      <td>0.341229</td>\n",
       "      <td>0.716728</td>\n",
       "      <td>0.310992</td>\n",
       "      <td>0.983920</td>\n",
       "      <td>0.866293</td>\n",
       "      <td>1.014369</td>\n",
       "      <td>0.307688</td>\n",
       "      <td>-0.136745</td>\n",
       "      <td>0.239743</td>\n",
       "      <td>-2.273412</td>\n",
       "      <td>-1.965942</td>\n",
       "      <td>1.003965</td>\n",
       "      <td>-1.419866</td>\n",
       "      <td>1.729892</td>\n",
       "      <td>0.465460</td>\n",
       "      <td>0.265484</td>\n",
       "      <td>0.560922</td>\n",
       "      <td>0.985313</td>\n",
       "      <td>1.118845</td>\n",
       "      <td>0.106258</td>\n",
       "      <td>-0.788691</td>\n",
       "      <td>1.096229</td>\n",
       "      <td>-1.335220</td>\n",
       "      <td>-0.296204</td>\n",
       "      <td>1.267547</td>\n",
       "      <td>0.519375</td>\n",
       "      <td>2.182246</td>\n",
       "      <td>0.705323</td>\n",
       "      <td>0.741574</td>\n",
       "      <td>0.965964</td>\n",
       "      <td>0.875002</td>\n",
       "      <td>-0.318132</td>\n",
       "      <td>1.435704</td>\n",
       "      <td>-0.588161</td>\n",
       "      <td>-0.514121</td>\n",
       "      <td>0.081712</td>\n",
       "      <td>-0.742954</td>\n",
       "      <td>-0.373873</td>\n",
       "      <td>-1.616383</td>\n",
       "      <td>1.426424</td>\n",
       "      <td>-0.651520</td>\n",
       "      <td>1.620814</td>\n",
       "      <td>0.624212</td>\n",
       "      <td>0.122211</td>\n",
       "      <td>-1.464309</td>\n",
       "      <td>0.939843</td>\n",
       "      <td>-1.150770</td>\n",
       "      <td>-1.419779</td>\n",
       "      <td>-1.389726</td>\n",
       "      <td>-0.188227</td>\n",
       "      <td>1.731806</td>\n",
       "      <td>0.485782</td>\n",
       "      <td>0.163470</td>\n",
       "      <td>0.112734</td>\n",
       "      <td>0.025611</td>\n",
       "      <td>-0.745826</td>\n",
       "      <td>-1.255155</td>\n",
       "      <td>-1.278717</td>\n",
       "      <td>-0.754777</td>\n",
       "      <td>-0.651368</td>\n",
       "      <td>-1.434665</td>\n",
       "      <td>-1.241882</td>\n",
       "      <td>0.646737</td>\n",
       "      <td>0.890642</td>\n",
       "      <td>-1.073662</td>\n",
       "      <td>-1.112513</td>\n",
       "      <td>-0.248149</td>\n",
       "      <td>0.930719</td>\n",
       "      <td>-1.112172</td>\n",
       "      <td>1.277486</td>\n",
       "      <td>1.265674</td>\n",
       "      <td>-1.521356</td>\n",
       "      <td>-0.027169</td>\n",
       "      <td>0.071664</td>\n",
       "      <td>-0.988226</td>\n",
       "      <td>0.122071</td>\n",
       "      <td>1.073685</td>\n",
       "      <td>-1.859833</td>\n",
       "      <td>0.132486</td>\n",
       "      <td>1.305501</td>\n",
       "      <td>-1.279922</td>\n",
       "      <td>1.328429</td>\n",
       "      <td>0.520989</td>\n",
       "      <td>1.093549</td>\n",
       "      <td>0.686937</td>\n",
       "      <td>0.732217</td>\n",
       "      <td>-1.404893</td>\n",
       "      <td>1.191996</td>\n",
       "      <td>0.696156</td>\n",
       "      <td>-1.721939</td>\n",
       "      <td>1.838985</td>\n",
       "      <td>1.061773</td>\n",
       "      <td>-1.971193</td>\n",
       "      <td>-0.030658</td>\n",
       "    </tr>\n",
       "    <tr>\n",
       "      <th>...</th>\n",
       "      <td>...</td>\n",
       "      <td>...</td>\n",
       "      <td>...</td>\n",
       "      <td>...</td>\n",
       "      <td>...</td>\n",
       "      <td>...</td>\n",
       "      <td>...</td>\n",
       "      <td>...</td>\n",
       "      <td>...</td>\n",
       "      <td>...</td>\n",
       "      <td>...</td>\n",
       "      <td>...</td>\n",
       "      <td>...</td>\n",
       "      <td>...</td>\n",
       "      <td>...</td>\n",
       "      <td>...</td>\n",
       "      <td>...</td>\n",
       "      <td>...</td>\n",
       "      <td>...</td>\n",
       "      <td>...</td>\n",
       "      <td>...</td>\n",
       "      <td>...</td>\n",
       "      <td>...</td>\n",
       "      <td>...</td>\n",
       "      <td>...</td>\n",
       "      <td>...</td>\n",
       "      <td>...</td>\n",
       "      <td>...</td>\n",
       "      <td>...</td>\n",
       "      <td>...</td>\n",
       "      <td>...</td>\n",
       "      <td>...</td>\n",
       "      <td>...</td>\n",
       "      <td>...</td>\n",
       "      <td>...</td>\n",
       "      <td>...</td>\n",
       "      <td>...</td>\n",
       "      <td>...</td>\n",
       "      <td>...</td>\n",
       "      <td>...</td>\n",
       "      <td>...</td>\n",
       "      <td>...</td>\n",
       "      <td>...</td>\n",
       "      <td>...</td>\n",
       "      <td>...</td>\n",
       "      <td>...</td>\n",
       "      <td>...</td>\n",
       "      <td>...</td>\n",
       "      <td>...</td>\n",
       "      <td>...</td>\n",
       "      <td>...</td>\n",
       "      <td>...</td>\n",
       "      <td>...</td>\n",
       "      <td>...</td>\n",
       "      <td>...</td>\n",
       "      <td>...</td>\n",
       "      <td>...</td>\n",
       "      <td>...</td>\n",
       "      <td>...</td>\n",
       "      <td>...</td>\n",
       "      <td>...</td>\n",
       "      <td>...</td>\n",
       "      <td>...</td>\n",
       "      <td>...</td>\n",
       "      <td>...</td>\n",
       "      <td>...</td>\n",
       "      <td>...</td>\n",
       "      <td>...</td>\n",
       "      <td>...</td>\n",
       "      <td>...</td>\n",
       "      <td>...</td>\n",
       "      <td>...</td>\n",
       "      <td>...</td>\n",
       "      <td>...</td>\n",
       "      <td>...</td>\n",
       "      <td>...</td>\n",
       "      <td>...</td>\n",
       "      <td>...</td>\n",
       "      <td>...</td>\n",
       "      <td>...</td>\n",
       "      <td>...</td>\n",
       "      <td>...</td>\n",
       "      <td>...</td>\n",
       "      <td>...</td>\n",
       "      <td>...</td>\n",
       "      <td>...</td>\n",
       "      <td>...</td>\n",
       "      <td>...</td>\n",
       "      <td>...</td>\n",
       "      <td>...</td>\n",
       "      <td>...</td>\n",
       "      <td>...</td>\n",
       "      <td>...</td>\n",
       "      <td>...</td>\n",
       "      <td>...</td>\n",
       "      <td>...</td>\n",
       "      <td>...</td>\n",
       "      <td>...</td>\n",
       "      <td>...</td>\n",
       "      <td>...</td>\n",
       "      <td>...</td>\n",
       "      <td>...</td>\n",
       "      <td>...</td>\n",
       "      <td>...</td>\n",
       "      <td>...</td>\n",
       "      <td>...</td>\n",
       "      <td>...</td>\n",
       "      <td>...</td>\n",
       "      <td>...</td>\n",
       "      <td>...</td>\n",
       "      <td>...</td>\n",
       "      <td>...</td>\n",
       "      <td>...</td>\n",
       "      <td>...</td>\n",
       "      <td>...</td>\n",
       "      <td>...</td>\n",
       "      <td>...</td>\n",
       "      <td>...</td>\n",
       "      <td>...</td>\n",
       "      <td>...</td>\n",
       "      <td>...</td>\n",
       "      <td>...</td>\n",
       "      <td>...</td>\n",
       "      <td>...</td>\n",
       "      <td>...</td>\n",
       "      <td>...</td>\n",
       "      <td>...</td>\n",
       "      <td>...</td>\n",
       "      <td>...</td>\n",
       "      <td>...</td>\n",
       "      <td>...</td>\n",
       "      <td>...</td>\n",
       "      <td>...</td>\n",
       "      <td>...</td>\n",
       "      <td>...</td>\n",
       "      <td>...</td>\n",
       "      <td>...</td>\n",
       "      <td>...</td>\n",
       "      <td>...</td>\n",
       "      <td>...</td>\n",
       "      <td>...</td>\n",
       "      <td>...</td>\n",
       "      <td>...</td>\n",
       "      <td>...</td>\n",
       "      <td>...</td>\n",
       "    </tr>\n",
       "    <tr>\n",
       "      <th>291923</th>\n",
       "      <td>2165</td>\n",
       "      <td>2024-06-14</td>\n",
       "      <td>2024-06-26</td>\n",
       "      <td>2</td>\n",
       "      <td>4</td>\n",
       "      <td>2</td>\n",
       "      <td>0</td>\n",
       "      <td>2</td>\n",
       "      <td>0</td>\n",
       "      <td>0</td>\n",
       "      <td>1.0</td>\n",
       "      <td>1.0</td>\n",
       "      <td>0.0</td>\n",
       "      <td>False</td>\n",
       "      <td>False</td>\n",
       "      <td>False</td>\n",
       "      <td>False</td>\n",
       "      <td>False</td>\n",
       "      <td>False</td>\n",
       "      <td>True</td>\n",
       "      <td>18.0</td>\n",
       "      <td>6.0</td>\n",
       "      <td>0</td>\n",
       "      <td>8</td>\n",
       "      <td>0</td>\n",
       "      <td>0</td>\n",
       "      <td>2</td>\n",
       "      <td>5</td>\n",
       "      <td>0</td>\n",
       "      <td>2</td>\n",
       "      <td>0</td>\n",
       "      <td>0</td>\n",
       "      <td>0</td>\n",
       "      <td>1</td>\n",
       "      <td>2</td>\n",
       "      <td>0</td>\n",
       "      <td>0</td>\n",
       "      <td>0</td>\n",
       "      <td>0</td>\n",
       "      <td>39.0</td>\n",
       "      <td>6</td>\n",
       "      <td>4</td>\n",
       "      <td>3</td>\n",
       "      <td>3</td>\n",
       "      <td>7</td>\n",
       "      <td>10</td>\n",
       "      <td>0</td>\n",
       "      <td>47</td>\n",
       "      <td>1.0</td>\n",
       "      <td>-0.050422</td>\n",
       "      <td>-1.238044</td>\n",
       "      <td>-1.269763</td>\n",
       "      <td>0.962297</td>\n",
       "      <td>-0.257396</td>\n",
       "      <td>0.450170</td>\n",
       "      <td>0.684361</td>\n",
       "      <td>0.465161</td>\n",
       "      <td>0.479866</td>\n",
       "      <td>0.398770</td>\n",
       "      <td>-0.234095</td>\n",
       "      <td>-1.245737</td>\n",
       "      <td>-1.314227</td>\n",
       "      <td>0.882728</td>\n",
       "      <td>-0.947708</td>\n",
       "      <td>1.500426</td>\n",
       "      <td>1.291883</td>\n",
       "      <td>1.586779</td>\n",
       "      <td>0.942150</td>\n",
       "      <td>1.020312</td>\n",
       "      <td>-0.020887</td>\n",
       "      <td>0.440570</td>\n",
       "      <td>0.750453</td>\n",
       "      <td>-1.106586</td>\n",
       "      <td>-1.166365</td>\n",
       "      <td>-0.746130</td>\n",
       "      <td>0.452928</td>\n",
       "      <td>0.134487</td>\n",
       "      <td>2.134719</td>\n",
       "      <td>-0.051744</td>\n",
       "      <td>-0.895949</td>\n",
       "      <td>0.428914</td>\n",
       "      <td>-0.029644</td>\n",
       "      <td>-0.408267</td>\n",
       "      <td>0.458076</td>\n",
       "      <td>-0.216447</td>\n",
       "      <td>-0.901860</td>\n",
       "      <td>1.046608</td>\n",
       "      <td>0.510382</td>\n",
       "      <td>-0.113066</td>\n",
       "      <td>-1.334246</td>\n",
       "      <td>2.293523</td>\n",
       "      <td>-0.753720</td>\n",
       "      <td>1.875162</td>\n",
       "      <td>0.183325</td>\n",
       "      <td>1.129252</td>\n",
       "      <td>-2.272649</td>\n",
       "      <td>0.741484</td>\n",
       "      <td>0.297328</td>\n",
       "      <td>-2.260319</td>\n",
       "      <td>-1.523500</td>\n",
       "      <td>-0.063436</td>\n",
       "      <td>1.430352</td>\n",
       "      <td>-0.950970</td>\n",
       "      <td>0.816022</td>\n",
       "      <td>-0.354943</td>\n",
       "      <td>0.444400</td>\n",
       "      <td>-0.407325</td>\n",
       "      <td>-1.694755</td>\n",
       "      <td>-1.100028</td>\n",
       "      <td>-1.340298</td>\n",
       "      <td>-0.632283</td>\n",
       "      <td>-1.048911</td>\n",
       "      <td>-1.157424</td>\n",
       "      <td>0.289609</td>\n",
       "      <td>1.245689</td>\n",
       "      <td>-0.288548</td>\n",
       "      <td>-0.489839</td>\n",
       "      <td>0.144477</td>\n",
       "      <td>1.231629</td>\n",
       "      <td>-1.577886</td>\n",
       "      <td>1.100507</td>\n",
       "      <td>1.434138</td>\n",
       "      <td>-1.520447</td>\n",
       "      <td>0.901984</td>\n",
       "      <td>-0.231574</td>\n",
       "      <td>-2.280113</td>\n",
       "      <td>1.347166</td>\n",
       "      <td>2.235009</td>\n",
       "      <td>-2.077207</td>\n",
       "      <td>0.323503</td>\n",
       "      <td>1.614585</td>\n",
       "      <td>-0.715993</td>\n",
       "      <td>1.182941</td>\n",
       "      <td>1.121943</td>\n",
       "      <td>0.078111</td>\n",
       "      <td>0.121623</td>\n",
       "      <td>-0.419214</td>\n",
       "      <td>-1.347232</td>\n",
       "      <td>1.352050</td>\n",
       "      <td>0.154044</td>\n",
       "      <td>-1.246703</td>\n",
       "      <td>2.056533</td>\n",
       "      <td>2.357893</td>\n",
       "      <td>-1.784181</td>\n",
       "      <td>0.584339</td>\n",
       "    </tr>\n",
       "    <tr>\n",
       "      <th>291924</th>\n",
       "      <td>2180</td>\n",
       "      <td>2024-06-14</td>\n",
       "      <td>2024-06-26</td>\n",
       "      <td>4</td>\n",
       "      <td>0</td>\n",
       "      <td>4</td>\n",
       "      <td>0</td>\n",
       "      <td>2</td>\n",
       "      <td>0</td>\n",
       "      <td>0</td>\n",
       "      <td>1.0</td>\n",
       "      <td>1.0</td>\n",
       "      <td>0.0</td>\n",
       "      <td>False</td>\n",
       "      <td>True</td>\n",
       "      <td>False</td>\n",
       "      <td>False</td>\n",
       "      <td>False</td>\n",
       "      <td>False</td>\n",
       "      <td>False</td>\n",
       "      <td>17.0</td>\n",
       "      <td>8.0</td>\n",
       "      <td>0</td>\n",
       "      <td>8</td>\n",
       "      <td>0</td>\n",
       "      <td>0</td>\n",
       "      <td>2</td>\n",
       "      <td>3</td>\n",
       "      <td>0</td>\n",
       "      <td>0</td>\n",
       "      <td>0</td>\n",
       "      <td>0</td>\n",
       "      <td>0</td>\n",
       "      <td>3</td>\n",
       "      <td>2</td>\n",
       "      <td>0</td>\n",
       "      <td>2</td>\n",
       "      <td>0</td>\n",
       "      <td>0</td>\n",
       "      <td>41.8</td>\n",
       "      <td>6</td>\n",
       "      <td>4</td>\n",
       "      <td>3</td>\n",
       "      <td>3</td>\n",
       "      <td>10</td>\n",
       "      <td>10</td>\n",
       "      <td>0</td>\n",
       "      <td>43</td>\n",
       "      <td>1.0</td>\n",
       "      <td>-0.288524</td>\n",
       "      <td>-0.763260</td>\n",
       "      <td>-1.136158</td>\n",
       "      <td>0.179402</td>\n",
       "      <td>-0.021400</td>\n",
       "      <td>0.277619</td>\n",
       "      <td>0.812288</td>\n",
       "      <td>0.791743</td>\n",
       "      <td>0.850081</td>\n",
       "      <td>0.128132</td>\n",
       "      <td>0.403342</td>\n",
       "      <td>-0.645786</td>\n",
       "      <td>-1.215454</td>\n",
       "      <td>0.995555</td>\n",
       "      <td>-1.158576</td>\n",
       "      <td>1.780186</td>\n",
       "      <td>0.544404</td>\n",
       "      <td>0.932733</td>\n",
       "      <td>0.805588</td>\n",
       "      <td>1.092296</td>\n",
       "      <td>0.282561</td>\n",
       "      <td>0.117263</td>\n",
       "      <td>0.265517</td>\n",
       "      <td>-0.693496</td>\n",
       "      <td>-1.316221</td>\n",
       "      <td>-0.858699</td>\n",
       "      <td>0.721987</td>\n",
       "      <td>-0.066156</td>\n",
       "      <td>2.295448</td>\n",
       "      <td>0.772107</td>\n",
       "      <td>-0.969262</td>\n",
       "      <td>-0.089636</td>\n",
       "      <td>1.062938</td>\n",
       "      <td>0.305650</td>\n",
       "      <td>0.414655</td>\n",
       "      <td>0.649551</td>\n",
       "      <td>-1.510350</td>\n",
       "      <td>1.374651</td>\n",
       "      <td>0.025952</td>\n",
       "      <td>0.089353</td>\n",
       "      <td>-1.234080</td>\n",
       "      <td>2.362644</td>\n",
       "      <td>-1.448102</td>\n",
       "      <td>1.661774</td>\n",
       "      <td>0.302329</td>\n",
       "      <td>0.894799</td>\n",
       "      <td>-2.406747</td>\n",
       "      <td>0.671247</td>\n",
       "      <td>-0.327429</td>\n",
       "      <td>-1.656167</td>\n",
       "      <td>-1.711582</td>\n",
       "      <td>0.033773</td>\n",
       "      <td>1.422380</td>\n",
       "      <td>-0.771310</td>\n",
       "      <td>0.500281</td>\n",
       "      <td>-0.487960</td>\n",
       "      <td>0.929167</td>\n",
       "      <td>-0.677446</td>\n",
       "      <td>-1.783778</td>\n",
       "      <td>-0.592887</td>\n",
       "      <td>-0.876282</td>\n",
       "      <td>-0.287201</td>\n",
       "      <td>-0.920124</td>\n",
       "      <td>-1.329390</td>\n",
       "      <td>0.688919</td>\n",
       "      <td>0.732411</td>\n",
       "      <td>-1.063651</td>\n",
       "      <td>-0.712930</td>\n",
       "      <td>-0.158928</td>\n",
       "      <td>0.852834</td>\n",
       "      <td>-0.975536</td>\n",
       "      <td>0.610664</td>\n",
       "      <td>0.890955</td>\n",
       "      <td>-1.398141</td>\n",
       "      <td>0.922017</td>\n",
       "      <td>-0.072052</td>\n",
       "      <td>-1.635451</td>\n",
       "      <td>0.864465</td>\n",
       "      <td>1.117827</td>\n",
       "      <td>-1.781196</td>\n",
       "      <td>0.705445</td>\n",
       "      <td>1.283979</td>\n",
       "      <td>-0.520089</td>\n",
       "      <td>0.941617</td>\n",
       "      <td>0.489129</td>\n",
       "      <td>0.464675</td>\n",
       "      <td>0.749021</td>\n",
       "      <td>-0.568837</td>\n",
       "      <td>-1.117249</td>\n",
       "      <td>1.353121</td>\n",
       "      <td>0.372614</td>\n",
       "      <td>-0.926223</td>\n",
       "      <td>2.378915</td>\n",
       "      <td>1.684329</td>\n",
       "      <td>-1.512201</td>\n",
       "      <td>-0.044146</td>\n",
       "    </tr>\n",
       "    <tr>\n",
       "      <th>291925</th>\n",
       "      <td>1447</td>\n",
       "      <td>2024-06-14</td>\n",
       "      <td>2024-06-26</td>\n",
       "      <td>2</td>\n",
       "      <td>4</td>\n",
       "      <td>2</td>\n",
       "      <td>0</td>\n",
       "      <td>2</td>\n",
       "      <td>0</td>\n",
       "      <td>0</td>\n",
       "      <td>1.0</td>\n",
       "      <td>1.0</td>\n",
       "      <td>0.0</td>\n",
       "      <td>False</td>\n",
       "      <td>False</td>\n",
       "      <td>False</td>\n",
       "      <td>False</td>\n",
       "      <td>False</td>\n",
       "      <td>False</td>\n",
       "      <td>True</td>\n",
       "      <td>17.0</td>\n",
       "      <td>6.0</td>\n",
       "      <td>0</td>\n",
       "      <td>8</td>\n",
       "      <td>0</td>\n",
       "      <td>0</td>\n",
       "      <td>2</td>\n",
       "      <td>5</td>\n",
       "      <td>0</td>\n",
       "      <td>2</td>\n",
       "      <td>0</td>\n",
       "      <td>0</td>\n",
       "      <td>0</td>\n",
       "      <td>1</td>\n",
       "      <td>2</td>\n",
       "      <td>0</td>\n",
       "      <td>0</td>\n",
       "      <td>0</td>\n",
       "      <td>0</td>\n",
       "      <td>39.0</td>\n",
       "      <td>6</td>\n",
       "      <td>4</td>\n",
       "      <td>3</td>\n",
       "      <td>3</td>\n",
       "      <td>3</td>\n",
       "      <td>10</td>\n",
       "      <td>0</td>\n",
       "      <td>186</td>\n",
       "      <td>0.0</td>\n",
       "      <td>-0.050422</td>\n",
       "      <td>-1.238044</td>\n",
       "      <td>-1.269763</td>\n",
       "      <td>0.962297</td>\n",
       "      <td>-0.257396</td>\n",
       "      <td>0.450170</td>\n",
       "      <td>0.684361</td>\n",
       "      <td>0.465161</td>\n",
       "      <td>0.479866</td>\n",
       "      <td>0.398770</td>\n",
       "      <td>-0.234095</td>\n",
       "      <td>-1.245737</td>\n",
       "      <td>-1.314227</td>\n",
       "      <td>0.882728</td>\n",
       "      <td>-0.947708</td>\n",
       "      <td>1.500426</td>\n",
       "      <td>1.291883</td>\n",
       "      <td>1.586779</td>\n",
       "      <td>0.942150</td>\n",
       "      <td>1.020312</td>\n",
       "      <td>-0.020887</td>\n",
       "      <td>0.440570</td>\n",
       "      <td>0.750453</td>\n",
       "      <td>-1.106586</td>\n",
       "      <td>-1.166365</td>\n",
       "      <td>-0.746130</td>\n",
       "      <td>0.452928</td>\n",
       "      <td>0.134487</td>\n",
       "      <td>2.134719</td>\n",
       "      <td>-0.051744</td>\n",
       "      <td>-0.895949</td>\n",
       "      <td>0.428914</td>\n",
       "      <td>-0.029644</td>\n",
       "      <td>-0.408267</td>\n",
       "      <td>0.458076</td>\n",
       "      <td>-0.216447</td>\n",
       "      <td>-0.901860</td>\n",
       "      <td>1.046608</td>\n",
       "      <td>0.510382</td>\n",
       "      <td>-0.113066</td>\n",
       "      <td>-1.334246</td>\n",
       "      <td>2.293523</td>\n",
       "      <td>-0.753720</td>\n",
       "      <td>1.875162</td>\n",
       "      <td>0.183325</td>\n",
       "      <td>1.129252</td>\n",
       "      <td>-2.272649</td>\n",
       "      <td>0.741484</td>\n",
       "      <td>0.297328</td>\n",
       "      <td>-2.260319</td>\n",
       "      <td>-1.523500</td>\n",
       "      <td>-0.063436</td>\n",
       "      <td>1.430352</td>\n",
       "      <td>-0.950970</td>\n",
       "      <td>0.816022</td>\n",
       "      <td>-0.354943</td>\n",
       "      <td>0.444400</td>\n",
       "      <td>-0.407325</td>\n",
       "      <td>-1.694755</td>\n",
       "      <td>-1.100028</td>\n",
       "      <td>-1.340298</td>\n",
       "      <td>-0.632283</td>\n",
       "      <td>-1.048911</td>\n",
       "      <td>-1.157424</td>\n",
       "      <td>0.289609</td>\n",
       "      <td>1.245689</td>\n",
       "      <td>-0.288548</td>\n",
       "      <td>-0.489839</td>\n",
       "      <td>0.144477</td>\n",
       "      <td>1.231629</td>\n",
       "      <td>-1.577886</td>\n",
       "      <td>1.100507</td>\n",
       "      <td>1.434138</td>\n",
       "      <td>-1.520447</td>\n",
       "      <td>0.901984</td>\n",
       "      <td>-0.231574</td>\n",
       "      <td>-2.280113</td>\n",
       "      <td>1.347166</td>\n",
       "      <td>2.235009</td>\n",
       "      <td>-2.077207</td>\n",
       "      <td>0.323503</td>\n",
       "      <td>1.614585</td>\n",
       "      <td>-0.715993</td>\n",
       "      <td>1.182941</td>\n",
       "      <td>1.121943</td>\n",
       "      <td>0.078111</td>\n",
       "      <td>0.121623</td>\n",
       "      <td>-0.419214</td>\n",
       "      <td>-1.347232</td>\n",
       "      <td>1.352050</td>\n",
       "      <td>0.154044</td>\n",
       "      <td>-1.246703</td>\n",
       "      <td>2.056533</td>\n",
       "      <td>2.357893</td>\n",
       "      <td>-1.784181</td>\n",
       "      <td>0.584339</td>\n",
       "    </tr>\n",
       "    <tr>\n",
       "      <th>291926</th>\n",
       "      <td>1398</td>\n",
       "      <td>2024-06-14</td>\n",
       "      <td>2024-06-26</td>\n",
       "      <td>2</td>\n",
       "      <td>4</td>\n",
       "      <td>2</td>\n",
       "      <td>0</td>\n",
       "      <td>2</td>\n",
       "      <td>0</td>\n",
       "      <td>0</td>\n",
       "      <td>0.0</td>\n",
       "      <td>1.0</td>\n",
       "      <td>0.0</td>\n",
       "      <td>False</td>\n",
       "      <td>True</td>\n",
       "      <td>False</td>\n",
       "      <td>False</td>\n",
       "      <td>False</td>\n",
       "      <td>False</td>\n",
       "      <td>False</td>\n",
       "      <td>18.0</td>\n",
       "      <td>6.0</td>\n",
       "      <td>0</td>\n",
       "      <td>8</td>\n",
       "      <td>0</td>\n",
       "      <td>0</td>\n",
       "      <td>2</td>\n",
       "      <td>5</td>\n",
       "      <td>0</td>\n",
       "      <td>2</td>\n",
       "      <td>0</td>\n",
       "      <td>0</td>\n",
       "      <td>0</td>\n",
       "      <td>1</td>\n",
       "      <td>2</td>\n",
       "      <td>0</td>\n",
       "      <td>0</td>\n",
       "      <td>0</td>\n",
       "      <td>0</td>\n",
       "      <td>39.0</td>\n",
       "      <td>6</td>\n",
       "      <td>4</td>\n",
       "      <td>3</td>\n",
       "      <td>3</td>\n",
       "      <td>8</td>\n",
       "      <td>10</td>\n",
       "      <td>0</td>\n",
       "      <td>200</td>\n",
       "      <td>0.0</td>\n",
       "      <td>-0.050422</td>\n",
       "      <td>-1.238044</td>\n",
       "      <td>-1.269763</td>\n",
       "      <td>0.962297</td>\n",
       "      <td>-0.257396</td>\n",
       "      <td>0.450170</td>\n",
       "      <td>0.684361</td>\n",
       "      <td>0.465161</td>\n",
       "      <td>0.479866</td>\n",
       "      <td>0.398770</td>\n",
       "      <td>-0.234095</td>\n",
       "      <td>-1.245737</td>\n",
       "      <td>-1.314227</td>\n",
       "      <td>0.882728</td>\n",
       "      <td>-0.947708</td>\n",
       "      <td>1.500426</td>\n",
       "      <td>1.291883</td>\n",
       "      <td>1.586779</td>\n",
       "      <td>0.942150</td>\n",
       "      <td>1.020312</td>\n",
       "      <td>-0.020887</td>\n",
       "      <td>0.440570</td>\n",
       "      <td>0.750453</td>\n",
       "      <td>-1.106586</td>\n",
       "      <td>-1.166365</td>\n",
       "      <td>-0.746130</td>\n",
       "      <td>0.452928</td>\n",
       "      <td>0.134487</td>\n",
       "      <td>2.134719</td>\n",
       "      <td>-0.051744</td>\n",
       "      <td>-0.895949</td>\n",
       "      <td>0.428914</td>\n",
       "      <td>-0.029644</td>\n",
       "      <td>-0.408267</td>\n",
       "      <td>0.458076</td>\n",
       "      <td>-0.216447</td>\n",
       "      <td>-0.901860</td>\n",
       "      <td>1.046608</td>\n",
       "      <td>0.510382</td>\n",
       "      <td>-0.113066</td>\n",
       "      <td>-1.334246</td>\n",
       "      <td>2.293523</td>\n",
       "      <td>-0.753720</td>\n",
       "      <td>1.875162</td>\n",
       "      <td>0.183325</td>\n",
       "      <td>1.129252</td>\n",
       "      <td>-2.272649</td>\n",
       "      <td>0.741484</td>\n",
       "      <td>0.297328</td>\n",
       "      <td>-2.260319</td>\n",
       "      <td>-1.523500</td>\n",
       "      <td>-0.063436</td>\n",
       "      <td>1.430352</td>\n",
       "      <td>-0.950970</td>\n",
       "      <td>0.816022</td>\n",
       "      <td>-0.354943</td>\n",
       "      <td>0.444400</td>\n",
       "      <td>-0.407325</td>\n",
       "      <td>-1.694755</td>\n",
       "      <td>-1.100028</td>\n",
       "      <td>-1.340298</td>\n",
       "      <td>-0.632283</td>\n",
       "      <td>-1.048911</td>\n",
       "      <td>-1.157424</td>\n",
       "      <td>0.289609</td>\n",
       "      <td>1.245689</td>\n",
       "      <td>-0.288548</td>\n",
       "      <td>-0.489839</td>\n",
       "      <td>0.144477</td>\n",
       "      <td>1.231629</td>\n",
       "      <td>-1.577886</td>\n",
       "      <td>1.100507</td>\n",
       "      <td>1.434138</td>\n",
       "      <td>-1.520447</td>\n",
       "      <td>0.901984</td>\n",
       "      <td>-0.231574</td>\n",
       "      <td>-2.280113</td>\n",
       "      <td>1.347166</td>\n",
       "      <td>2.235009</td>\n",
       "      <td>-2.077207</td>\n",
       "      <td>0.323503</td>\n",
       "      <td>1.614585</td>\n",
       "      <td>-0.715993</td>\n",
       "      <td>1.182941</td>\n",
       "      <td>1.121943</td>\n",
       "      <td>0.078111</td>\n",
       "      <td>0.121623</td>\n",
       "      <td>-0.419214</td>\n",
       "      <td>-1.347232</td>\n",
       "      <td>1.352050</td>\n",
       "      <td>0.154044</td>\n",
       "      <td>-1.246703</td>\n",
       "      <td>2.056533</td>\n",
       "      <td>2.357893</td>\n",
       "      <td>-1.784181</td>\n",
       "      <td>0.584339</td>\n",
       "    </tr>\n",
       "    <tr>\n",
       "      <th>291927</th>\n",
       "      <td>154</td>\n",
       "      <td>2024-06-14</td>\n",
       "      <td>2024-06-26</td>\n",
       "      <td>2</td>\n",
       "      <td>4</td>\n",
       "      <td>2</td>\n",
       "      <td>0</td>\n",
       "      <td>2</td>\n",
       "      <td>0</td>\n",
       "      <td>0</td>\n",
       "      <td>1.0</td>\n",
       "      <td>0.0</td>\n",
       "      <td>1.0</td>\n",
       "      <td>False</td>\n",
       "      <td>True</td>\n",
       "      <td>False</td>\n",
       "      <td>False</td>\n",
       "      <td>False</td>\n",
       "      <td>False</td>\n",
       "      <td>False</td>\n",
       "      <td>18.0</td>\n",
       "      <td>6.0</td>\n",
       "      <td>0</td>\n",
       "      <td>8</td>\n",
       "      <td>0</td>\n",
       "      <td>0</td>\n",
       "      <td>2</td>\n",
       "      <td>5</td>\n",
       "      <td>0</td>\n",
       "      <td>2</td>\n",
       "      <td>0</td>\n",
       "      <td>0</td>\n",
       "      <td>0</td>\n",
       "      <td>1</td>\n",
       "      <td>2</td>\n",
       "      <td>0</td>\n",
       "      <td>0</td>\n",
       "      <td>0</td>\n",
       "      <td>0</td>\n",
       "      <td>39.0</td>\n",
       "      <td>6</td>\n",
       "      <td>4</td>\n",
       "      <td>3</td>\n",
       "      <td>3</td>\n",
       "      <td>0</td>\n",
       "      <td>10</td>\n",
       "      <td>0</td>\n",
       "      <td>385</td>\n",
       "      <td>0.0</td>\n",
       "      <td>-0.050422</td>\n",
       "      <td>-1.238044</td>\n",
       "      <td>-1.269763</td>\n",
       "      <td>0.962297</td>\n",
       "      <td>-0.257396</td>\n",
       "      <td>0.450170</td>\n",
       "      <td>0.684361</td>\n",
       "      <td>0.465161</td>\n",
       "      <td>0.479866</td>\n",
       "      <td>0.398770</td>\n",
       "      <td>-0.234095</td>\n",
       "      <td>-1.245737</td>\n",
       "      <td>-1.314227</td>\n",
       "      <td>0.882728</td>\n",
       "      <td>-0.947708</td>\n",
       "      <td>1.500426</td>\n",
       "      <td>1.291883</td>\n",
       "      <td>1.586779</td>\n",
       "      <td>0.942150</td>\n",
       "      <td>1.020312</td>\n",
       "      <td>-0.020887</td>\n",
       "      <td>0.440570</td>\n",
       "      <td>0.750453</td>\n",
       "      <td>-1.106586</td>\n",
       "      <td>-1.166365</td>\n",
       "      <td>-0.746130</td>\n",
       "      <td>0.452928</td>\n",
       "      <td>0.134487</td>\n",
       "      <td>2.134719</td>\n",
       "      <td>-0.051744</td>\n",
       "      <td>-0.895949</td>\n",
       "      <td>0.428914</td>\n",
       "      <td>-0.029644</td>\n",
       "      <td>-0.408267</td>\n",
       "      <td>0.458076</td>\n",
       "      <td>-0.216447</td>\n",
       "      <td>-0.901860</td>\n",
       "      <td>1.046608</td>\n",
       "      <td>0.510382</td>\n",
       "      <td>-0.113066</td>\n",
       "      <td>-1.334246</td>\n",
       "      <td>2.293523</td>\n",
       "      <td>-0.753720</td>\n",
       "      <td>1.875162</td>\n",
       "      <td>0.183325</td>\n",
       "      <td>1.129252</td>\n",
       "      <td>-2.272649</td>\n",
       "      <td>0.741484</td>\n",
       "      <td>0.297328</td>\n",
       "      <td>-2.260319</td>\n",
       "      <td>-1.523500</td>\n",
       "      <td>-0.063436</td>\n",
       "      <td>1.430352</td>\n",
       "      <td>-0.950970</td>\n",
       "      <td>0.816022</td>\n",
       "      <td>-0.354943</td>\n",
       "      <td>0.444400</td>\n",
       "      <td>-0.407325</td>\n",
       "      <td>-1.694755</td>\n",
       "      <td>-1.100028</td>\n",
       "      <td>-1.340298</td>\n",
       "      <td>-0.632283</td>\n",
       "      <td>-1.048911</td>\n",
       "      <td>-1.157424</td>\n",
       "      <td>0.289609</td>\n",
       "      <td>1.245689</td>\n",
       "      <td>-0.288548</td>\n",
       "      <td>-0.489839</td>\n",
       "      <td>0.144477</td>\n",
       "      <td>1.231629</td>\n",
       "      <td>-1.577886</td>\n",
       "      <td>1.100507</td>\n",
       "      <td>1.434138</td>\n",
       "      <td>-1.520447</td>\n",
       "      <td>0.901984</td>\n",
       "      <td>-0.231574</td>\n",
       "      <td>-2.280113</td>\n",
       "      <td>1.347166</td>\n",
       "      <td>2.235009</td>\n",
       "      <td>-2.077207</td>\n",
       "      <td>0.323503</td>\n",
       "      <td>1.614585</td>\n",
       "      <td>-0.715993</td>\n",
       "      <td>1.182941</td>\n",
       "      <td>1.121943</td>\n",
       "      <td>0.078111</td>\n",
       "      <td>0.121623</td>\n",
       "      <td>-0.419214</td>\n",
       "      <td>-1.347232</td>\n",
       "      <td>1.352050</td>\n",
       "      <td>0.154044</td>\n",
       "      <td>-1.246703</td>\n",
       "      <td>2.056533</td>\n",
       "      <td>2.357893</td>\n",
       "      <td>-1.784181</td>\n",
       "      <td>0.584339</td>\n",
       "    </tr>\n",
       "  </tbody>\n",
       "</table>\n",
       "<p>291928 rows × 145 columns</p>\n",
       "</div>"
      ],
      "text/plain": [
       "        id_aluno first_data_aula last_data_aula  sum_dia_semana_1  \\\n",
       "0            648      2021-07-01     2021-08-17                 1   \n",
       "1            481      2021-07-01     2021-08-17                 4   \n",
       "2            482      2021-07-01     2021-08-17                 4   \n",
       "3            483      2021-07-01     2021-08-17                 4   \n",
       "4            484      2021-07-01     2021-08-17                 4   \n",
       "...          ...             ...            ...               ...   \n",
       "291923      2165      2024-06-14     2024-06-26                 2   \n",
       "291924      2180      2024-06-14     2024-06-26                 4   \n",
       "291925      1447      2024-06-14     2024-06-26                 2   \n",
       "291926      1398      2024-06-14     2024-06-26                 2   \n",
       "291927       154      2024-06-14     2024-06-26                 2   \n",
       "\n",
       "        sum_dia_semana_2  sum_dia_semana_3  sum_dia_semana_4  \\\n",
       "0                      4                 0                 5   \n",
       "1                      3                 2                 1   \n",
       "2                      3                 2                 1   \n",
       "3                      3                 2                 1   \n",
       "4                      3                 2                 1   \n",
       "...                  ...               ...               ...   \n",
       "291923                 4                 2                 0   \n",
       "291924                 0                 4                 0   \n",
       "291925                 4                 2                 0   \n",
       "291926                 4                 2                 0   \n",
       "291927                 4                 2                 0   \n",
       "\n",
       "        sum_dia_semana_5  sum_dia_semana_6  sum_dia_semana_7  sexo_aluno  \\\n",
       "0                      0                 0                 0         1.0   \n",
       "1                      0                 0                 0         1.0   \n",
       "2                      0                 0                 0         0.0   \n",
       "3                      0                 0                 0         1.0   \n",
       "4                      0                 0                 0         1.0   \n",
       "...                  ...               ...               ...         ...   \n",
       "291923                 2                 0                 0         1.0   \n",
       "291924                 2                 0                 0         1.0   \n",
       "291925                 2                 0                 0         1.0   \n",
       "291926                 2                 0                 0         0.0   \n",
       "291927                 2                 0                 0         1.0   \n",
       "\n",
       "        tem_pai  tem_mae raca_aluno_A raca_aluno_B raca_aluno_I raca_aluno_N  \\\n",
       "0           0.0      1.0        False        False        False        False   \n",
       "1           0.0      1.0        False         True        False        False   \n",
       "2           0.0      1.0        False         True        False        False   \n",
       "3           0.0      1.0        False        False        False        False   \n",
       "4           0.0      1.0        False         True        False        False   \n",
       "...         ...      ...          ...          ...          ...          ...   \n",
       "291923      1.0      0.0        False        False        False        False   \n",
       "291924      1.0      0.0        False         True        False        False   \n",
       "291925      1.0      0.0        False        False        False        False   \n",
       "291926      1.0      0.0        False         True        False        False   \n",
       "291927      0.0      1.0        False         True        False        False   \n",
       "\n",
       "       raca_aluno_None raca_aluno_P raca_aluno_R  idade_aluno_media  \\\n",
       "0                False         True        False               10.0   \n",
       "1                False        False        False               14.0   \n",
       "2                False        False        False               13.0   \n",
       "3                False        False         True               12.0   \n",
       "4                False        False        False               13.0   \n",
       "...                ...          ...          ...                ...   \n",
       "291923           False        False         True               18.0   \n",
       "291924           False        False        False               17.0   \n",
       "291925           False        False         True               17.0   \n",
       "291926           False        False        False               18.0   \n",
       "291927           False        False        False               18.0   \n",
       "\n",
       "        sexo_professor_sum raca_professor_A_sum raca_professor_B_sum  \\\n",
       "0                     10.0                    0                    6   \n",
       "1                     10.0                    0                    3   \n",
       "2                     10.0                    0                    3   \n",
       "3                     10.0                    0                    3   \n",
       "4                     10.0                    0                    3   \n",
       "...                    ...                  ...                  ...   \n",
       "291923                 6.0                    0                    8   \n",
       "291924                 8.0                    0                    8   \n",
       "291925                 6.0                    0                    8   \n",
       "291926                 6.0                    0                    8   \n",
       "291927                 6.0                    0                    8   \n",
       "\n",
       "       raca_professor_N_sum raca_professor_P_sum raca_professor_R_sum  \\\n",
       "0                         0                    0                    4   \n",
       "1                         0                    0                    7   \n",
       "2                         0                    0                    7   \n",
       "3                         0                    0                    7   \n",
       "4                         0                    0                    7   \n",
       "...                     ...                  ...                  ...   \n",
       "291923                    0                    0                    2   \n",
       "291924                    0                    0                    2   \n",
       "291925                    0                    0                    2   \n",
       "291926                    0                    0                    2   \n",
       "291927                    0                    0                    2   \n",
       "\n",
       "       cargo_professor_Nenhum_sum cargo_professor_Neuropsicóloga_sum  \\\n",
       "0                               0                                  0   \n",
       "1                               0                                  0   \n",
       "2                               0                                  0   \n",
       "3                               0                                  0   \n",
       "4                               0                                  0   \n",
       "...                           ...                                ...   \n",
       "291923                          5                                  0   \n",
       "291924                          3                                  0   \n",
       "291925                          5                                  0   \n",
       "291926                          5                                  0   \n",
       "291927                          5                                  0   \n",
       "\n",
       "       cargo_professor_Professor_sum cargo_professor_Professor_Inglês_sum  \\\n",
       "0                                  0                                    0   \n",
       "1                                  0                                    0   \n",
       "2                                  0                                    0   \n",
       "3                                  0                                    0   \n",
       "4                                  0                                    0   \n",
       "...                              ...                                  ...   \n",
       "291923                             2                                    0   \n",
       "291924                             0                                    0   \n",
       "291925                             2                                    0   \n",
       "291926                             2                                    0   \n",
       "291927                             2                                    0   \n",
       "\n",
       "       cargo_professor_Professor_de_Inglês_sum  \\\n",
       "0                                            0   \n",
       "1                                            0   \n",
       "2                                            0   \n",
       "3                                            0   \n",
       "4                                            0   \n",
       "...                                        ...   \n",
       "291923                                       0   \n",
       "291924                                       0   \n",
       "291925                                       0   \n",
       "291926                                       0   \n",
       "291927                                       0   \n",
       "\n",
       "       cargo_professor_Professor_de_Matemática_sum  \\\n",
       "0                                                0   \n",
       "1                                                0   \n",
       "2                                                0   \n",
       "3                                                0   \n",
       "4                                                0   \n",
       "...                                            ...   \n",
       "291923                                           0   \n",
       "291924                                           0   \n",
       "291925                                           0   \n",
       "291926                                           0   \n",
       "291927                                           0   \n",
       "\n",
       "       cargo_professor_Professora_sum  \\\n",
       "0                                  10   \n",
       "1                                  10   \n",
       "2                                  10   \n",
       "3                                  10   \n",
       "4                                  10   \n",
       "...                               ...   \n",
       "291923                              1   \n",
       "291924                              3   \n",
       "291925                              1   \n",
       "291926                              1   \n",
       "291927                              1   \n",
       "\n",
       "       cargo_professor_Professora_de_Inglês_sum  \\\n",
       "0                                             0   \n",
       "1                                             0   \n",
       "2                                             0   \n",
       "3                                             0   \n",
       "4                                             0   \n",
       "...                                         ...   \n",
       "291923                                        2   \n",
       "291924                                        2   \n",
       "291925                                        2   \n",
       "291926                                        2   \n",
       "291927                                        2   \n",
       "\n",
       "       cargo_professor_Professora_de_Matemática_sum  \\\n",
       "0                                                 0   \n",
       "1                                                 0   \n",
       "2                                                 0   \n",
       "3                                                 0   \n",
       "4                                                 0   \n",
       "...                                             ...   \n",
       "291923                                            0   \n",
       "291924                                            0   \n",
       "291925                                            0   \n",
       "291926                                            0   \n",
       "291927                                            0   \n",
       "\n",
       "       cargo_professor_Professora_Coordenadora_sum  \\\n",
       "0                                                0   \n",
       "1                                                0   \n",
       "2                                                0   \n",
       "3                                                0   \n",
       "4                                                0   \n",
       "...                                            ...   \n",
       "291923                                           0   \n",
       "291924                                           2   \n",
       "291925                                           0   \n",
       "291926                                           0   \n",
       "291927                                           0   \n",
       "\n",
       "       cargo_professor_Psicóloga_sum cargo_professor_Psicólogo_sum  \\\n",
       "0                                  0                             0   \n",
       "1                                  0                             0   \n",
       "2                                  0                             0   \n",
       "3                                  0                             0   \n",
       "4                                  0                             0   \n",
       "...                              ...                           ...   \n",
       "291923                             0                             0   \n",
       "291924                             0                             0   \n",
       "291925                             0                             0   \n",
       "291926                             0                             0   \n",
       "291927                             0                             0   \n",
       "\n",
       "        idade_professor_media  num_professores  num_disciplinas  num_series  \\\n",
       "0                        46.4                2                4           2   \n",
       "1                        43.8                3                3           1   \n",
       "2                        43.8                3                3           1   \n",
       "3                        43.8                3                3           1   \n",
       "4                        43.8                3                3           1   \n",
       "...                       ...              ...              ...         ...   \n",
       "291923                   39.0                6                4           3   \n",
       "291924                   41.8                6                4           3   \n",
       "291925                   39.0                6                4           3   \n",
       "291926                   39.0                6                4           3   \n",
       "291927                   39.0                6                4           3   \n",
       "\n",
       "        num_turmas  num_presencas  num_aulas  ultima_presenca  last_seq  \\\n",
       "0                2              9         10                1        10   \n",
       "1                1             10         10                1        10   \n",
       "2                1              9         10                1        10   \n",
       "3                1             10         10                1        10   \n",
       "4                1              7         10                1        10   \n",
       "...            ...            ...        ...              ...       ...   \n",
       "291923           3              7         10                0        47   \n",
       "291924           3             10         10                0        43   \n",
       "291925           3              3         10                0       186   \n",
       "291926           3              8         10                0       200   \n",
       "291927           3              0         10                0       385   \n",
       "\n",
       "        next_presente         0         1         2         3         4  \\\n",
       "0                 0.0  0.464691 -1.198423 -0.319709  0.602826 -0.460871   \n",
       "1                 1.0 -0.073422 -0.711597  0.341229  0.716728  0.310992   \n",
       "2                 1.0 -0.073422 -0.711597  0.341229  0.716728  0.310992   \n",
       "3                 1.0 -0.073422 -0.711597  0.341229  0.716728  0.310992   \n",
       "4                 1.0 -0.073422 -0.711597  0.341229  0.716728  0.310992   \n",
       "...               ...       ...       ...       ...       ...       ...   \n",
       "291923            1.0 -0.050422 -1.238044 -1.269763  0.962297 -0.257396   \n",
       "291924            1.0 -0.288524 -0.763260 -1.136158  0.179402 -0.021400   \n",
       "291925            0.0 -0.050422 -1.238044 -1.269763  0.962297 -0.257396   \n",
       "291926            0.0 -0.050422 -1.238044 -1.269763  0.962297 -0.257396   \n",
       "291927            0.0 -0.050422 -1.238044 -1.269763  0.962297 -0.257396   \n",
       "\n",
       "               5         6         7         8         9        10        11  \\\n",
       "0       1.102701  0.704168  0.853496 -0.009229  0.622204  0.452460 -2.836177   \n",
       "1       0.983920  0.866293  1.014369  0.307688 -0.136745  0.239743 -2.273412   \n",
       "2       0.983920  0.866293  1.014369  0.307688 -0.136745  0.239743 -2.273412   \n",
       "3       0.983920  0.866293  1.014369  0.307688 -0.136745  0.239743 -2.273412   \n",
       "4       0.983920  0.866293  1.014369  0.307688 -0.136745  0.239743 -2.273412   \n",
       "...          ...       ...       ...       ...       ...       ...       ...   \n",
       "291923  0.450170  0.684361  0.465161  0.479866  0.398770 -0.234095 -1.245737   \n",
       "291924  0.277619  0.812288  0.791743  0.850081  0.128132  0.403342 -0.645786   \n",
       "291925  0.450170  0.684361  0.465161  0.479866  0.398770 -0.234095 -1.245737   \n",
       "291926  0.450170  0.684361  0.465161  0.479866  0.398770 -0.234095 -1.245737   \n",
       "291927  0.450170  0.684361  0.465161  0.479866  0.398770 -0.234095 -1.245737   \n",
       "\n",
       "              12        13        14        15        16        17        18  \\\n",
       "0      -1.992858  1.045671 -1.642192  1.548579  0.522448  0.780726  1.101357   \n",
       "1      -1.965942  1.003965 -1.419866  1.729892  0.465460  0.265484  0.560922   \n",
       "2      -1.965942  1.003965 -1.419866  1.729892  0.465460  0.265484  0.560922   \n",
       "3      -1.965942  1.003965 -1.419866  1.729892  0.465460  0.265484  0.560922   \n",
       "4      -1.965942  1.003965 -1.419866  1.729892  0.465460  0.265484  0.560922   \n",
       "...          ...       ...       ...       ...       ...       ...       ...   \n",
       "291923 -1.314227  0.882728 -0.947708  1.500426  1.291883  1.586779  0.942150   \n",
       "291924 -1.215454  0.995555 -1.158576  1.780186  0.544404  0.932733  0.805588   \n",
       "291925 -1.314227  0.882728 -0.947708  1.500426  1.291883  1.586779  0.942150   \n",
       "291926 -1.314227  0.882728 -0.947708  1.500426  1.291883  1.586779  0.942150   \n",
       "291927 -1.314227  0.882728 -0.947708  1.500426  1.291883  1.586779  0.942150   \n",
       "\n",
       "              19        20        21        22        23        24        25  \\\n",
       "0       0.818639 -0.097104  0.239930  0.080852  0.198630 -0.890790 -0.782643   \n",
       "1       0.985313  1.118845  0.106258 -0.788691  1.096229 -1.335220 -0.296204   \n",
       "2       0.985313  1.118845  0.106258 -0.788691  1.096229 -1.335220 -0.296204   \n",
       "3       0.985313  1.118845  0.106258 -0.788691  1.096229 -1.335220 -0.296204   \n",
       "4       0.985313  1.118845  0.106258 -0.788691  1.096229 -1.335220 -0.296204   \n",
       "...          ...       ...       ...       ...       ...       ...       ...   \n",
       "291923  1.020312 -0.020887  0.440570  0.750453 -1.106586 -1.166365 -0.746130   \n",
       "291924  1.092296  0.282561  0.117263  0.265517 -0.693496 -1.316221 -0.858699   \n",
       "291925  1.020312 -0.020887  0.440570  0.750453 -1.106586 -1.166365 -0.746130   \n",
       "291926  1.020312 -0.020887  0.440570  0.750453 -1.106586 -1.166365 -0.746130   \n",
       "291927  1.020312 -0.020887  0.440570  0.750453 -1.106586 -1.166365 -0.746130   \n",
       "\n",
       "              26        27        28        29        30        31        32  \\\n",
       "0       1.410378  0.247345  1.862815  0.916794 -0.138691  1.315967  0.865970   \n",
       "1       1.267547  0.519375  2.182246  0.705323  0.741574  0.965964  0.875002   \n",
       "2       1.267547  0.519375  2.182246  0.705323  0.741574  0.965964  0.875002   \n",
       "3       1.267547  0.519375  2.182246  0.705323  0.741574  0.965964  0.875002   \n",
       "4       1.267547  0.519375  2.182246  0.705323  0.741574  0.965964  0.875002   \n",
       "...          ...       ...       ...       ...       ...       ...       ...   \n",
       "291923  0.452928  0.134487  2.134719 -0.051744 -0.895949  0.428914 -0.029644   \n",
       "291924  0.721987 -0.066156  2.295448  0.772107 -0.969262 -0.089636  1.062938   \n",
       "291925  0.452928  0.134487  2.134719 -0.051744 -0.895949  0.428914 -0.029644   \n",
       "291926  0.452928  0.134487  2.134719 -0.051744 -0.895949  0.428914 -0.029644   \n",
       "291927  0.452928  0.134487  2.134719 -0.051744 -0.895949  0.428914 -0.029644   \n",
       "\n",
       "              33        34        35        36        37        38        39  \\\n",
       "0       0.294602  0.399981 -0.821849 -0.432646  0.700167 -0.233130  0.618022   \n",
       "1      -0.318132  1.435704 -0.588161 -0.514121  0.081712 -0.742954 -0.373873   \n",
       "2      -0.318132  1.435704 -0.588161 -0.514121  0.081712 -0.742954 -0.373873   \n",
       "3      -0.318132  1.435704 -0.588161 -0.514121  0.081712 -0.742954 -0.373873   \n",
       "4      -0.318132  1.435704 -0.588161 -0.514121  0.081712 -0.742954 -0.373873   \n",
       "...          ...       ...       ...       ...       ...       ...       ...   \n",
       "291923 -0.408267  0.458076 -0.216447 -0.901860  1.046608  0.510382 -0.113066   \n",
       "291924  0.305650  0.414655  0.649551 -1.510350  1.374651  0.025952  0.089353   \n",
       "291925 -0.408267  0.458076 -0.216447 -0.901860  1.046608  0.510382 -0.113066   \n",
       "291926 -0.408267  0.458076 -0.216447 -0.901860  1.046608  0.510382 -0.113066   \n",
       "291927 -0.408267  0.458076 -0.216447 -0.901860  1.046608  0.510382 -0.113066   \n",
       "\n",
       "              40        41        42        43        44        45        46  \\\n",
       "0      -1.726568  2.311276 -0.858766  1.622699  0.139805  0.816618 -0.911285   \n",
       "1      -1.616383  1.426424 -0.651520  1.620814  0.624212  0.122211 -1.464309   \n",
       "2      -1.616383  1.426424 -0.651520  1.620814  0.624212  0.122211 -1.464309   \n",
       "3      -1.616383  1.426424 -0.651520  1.620814  0.624212  0.122211 -1.464309   \n",
       "4      -1.616383  1.426424 -0.651520  1.620814  0.624212  0.122211 -1.464309   \n",
       "...          ...       ...       ...       ...       ...       ...       ...   \n",
       "291923 -1.334246  2.293523 -0.753720  1.875162  0.183325  1.129252 -2.272649   \n",
       "291924 -1.234080  2.362644 -1.448102  1.661774  0.302329  0.894799 -2.406747   \n",
       "291925 -1.334246  2.293523 -0.753720  1.875162  0.183325  1.129252 -2.272649   \n",
       "291926 -1.334246  2.293523 -0.753720  1.875162  0.183325  1.129252 -2.272649   \n",
       "291927 -1.334246  2.293523 -0.753720  1.875162  0.183325  1.129252 -2.272649   \n",
       "\n",
       "              47        48        49        50        51        52        53  \\\n",
       "0       1.377313 -1.339101 -1.049585 -0.658509  0.292452  1.949671  0.319016   \n",
       "1       0.939843 -1.150770 -1.419779 -1.389726 -0.188227  1.731806  0.485782   \n",
       "2       0.939843 -1.150770 -1.419779 -1.389726 -0.188227  1.731806  0.485782   \n",
       "3       0.939843 -1.150770 -1.419779 -1.389726 -0.188227  1.731806  0.485782   \n",
       "4       0.939843 -1.150770 -1.419779 -1.389726 -0.188227  1.731806  0.485782   \n",
       "...          ...       ...       ...       ...       ...       ...       ...   \n",
       "291923  0.741484  0.297328 -2.260319 -1.523500 -0.063436  1.430352 -0.950970   \n",
       "291924  0.671247 -0.327429 -1.656167 -1.711582  0.033773  1.422380 -0.771310   \n",
       "291925  0.741484  0.297328 -2.260319 -1.523500 -0.063436  1.430352 -0.950970   \n",
       "291926  0.741484  0.297328 -2.260319 -1.523500 -0.063436  1.430352 -0.950970   \n",
       "291927  0.741484  0.297328 -2.260319 -1.523500 -0.063436  1.430352 -0.950970   \n",
       "\n",
       "              54        55        56        57        58        59        60  \\\n",
       "0       0.976979 -0.751922  0.579159 -0.586001 -1.081194 -1.101541 -0.748312   \n",
       "1       0.163470  0.112734  0.025611 -0.745826 -1.255155 -1.278717 -0.754777   \n",
       "2       0.163470  0.112734  0.025611 -0.745826 -1.255155 -1.278717 -0.754777   \n",
       "3       0.163470  0.112734  0.025611 -0.745826 -1.255155 -1.278717 -0.754777   \n",
       "4       0.163470  0.112734  0.025611 -0.745826 -1.255155 -1.278717 -0.754777   \n",
       "...          ...       ...       ...       ...       ...       ...       ...   \n",
       "291923  0.816022 -0.354943  0.444400 -0.407325 -1.694755 -1.100028 -1.340298   \n",
       "291924  0.500281 -0.487960  0.929167 -0.677446 -1.783778 -0.592887 -0.876282   \n",
       "291925  0.816022 -0.354943  0.444400 -0.407325 -1.694755 -1.100028 -1.340298   \n",
       "291926  0.816022 -0.354943  0.444400 -0.407325 -1.694755 -1.100028 -1.340298   \n",
       "291927  0.816022 -0.354943  0.444400 -0.407325 -1.694755 -1.100028 -1.340298   \n",
       "\n",
       "              61        62        63        64        65        66        67  \\\n",
       "0      -1.767539 -1.438028 -1.489322 -0.372536  0.985170 -0.870256 -1.297789   \n",
       "1      -0.651368 -1.434665 -1.241882  0.646737  0.890642 -1.073662 -1.112513   \n",
       "2      -0.651368 -1.434665 -1.241882  0.646737  0.890642 -1.073662 -1.112513   \n",
       "3      -0.651368 -1.434665 -1.241882  0.646737  0.890642 -1.073662 -1.112513   \n",
       "4      -0.651368 -1.434665 -1.241882  0.646737  0.890642 -1.073662 -1.112513   \n",
       "...          ...       ...       ...       ...       ...       ...       ...   \n",
       "291923 -0.632283 -1.048911 -1.157424  0.289609  1.245689 -0.288548 -0.489839   \n",
       "291924 -0.287201 -0.920124 -1.329390  0.688919  0.732411 -1.063651 -0.712930   \n",
       "291925 -0.632283 -1.048911 -1.157424  0.289609  1.245689 -0.288548 -0.489839   \n",
       "291926 -0.632283 -1.048911 -1.157424  0.289609  1.245689 -0.288548 -0.489839   \n",
       "291927 -0.632283 -1.048911 -1.157424  0.289609  1.245689 -0.288548 -0.489839   \n",
       "\n",
       "              68        69        70        71        72        73        74  \\\n",
       "0      -1.058778  0.659834 -1.343446  1.526212  1.048456 -1.556131 -0.236190   \n",
       "1      -0.248149  0.930719 -1.112172  1.277486  1.265674 -1.521356 -0.027169   \n",
       "2      -0.248149  0.930719 -1.112172  1.277486  1.265674 -1.521356 -0.027169   \n",
       "3      -0.248149  0.930719 -1.112172  1.277486  1.265674 -1.521356 -0.027169   \n",
       "4      -0.248149  0.930719 -1.112172  1.277486  1.265674 -1.521356 -0.027169   \n",
       "...          ...       ...       ...       ...       ...       ...       ...   \n",
       "291923  0.144477  1.231629 -1.577886  1.100507  1.434138 -1.520447  0.901984   \n",
       "291924 -0.158928  0.852834 -0.975536  0.610664  0.890955 -1.398141  0.922017   \n",
       "291925  0.144477  1.231629 -1.577886  1.100507  1.434138 -1.520447  0.901984   \n",
       "291926  0.144477  1.231629 -1.577886  1.100507  1.434138 -1.520447  0.901984   \n",
       "291927  0.144477  1.231629 -1.577886  1.100507  1.434138 -1.520447  0.901984   \n",
       "\n",
       "              75        76        77        78        79        80        81  \\\n",
       "0      -1.028931 -0.554941  0.386188  2.106617 -1.995267 -0.088607  1.010175   \n",
       "1       0.071664 -0.988226  0.122071  1.073685 -1.859833  0.132486  1.305501   \n",
       "2       0.071664 -0.988226  0.122071  1.073685 -1.859833  0.132486  1.305501   \n",
       "3       0.071664 -0.988226  0.122071  1.073685 -1.859833  0.132486  1.305501   \n",
       "4       0.071664 -0.988226  0.122071  1.073685 -1.859833  0.132486  1.305501   \n",
       "...          ...       ...       ...       ...       ...       ...       ...   \n",
       "291923 -0.231574 -2.280113  1.347166  2.235009 -2.077207  0.323503  1.614585   \n",
       "291924 -0.072052 -1.635451  0.864465  1.117827 -1.781196  0.705445  1.283979   \n",
       "291925 -0.231574 -2.280113  1.347166  2.235009 -2.077207  0.323503  1.614585   \n",
       "291926 -0.231574 -2.280113  1.347166  2.235009 -2.077207  0.323503  1.614585   \n",
       "291927 -0.231574 -2.280113  1.347166  2.235009 -2.077207  0.323503  1.614585   \n",
       "\n",
       "              82        83        84        85        86        87        88  \\\n",
       "0      -1.295087  1.418227  0.266865  0.647785  0.606404  0.413301 -1.151923   \n",
       "1      -1.279922  1.328429  0.520989  1.093549  0.686937  0.732217 -1.404893   \n",
       "2      -1.279922  1.328429  0.520989  1.093549  0.686937  0.732217 -1.404893   \n",
       "3      -1.279922  1.328429  0.520989  1.093549  0.686937  0.732217 -1.404893   \n",
       "4      -1.279922  1.328429  0.520989  1.093549  0.686937  0.732217 -1.404893   \n",
       "...          ...       ...       ...       ...       ...       ...       ...   \n",
       "291923 -0.715993  1.182941  1.121943  0.078111  0.121623 -0.419214 -1.347232   \n",
       "291924 -0.520089  0.941617  0.489129  0.464675  0.749021 -0.568837 -1.117249   \n",
       "291925 -0.715993  1.182941  1.121943  0.078111  0.121623 -0.419214 -1.347232   \n",
       "291926 -0.715993  1.182941  1.121943  0.078111  0.121623 -0.419214 -1.347232   \n",
       "291927 -0.715993  1.182941  1.121943  0.078111  0.121623 -0.419214 -1.347232   \n",
       "\n",
       "              89        90        91        92        93        94        95  \n",
       "0       1.166774  0.870474 -1.508583  1.903979  1.765981 -1.539079  0.019102  \n",
       "1       1.191996  0.696156 -1.721939  1.838985  1.061773 -1.971193 -0.030658  \n",
       "2       1.191996  0.696156 -1.721939  1.838985  1.061773 -1.971193 -0.030658  \n",
       "3       1.191996  0.696156 -1.721939  1.838985  1.061773 -1.971193 -0.030658  \n",
       "4       1.191996  0.696156 -1.721939  1.838985  1.061773 -1.971193 -0.030658  \n",
       "...          ...       ...       ...       ...       ...       ...       ...  \n",
       "291923  1.352050  0.154044 -1.246703  2.056533  2.357893 -1.784181  0.584339  \n",
       "291924  1.353121  0.372614 -0.926223  2.378915  1.684329 -1.512201 -0.044146  \n",
       "291925  1.352050  0.154044 -1.246703  2.056533  2.357893 -1.784181  0.584339  \n",
       "291926  1.352050  0.154044 -1.246703  2.056533  2.357893 -1.784181  0.584339  \n",
       "291927  1.352050  0.154044 -1.246703  2.056533  2.357893 -1.784181  0.584339  \n",
       "\n",
       "[291928 rows x 145 columns]"
      ]
     },
     "execution_count": 2,
     "metadata": {},
     "output_type": "execute_result"
    }
   ],
   "source": [
    "# Caminho do arquivo .pkl\n",
    "file_path = 'abt.pkl'\n",
    "\n",
    "# Abrir o arquivo .pkl e carregar os dados\n",
    "with open(file_path, 'rb') as file:\n",
    "    data = pickle.load(file)\n",
    "\n",
    "# Se os dados forem compatíveis com um DataFrame, basta convertê-los\n",
    "abt = pd.DataFrame(data)\n",
    "\n",
    "# Verificar o DataFrame\n",
    "abt"
   ]
  },
  {
   "cell_type": "code",
   "execution_count": 4,
   "metadata": {},
   "outputs": [
    {
     "data": {
      "text/plain": [
       "{0,\n",
       " 1,\n",
       " 10,\n",
       " 11,\n",
       " 12,\n",
       " 13,\n",
       " 14,\n",
       " 15,\n",
       " 16,\n",
       " 17,\n",
       " 18,\n",
       " 19,\n",
       " 2,\n",
       " 20,\n",
       " 21,\n",
       " 22,\n",
       " 23,\n",
       " 24,\n",
       " 25,\n",
       " 26,\n",
       " 27,\n",
       " 28,\n",
       " 29,\n",
       " 3,\n",
       " 30,\n",
       " 31,\n",
       " 32,\n",
       " 33,\n",
       " 34,\n",
       " 35,\n",
       " 36,\n",
       " 37,\n",
       " 38,\n",
       " 39,\n",
       " 4,\n",
       " 40,\n",
       " 41,\n",
       " 42,\n",
       " 43,\n",
       " 44,\n",
       " 45,\n",
       " 46,\n",
       " 47,\n",
       " 48,\n",
       " 49,\n",
       " 5,\n",
       " 50,\n",
       " 51,\n",
       " 52,\n",
       " 53,\n",
       " 54,\n",
       " 55,\n",
       " 56,\n",
       " 57,\n",
       " 58,\n",
       " 59,\n",
       " 6,\n",
       " 60,\n",
       " 61,\n",
       " 62,\n",
       " 63,\n",
       " 64,\n",
       " 65,\n",
       " 66,\n",
       " 67,\n",
       " 68,\n",
       " 69,\n",
       " 7,\n",
       " 70,\n",
       " 71,\n",
       " 72,\n",
       " 73,\n",
       " 74,\n",
       " 75,\n",
       " 76,\n",
       " 77,\n",
       " 78,\n",
       " 79,\n",
       " 8,\n",
       " 80,\n",
       " 81,\n",
       " 82,\n",
       " 83,\n",
       " 84,\n",
       " 85,\n",
       " 86,\n",
       " 87,\n",
       " 88,\n",
       " 89,\n",
       " 9,\n",
       " 90,\n",
       " 91,\n",
       " 92,\n",
       " 93,\n",
       " 94,\n",
       " 95,\n",
       " 'cargo_professor_Nenhum_sum',\n",
       " 'cargo_professor_Neuropsicóloga_sum',\n",
       " 'cargo_professor_Professor_Inglês_sum',\n",
       " 'cargo_professor_Professor_de_Inglês_sum',\n",
       " 'cargo_professor_Professor_de_Matemática_sum',\n",
       " 'cargo_professor_Professor_sum',\n",
       " 'cargo_professor_Professora_Coordenadora_sum',\n",
       " 'cargo_professor_Professora_de_Inglês_sum',\n",
       " 'cargo_professor_Professora_de_Matemática_sum',\n",
       " 'cargo_professor_Professora_sum',\n",
       " 'cargo_professor_Psicóloga_sum',\n",
       " 'cargo_professor_Psicólogo_sum',\n",
       " 'first_data_aula',\n",
       " 'id_aluno',\n",
       " 'idade_aluno_media',\n",
       " 'idade_professor_media',\n",
       " 'last_data_aula',\n",
       " 'last_seq',\n",
       " 'next_presente',\n",
       " 'num_aulas',\n",
       " 'num_disciplinas',\n",
       " 'num_presencas',\n",
       " 'num_professores',\n",
       " 'num_series',\n",
       " 'num_turmas',\n",
       " 'raca_aluno_A',\n",
       " 'raca_aluno_B',\n",
       " 'raca_aluno_I',\n",
       " 'raca_aluno_N',\n",
       " 'raca_aluno_None',\n",
       " 'raca_aluno_P',\n",
       " 'raca_aluno_R',\n",
       " 'raca_professor_A_sum',\n",
       " 'raca_professor_B_sum',\n",
       " 'raca_professor_N_sum',\n",
       " 'raca_professor_P_sum',\n",
       " 'raca_professor_R_sum',\n",
       " 'sexo_aluno',\n",
       " 'sexo_professor_sum',\n",
       " 'sum_dia_semana_1',\n",
       " 'sum_dia_semana_2',\n",
       " 'sum_dia_semana_3',\n",
       " 'sum_dia_semana_4',\n",
       " 'sum_dia_semana_5',\n",
       " 'sum_dia_semana_6',\n",
       " 'sum_dia_semana_7',\n",
       " 'tem_mae',\n",
       " 'tem_pai',\n",
       " 'ultima_presenca'}"
      ]
     },
     "execution_count": 4,
     "metadata": {},
     "output_type": "execute_result"
    }
   ],
   "source": [
    "set(abt.columns)"
   ]
  },
  {
   "cell_type": "code",
   "execution_count": 8,
   "metadata": {},
   "outputs": [
    {
     "data": {
      "text/plain": [
       "2109"
      ]
     },
     "execution_count": 8,
     "metadata": {},
     "output_type": "execute_result"
    }
   ],
   "source": [
    "len(abt['id_aluno'].unique())"
   ]
  },
  {
   "cell_type": "code",
   "execution_count": null,
   "metadata": {},
   "outputs": [],
   "source": [
    "abt[]"
   ]
  },
  {
   "cell_type": "code",
   "execution_count": 10,
   "metadata": {},
   "outputs": [
    {
     "data": {
      "text/html": [
       "<div>\n",
       "<style scoped>\n",
       "    .dataframe tbody tr th:only-of-type {\n",
       "        vertical-align: middle;\n",
       "    }\n",
       "\n",
       "    .dataframe tbody tr th {\n",
       "        vertical-align: top;\n",
       "    }\n",
       "\n",
       "    .dataframe thead th {\n",
       "        text-align: right;\n",
       "    }\n",
       "</style>\n",
       "<table border=\"1\" class=\"dataframe\">\n",
       "  <thead>\n",
       "    <tr style=\"text-align: right;\">\n",
       "      <th></th>\n",
       "      <th>count</th>\n",
       "      <th>mean</th>\n",
       "      <th>std</th>\n",
       "      <th>min</th>\n",
       "      <th>25%</th>\n",
       "      <th>50%</th>\n",
       "      <th>75%</th>\n",
       "      <th>max</th>\n",
       "    </tr>\n",
       "  </thead>\n",
       "  <tbody>\n",
       "    <tr>\n",
       "      <th>idade_aluno_media</th>\n",
       "      <td>291748.0</td>\n",
       "      <td>13.917799</td>\n",
       "      <td>2.96587</td>\n",
       "      <td>7.0</td>\n",
       "      <td>12.0</td>\n",
       "      <td>14.0</td>\n",
       "      <td>16.0</td>\n",
       "      <td>36.0</td>\n",
       "    </tr>\n",
       "  </tbody>\n",
       "</table>\n",
       "</div>"
      ],
      "text/plain": [
       "                      count       mean      std  min   25%   50%   75%   max\n",
       "idade_aluno_media  291748.0  13.917799  2.96587  7.0  12.0  14.0  16.0  36.0"
      ]
     },
     "execution_count": 10,
     "metadata": {},
     "output_type": "execute_result"
    }
   ],
   "source": [
    "abt[['idade_aluno_media']].describe().T"
   ]
  },
  {
   "cell_type": "code",
   "execution_count": 11,
   "metadata": {},
   "outputs": [
    {
     "name": "stdout",
     "output_type": "stream",
     "text": [
      "<class 'pandas.core.frame.DataFrame'>\n",
      "RangeIndex: 291928 entries, 0 to 291927\n",
      "Columns: 145 entries, id_aluno to 95\n",
      "dtypes: datetime64[ns](2), float64(103), int64(16), object(24)\n",
      "memory usage: 322.9+ MB\n"
     ]
    }
   ],
   "source": [
    "abt.info()"
   ]
  },
  {
   "cell_type": "markdown",
   "metadata": {},
   "source": [
    "#### <font color='orange'>Geração da Modelagem - Separando Bases</font>\n",
    "\n",
    "Essa divisão é essencial para garantir que o modelo seja treinado e avaliado de forma adequada, sem sobreposição dos dados de treino e teste."
   ]
  },
  {
   "cell_type": "code",
   "execution_count": 73,
   "metadata": {},
   "outputs": [],
   "source": [
    "# Separando o conjunto de treino (datas antes de 01/01/2024)\n",
    "abt_train = abt[abt['first_data_aula'] < datetime(2024, 1, 1)]\n",
    "\n",
    "# Separando o conjunto de teste (datas após 01/01/2024)\n",
    "abt_test = abt[abt['first_data_aula'] > datetime(2024, 1, 1)]\n"
   ]
  },
  {
   "cell_type": "markdown",
   "metadata": {},
   "source": [
    "1. **Objetivo**: Estamos separando os dados em duas partes: uma para treinamento do modelo e outra para teste, com base nas datas.\n",
    "\n",
    "2. **`abt_train`**: Contém as linhas onde a coluna `first_data_aula` (primeira aula) tem uma data **antes de 1º de janeiro de 2024**. Esses dados serão usados para treinar o modelo.\n",
    "\n",
    "3. **`abt_test`**: Contém as linhas onde `first_data_aula` é **após 1º de janeiro de 2024**. Esses dados serão usados para testar a performance do modelo.\n",
    "\n"
   ]
  },
  {
   "cell_type": "markdown",
   "metadata": {},
   "source": [
    "**Importância**: Ao separar as variáveis explicativas (X) das variáveis target (y), estamos preparando os dados para que possam ser usados no treinamento de um modelo preditivo, com o objetivo de prever se o aluno estará presente ou ausente na próxima aula."
   ]
  },
  {
   "cell_type": "code",
   "execution_count": 74,
   "metadata": {},
   "outputs": [],
   "source": [
    "# Separando as features (X) e o target (y) para o conjunto de treino\n",
    "X_train = abt_train.drop(columns=['id_aluno', 'next_presente', 'first_data_aula', 'last_data_aula', 'last_seq'])\n",
    "y_train = abt_train['next_presente']\n",
    "\n",
    "# Separando as features (X) e o target (y) para o conjunto de teste\n",
    "X_test = abt_test.drop(columns=['id_aluno', 'next_presente', 'first_data_aula', 'last_data_aula', 'last_seq'])\n",
    "y_test = abt_test['next_presente']\n"
   ]
  },
  {
   "cell_type": "code",
   "execution_count": 75,
   "metadata": {},
   "outputs": [
    {
     "data": {
      "text/plain": [
       "((242702, 140), (49226, 140))"
      ]
     },
     "execution_count": 75,
     "metadata": {},
     "output_type": "execute_result"
    }
   ],
   "source": [
    "X_train.shape, X_test.shape"
   ]
  },
  {
   "cell_type": "code",
   "execution_count": 76,
   "metadata": {},
   "outputs": [
    {
     "data": {
      "text/plain": [
       "((242702, 140), (49226, 140))"
      ]
     },
     "execution_count": 76,
     "metadata": {},
     "output_type": "execute_result"
    }
   ],
   "source": [
    "X_train.shape, X_test.shape"
   ]
  },
  {
   "cell_type": "markdown",
   "metadata": {},
   "source": [
    "**Separação das Features (X) e Target (y)**:\n",
    "   - **X_train** e **X_test**: São os conjuntos de dados de treino e teste, contendo todas as variáveis explicativas (features) menos as colunas que não queremos usar no modelo, como `id_aluno`, `next_presente` (que é o target), `first_data_aula`, `last_data_aula`, e `last_seq`.\n",
    "   \n",
    "   - **y_train** e **y_test**: São as variáveis target, ou seja, o que o modelo vai tentar prever. Nesse caso, é a coluna `next_presente`, que indica se o aluno estava presente na próxima aula."
   ]
  },
  {
   "cell_type": "code",
   "execution_count": 77,
   "metadata": {},
   "outputs": [
    {
     "data": {
      "text/plain": [
       "next_presente\n",
       "1.0    0.76851\n",
       "0.0    0.23149\n",
       "Name: count, dtype: float64"
      ]
     },
     "execution_count": 77,
     "metadata": {},
     "output_type": "execute_result"
    }
   ],
   "source": [
    "# Calcular as contagens de cada valor no y_train\n",
    "value_counts = y_train.value_counts()\n",
    "\n",
    "# Calcular a soma total de ocorrências\n",
    "total_count = value_counts.sum()\n",
    "\n",
    "# Normalizar as contagens (proporções)\n",
    "value_counts_normalized = value_counts / total_count\n",
    "\n",
    "# Exibir o resultado\n",
    "value_counts_normalized\n"
   ]
  },
  {
   "cell_type": "markdown",
   "metadata": {},
   "source": [
    "\n",
    "1. **`value_counts()`**: Conta quantas vezes cada valor aparece no `y_train`. Neste caso, contamos as ocorrências do target `next_presente` (presenças ou ausências).\n",
    "   \n",
    "2. **`sum()`**: Calcula o total de ocorrências para que possamos normalizar os valores, ou seja, converter as contagens em proporções.\n",
    "\n",
    "3. **Normalização**: Dividimos as contagens pelo total para obter as proporções, o que facilita a interpretação da distribuição dos dados.\n",
    "\n",
    "4. **Resultado**: `value_counts_normalized` exibe a proporção de cada classe (presente ou ausente) no conjunto de treino, ajudando a entender o balanceamento dos dados."
   ]
  },
  {
   "cell_type": "code",
   "execution_count": 78,
   "metadata": {},
   "outputs": [],
   "source": [
    "# Converter todos os nomes de colunas para strings\n",
    "X_train.columns = X_train.columns.astype(str)\n",
    "\n",
    "# Aplicar RandomUnderSampler para balancear as classes\n",
    "rus = RandomUnderSampler(random_state=42)\n",
    "X_resampled, y_resampled = rus.fit_resample(X_train, y_train)"
   ]
  },
  {
   "cell_type": "markdown",
   "metadata": {},
   "source": [
    "\n",
    "1. **`RandomUnderSampler`**: Esse método reduz o número de amostras da classe majoritária no conjunto de treino para equilibrar o número de amostras entre as classes (por exemplo, presença e ausência).\n",
    "   \n",
    "2. **`fit_resample()`**: Aplica o processo de undersampling, criando novos conjuntos `X_resampled` e `y_resampled`, onde as classes estão balanceadas.\n"
   ]
  },
  {
   "cell_type": "code",
   "execution_count": 79,
   "metadata": {},
   "outputs": [
    {
     "data": {
      "text/plain": [
       "next_presente\n",
       "0.0    0.5\n",
       "1.0    0.5\n",
       "Name: proportion, dtype: float64"
      ]
     },
     "execution_count": 79,
     "metadata": {},
     "output_type": "execute_result"
    }
   ],
   "source": [
    "y_resampled.value_counts(normalize=True)"
   ]
  },
  {
   "cell_type": "code",
   "execution_count": 80,
   "metadata": {},
   "outputs": [
    {
     "name": "stdout",
     "output_type": "stream",
     "text": [
      "y_resampled.shape=(112366,)\n",
      "Empty DataFrame\n",
      "Columns: [sum_dia_semana_1, sum_dia_semana_2, sum_dia_semana_3, sum_dia_semana_4, sum_dia_semana_5, sum_dia_semana_6, sum_dia_semana_7, sexo_aluno, tem_pai, tem_mae, raca_aluno_A, raca_aluno_B, raca_aluno_I, raca_aluno_N, raca_aluno_None, raca_aluno_P, raca_aluno_R, idade_aluno_media, sexo_professor_sum, raca_professor_A_sum, raca_professor_B_sum, raca_professor_N_sum, raca_professor_P_sum, raca_professor_R_sum, cargo_professor_Nenhum_sum, cargo_professor_Neuropsicóloga_sum, cargo_professor_Professor_sum, cargo_professor_Professor_Inglês_sum, cargo_professor_Professor_de_Inglês_sum, cargo_professor_Professor_de_Matemática_sum, cargo_professor_Professora_sum, cargo_professor_Professora_de_Inglês_sum, cargo_professor_Professora_de_Matemática_sum, cargo_professor_Professora_Coordenadora_sum, cargo_professor_Psicóloga_sum, cargo_professor_Psicólogo_sum, idade_professor_media, num_professores, num_disciplinas, num_series, num_turmas, num_presencas, num_aulas, ultima_presenca, 0, 1, 2, 3, 4, 5, 6, 7, 8, 9, 10, 11, 12, 13, 14, 15, 16, 17, 18, 19, 20, 21, 22, 23, 24, 25, 26, 27, 28, 29, 30, 31, 32, 33, 34, 35, 36, 37, 38, 39, 40, 41, 42, 43, 44, 45, 46, 47, 48, 49, 50, 51, 52, 53, 54, 55, ...]\n",
      "Index: []\n",
      "Series([], Name: next_presente, dtype: float64)\n"
     ]
    }
   ],
   "source": [
    "print(f\"{y_resampled.shape=}\")\n",
    "\n",
    "X_resampled = X_resampled.fillna(0)\n",
    "\n",
    "print(X_resampled[X_resampled.isna().any(axis=1)])\n",
    "\n",
    "print(y_resampled[y_resampled.isna()])"
   ]
  },
  {
   "cell_type": "markdown",
   "metadata": {},
   "source": [
    "#### <font color='orange'>Modelagem - Treinando Modelos</font>"
   ]
  },
  {
   "cell_type": "markdown",
   "metadata": {},
   "source": [
    "Este código busca encontrar os melhores hiperparâmetros para o modelo de `RandomForestClassifier` utilizando a busca aleatória (`RandomizedSearchCV`). O objetivo é testar várias combinações de hiperparâmetros e identificar aquela que oferece o melhor desempenho, garantindo que o modelo seja o mais otimizado possível.\n",
    "\n",
    "1. **Definição dos Hiperparâmetros**:\n",
    "   - O dicionário `param_dist` define os possíveis valores para vários hiperparâmetros do `RandomForestClassifier`. Aqui estão os parâmetros sendo otimizados:\n",
    "     - **`n_estimators`**: Número de árvores na floresta (100, 200, 300, ou 600).\n",
    "     - **`max_depth`**: Profundidade máxima de cada árvore (5 ou 10).\n",
    "     - **`min_samples_split`**: Número mínimo de amostras necessárias para dividir um nó (2, 5, ou 10).\n",
    "     - **`min_samples_leaf`**: Número mínimo de amostras necessárias em cada folha (1, 2, ou 4).\n",
    "\n",
    "\n",
    "2. **RandomizedSearchCV**:\n",
    "   - Utilizamos `RandomizedSearchCV` para realizar a busca dos melhores hiperparâmetros. Isso testa combinações aleatórias dos hiperparâmetros especificados em `param_dist`, em vez de todas as combinações possíveis (como seria o caso com `GridSearchCV`).\n",
    "   \n",
    "   - **Parâmetros principais**:\n",
    "     - **`estimator`**: Um classificador de floresta aleatória (`RandomForestClassifier`).\n",
    "     - **`param_distributions`**: O conjunto de hiperparâmetros a serem testados.\n",
    "     - **`n_iter=20`**: Testa 20 combinações diferentes de hiperparâmetros.\n",
    "     - **`cv=5`**: Realiza validação cruzada com 5 divisões dos dados (5-fold cross-validation).\n",
    "     - **`n_jobs=-1`**: Utiliza todos os processadores disponíveis para acelerar o processo.\n",
    "     - **`random_state=42`**: Garante reprodutibilidade dos resultados.\n",
    "     - **`verbose=2`**: Mostra o progresso do processo no console."
   ]
  },
  {
   "cell_type": "code",
   "execution_count": 81,
   "metadata": {},
   "outputs": [
    {
     "name": "stdout",
     "output_type": "stream",
     "text": [
      "Fitting 5 folds for each of 20 candidates, totalling 100 fits\n"
     ]
    }
   ],
   "source": [
    "param_dist = {\n",
    "   'n_estimators': [100, 200, 300, 600],\n",
    "    'max_depth': [5, 10],\n",
    "    'min_samples_split': [2, 5, 10],\n",
    "    'min_samples_leaf': [1, 2, 4]\n",
    "}\n",
    "\n",
    "rf_cv = RandomizedSearchCV(\n",
    "    estimator= RandomForestClassifier(random_state=42),\n",
    "    param_distributions=param_dist,\n",
    "    n_iter=20,\n",
    "    cv=5,\n",
    "    verbose=2,\n",
    "    random_state=42,\n",
    "    n_jobs=-1\n",
    ")\n",
    "\n",
    "rf_cv.fit(X_resampled, y_resampled)\n",
    "best_rf = rf_cv.best_estimator_"
   ]
  },
  {
   "cell_type": "markdown",
   "metadata": {},
   "source": [
    "3. **Treinamento do Modelo**:\n",
    "   - O método `fit(X_resampled, y_resampled)` treina o modelo com os dados balanceados e procura os melhores hiperparâmetros entre as combinações testadas.\n",
    "\n",
    "4. **Melhor Modelo**:\n",
    "   - **`best_rf = rf_cv.best_estimator_`**: Após a busca, `best_estimator_` contém a melhor combinação de hiperparâmetros encontrada durante a pesquisa. Esse será o modelo de floresta aleatória com o melhor desempenho.\n",
    "\n"
   ]
  },
  {
   "cell_type": "code",
   "execution_count": 82,
   "metadata": {},
   "outputs": [
    {
     "data": {
      "text/plain": [
       "{'n_estimators': 200,\n",
       " 'min_samples_split': 5,\n",
       " 'min_samples_leaf': 1,\n",
       " 'max_depth': 5}"
      ]
     },
     "execution_count": 82,
     "metadata": {},
     "output_type": "execute_result"
    }
   ],
   "source": [
    "# Versão de melhor modelo dos hiperparametros\n",
    "rf_cv.best_params_"
   ]
  },
  {
   "cell_type": "code",
   "execution_count": 63,
   "metadata": {},
   "outputs": [
    {
     "data": {
      "text/plain": [
       "next_presente\n",
       "1.0    186519\n",
       "0.0     56183\n",
       "Name: count, dtype: int64"
      ]
     },
     "execution_count": 63,
     "metadata": {},
     "output_type": "execute_result"
    }
   ],
   "source": [
    "y_train.value_counts()"
   ]
  },
  {
   "cell_type": "markdown",
   "metadata": {},
   "source": [
    "Este código cria e treina um modelo de **RandomForestClassifier** com parâmetros específicos que controlam o comportamento das árvores no modelo. Os hiperparâmetros, como a profundidade máxima da árvore e o número mínimo de amostras em cada divisão ou folha, foram configurados manualmente para tentar garantir um bom desempenho do modelo.\n",
    "\n",
    "1. **Criação do Modelo**:\n",
    "   - Um modelo de **`RandomForestClassifier`** é criado usando hiperparâmetros específicos, diretamente passados como um dicionário (`**{}`) com os valores que foram previamente otimizados ou escolhidos:\n",
    "     - **`n_estimators=200`**: O modelo usa 200 árvores de decisão.\n",
    "     - **`min_samples_split=5`**: Um nó interno precisa de pelo menos 5 amostras para ser dividido.\n",
    "     - **`min_samples_leaf=1`**: Cada folha (nó terminal) precisa ter no mínimo 1 amostras.\n",
    "     - **`max_depth=5`**: A profundidade máxima de cada árvore é limitada a 5 níveis.\n",
    "     - **`random_state=42`**: Garante que os resultados sejam reprodutíveis."
   ]
  },
  {
   "cell_type": "code",
   "execution_count": 84,
   "metadata": {},
   "outputs": [],
   "source": [
    "best_rf = RandomForestClassifier(**{'n_estimators': 200,\n",
    " 'min_samples_split': 5,\n",
    " 'min_samples_leaf': 1,\n",
    " 'max_depth': 5,\n",
    " 'random_state': 42}).fit(X_resampled, y_resampled)"
   ]
  },
  {
   "cell_type": "markdown",
   "metadata": {},
   "source": [
    "2. **Treinamento do Modelo**:\n",
    "   - **`.fit(X_resampled, y_resampled)`**: O modelo é treinado com os dados balanceados de treino. O **`X_resampled`** contém as variáveis explicativas (features), e **`y_resampled`** contém a variável alvo (target) que indica a presença ou ausência do aluno na próxima aula."
   ]
  },
  {
   "cell_type": "markdown",
   "metadata": {},
   "source": [
    "<font color='orange'>**Relatório de classificação**</font>"
   ]
  },
  {
   "cell_type": "markdown",
   "metadata": {},
   "source": [
    "Esse código usa o modelo treinado (**`best_rf`**) para prever os resultados no conjunto de teste (**`X_test`**) e, em seguida, avalia a performance do modelo comparando as previsões com os valores reais (**`y_test`**). O **`classification_report`** oferece uma visão clara da precisão, revocação, F1-score, e suporte, ajudando a entender quão bem o modelo está generalizando para novos dados.\n",
    "\n",
    "1. **Previsão dos Dados de Teste**:\n",
    "   - **`y_pred = best_rf.predict(X_test)`**: O modelo treinado (**`best_rf`**) é utilizado para fazer previsões nos dados de teste (**`X_test`**). O resultado, **`y_pred`**, contém as previsões da presença ou ausência do aluno para cada observação no conjunto de teste.\n"
   ]
  },
  {
   "cell_type": "code",
   "execution_count": 85,
   "metadata": {},
   "outputs": [
    {
     "name": "stdout",
     "output_type": "stream",
     "text": [
      "\n",
      "Relatório de Classificação:\n",
      "              precision    recall  f1-score   support\n",
      "\n",
      "         0.0       0.44      0.24      0.31      7063\n",
      "         1.0       0.88      0.95      0.91     42163\n",
      "\n",
      "    accuracy                           0.85     49226\n",
      "   macro avg       0.66      0.60      0.61     49226\n",
      "weighted avg       0.82      0.85      0.83     49226\n",
      "\n"
     ]
    }
   ],
   "source": [
    "# Converter todos os nomes de colunas para strings\n",
    "X_test.columns = X_test.columns.astype(str)\n",
    "\n",
    "y_pred = best_rf.predict(X_test)\n",
    "    \n",
    "# Gerar e imprimir o relatório de classificação\n",
    "print(\"\\nRelatório de Classificação:\")\n",
    "print(classification_report(y_test, y_pred))"
   ]
  },
  {
   "cell_type": "markdown",
   "metadata": {},
   "source": [
    "2. **Relatório de Classificação**:\n",
    "   - **`classification_report(y_test, y_pred)`**: Essa função gera um relatório que compara as previsões (**`y_pred`**) com os valores reais (**`y_test`**). O relatório inclui as seguintes métricas de avaliação:\n",
    "     - **Precisão (Precision)**: A proporção de verdadeiros positivos sobre o total de positivos previstos (quantas das previsões positivas estavam corretas).\n",
    "     - **Revocação (Recall)**: A proporção de verdadeiros positivos sobre o total de positivos reais (quantos dos casos positivos reais foram detectados pelo modelo).\n",
    "     - **F1-Score**: A média harmônica entre precisão e revocação, indicando o equilíbrio entre essas duas métricas.\n",
    "     - **Suporte (Support)**: O número de ocorrências reais de cada classe no conjunto de dados.\n",
    "\n",
    "3. **Impressão do Relatório**:\n",
    "   - O relatório de classificação é impresso no console, fornecendo uma análise detalhada de como o modelo performou em prever as presenças ou ausências dos alunos no conjunto de teste."
   ]
  },
  {
   "cell_type": "markdown",
   "metadata": {},
   "source": [
    "<font color='orange'>**Análise do Resultado de Classificação:**</font>\n",
    "\n",
    "1. **Classes Analisadas**:\n",
    "   - **Classe 0.0**: Representa a ausência do aluno.\n",
    "   - **Classe 1.0**: Representa a presença do aluno.\n",
    "\n",
    "2. **Precisão (Precision)**:\n",
    "   - A **precisão** para a **classe 0.0** (ausência) é **0.44**, o que significa que, entre todas as vezes que o modelo previu que um aluno estaria ausente, apenas **44%** dessas previsões estavam corretas.\n",
    "   - Para a **classe 1.0** (presença), a precisão é muito alta, **0.88**, indicando que, quando o modelo previu que um aluno estaria presente, **88%** das previsões estavam corretas.\n",
    "\n",
    "3. **Revocação (Recall)**:\n",
    "   - Para a **classe 0.0**, a revocação é **0.24**, o que mostra que o modelo teve dificuldades em identificar corretamente as ausências dos alunos, acertando apenas **24%** das vezes que o aluno realmente esteve ausente.\n",
    "   - Já para a **classe 1.0**, a revocação é **0.95**, o que significa que o modelo identificou corretamente **95%** das presenças.\n",
    "\n",
    "4. **F1-Score**:\n",
    "   - O **f1-score** para a **classe 0.0** é **0.31**, indicando um desempenho fraco em prever ausências.\n",
    "   - Para a **classe 1.0**, o **f1-score** é **0.91**, refletindo um bom equilíbrio entre precisão e revocação para prever presenças.\n",
    "\n",
    "5. **Acurácia (Accuracy)**:\n",
    "   - A **acurácia geral** do modelo é **0.85**, o que significa que o modelo está correto **85%** das vezes. Porém, essa métrica está sendo influenciada pelo fato de que há muito mais dados de presenças do que de ausências (desequilíbrio de classes).\n",
    "\n",
    "6. **Médias**:\n",
    "   - O **macro average** (média das métricas de ambas as classes) mostra que o desempenho global em termos de precisão, revocação e f1-score é bem mais baixo para a classe 0.0 (ausência) do que para a classe 1.0 (presença), indicando que o modelo tem dificuldades em lidar com as ausências.\n",
    "   - O **weighted average** pondera essas métricas de acordo com o número de instâncias em cada classe, resultando em um desempenho geral mais alto, especialmente porque a classe 1.0 (presença) domina o conjunto de dados.\n"
   ]
  },
  {
   "cell_type": "markdown",
   "metadata": {},
   "source": [
    "<font color='orange'>**Feature importance**</font>"
   ]
  },
  {
   "cell_type": "markdown",
   "metadata": {},
   "source": [
    "Este código identifica as variáveis que mais impactam as previsões do modelo **RandomForestClassifier**. Ele exibe as importâncias das features em ordem decrescente, permitindo que você visualize as 25 variáveis que o modelo considera mais relevantes para prever a presença ou ausência dos alunos. Isso ajuda a entender quais fatores estão influenciando as decisões do modelo.\n",
    "\n",
    "1. **Importância das Features**:\n",
    "   - **`best_rf.feature_importances_`**: Esse atributo do `RandomForestClassifier` retorna uma lista de valores que indicam a importância de cada feature (variável explicativa) no modelo. Quanto maior o valor, mais relevante é a feature para a previsão do modelo.\n",
    "\n",
    "2. **Criação de DataFrame**:\n",
    "   - **`pd.DataFrame()`**: Um DataFrame é criado para organizar e exibir as importâncias das features. \n",
    "     - As importâncias das features são passadas como a primeira coluna.\n",
    "     - O índice é definido como os nomes das colunas de **`X_train.columns`**, ou seja, os nomes das variáveis explicativas.\n",
    "     - A coluna se chama **`'importance'`** para deixar claro que ela representa as importâncias das variáveis.\n"
   ]
  },
  {
   "cell_type": "code",
   "execution_count": 86,
   "metadata": {},
   "outputs": [
    {
     "data": {
      "text/html": [
       "<div>\n",
       "<style scoped>\n",
       "    .dataframe tbody tr th:only-of-type {\n",
       "        vertical-align: middle;\n",
       "    }\n",
       "\n",
       "    .dataframe tbody tr th {\n",
       "        vertical-align: top;\n",
       "    }\n",
       "\n",
       "    .dataframe thead th {\n",
       "        text-align: right;\n",
       "    }\n",
       "</style>\n",
       "<table border=\"1\" class=\"dataframe\">\n",
       "  <thead>\n",
       "    <tr style=\"text-align: right;\">\n",
       "      <th></th>\n",
       "      <th>importance</th>\n",
       "    </tr>\n",
       "  </thead>\n",
       "  <tbody>\n",
       "    <tr>\n",
       "      <th>num_presencas</th>\n",
       "      <td>0.501081</td>\n",
       "    </tr>\n",
       "    <tr>\n",
       "      <th>idade_aluno_media</th>\n",
       "      <td>0.047648</td>\n",
       "    </tr>\n",
       "    <tr>\n",
       "      <th>cargo_professor_Nenhum_sum</th>\n",
       "      <td>0.042959</td>\n",
       "    </tr>\n",
       "    <tr>\n",
       "      <th>tem_pai</th>\n",
       "      <td>0.038962</td>\n",
       "    </tr>\n",
       "    <tr>\n",
       "      <th>cargo_professor_Psicóloga_sum</th>\n",
       "      <td>0.028642</td>\n",
       "    </tr>\n",
       "    <tr>\n",
       "      <th>num_disciplinas</th>\n",
       "      <td>0.022466</td>\n",
       "    </tr>\n",
       "    <tr>\n",
       "      <th>cargo_professor_Professor_sum</th>\n",
       "      <td>0.020005</td>\n",
       "    </tr>\n",
       "    <tr>\n",
       "      <th>tem_mae</th>\n",
       "      <td>0.016313</td>\n",
       "    </tr>\n",
       "    <tr>\n",
       "      <th>idade_professor_media</th>\n",
       "      <td>0.014412</td>\n",
       "    </tr>\n",
       "    <tr>\n",
       "      <th>num_professores</th>\n",
       "      <td>0.011950</td>\n",
       "    </tr>\n",
       "    <tr>\n",
       "      <th>num_turmas</th>\n",
       "      <td>0.011512</td>\n",
       "    </tr>\n",
       "    <tr>\n",
       "      <th>cargo_professor_Professora_sum</th>\n",
       "      <td>0.009831</td>\n",
       "    </tr>\n",
       "    <tr>\n",
       "      <th>43</th>\n",
       "      <td>0.009287</td>\n",
       "    </tr>\n",
       "    <tr>\n",
       "      <th>16</th>\n",
       "      <td>0.008111</td>\n",
       "    </tr>\n",
       "    <tr>\n",
       "      <th>num_series</th>\n",
       "      <td>0.006885</td>\n",
       "    </tr>\n",
       "    <tr>\n",
       "      <th>56</th>\n",
       "      <td>0.006796</td>\n",
       "    </tr>\n",
       "    <tr>\n",
       "      <th>73</th>\n",
       "      <td>0.006220</td>\n",
       "    </tr>\n",
       "    <tr>\n",
       "      <th>53</th>\n",
       "      <td>0.005970</td>\n",
       "    </tr>\n",
       "    <tr>\n",
       "      <th>23</th>\n",
       "      <td>0.005846</td>\n",
       "    </tr>\n",
       "    <tr>\n",
       "      <th>10</th>\n",
       "      <td>0.005750</td>\n",
       "    </tr>\n",
       "    <tr>\n",
       "      <th>19</th>\n",
       "      <td>0.005507</td>\n",
       "    </tr>\n",
       "    <tr>\n",
       "      <th>72</th>\n",
       "      <td>0.005282</td>\n",
       "    </tr>\n",
       "    <tr>\n",
       "      <th>32</th>\n",
       "      <td>0.005073</td>\n",
       "    </tr>\n",
       "    <tr>\n",
       "      <th>49</th>\n",
       "      <td>0.004554</td>\n",
       "    </tr>\n",
       "    <tr>\n",
       "      <th>77</th>\n",
       "      <td>0.004377</td>\n",
       "    </tr>\n",
       "  </tbody>\n",
       "</table>\n",
       "</div>"
      ],
      "text/plain": [
       "                                importance\n",
       "num_presencas                     0.501081\n",
       "idade_aluno_media                 0.047648\n",
       "cargo_professor_Nenhum_sum        0.042959\n",
       "tem_pai                           0.038962\n",
       "cargo_professor_Psicóloga_sum     0.028642\n",
       "num_disciplinas                   0.022466\n",
       "cargo_professor_Professor_sum     0.020005\n",
       "tem_mae                           0.016313\n",
       "idade_professor_media             0.014412\n",
       "num_professores                   0.011950\n",
       "num_turmas                        0.011512\n",
       "cargo_professor_Professora_sum    0.009831\n",
       "43                                0.009287\n",
       "16                                0.008111\n",
       "num_series                        0.006885\n",
       "56                                0.006796\n",
       "73                                0.006220\n",
       "53                                0.005970\n",
       "23                                0.005846\n",
       "10                                0.005750\n",
       "19                                0.005507\n",
       "72                                0.005282\n",
       "32                                0.005073\n",
       "49                                0.004554\n",
       "77                                0.004377"
      ]
     },
     "execution_count": 86,
     "metadata": {},
     "output_type": "execute_result"
    }
   ],
   "source": [
    "# Feature importance\n",
    "feature_importance = pd.DataFrame(\n",
    "    best_rf.feature_importances_,\n",
    "    index=X_train.columns,\n",
    "    columns=['importance']\n",
    ").sort_values('importance', ascending=False)\n",
    "\n",
    "feature_importance.head(25)"
   ]
  },
  {
   "cell_type": "markdown",
   "metadata": {},
   "source": [
    "3. **Ordenação das Features**:\n",
    "   - **`sort_values('importance', ascending=False)`**: O DataFrame é ordenado de forma decrescente, mostrando as features mais importantes primeiro.\n",
    "\n",
    "4. **Exibição das 25 Principais Features**:\n",
    "   - **`head(25)`**: Exibe as 25 variáveis mais importantes para o modelo."
   ]
  },
  {
   "cell_type": "markdown",
   "metadata": {},
   "source": [
    "<font color='orange'>**Armazena o modelo treinado**</font>"
   ]
  },
  {
   "cell_type": "markdown",
   "metadata": {},
   "source": [
    "Esse código cria um dicionário chamado **`dict_model`** que armazena o modelo treinado (**`best_rf`**) e as features usadas no treinamento (**`X_train.columns`**). Esse dicionário facilita o acesso ao modelo e às colunas originais, sendo útil para salvar ou compartilhar o modelo, garantindo que ele possa ser reutilizado corretamente com dados futuros.\n",
    "\n",
    "1. **Criação de um Dicionário**:\n",
    "   - **`dict_model`**: Um dicionário é criado para armazenar informações importantes sobre o modelo treinado.\n"
   ]
  },
  {
   "cell_type": "code",
   "execution_count": 87,
   "metadata": {},
   "outputs": [],
   "source": [
    "dict_model = {\n",
    "    'model': best_rf,\n",
    "    'cols': X_train.columns\n",
    "}"
   ]
  },
  {
   "cell_type": "markdown",
   "metadata": {},
   "source": [
    "2. **Chaves e Valores**:\n",
    "   - **`'model': best_rf`**: Armazena o modelo treinado **`best_rf`** no dicionário sob a chave `'model'`. Isso permite que você acesse o modelo facilmente no futuro.\n",
    "   - **`'cols': X_train.columns`**: Armazena os nomes das colunas (features) que foram usadas no treinamento, extraídas de **`X_train.columns`**. Isso é útil para garantir que o modelo seja aplicado corretamente a novos dados que tenham o mesmo conjunto de colunas."
   ]
  },
  {
   "cell_type": "markdown",
   "metadata": {},
   "source": [
    "Esse código salva o dicionário **`dict_model`** (que contém o modelo treinado e as colunas) no arquivo **`model2.pkl`**, permitindo que você carregue o modelo posteriormente para reutilização."
   ]
  },
  {
   "cell_type": "code",
   "execution_count": 88,
   "metadata": {},
   "outputs": [],
   "source": [
    "pickle.dump(dict_model, open('./documents/model/model2.pkl', 'wb'))"
   ]
  },
  {
   "cell_type": "markdown",
   "metadata": {},
   "source": [
    "Este código salva o dicionário que contém o modelo treinado e as colunas usadas no treinamento em um arquivo.\n",
    "\n",
    "1. **`pickle.dump`**: Converte o dicionário **`dict_model`** para um formato binário e o salva em um arquivo.\n",
    "   \n",
    "2. **`open('../documents/model/model2.pkl', 'wb')`**: Abre ou cria um arquivo chamado **`model2.pkl`** no diretório especificado, em modo de escrita binária (`'wb'`), para armazenar o modelo.\n"
   ]
  },
  {
   "cell_type": "markdown",
   "metadata": {},
   "source": [
    "#### <font color='orange'>Explorar Quantidade de Aulas no Geral</font>"
   ]
  },
  {
   "cell_type": "code",
   "execution_count": 122,
   "metadata": {},
   "outputs": [
    {
     "data": {
      "application/vnd.plotly.v1+json": {
       "config": {
        "plotlyServerURL": "https://plot.ly"
       },
       "data": [
        {
         "alignmentgroup": "True",
         "hovertemplate": "Data da Aula=%{x}<br>Número de Aulas=%{y}<extra></extra>",
         "legendgroup": "",
         "marker": {
          "color": "#636efa",
          "pattern": {
           "shape": ""
          }
         },
         "name": "",
         "offsetgroup": "",
         "orientation": "v",
         "showlegend": false,
         "textposition": "auto",
         "type": "bar",
         "x": [
          "2021-07-01T00:00:00",
          "2021-07-26T00:00:00",
          "2021-07-27T00:00:00",
          "2021-07-28T00:00:00",
          "2021-07-29T00:00:00",
          "2021-07-30T00:00:00",
          "2021-08-02T00:00:00",
          "2021-08-03T00:00:00",
          "2021-08-04T00:00:00",
          "2021-08-05T00:00:00",
          "2021-08-06T00:00:00",
          "2021-08-09T00:00:00",
          "2021-08-10T00:00:00",
          "2021-08-11T00:00:00",
          "2021-08-12T00:00:00",
          "2021-08-13T00:00:00",
          "2021-08-16T00:00:00",
          "2021-08-17T00:00:00",
          "2021-08-18T00:00:00",
          "2021-08-19T00:00:00",
          "2021-08-20T00:00:00",
          "2021-08-23T00:00:00",
          "2021-08-24T00:00:00",
          "2021-08-25T00:00:00",
          "2021-08-26T00:00:00",
          "2021-08-27T00:00:00",
          "2021-08-30T00:00:00",
          "2021-08-31T00:00:00",
          "2021-09-01T00:00:00",
          "2021-09-02T00:00:00",
          "2021-09-03T00:00:00",
          "2021-09-08T00:00:00",
          "2021-09-09T00:00:00",
          "2021-09-10T00:00:00",
          "2021-09-13T00:00:00",
          "2021-09-14T00:00:00",
          "2021-09-15T00:00:00",
          "2021-09-16T00:00:00",
          "2021-09-17T00:00:00",
          "2021-09-20T00:00:00",
          "2021-09-21T00:00:00",
          "2021-09-22T00:00:00",
          "2021-09-23T00:00:00",
          "2021-09-24T00:00:00",
          "2021-09-27T00:00:00",
          "2021-09-28T00:00:00",
          "2021-09-29T00:00:00",
          "2021-09-30T00:00:00",
          "2021-10-01T00:00:00",
          "2021-10-04T00:00:00",
          "2021-10-05T00:00:00",
          "2021-10-06T00:00:00",
          "2021-10-07T00:00:00",
          "2021-10-08T00:00:00",
          "2021-10-18T00:00:00",
          "2021-10-19T00:00:00",
          "2021-10-20T00:00:00",
          "2021-10-21T00:00:00",
          "2021-10-22T00:00:00",
          "2021-10-25T00:00:00",
          "2021-10-26T00:00:00",
          "2021-10-27T00:00:00",
          "2021-10-28T00:00:00",
          "2021-10-29T00:00:00",
          "2021-11-01T00:00:00",
          "2021-11-03T00:00:00",
          "2021-11-04T00:00:00",
          "2021-11-05T00:00:00",
          "2021-11-08T00:00:00",
          "2021-11-09T00:00:00",
          "2021-11-10T00:00:00",
          "2021-11-11T00:00:00",
          "2021-11-12T00:00:00",
          "2021-11-16T00:00:00",
          "2021-11-17T00:00:00",
          "2021-11-18T00:00:00",
          "2021-11-19T00:00:00",
          "2021-11-22T00:00:00",
          "2021-11-23T00:00:00",
          "2021-11-24T00:00:00",
          "2021-11-25T00:00:00",
          "2021-11-26T00:00:00",
          "2021-11-29T00:00:00",
          "2021-11-30T00:00:00",
          "2021-12-01T00:00:00",
          "2021-12-02T00:00:00",
          "2021-12-30T00:00:00",
          "2022-02-08T00:00:00",
          "2022-02-14T00:00:00",
          "2022-02-23T00:00:00",
          "2022-02-24T00:00:00",
          "2022-02-25T00:00:00",
          "2022-03-02T00:00:00",
          "2022-03-03T00:00:00",
          "2022-03-04T00:00:00",
          "2022-03-07T00:00:00",
          "2022-03-08T00:00:00",
          "2022-03-09T00:00:00",
          "2022-03-10T00:00:00",
          "2022-03-11T00:00:00",
          "2022-03-12T00:00:00",
          "2022-03-14T00:00:00",
          "2022-03-15T00:00:00",
          "2022-03-16T00:00:00",
          "2022-03-17T00:00:00",
          "2022-03-18T00:00:00",
          "2022-03-21T00:00:00",
          "2022-03-22T00:00:00",
          "2022-03-23T00:00:00",
          "2022-03-24T00:00:00",
          "2022-03-25T00:00:00",
          "2022-03-28T00:00:00",
          "2022-03-29T00:00:00",
          "2022-03-30T00:00:00",
          "2022-03-31T00:00:00",
          "2022-04-01T00:00:00",
          "2022-04-04T00:00:00",
          "2022-04-05T00:00:00",
          "2022-04-06T00:00:00",
          "2022-04-07T00:00:00",
          "2022-04-08T00:00:00",
          "2022-04-11T00:00:00",
          "2022-04-12T00:00:00",
          "2022-04-13T00:00:00",
          "2022-04-14T00:00:00",
          "2022-04-18T00:00:00",
          "2022-04-19T00:00:00",
          "2022-04-20T00:00:00",
          "2022-04-22T00:00:00",
          "2022-04-24T00:00:00",
          "2022-04-25T00:00:00",
          "2022-04-26T00:00:00",
          "2022-04-27T00:00:00",
          "2022-04-28T00:00:00",
          "2022-04-29T00:00:00",
          "2022-05-02T00:00:00",
          "2022-05-03T00:00:00",
          "2022-05-04T00:00:00",
          "2022-05-05T00:00:00",
          "2022-05-06T00:00:00",
          "2022-05-09T00:00:00",
          "2022-05-10T00:00:00",
          "2022-05-11T00:00:00",
          "2022-05-12T00:00:00",
          "2022-05-13T00:00:00",
          "2022-05-16T00:00:00",
          "2022-05-17T00:00:00",
          "2022-05-18T00:00:00",
          "2022-05-19T00:00:00",
          "2022-05-20T00:00:00",
          "2022-05-23T00:00:00",
          "2022-05-24T00:00:00",
          "2022-05-25T00:00:00",
          "2022-05-26T00:00:00",
          "2022-05-27T00:00:00",
          "2022-05-28T00:00:00",
          "2022-05-30T00:00:00",
          "2022-05-31T00:00:00",
          "2022-06-01T00:00:00",
          "2022-06-02T00:00:00",
          "2022-06-03T00:00:00",
          "2022-06-06T00:00:00",
          "2022-06-07T00:00:00",
          "2022-06-08T00:00:00",
          "2022-06-09T00:00:00",
          "2022-06-10T00:00:00",
          "2022-06-13T00:00:00",
          "2022-06-14T00:00:00",
          "2022-06-15T00:00:00",
          "2022-06-16T00:00:00",
          "2022-06-17T00:00:00",
          "2022-06-18T00:00:00",
          "2022-06-20T00:00:00",
          "2022-06-21T00:00:00",
          "2022-06-22T00:00:00",
          "2022-06-23T00:00:00",
          "2022-06-24T00:00:00",
          "2022-06-27T00:00:00",
          "2022-06-28T00:00:00",
          "2022-06-29T00:00:00",
          "2022-06-30T00:00:00",
          "2022-07-01T00:00:00",
          "2022-07-02T00:00:00",
          "2022-07-25T00:00:00",
          "2022-07-26T00:00:00",
          "2022-07-27T00:00:00",
          "2022-07-28T00:00:00",
          "2022-07-29T00:00:00",
          "2022-08-01T00:00:00",
          "2022-08-02T00:00:00",
          "2022-08-03T00:00:00",
          "2022-08-04T00:00:00",
          "2022-08-05T00:00:00",
          "2022-08-08T00:00:00",
          "2022-08-09T00:00:00",
          "2022-08-10T00:00:00",
          "2022-08-11T00:00:00",
          "2022-08-12T00:00:00",
          "2022-08-15T00:00:00",
          "2022-08-16T00:00:00",
          "2022-08-17T00:00:00",
          "2022-08-18T00:00:00",
          "2022-08-19T00:00:00",
          "2022-08-22T00:00:00",
          "2022-08-23T00:00:00",
          "2022-08-24T00:00:00",
          "2022-08-25T00:00:00",
          "2022-08-26T00:00:00",
          "2022-08-27T00:00:00",
          "2022-08-29T00:00:00",
          "2022-08-30T00:00:00",
          "2022-08-31T00:00:00",
          "2022-09-01T00:00:00",
          "2022-09-02T00:00:00",
          "2022-09-05T00:00:00",
          "2022-09-06T00:00:00",
          "2022-09-08T00:00:00",
          "2022-09-09T00:00:00",
          "2022-09-12T00:00:00",
          "2022-09-13T00:00:00",
          "2022-09-14T00:00:00",
          "2022-09-15T00:00:00",
          "2022-09-16T00:00:00",
          "2022-09-19T00:00:00",
          "2022-09-20T00:00:00",
          "2022-09-21T00:00:00",
          "2022-09-22T00:00:00",
          "2022-09-23T00:00:00",
          "2022-09-24T00:00:00",
          "2022-09-26T00:00:00",
          "2022-09-27T00:00:00",
          "2022-09-28T00:00:00",
          "2022-09-29T00:00:00",
          "2022-09-30T00:00:00",
          "2022-10-03T00:00:00",
          "2022-10-04T00:00:00",
          "2022-10-05T00:00:00",
          "2022-10-06T00:00:00",
          "2022-10-07T00:00:00",
          "2022-10-08T00:00:00",
          "2022-10-14T00:00:00",
          "2022-10-17T00:00:00",
          "2022-10-18T00:00:00",
          "2022-10-19T00:00:00",
          "2022-10-20T00:00:00",
          "2022-10-21T00:00:00",
          "2022-10-22T00:00:00",
          "2022-10-24T00:00:00",
          "2022-10-25T00:00:00",
          "2022-10-26T00:00:00",
          "2022-10-27T00:00:00",
          "2022-10-28T00:00:00",
          "2022-10-29T00:00:00",
          "2022-10-31T00:00:00",
          "2022-11-01T00:00:00",
          "2022-11-03T00:00:00",
          "2022-11-04T00:00:00",
          "2022-11-05T00:00:00",
          "2022-11-07T00:00:00",
          "2022-11-08T00:00:00",
          "2022-11-09T00:00:00",
          "2022-11-10T00:00:00",
          "2022-11-11T00:00:00",
          "2022-11-12T00:00:00",
          "2022-11-16T00:00:00",
          "2022-11-17T00:00:00",
          "2022-11-18T00:00:00",
          "2022-11-19T00:00:00",
          "2022-11-21T00:00:00",
          "2022-11-22T00:00:00",
          "2022-11-23T00:00:00",
          "2022-11-24T00:00:00",
          "2022-11-25T00:00:00",
          "2022-11-28T00:00:00",
          "2023-02-15T00:00:00",
          "2023-03-06T00:00:00",
          "2023-03-07T00:00:00",
          "2023-03-08T00:00:00",
          "2023-03-09T00:00:00",
          "2023-03-10T00:00:00",
          "2023-03-12T00:00:00",
          "2023-03-13T00:00:00",
          "2023-03-14T00:00:00",
          "2023-03-15T00:00:00",
          "2023-03-16T00:00:00",
          "2023-03-17T00:00:00",
          "2023-03-20T00:00:00",
          "2023-03-21T00:00:00",
          "2023-03-22T00:00:00",
          "2023-03-23T00:00:00",
          "2023-03-24T00:00:00",
          "2023-03-27T00:00:00",
          "2023-03-29T00:00:00",
          "2023-03-30T00:00:00",
          "2023-03-31T00:00:00",
          "2023-04-01T00:00:00",
          "2023-04-03T00:00:00",
          "2023-04-04T00:00:00",
          "2023-04-05T00:00:00",
          "2023-04-06T00:00:00",
          "2023-04-08T00:00:00",
          "2023-04-10T00:00:00",
          "2023-04-11T00:00:00",
          "2023-04-12T00:00:00",
          "2023-04-13T00:00:00",
          "2023-04-14T00:00:00",
          "2023-04-17T00:00:00",
          "2023-04-18T00:00:00",
          "2023-04-19T00:00:00",
          "2023-04-20T00:00:00",
          "2023-04-22T00:00:00",
          "2023-04-24T00:00:00",
          "2023-04-25T00:00:00",
          "2023-04-26T00:00:00",
          "2023-04-27T00:00:00",
          "2023-04-28T00:00:00",
          "2023-04-29T00:00:00",
          "2023-05-02T00:00:00",
          "2023-05-03T00:00:00",
          "2023-05-04T00:00:00",
          "2023-05-05T00:00:00",
          "2023-05-08T00:00:00",
          "2023-05-09T00:00:00",
          "2023-05-10T00:00:00",
          "2023-05-11T00:00:00",
          "2023-05-12T00:00:00",
          "2023-05-15T00:00:00",
          "2023-05-16T00:00:00",
          "2023-05-17T00:00:00",
          "2023-05-18T00:00:00",
          "2023-05-19T00:00:00",
          "2023-05-20T00:00:00",
          "2023-05-22T00:00:00",
          "2023-05-23T00:00:00",
          "2023-05-24T00:00:00",
          "2023-05-25T00:00:00",
          "2023-05-26T00:00:00",
          "2023-05-29T00:00:00",
          "2023-05-30T00:00:00",
          "2023-05-31T00:00:00",
          "2023-06-01T00:00:00",
          "2023-06-02T00:00:00",
          "2023-06-03T00:00:00",
          "2023-06-05T00:00:00",
          "2023-06-06T00:00:00",
          "2023-06-07T00:00:00",
          "2023-06-09T00:00:00",
          "2023-06-12T00:00:00",
          "2023-06-13T00:00:00",
          "2023-06-14T00:00:00",
          "2023-06-15T00:00:00",
          "2023-06-16T00:00:00",
          "2023-06-19T00:00:00",
          "2023-06-20T00:00:00",
          "2023-06-21T00:00:00",
          "2023-06-22T00:00:00",
          "2023-06-23T00:00:00",
          "2023-06-26T00:00:00",
          "2023-06-30T00:00:00",
          "2023-07-24T00:00:00",
          "2023-07-25T00:00:00",
          "2023-07-26T00:00:00",
          "2023-07-27T00:00:00",
          "2023-07-28T00:00:00",
          "2023-07-31T00:00:00",
          "2023-08-01T00:00:00",
          "2023-08-02T00:00:00",
          "2023-08-03T00:00:00",
          "2023-08-04T00:00:00",
          "2023-08-07T00:00:00",
          "2023-08-08T00:00:00",
          "2023-08-09T00:00:00",
          "2023-08-10T00:00:00",
          "2023-08-11T00:00:00",
          "2023-08-14T00:00:00",
          "2023-08-15T00:00:00",
          "2023-08-16T00:00:00",
          "2023-08-17T00:00:00",
          "2023-08-18T00:00:00",
          "2023-08-19T00:00:00",
          "2023-08-21T00:00:00",
          "2023-08-22T00:00:00",
          "2023-08-23T00:00:00",
          "2023-08-24T00:00:00",
          "2023-08-25T00:00:00",
          "2023-08-26T00:00:00",
          "2023-08-28T00:00:00",
          "2023-08-29T00:00:00",
          "2023-08-30T00:00:00",
          "2023-08-31T00:00:00",
          "2023-09-01T00:00:00",
          "2023-09-04T00:00:00",
          "2023-09-05T00:00:00",
          "2023-09-06T00:00:00",
          "2023-09-08T00:00:00",
          "2023-09-11T00:00:00",
          "2023-09-12T00:00:00",
          "2023-09-13T00:00:00",
          "2023-09-14T00:00:00",
          "2023-09-15T00:00:00",
          "2023-09-17T00:00:00",
          "2023-09-18T00:00:00",
          "2023-09-19T00:00:00",
          "2023-09-20T00:00:00",
          "2023-09-21T00:00:00",
          "2023-09-22T00:00:00",
          "2023-09-25T00:00:00",
          "2023-09-26T00:00:00",
          "2023-09-27T00:00:00",
          "2023-09-28T00:00:00",
          "2023-09-29T00:00:00",
          "2023-10-02T00:00:00",
          "2023-10-03T00:00:00",
          "2023-10-04T00:00:00",
          "2023-10-05T00:00:00",
          "2023-10-06T00:00:00",
          "2023-10-09T00:00:00",
          "2023-10-10T00:00:00",
          "2023-10-11T00:00:00",
          "2023-10-13T00:00:00",
          "2023-10-20T00:00:00",
          "2023-10-23T00:00:00",
          "2023-10-24T00:00:00",
          "2023-10-25T00:00:00",
          "2023-10-26T00:00:00",
          "2023-10-27T00:00:00",
          "2023-10-28T00:00:00",
          "2023-10-30T00:00:00",
          "2023-10-31T00:00:00",
          "2023-11-01T00:00:00",
          "2023-11-03T00:00:00",
          "2023-11-04T00:00:00",
          "2023-11-06T00:00:00",
          "2023-11-07T00:00:00",
          "2023-11-08T00:00:00",
          "2023-11-09T00:00:00",
          "2023-11-10T00:00:00",
          "2023-11-11T00:00:00",
          "2023-11-13T00:00:00",
          "2023-11-14T00:00:00",
          "2023-11-16T00:00:00",
          "2023-11-17T00:00:00",
          "2023-11-18T00:00:00",
          "2023-11-21T00:00:00",
          "2023-11-22T00:00:00",
          "2023-11-23T00:00:00",
          "2023-11-24T00:00:00",
          "2023-11-27T00:00:00",
          "2023-11-28T00:00:00",
          "2023-11-29T00:00:00",
          "2023-11-30T00:00:00",
          "2023-12-01T00:00:00",
          "2023-12-04T00:00:00",
          "2023-12-08T00:00:00",
          "2024-02-05T00:00:00",
          "2024-02-06T00:00:00",
          "2024-02-09T00:00:00",
          "2024-02-23T00:00:00",
          "2024-02-26T00:00:00",
          "2024-02-27T00:00:00",
          "2024-02-28T00:00:00",
          "2024-02-29T00:00:00",
          "2024-03-01T00:00:00",
          "2024-03-02T00:00:00",
          "2024-03-04T00:00:00",
          "2024-03-05T00:00:00",
          "2024-03-06T00:00:00",
          "2024-03-07T00:00:00",
          "2024-03-08T00:00:00",
          "2024-03-10T00:00:00",
          "2024-03-11T00:00:00",
          "2024-03-12T00:00:00",
          "2024-03-13T00:00:00",
          "2024-03-14T00:00:00",
          "2024-03-15T00:00:00",
          "2024-03-18T00:00:00",
          "2024-03-19T00:00:00",
          "2024-03-20T00:00:00",
          "2024-03-21T00:00:00",
          "2024-03-22T00:00:00",
          "2024-03-25T00:00:00",
          "2024-03-26T00:00:00",
          "2024-03-27T00:00:00",
          "2024-03-28T00:00:00",
          "2024-04-01T00:00:00",
          "2024-04-02T00:00:00",
          "2024-04-03T00:00:00",
          "2024-04-04T00:00:00",
          "2024-04-05T00:00:00",
          "2024-04-08T00:00:00",
          "2024-04-09T00:00:00",
          "2024-04-10T00:00:00",
          "2024-04-11T00:00:00",
          "2024-04-12T00:00:00",
          "2024-04-15T00:00:00",
          "2024-04-16T00:00:00",
          "2024-04-17T00:00:00",
          "2024-04-18T00:00:00",
          "2024-04-19T00:00:00",
          "2024-04-22T00:00:00",
          "2024-04-23T00:00:00",
          "2024-04-24T00:00:00",
          "2024-04-25T00:00:00",
          "2024-04-26T00:00:00",
          "2024-04-27T00:00:00",
          "2024-04-29T00:00:00",
          "2024-04-30T00:00:00",
          "2024-05-02T00:00:00",
          "2024-05-03T00:00:00",
          "2024-05-06T00:00:00",
          "2024-05-07T00:00:00",
          "2024-05-08T00:00:00",
          "2024-05-09T00:00:00",
          "2024-05-10T00:00:00",
          "2024-05-13T00:00:00",
          "2024-05-14T00:00:00",
          "2024-05-15T00:00:00",
          "2024-05-16T00:00:00",
          "2024-05-17T00:00:00",
          "2024-05-20T00:00:00",
          "2024-05-21T00:00:00",
          "2024-05-22T00:00:00",
          "2024-05-23T00:00:00",
          "2024-05-24T00:00:00",
          "2024-05-27T00:00:00",
          "2024-05-28T00:00:00",
          "2024-05-29T00:00:00",
          "2024-05-31T00:00:00",
          "2024-06-03T00:00:00",
          "2024-06-04T00:00:00",
          "2024-06-05T00:00:00",
          "2024-06-06T00:00:00",
          "2024-06-07T00:00:00",
          "2024-06-08T00:00:00",
          "2024-06-10T00:00:00",
          "2024-06-11T00:00:00",
          "2024-06-12T00:00:00",
          "2024-06-13T00:00:00",
          "2024-06-14T00:00:00",
          "2024-06-17T00:00:00",
          "2024-06-18T00:00:00",
          "2024-06-19T00:00:00",
          "2024-06-20T00:00:00",
          "2024-06-21T00:00:00",
          "2024-06-24T00:00:00",
          "2024-06-25T00:00:00",
          "2024-06-26T00:00:00",
          "2024-06-27T00:00:00",
          "2024-06-28T00:00:00",
          "2024-06-29T00:00:00",
          "2024-08-09T00:00:00"
         ],
         "xaxis": "x",
         "y": [
          365,
          333,
          184,
          75,
          86,
          88,
          338,
          789,
          426,
          660,
          249,
          338,
          785,
          448,
          681,
          249,
          338,
          909,
          427,
          657,
          249,
          339,
          715,
          436,
          668,
          269,
          312,
          724,
          459,
          629,
          270,
          470,
          681,
          238,
          341,
          836,
          469,
          675,
          268,
          356,
          830,
          474,
          758,
          279,
          329,
          792,
          440,
          755,
          13,
          349,
          809,
          441,
          744,
          184,
          398,
          717,
          458,
          703,
          160,
          388,
          805,
          447,
          698,
          139,
          413,
          518,
          641,
          158,
          390,
          801,
          426,
          554,
          169,
          788,
          398,
          617,
          209,
          388,
          651,
          484,
          646,
          141,
          292,
          523,
          144,
          314,
          12,
          15,
          10,
          191,
          564,
          370,
          537,
          663,
          331,
          560,
          644,
          622,
          791,
          291,
          136,
          590,
          680,
          855,
          1030,
          430,
          781,
          684,
          772,
          983,
          361,
          182,
          569,
          857,
          921,
          494,
          916,
          648,
          742,
          164,
          427,
          888,
          658,
          790,
          902,
          770,
          588,
          743,
          450,
          14,
          721,
          663,
          689,
          1035,
          465,
          807,
          644,
          829,
          939,
          287,
          729,
          634,
          888,
          899,
          449,
          776,
          640,
          747,
          1022,
          366,
          675,
          540,
          787,
          736,
          396,
          11,
          751,
          616,
          665,
          1036,
          409,
          696,
          638,
          954,
          713,
          239,
          666,
          549,
          474,
          8,
          239,
          11,
          538,
          495,
          503,
          964,
          383,
          534,
          499,
          601,
          909,
          280,
          8,
          722,
          683,
          777,
          806,
          216,
          676,
          650,
          661,
          867,
          322,
          711,
          705,
          1035,
          1167,
          336,
          866,
          620,
          672,
          1039,
          321,
          694,
          638,
          951,
          1263,
          267,
          15,
          913,
          778,
          700,
          1169,
          350,
          507,
          451,
          817,
          352,
          905,
          636,
          1069,
          1044,
          345,
          666,
          676,
          656,
          1004,
          188,
          11,
          670,
          660,
          375,
          852,
          376,
          694,
          654,
          716,
          768,
          351,
          13,
          47,
          655,
          645,
          919,
          1118,
          352,
          9,
          776,
          537,
          794,
          885,
          330,
          8,
          227,
          350,
          939,
          366,
          8,
          638,
          602,
          920,
          759,
          313,
          26,
          707,
          753,
          306,
          26,
          539,
          541,
          523,
          204,
          274,
          89,
          15,
          637,
          590,
          731,
          681,
          261,
          54,
          533,
          625,
          700,
          680,
          277,
          656,
          749,
          687,
          805,
          343,
          747,
          783,
          842,
          457,
          38,
          747,
          732,
          783,
          741,
          38,
          738,
          728,
          751,
          758,
          387,
          733,
          779,
          799,
          825,
          38,
          727,
          726,
          786,
          806,
          451,
          38,
          703,
          782,
          800,
          481,
          656,
          688,
          749,
          806,
          438,
          678,
          636,
          779,
          843,
          453,
          38,
          723,
          622,
          735,
          793,
          420,
          746,
          665,
          694,
          779,
          368,
          22,
          723,
          733,
          728,
          335,
          762,
          670,
          754,
          741,
          446,
          756,
          741,
          752,
          837,
          366,
          23,
          12,
          661,
          729,
          746,
          713,
          279,
          656,
          730,
          727,
          738,
          256,
          737,
          675,
          784,
          812,
          328,
          683,
          673,
          737,
          832,
          416,
          16,
          704,
          720,
          798,
          816,
          318,
          16,
          748,
          708,
          767,
          738,
          351,
          682,
          688,
          761,
          360,
          617,
          729,
          757,
          798,
          401,
          16,
          660,
          677,
          646,
          798,
          378,
          682,
          563,
          758,
          790,
          416,
          698,
          665,
          747,
          723,
          383,
          693,
          617,
          640,
          305,
          47,
          641,
          692,
          728,
          804,
          350,
          24,
          613,
          492,
          607,
          274,
          42,
          708,
          639,
          812,
          767,
          291,
          41,
          662,
          550,
          549,
          264,
          41,
          622,
          756,
          787,
          340,
          101,
          477,
          500,
          436,
          169,
          26,
          20,
          51,
          22,
          22,
          37,
          812,
          763,
          956,
          805,
          334,
          25,
          716,
          712,
          817,
          776,
          237,
          14,
          775,
          742,
          851,
          860,
          398,
          784,
          729,
          804,
          372,
          416,
          831,
          783,
          723,
          14,
          746,
          713,
          773,
          865,
          440,
          750,
          626,
          808,
          798,
          427,
          768,
          787,
          900,
          922,
          460,
          739,
          700,
          901,
          832,
          388,
          1,
          581,
          696,
          752,
          426,
          744,
          697,
          855,
          807,
          463,
          737,
          831,
          799,
          799,
          450,
          722,
          734,
          887,
          858,
          450,
          691,
          790,
          881,
          387,
          709,
          761,
          883,
          836,
          443,
          29,
          759,
          846,
          952,
          862,
          404,
          734,
          758,
          866,
          827,
          404,
          688,
          851,
          934,
          831,
          374,
          12,
          12
         ],
         "yaxis": "y"
        }
       ],
       "layout": {
        "barmode": "relative",
        "height": 500,
        "legend": {
         "tracegroupgap": 0
        },
        "template": {
         "data": {
          "bar": [
           {
            "error_x": {
             "color": "#2a3f5f"
            },
            "error_y": {
             "color": "#2a3f5f"
            },
            "marker": {
             "line": {
              "color": "#E5ECF6",
              "width": 0.5
             },
             "pattern": {
              "fillmode": "overlay",
              "size": 10,
              "solidity": 0.2
             }
            },
            "type": "bar"
           }
          ],
          "barpolar": [
           {
            "marker": {
             "line": {
              "color": "#E5ECF6",
              "width": 0.5
             },
             "pattern": {
              "fillmode": "overlay",
              "size": 10,
              "solidity": 0.2
             }
            },
            "type": "barpolar"
           }
          ],
          "carpet": [
           {
            "aaxis": {
             "endlinecolor": "#2a3f5f",
             "gridcolor": "white",
             "linecolor": "white",
             "minorgridcolor": "white",
             "startlinecolor": "#2a3f5f"
            },
            "baxis": {
             "endlinecolor": "#2a3f5f",
             "gridcolor": "white",
             "linecolor": "white",
             "minorgridcolor": "white",
             "startlinecolor": "#2a3f5f"
            },
            "type": "carpet"
           }
          ],
          "choropleth": [
           {
            "colorbar": {
             "outlinewidth": 0,
             "ticks": ""
            },
            "type": "choropleth"
           }
          ],
          "contour": [
           {
            "colorbar": {
             "outlinewidth": 0,
             "ticks": ""
            },
            "colorscale": [
             [
              0,
              "#0d0887"
             ],
             [
              0.1111111111111111,
              "#46039f"
             ],
             [
              0.2222222222222222,
              "#7201a8"
             ],
             [
              0.3333333333333333,
              "#9c179e"
             ],
             [
              0.4444444444444444,
              "#bd3786"
             ],
             [
              0.5555555555555556,
              "#d8576b"
             ],
             [
              0.6666666666666666,
              "#ed7953"
             ],
             [
              0.7777777777777778,
              "#fb9f3a"
             ],
             [
              0.8888888888888888,
              "#fdca26"
             ],
             [
              1,
              "#f0f921"
             ]
            ],
            "type": "contour"
           }
          ],
          "contourcarpet": [
           {
            "colorbar": {
             "outlinewidth": 0,
             "ticks": ""
            },
            "type": "contourcarpet"
           }
          ],
          "heatmap": [
           {
            "colorbar": {
             "outlinewidth": 0,
             "ticks": ""
            },
            "colorscale": [
             [
              0,
              "#0d0887"
             ],
             [
              0.1111111111111111,
              "#46039f"
             ],
             [
              0.2222222222222222,
              "#7201a8"
             ],
             [
              0.3333333333333333,
              "#9c179e"
             ],
             [
              0.4444444444444444,
              "#bd3786"
             ],
             [
              0.5555555555555556,
              "#d8576b"
             ],
             [
              0.6666666666666666,
              "#ed7953"
             ],
             [
              0.7777777777777778,
              "#fb9f3a"
             ],
             [
              0.8888888888888888,
              "#fdca26"
             ],
             [
              1,
              "#f0f921"
             ]
            ],
            "type": "heatmap"
           }
          ],
          "heatmapgl": [
           {
            "colorbar": {
             "outlinewidth": 0,
             "ticks": ""
            },
            "colorscale": [
             [
              0,
              "#0d0887"
             ],
             [
              0.1111111111111111,
              "#46039f"
             ],
             [
              0.2222222222222222,
              "#7201a8"
             ],
             [
              0.3333333333333333,
              "#9c179e"
             ],
             [
              0.4444444444444444,
              "#bd3786"
             ],
             [
              0.5555555555555556,
              "#d8576b"
             ],
             [
              0.6666666666666666,
              "#ed7953"
             ],
             [
              0.7777777777777778,
              "#fb9f3a"
             ],
             [
              0.8888888888888888,
              "#fdca26"
             ],
             [
              1,
              "#f0f921"
             ]
            ],
            "type": "heatmapgl"
           }
          ],
          "histogram": [
           {
            "marker": {
             "pattern": {
              "fillmode": "overlay",
              "size": 10,
              "solidity": 0.2
             }
            },
            "type": "histogram"
           }
          ],
          "histogram2d": [
           {
            "colorbar": {
             "outlinewidth": 0,
             "ticks": ""
            },
            "colorscale": [
             [
              0,
              "#0d0887"
             ],
             [
              0.1111111111111111,
              "#46039f"
             ],
             [
              0.2222222222222222,
              "#7201a8"
             ],
             [
              0.3333333333333333,
              "#9c179e"
             ],
             [
              0.4444444444444444,
              "#bd3786"
             ],
             [
              0.5555555555555556,
              "#d8576b"
             ],
             [
              0.6666666666666666,
              "#ed7953"
             ],
             [
              0.7777777777777778,
              "#fb9f3a"
             ],
             [
              0.8888888888888888,
              "#fdca26"
             ],
             [
              1,
              "#f0f921"
             ]
            ],
            "type": "histogram2d"
           }
          ],
          "histogram2dcontour": [
           {
            "colorbar": {
             "outlinewidth": 0,
             "ticks": ""
            },
            "colorscale": [
             [
              0,
              "#0d0887"
             ],
             [
              0.1111111111111111,
              "#46039f"
             ],
             [
              0.2222222222222222,
              "#7201a8"
             ],
             [
              0.3333333333333333,
              "#9c179e"
             ],
             [
              0.4444444444444444,
              "#bd3786"
             ],
             [
              0.5555555555555556,
              "#d8576b"
             ],
             [
              0.6666666666666666,
              "#ed7953"
             ],
             [
              0.7777777777777778,
              "#fb9f3a"
             ],
             [
              0.8888888888888888,
              "#fdca26"
             ],
             [
              1,
              "#f0f921"
             ]
            ],
            "type": "histogram2dcontour"
           }
          ],
          "mesh3d": [
           {
            "colorbar": {
             "outlinewidth": 0,
             "ticks": ""
            },
            "type": "mesh3d"
           }
          ],
          "parcoords": [
           {
            "line": {
             "colorbar": {
              "outlinewidth": 0,
              "ticks": ""
             }
            },
            "type": "parcoords"
           }
          ],
          "pie": [
           {
            "automargin": true,
            "type": "pie"
           }
          ],
          "scatter": [
           {
            "fillpattern": {
             "fillmode": "overlay",
             "size": 10,
             "solidity": 0.2
            },
            "type": "scatter"
           }
          ],
          "scatter3d": [
           {
            "line": {
             "colorbar": {
              "outlinewidth": 0,
              "ticks": ""
             }
            },
            "marker": {
             "colorbar": {
              "outlinewidth": 0,
              "ticks": ""
             }
            },
            "type": "scatter3d"
           }
          ],
          "scattercarpet": [
           {
            "marker": {
             "colorbar": {
              "outlinewidth": 0,
              "ticks": ""
             }
            },
            "type": "scattercarpet"
           }
          ],
          "scattergeo": [
           {
            "marker": {
             "colorbar": {
              "outlinewidth": 0,
              "ticks": ""
             }
            },
            "type": "scattergeo"
           }
          ],
          "scattergl": [
           {
            "marker": {
             "colorbar": {
              "outlinewidth": 0,
              "ticks": ""
             }
            },
            "type": "scattergl"
           }
          ],
          "scattermapbox": [
           {
            "marker": {
             "colorbar": {
              "outlinewidth": 0,
              "ticks": ""
             }
            },
            "type": "scattermapbox"
           }
          ],
          "scatterpolar": [
           {
            "marker": {
             "colorbar": {
              "outlinewidth": 0,
              "ticks": ""
             }
            },
            "type": "scatterpolar"
           }
          ],
          "scatterpolargl": [
           {
            "marker": {
             "colorbar": {
              "outlinewidth": 0,
              "ticks": ""
             }
            },
            "type": "scatterpolargl"
           }
          ],
          "scatterternary": [
           {
            "marker": {
             "colorbar": {
              "outlinewidth": 0,
              "ticks": ""
             }
            },
            "type": "scatterternary"
           }
          ],
          "surface": [
           {
            "colorbar": {
             "outlinewidth": 0,
             "ticks": ""
            },
            "colorscale": [
             [
              0,
              "#0d0887"
             ],
             [
              0.1111111111111111,
              "#46039f"
             ],
             [
              0.2222222222222222,
              "#7201a8"
             ],
             [
              0.3333333333333333,
              "#9c179e"
             ],
             [
              0.4444444444444444,
              "#bd3786"
             ],
             [
              0.5555555555555556,
              "#d8576b"
             ],
             [
              0.6666666666666666,
              "#ed7953"
             ],
             [
              0.7777777777777778,
              "#fb9f3a"
             ],
             [
              0.8888888888888888,
              "#fdca26"
             ],
             [
              1,
              "#f0f921"
             ]
            ],
            "type": "surface"
           }
          ],
          "table": [
           {
            "cells": {
             "fill": {
              "color": "#EBF0F8"
             },
             "line": {
              "color": "white"
             }
            },
            "header": {
             "fill": {
              "color": "#C8D4E3"
             },
             "line": {
              "color": "white"
             }
            },
            "type": "table"
           }
          ]
         },
         "layout": {
          "annotationdefaults": {
           "arrowcolor": "#2a3f5f",
           "arrowhead": 0,
           "arrowwidth": 1
          },
          "autotypenumbers": "strict",
          "coloraxis": {
           "colorbar": {
            "outlinewidth": 0,
            "ticks": ""
           }
          },
          "colorscale": {
           "diverging": [
            [
             0,
             "#8e0152"
            ],
            [
             0.1,
             "#c51b7d"
            ],
            [
             0.2,
             "#de77ae"
            ],
            [
             0.3,
             "#f1b6da"
            ],
            [
             0.4,
             "#fde0ef"
            ],
            [
             0.5,
             "#f7f7f7"
            ],
            [
             0.6,
             "#e6f5d0"
            ],
            [
             0.7,
             "#b8e186"
            ],
            [
             0.8,
             "#7fbc41"
            ],
            [
             0.9,
             "#4d9221"
            ],
            [
             1,
             "#276419"
            ]
           ],
           "sequential": [
            [
             0,
             "#0d0887"
            ],
            [
             0.1111111111111111,
             "#46039f"
            ],
            [
             0.2222222222222222,
             "#7201a8"
            ],
            [
             0.3333333333333333,
             "#9c179e"
            ],
            [
             0.4444444444444444,
             "#bd3786"
            ],
            [
             0.5555555555555556,
             "#d8576b"
            ],
            [
             0.6666666666666666,
             "#ed7953"
            ],
            [
             0.7777777777777778,
             "#fb9f3a"
            ],
            [
             0.8888888888888888,
             "#fdca26"
            ],
            [
             1,
             "#f0f921"
            ]
           ],
           "sequentialminus": [
            [
             0,
             "#0d0887"
            ],
            [
             0.1111111111111111,
             "#46039f"
            ],
            [
             0.2222222222222222,
             "#7201a8"
            ],
            [
             0.3333333333333333,
             "#9c179e"
            ],
            [
             0.4444444444444444,
             "#bd3786"
            ],
            [
             0.5555555555555556,
             "#d8576b"
            ],
            [
             0.6666666666666666,
             "#ed7953"
            ],
            [
             0.7777777777777778,
             "#fb9f3a"
            ],
            [
             0.8888888888888888,
             "#fdca26"
            ],
            [
             1,
             "#f0f921"
            ]
           ]
          },
          "colorway": [
           "#636efa",
           "#EF553B",
           "#00cc96",
           "#ab63fa",
           "#FFA15A",
           "#19d3f3",
           "#FF6692",
           "#B6E880",
           "#FF97FF",
           "#FECB52"
          ],
          "font": {
           "color": "#2a3f5f"
          },
          "geo": {
           "bgcolor": "white",
           "lakecolor": "white",
           "landcolor": "#E5ECF6",
           "showlakes": true,
           "showland": true,
           "subunitcolor": "white"
          },
          "hoverlabel": {
           "align": "left"
          },
          "hovermode": "closest",
          "mapbox": {
           "style": "light"
          },
          "paper_bgcolor": "white",
          "plot_bgcolor": "#E5ECF6",
          "polar": {
           "angularaxis": {
            "gridcolor": "white",
            "linecolor": "white",
            "ticks": ""
           },
           "bgcolor": "#E5ECF6",
           "radialaxis": {
            "gridcolor": "white",
            "linecolor": "white",
            "ticks": ""
           }
          },
          "scene": {
           "xaxis": {
            "backgroundcolor": "#E5ECF6",
            "gridcolor": "white",
            "gridwidth": 2,
            "linecolor": "white",
            "showbackground": true,
            "ticks": "",
            "zerolinecolor": "white"
           },
           "yaxis": {
            "backgroundcolor": "#E5ECF6",
            "gridcolor": "white",
            "gridwidth": 2,
            "linecolor": "white",
            "showbackground": true,
            "ticks": "",
            "zerolinecolor": "white"
           },
           "zaxis": {
            "backgroundcolor": "#E5ECF6",
            "gridcolor": "white",
            "gridwidth": 2,
            "linecolor": "white",
            "showbackground": true,
            "ticks": "",
            "zerolinecolor": "white"
           }
          },
          "shapedefaults": {
           "line": {
            "color": "#2a3f5f"
           }
          },
          "ternary": {
           "aaxis": {
            "gridcolor": "white",
            "linecolor": "white",
            "ticks": ""
           },
           "baxis": {
            "gridcolor": "white",
            "linecolor": "white",
            "ticks": ""
           },
           "bgcolor": "#E5ECF6",
           "caxis": {
            "gridcolor": "white",
            "linecolor": "white",
            "ticks": ""
           }
          },
          "title": {
           "x": 0.05
          },
          "xaxis": {
           "automargin": true,
           "gridcolor": "white",
           "linecolor": "white",
           "ticks": "",
           "title": {
            "standoff": 15
           },
           "zerolinecolor": "white",
           "zerolinewidth": 2
          },
          "yaxis": {
           "automargin": true,
           "gridcolor": "white",
           "linecolor": "white",
           "ticks": "",
           "title": {
            "standoff": 15
           },
           "zerolinecolor": "white",
           "zerolinewidth": 2
          }
         }
        },
        "title": {
         "text": "Número de Aulas por Data"
        },
        "width": 900,
        "xaxis": {
         "anchor": "y",
         "domain": [
          0,
          1
         ],
         "title": {
          "text": "Data da Aula"
         }
        },
        "yaxis": {
         "anchor": "x",
         "domain": [
          0,
          1
         ],
         "title": {
          "text": "Número de Aulas"
         }
        }
       }
      }
     },
     "metadata": {},
     "output_type": "display_data"
    }
   ],
   "source": [
    "# Agrupando por 'data_aula' e contando a frequência\n",
    "data_aulas = df.groupby('data_aula').size().reset_index(name='count').sort_values('data_aula')\n",
    "\n",
    "# Criando o gráfico de barras com Plotly Express\n",
    "fig = px.bar(\n",
    "    data_aulas,\n",
    "    x='data_aula',\n",
    "    y='count',\n",
    "    title=\"Número de Aulas por Data\",\n",
    "    labels={'data_aula': 'Data da Aula', 'count': 'Número de Aulas'},\n",
    "    width=900,\n",
    "    height=500\n",
    ")\n",
    "\n",
    "# Exibir o gráfico\n",
    "fig.show()\n"
   ]
  }
 ],
 "metadata": {
  "kernelspec": {
   "display_name": "Python 3",
   "language": "python",
   "name": "python3"
  },
  "language_info": {
   "codemirror_mode": {
    "name": "ipython",
    "version": 3
   },
   "file_extension": ".py",
   "mimetype": "text/x-python",
   "name": "python",
   "nbconvert_exporter": "python",
   "pygments_lexer": "ipython3",
   "version": "3.10.8"
  }
 },
 "nbformat": 4,
 "nbformat_minor": 2
}
